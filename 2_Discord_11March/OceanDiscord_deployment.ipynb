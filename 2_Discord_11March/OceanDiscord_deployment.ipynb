{
 "cells": [
  {
   "cell_type": "code",
   "execution_count": 4,
   "id": "51413e7e-a1e7-42b9-9ab3-86699f84e3ee",
   "metadata": {},
   "outputs": [],
   "source": [
    "from joblib import load\n",
    "import numpy as np\n",
    "import pandas as pd\n",
    "import pickle"
   ]
  },
  {
   "cell_type": "code",
   "execution_count": 5,
   "id": "0ef96872-f8d9-4df2-b7a3-ba24d4105e38",
   "metadata": {},
   "outputs": [],
   "source": [
    "# load the processed Daily stat data set \n",
    "server_daily_stats = pd.read_csv('Server_daily_stat.csv')"
   ]
  },
  {
   "cell_type": "code",
   "execution_count": 6,
   "id": "b636aa39-0f83-4719-9f3e-00205d8ed9d7",
   "metadata": {},
   "outputs": [],
   "source": [
    "# Load the RandomForest classifier and vectorizer from a file\n",
    "classifier = load('scam_classifier.joblib')\n",
    "vectorizer = load('scam_vectorizer.joblib')"
   ]
  },
  {
   "cell_type": "code",
   "execution_count": 11,
   "id": "a2d76d5b-162b-4b53-8fcd-9032770a25b9",
   "metadata": {},
   "outputs": [
    {
     "name": "stderr",
     "output_type": "stream",
     "text": [
      "2024-03-13 08:49:57.694251: I tensorflow/core/platform/cpu_feature_guard.cc:182] This TensorFlow binary is optimized to use available CPU instructions in performance-critical operations.\n",
      "To enable the following instructions: AVX2 FMA, in other operations, rebuild TensorFlow with the appropriate compiler flags.\n"
     ]
    }
   ],
   "source": [
    "# load the LSTM model set\n",
    "model_set3 = load_dict('Forecast_Model_Set3.pkl')\n",
    "model_set7 = load_dict('Forecast_Model_Set7.pkl')"
   ]
  },
  {
   "cell_type": "code",
   "execution_count": 17,
   "id": "0ffcf11f-93ab-4088-b303-e5cc9629d848",
   "metadata": {},
   "outputs": [],
   "source": [
    "\n",
    "def predict_scam(text):\n",
    "    \"\"\" Predict scam alert on new data using the RandomForest classifier\"\"\"\n",
    "    text_vector = vectorizer.transform([text])\n",
    "    prediction = classifier.predict(text_vector)\n",
    "    return \"Possible Scam Detected\" if prediction[0] == \"Possible Scam Detected\" else \"Safe and Sound\"\n",
    "\n",
    "def load_dict(file_path):\n",
    "    \"\"\"\n",
    "    Load a dictionary from a pickle file.\n",
    "\n",
    "    Args:\n",
    "    file_path (str): The path to the pickle file to be loaded.\n",
    "\n",
    "    Returns:\n",
    "    dict: The dictionary loaded from the pickle file.\n",
    "    \"\"\"\n",
    "    with open(file_path, 'rb') as file:  # Open the file in binary read mode\n",
    "        loaded_dict = pickle.load(file)  # Load the dictionary from the file\n",
    "    return loaded_dict\n",
    "\n",
    "def pred_next_discord_stat(time_steps,input_df,t, selected_model):\n",
    "    \"\"\"\n",
    "    Predict next day discord stats data\n",
    "\n",
    "    Args:\n",
    "    input_df (df) is dataframe of past daily stats (see server_daily_stats for example)\n",
    "    t is target property\n",
    "    times_steps is determined by model used\n",
    "\n",
    "    Returns:\n",
    "    Float, predicted value for next day  data of a given target properties\n",
    "    \"\"\"\n",
    "    \n",
    "    input_data = input_df[t]\n",
    "    data = input_data.values\n",
    "    \n",
    "    # Ensure data is a 2D array for scaling\n",
    "    scaled_input = data.reshape(-1, 1)\n",
    "    \n",
    "    # Calculate the number of samples\n",
    "    samples = len(data) - time_steps\n",
    "    \n",
    "    # Reformat for input\n",
    "    X = np.array([scaled_input[i:(i + time_steps), 0] for i in range(samples)])\n",
    "    \n",
    "    if X.size > 0:\n",
    "        X = X.reshape(X.shape[0], time_steps, 1)  # Reshape for LSTM input shape [samples, time steps, features]\n",
    "        \n",
    "        # Correctly define the last sequence\n",
    "        # If you want to predict using the last available sequence from X\n",
    "        if len(X) > 0:  # Ensure there is at least one sequence\n",
    "            last_sequence = X[-1].reshape(1, time_steps, 1)  # This should have the shape [1, time_steps, 1]\n",
    "            predicted_value = selected_model.predict(last_sequence, verbose=0)\n",
    "    else:\n",
    "        print(\"Not enough data to create a sequence.\")\n",
    "    return predicted_value[0][0]"
   ]
  },
  {
   "cell_type": "code",
   "execution_count": 24,
   "id": "c4d7b81d-b851-454b-8bae-b597d3efc3d5",
   "metadata": {},
   "outputs": [],
   "source": [
    "def pred_next_day_df(input_df, time_steps,model_set):\n",
    "    \"\"\"Predict for each target in discord daily stats and return next day df\"\"\"\n",
    "    target_list = ['price','n_author','n_channels','n_activities','n_words_ave','Sentiment_value']\n",
    "    next_day_dict = {}\n",
    "    for t in target_list:\n",
    "        selected_model = model_set[t]\n",
    "        next_day_val = pred_next_discord_stat(time_steps,input_df,t,selected_model)\n",
    "        if t == 'n_author' or t =='n_channels' or t == 'n_activities':\n",
    "            next_day_val = round(next_day_val)\n",
    "        new_entry = {t:next_day_val}\n",
    "        next_day_dict.update(new_entry)\n",
    "    next_day_df = pd.DataFrame(next_day_dict,index = [0])\n",
    "    return next_day_df"
   ]
  },
  {
   "cell_type": "code",
   "execution_count": 28,
   "id": "00c3e554-ebd3-40d5-87e2-0a16ab95f5d8",
   "metadata": {},
   "outputs": [],
   "source": [
    "# Predict on next-day data using the LSTM-trained Model Set\n",
    "input_df = server_daily_stats[800:810]  #\n",
    "time_steps = 7 # or 3 depending on which model set is used\n",
    "model_set = model_set7\n",
    "next_day_df = pred_next_day_df(input_df, time_steps, model_set)"
   ]
  },
  {
   "cell_type": "code",
   "execution_count": 29,
   "id": "77f52e56-8a83-43b9-987f-92a5b7c0c53b",
   "metadata": {},
   "outputs": [
    {
     "data": {
      "text/html": [
       "<div>\n",
       "<style scoped>\n",
       "    .dataframe tbody tr th:only-of-type {\n",
       "        vertical-align: middle;\n",
       "    }\n",
       "\n",
       "    .dataframe tbody tr th {\n",
       "        vertical-align: top;\n",
       "    }\n",
       "\n",
       "    .dataframe thead th {\n",
       "        text-align: right;\n",
       "    }\n",
       "</style>\n",
       "<table border=\"1\" class=\"dataframe\">\n",
       "  <thead>\n",
       "    <tr style=\"text-align: right;\">\n",
       "      <th></th>\n",
       "      <th>price</th>\n",
       "      <th>n_author</th>\n",
       "      <th>n_channels</th>\n",
       "      <th>n_activities</th>\n",
       "      <th>n_words_ave</th>\n",
       "      <th>Sentiment_value</th>\n",
       "    </tr>\n",
       "  </thead>\n",
       "  <tbody>\n",
       "    <tr>\n",
       "      <th>0</th>\n",
       "      <td>0.457622</td>\n",
       "      <td>4</td>\n",
       "      <td>0</td>\n",
       "      <td>0</td>\n",
       "      <td>0.944736</td>\n",
       "      <td>0.254161</td>\n",
       "    </tr>\n",
       "  </tbody>\n",
       "</table>\n",
       "</div>"
      ],
      "text/plain": [
       "      price  n_author  n_channels  n_activities  n_words_ave  Sentiment_value\n",
       "0  0.457622         4           0             0     0.944736         0.254161"
      ]
     },
     "execution_count": 29,
     "metadata": {},
     "output_type": "execute_result"
    }
   ],
   "source": [
    "next_day_df "
   ]
  },
  {
   "cell_type": "code",
   "execution_count": 30,
   "id": "4431eba6-5be2-4bfc-b02d-0feec0096c66",
   "metadata": {},
   "outputs": [
    {
     "data": {
      "text/html": [
       "<div>\n",
       "<style scoped>\n",
       "    .dataframe tbody tr th:only-of-type {\n",
       "        vertical-align: middle;\n",
       "    }\n",
       "\n",
       "    .dataframe tbody tr th {\n",
       "        vertical-align: top;\n",
       "    }\n",
       "\n",
       "    .dataframe thead th {\n",
       "        text-align: right;\n",
       "    }\n",
       "</style>\n",
       "<table border=\"1\" class=\"dataframe\">\n",
       "  <thead>\n",
       "    <tr style=\"text-align: right;\">\n",
       "      <th></th>\n",
       "      <th>Unnamed: 0</th>\n",
       "      <th>Year</th>\n",
       "      <th>Month</th>\n",
       "      <th>Day</th>\n",
       "      <th>price</th>\n",
       "      <th>n_author</th>\n",
       "      <th>n_channels</th>\n",
       "      <th>n_activities</th>\n",
       "      <th>n_words_ave</th>\n",
       "      <th>Sentiment_value</th>\n",
       "    </tr>\n",
       "  </thead>\n",
       "  <tbody>\n",
       "    <tr>\n",
       "      <th>810</th>\n",
       "      <td>810</td>\n",
       "      <td>2022</td>\n",
       "      <td>2</td>\n",
       "      <td>24</td>\n",
       "      <td>0.446491</td>\n",
       "      <td>22</td>\n",
       "      <td>6</td>\n",
       "      <td>49</td>\n",
       "      <td>27.428571</td>\n",
       "      <td>0.260756</td>\n",
       "    </tr>\n",
       "  </tbody>\n",
       "</table>\n",
       "</div>"
      ],
      "text/plain": [
       "     Unnamed: 0  Year  Month  Day     price  n_author  n_channels  \\\n",
       "810         810  2022      2   24  0.446491        22           6   \n",
       "\n",
       "     n_activities  n_words_ave  Sentiment_value  \n",
       "810            49    27.428571         0.260756  "
      ]
     },
     "execution_count": 30,
     "metadata": {},
     "output_type": "execute_result"
    }
   ],
   "source": [
    "# Actual answer is the next day data from given input\n",
    "server_daily_stats[810:811]"
   ]
  },
  {
   "cell_type": "code",
   "execution_count": null,
   "id": "e6d97f65-70d5-4487-a87b-115927182d27",
   "metadata": {},
   "outputs": [],
   "source": []
  }
 ],
 "metadata": {
  "kernelspec": {
   "display_name": "Python 3 (ipykernel)",
   "language": "python",
   "name": "python3"
  },
  "language_info": {
   "codemirror_mode": {
    "name": "ipython",
    "version": 3
   },
   "file_extension": ".py",
   "mimetype": "text/x-python",
   "name": "python",
   "nbconvert_exporter": "python",
   "pygments_lexer": "ipython3",
   "version": "3.10.12"
  }
 },
 "nbformat": 4,
 "nbformat_minor": 5
}
