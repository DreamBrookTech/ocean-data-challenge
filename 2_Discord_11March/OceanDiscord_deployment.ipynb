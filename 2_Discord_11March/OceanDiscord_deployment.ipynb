{
 "cells": [
  {
   "cell_type": "code",
   "execution_count": null,
   "id": "b636aa39-0f83-4719-9f3e-00205d8ed9d7",
   "metadata": {},
   "outputs": [],
   "source": [
    "from joblib import load\n",
    "\n",
    "# Load the classifier and vectorizer from a file\n",
    "classifier = load('scam_classifier.joblib')\n",
    "vectorizer = load('scam_vectorizer.joblib')"
   ]
  },
  {
   "cell_type": "code",
   "execution_count": null,
   "id": "0ffcf11f-93ab-4088-b303-e5cc9629d848",
   "metadata": {},
   "outputs": [],
   "source": [
    "# Predict on new data using the classifier\n",
    "def predict(text):\n",
    "    text_vector = vectorizer.transform([text])\n",
    "    prediction = classifier.predict(text_vector)\n",
    "    return \"Possible Scam Detected\" if prediction[0] == \"Possible Scam Detected\" else \"Safe and Sound\""
   ]
  }
 ],
 "metadata": {
  "kernelspec": {
   "display_name": "Python 3 (ipykernel)",
   "language": "python",
   "name": "python3"
  },
  "language_info": {
   "codemirror_mode": {
    "name": "ipython",
    "version": 3
   },
   "file_extension": ".py",
   "mimetype": "text/x-python",
   "name": "python",
   "nbconvert_exporter": "python",
   "pygments_lexer": "ipython3",
   "version": "3.10.12"
  }
 },
 "nbformat": 4,
 "nbformat_minor": 5
}
