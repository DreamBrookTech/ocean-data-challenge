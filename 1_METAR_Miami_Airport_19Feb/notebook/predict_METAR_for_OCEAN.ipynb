{
 "cells": [
  {
   "cell_type": "markdown",
   "id": "804c5e34-8e64-49f3-880c-283d57c14b8d",
   "metadata": {},
   "source": [
    "A Deployment Notebook to demonstrate LSTM model build for prediction Next-Hour METAR data"
   ]
  },
  {
   "cell_type": "code",
   "execution_count": null,
   "id": "fa35a417-c5ca-4e2c-b607-04fd1a124c8b",
   "metadata": {},
   "outputs": [],
   "source": [
    "# Load Models for the critical parameters. "
   ]
  },
  {
   "cell_type": "code",
   "execution_count": 1,
   "id": "5547be3a-b8f4-4bf1-b810-fe5ad972f970",
   "metadata": {},
   "outputs": [
    {
     "name": "stderr",
     "output_type": "stream",
     "text": [
      "2024-02-18 08:24:43.181014: I tensorflow/core/platform/cpu_feature_guard.cc:182] This TensorFlow binary is optimized to use available CPU instructions in performance-critical operations.\n",
      "To enable the following instructions: AVX2 FMA, in other operations, rebuild TensorFlow with the appropriate compiler flags.\n"
     ]
    }
   ],
   "source": [
    "import sys\n",
    "package_path = '/home/Lakehouse/DreamBrookPy'\n",
    "if package_path not in sys.path:\n",
    "    sys.path.append(package_path)\n",
    "import DreamBrookPy.MachineLearning as ML\n",
    "import DreamBrookPy.DataChef as DC"
   ]
  },
  {
   "cell_type": "code",
   "execution_count": null,
   "id": "ba0ce4f2-d999-44a4-a3d1-06061911a794",
   "metadata": {},
   "outputs": [],
   "source": [
    "# Load 10 instance and test next step prediction based on the given data"
   ]
  },
  {
   "cell_type": "code",
   "execution_count": 79,
   "id": "406d91c1-f075-4c0e-8388-73078c744246",
   "metadata": {},
   "outputs": [],
   "source": [
    "\n",
    "\n",
    "# Suppress specific TensorFlow warning\n",
    "warnings.filterwarnings('ignore', category=UserWarning, module='tensorflow')"
   ]
  },
  {
   "cell_type": "code",
   "execution_count": 195,
   "id": "a562fd32-6746-4332-9858-77bd44501ccb",
   "metadata": {},
   "outputs": [],
   "source": [
    "# Suppress all future & user warnings\n",
    "import warnings\n",
    "warnings.simplefilter(action='ignore', category=FutureWarning)\n",
    "warnings.simplefilter(action='ignore', category=UserWarning)"
   ]
  },
  {
   "cell_type": "code",
   "execution_count": 21,
   "id": "1d4a4cc3-3818-47be-b5e2-d37e170b721e",
   "metadata": {},
   "outputs": [],
   "source": [
    "import importlib"
   ]
  },
  {
   "cell_type": "code",
   "execution_count": 340,
   "id": "f259f4d1-a906-4f01-a99e-bf157d15480e",
   "metadata": {},
   "outputs": [
    {
     "data": {
      "text/plain": [
       "<module 'DreamBrookPy.DataChef' from '/home/Lakehouse/DreamBrookPy/DreamBrookPy/DataChef.py'>"
      ]
     },
     "execution_count": 340,
     "metadata": {},
     "output_type": "execute_result"
    }
   ],
   "source": [
    "import importlib\n",
    "importlib.reload(ML)\n",
    "importlib.reload(DC)"
   ]
  },
  {
   "cell_type": "code",
   "execution_count": null,
   "id": "0343f620-f0f9-48f5-a725-1cbf9998ae28",
   "metadata": {},
   "outputs": [],
   "source": [
    "# Load 10 instance and test next step prediction based on the given data"
   ]
  },
  {
   "cell_type": "code",
   "execution_count": 5,
   "id": "217399fc-9290-46f7-9816-753bb53f7132",
   "metadata": {},
   "outputs": [],
   "source": [
    "import os\n",
    "import glob\n",
    "import pickle\n",
    "import pandas as pd\n",
    "import matplotlib\n",
    "import numpy as np"
   ]
  },
  {
   "cell_type": "code",
   "execution_count": 9,
   "id": "929c755f-8b94-44b0-b328-e7ae6d4f8737",
   "metadata": {},
   "outputs": [],
   "source": [
    "def load_data_folder(folder_name):\n",
    "    # Specify the directory to search for .pkl files\n",
    "    directory_path = f'/home/Lakehouse/Competition/Ocean_Metar_19Feb/results/{folder_name}'\n",
    "    \n",
    "    # Use glob to find all .pkl files in the directory\n",
    "    pkl_files = glob.glob(os.path.join(directory_path, '*.pkl'))\n",
    "    \n",
    "    # Extract just the names of the files, without the full path\n",
    "    file_holder = [os.path.basename(file) for file in pkl_files]\n",
    "    return file_holder"
   ]
  },
  {
   "cell_type": "code",
   "execution_count": 313,
   "id": "2a93b74e-8660-49eb-ad7d-d3146e5d17bd",
   "metadata": {},
   "outputs": [],
   "source": [
    "# Get list of files available on result folders\n",
    "\n",
    "# Specify the directory to search for .pkl files\n",
    "directory_path = '/home/Lakehouse/Competition/Ocean_Metar_19Feb/results/unsorted'\n",
    "\n",
    "# Use glob to find all .pkl files in the directory\n",
    "pkl_files = glob.glob(os.path.join(directory_path, '*.pkl'))\n",
    "\n",
    "# Extract just the names of the files, without the full path\n",
    "file_names = [os.path.basename(file) for file in pkl_files]\n",
    "folder_list = ['unsorted','wind','windvar','cloud', 'visibility', 'temperature', 'dew', 'air_pressure']\n",
    "file_dict={}\n",
    "for f, fi in zip (folder_list, file_names):\n",
    "     file_items = load_data_folder(f)\n",
    "     file_dict.update({f:file_items})\n",
    "    \n"
   ]
  },
  {
   "cell_type": "code",
   "execution_count": 17,
   "id": "cb802e3b-2fab-41b4-a615-0e1e95b73e70",
   "metadata": {},
   "outputs": [],
   "source": [
    "folder_list = ['cloud']\n",
    "file_dict_cloud={}\n",
    "for f, fi in zip (folder_list, file_names):\n",
    "     file_items = load_data_folder(f)\n",
    "     file_dict_cloud.update({f:file_items})"
   ]
  },
  {
   "cell_type": "code",
   "execution_count": 19,
   "id": "ebffe370-c938-4a7c-a7ee-d4ff07417941",
   "metadata": {},
   "outputs": [],
   "source": [
    "# Dataset_1 : For initialization of analysis \n",
    "def dataset_loader(filedir,dataset_list):\n",
    "    \"\"\"\n",
    "    Load a datalist\n",
    "    \"\"\"\n",
    "    loaded_dataset={}\n",
    "    for d in dataset_list :\n",
    "        filepath = f'{filedir}/{d}'\n",
    "        data_name = d[:-4]#\n",
    "        with open(filepath, 'rb') as file:\n",
    "            dataset = pickle.load(file)\n",
    "        new_data = {data_name: dataset}\n",
    "        loaded_dataset.update(new_data)\n",
    "    return loaded_dataset"
   ]
  },
  {
   "cell_type": "code",
   "execution_count": 6,
   "id": "0e02451b-b53b-4fa1-b36d-3e46255bab5a",
   "metadata": {},
   "outputs": [],
   "source": [
    "def get_MAE(d):\n",
    "    y_test = np.array(d['dataset_test'][0])\n",
    "    y_pred = d['y_pred_scaled']\n",
    "    mae = mean_absolute_error(y_test, y_pred)\n",
    "    #print(f\"Mean Absolute Error (MAE): {mae}\")\n",
    "    return mae\n",
    "\n",
    "\n",
    "def get_RMSE_dict(dataset):\n",
    "    data_list = list(dataset.keys())\n",
    "    data_dict = {}\n",
    "    for a in data_list : \n",
    "        try:\n",
    "            rmse = dataset[a]['rmse']\n",
    "            new_data = {a:rmse}\n",
    "            data_dict.update(new_data)\n",
    "        except Exception as e:\n",
    "            print(f'error : {e}')\n",
    "    sorted_items = sorted(data_dict.items(), key=lambda item: item[1])\n",
    "    sorted_dict = dict(sorted_items)\n",
    "    return sorted_dict\n",
    "\n",
    "def get_MAE_dict(dataset):\n",
    "    data_list = list(dataset.keys())\n",
    "    MAE_dict = {}\n",
    "    for a in data_list:\n",
    "        d = dataset[a]\n",
    "        #print(d.keys())\n",
    "        b = get_MAE(d)\n",
    "        new_data = {a:b}\n",
    "        MAE_dict.update(new_data)\n",
    "    my_dict = MAE_dict\n",
    "    sorted_items = sorted(my_dict.items(), key=lambda item: item[1])\n",
    "    sorted_MAE_dict = dict(sorted_items)\n",
    "    return sorted_MAE_dict"
   ]
  },
  {
   "cell_type": "markdown",
   "id": "66fc2c9d-f498-4031-9e2c-464c71eed343",
   "metadata": {},
   "source": [
    "## Wind Dataset"
   ]
  },
  {
   "cell_type": "code",
   "execution_count": 36,
   "id": "ceffd7cd-87b1-4115-931c-837e452921b5",
   "metadata": {},
   "outputs": [],
   "source": [
    "filedir = '/home/Lakehouse/Competition/Ocean_Metar_19Feb/results/wind'\n",
    "dataset_list = file_dict['wind']\n",
    "dataset_wind = dataset_loader(filedir,dataset_list)\n",
    "dataset = dataset_wind\n",
    "wind_rmse = ML.get_RMSE_dict(dataset)\n",
    "wind_mae = ML.get_MAE_dict(dataset)"
   ]
  },
  {
   "cell_type": "code",
   "execution_count": 37,
   "id": "b1570643-f73c-4d11-bb1d-e8af90b2d67c",
   "metadata": {
    "scrolled": true
   },
   "outputs": [
    {
     "data": {
      "text/plain": [
       "{'wind_speed_set1_w6_b8_d2_rate0.2_unit50': 2.192938998988332,\n",
       " 'wind_speed_set1_w6_b8_d2_rate0.3_unit50': 2.2218287161071033,\n",
       " 'wind_speed_set1_w6_b8_d3_rate0.3_unit50': 2.227172036831865,\n",
       " 'wind_speed_set1_w6_b8_d2_rate0.2_unit80': 2.2290819589072557,\n",
       " 'wind_speed_set1_w6_b8_d2_rate0.1_unit50': 2.2339379206942054,\n",
       " 'wind_speed_set1_w6_b8_d3_rate0.3_unit80': 2.244841467712777,\n",
       " 'wind_speed_set1_w6_b8_d4_rate0.2_unit50': 2.254621655495665,\n",
       " 'wind_speed_set1_w6_b8_d3_rate0.2_unit80': 2.27706723350448,\n",
       " 'wind_speed_set1_w6_b8_d3_rate0.2_unit50': 2.3023778343173804,\n",
       " 'wind_speed_set1_w6_b8_d4_rate0.1_unit50': 2.3031767795363827,\n",
       " 'wind_speed_set1_w6_b8_d3_rate0.1_unit50': 2.3220883062115907,\n",
       " 'wind_set4_w6_b16_d2_rate0.2_unit80_train1000': 2.325451254922288,\n",
       " 'wind_speed_set1_w6_b8_d3_rate0.1_unit80': 2.3299548944926096,\n",
       " 'wind_speed_set1_w6_b8_d2_rate0.3_unit80': 2.3354143643224914,\n",
       " 'wind_speed_set1_w6_b8_d2_rate0.1_unit80': 2.3442848770856486,\n",
       " 'wind_speed_set1_w6_b8_d4_rate0.2_unit80': 2.3553000922954914,\n",
       " 'wind_set5_w96_b16_d3_rate0.2_unit50_train5000': 2.3629456667999165,\n",
       " 'wind_set4_w6_b16_d2_rate0.2_unit80_train2000': 2.370395681292218,\n",
       " 'wind_speed_set1_w6_b8_d4_rate0.1_unit80': 2.5082677884140043,\n",
       " 'wind_set4_w6_b16_d2_rate0.2_unit80_train5000': 2.5937557030821368,\n",
       " 'wind_degree_set1_w6_b16_d4_rate0.2_unit50': 68.03676197242312,\n",
       " 'wind_degree_set1_w6_b8_d3_rate0.3_unit50': 68.71463272417257,\n",
       " 'wind_degree_set1_w6_b16_d2_rate0.3_unit80': 68.86001470008584,\n",
       " 'wind_degree_set1_w6_b16_d4_rate0.3_unit80': 69.0222337614282,\n",
       " 'wind_degree_set1_w6_b16_d2_rate0.1_unit50': 69.35095939927601,\n",
       " 'wind_degree_set1_w6_b8_d2_rate0.2_unit50': 69.35404244053579,\n",
       " 'wind_degree_set1_w6_b16_d3_rate0.1_unit50': 69.59721543108768,\n",
       " 'wind_degree_set1_w6_b8_d4_rate0.3_unit50': 69.67431796957989,\n",
       " 'wind_degree_set1_w6_b16_d3_rate0.2_unit80': 69.68367953722084,\n",
       " 'wind_degree_set1_w6_b8_d4_rate0.3_unit80': 69.77515511832097,\n",
       " 'wind_degree_set1_w6_b8_d2_rate0.3_unit50': 69.85928741630535,\n",
       " 'wind_degree_set1_w6_b16_d3_rate0.3_unit50': 69.8601962933166,\n",
       " 'wind_degree_set1_w6_b16_d4_rate0.1_unit50': 69.89746146122643,\n",
       " 'wind_degree_set1_w6_b8_d4_rate0.1_unit50': 69.9613901671764,\n",
       " 'wind_degree_set1_w6_b8_d3_rate0.2_unit80': 70.17716932096263,\n",
       " 'wind_degree_set1_w6_b16_d4_rate0.2_unit80': 70.17886951498289,\n",
       " 'wind_degree_set1_w6_b16_d2_rate0.2_unit80': 70.22137726566898,\n",
       " 'wind_degree_set1_w6_b8_d2_rate0.2_unit80': 70.40917391406218,\n",
       " 'wind_degree_set1_w6_b16_d3_rate0.2_unit50': 70.42466739635304,\n",
       " 'wind_degree_set1_w6_b16_d2_rate0.2_unit50': 70.56073041922865,\n",
       " 'wind_degree_set1_w6_b8_d3_rate0.3_unit80': 70.86116960836196,\n",
       " 'wind_degree_set1_w6_b8_d3_rate0.1_unit80': 70.88736642582253,\n",
       " 'wind_degree_set1_w6_b8_d2_rate0.3_unit80': 70.98554788883132,\n",
       " 'wind_degree_set1_w6_b8_d2_rate0.1_unit50': 71.02345843974483,\n",
       " 'wind_degree_set1_w6_b16_d3_rate0.1_unit80': 71.10831670184207,\n",
       " 'wind_degree_set1_w6_b8_d3_rate0.1_unit50': 71.17223086809169,\n",
       " 'wind_degree_set1_w6_b16_d4_rate0.3_unit50': 71.17254724172471,\n",
       " 'wind_degree_set1_w6_b16_d2_rate0.1_unit80': 71.43196816557814,\n",
       " 'wind_degree_set1_w6_b8_d3_rate0.2_unit50': 71.86466373421752,\n",
       " 'wind_degree_set1_w6_b8_d4_rate0.2_unit50': 72.04671341894372,\n",
       " 'wind_degree_set1_w6_b32_d2_rate0.1_unit50': 72.17648030081105,\n",
       " 'wind_degree_set1_w6_b8_d4_rate0.2_unit80': 72.1858054038576,\n",
       " 'wind_degree_set1_w6_b8_d2_rate0.1_unit80': 72.27788288763168,\n",
       " 'wind_degree_set1_w6_b16_d2_rate0.3_unit50': 72.33621917619622,\n",
       " 'wind_degree_set1_w6_b16_d3_rate0.3_unit80': 72.64289862551419,\n",
       " 'wind_degree_set1_w6_b16_d4_rate0.1_unit80': 72.70711952194524,\n",
       " 'wind_degree_set1_w6_b8_d4_rate0.1_unit80': 73.77226228667428}"
      ]
     },
     "execution_count": 37,
     "metadata": {},
     "output_type": "execute_result"
    }
   ],
   "source": [
    "wind_rmse"
   ]
  },
  {
   "cell_type": "code",
   "execution_count": null,
   "id": "da5c4e6d-23f6-405f-9b50-d3e93fac200d",
   "metadata": {},
   "outputs": [],
   "source": [
    "## Visibility Dataset"
   ]
  },
  {
   "cell_type": "code",
   "execution_count": 32,
   "id": "4107ea34-a218-4764-b6d1-07d4274bae2f",
   "metadata": {},
   "outputs": [],
   "source": []
  },
  {
   "cell_type": "code",
   "execution_count": 319,
   "id": "678be669-1e16-416c-bcd8-a1795389e699",
   "metadata": {},
   "outputs": [],
   "source": [
    "filedir = '/home/Lakehouse/Competition/Ocean_Metar_19Feb/results/visibility'\n",
    "dataset_list = file_dict['visibility']\n",
    "dataset_vis = DC.dataset_loader(filedir,dataset_list)\n",
    "\n",
    "dataset = dataset_vis\n",
    "vis_rmse = ML.get_RMSE_dict(dataset)\n",
    "vis_mae = ML.get_MAE_dict(dataset)"
   ]
  },
  {
   "cell_type": "code",
   "execution_count": 320,
   "id": "738c1529-8dc6-44e0-b891-d9bfee632bc5",
   "metadata": {},
   "outputs": [
    {
     "data": {
      "text/plain": [
       "{'visibility_set4_w6_b16_d2_rate0.2_unit80_train1000': 0.40592976038151773,\n",
       " 'visibility_set4_w6_b16_d2_rate0.2_unit80_train2000': 0.4636104156680498,\n",
       " 'visibility_set4_w6_b16_d2_rate0.2_unit80_train5000': 1.0906546204555834,\n",
       " 'visibility_set5_w24_b32_d2_rate0.3_unit50_train5000': 1.0987917817220978,\n",
       " 'visibility_set5_w12_b32_d2_rate0.3_unit50_train5000': 1.106713404407343,\n",
       " 'visibility_set5_w96_b16_d3_rate0.2_unit50_train5000': 1.117430963743181}"
      ]
     },
     "execution_count": 320,
     "metadata": {},
     "output_type": "execute_result"
    }
   ],
   "source": [
    "vis_rmse"
   ]
  },
  {
   "cell_type": "code",
   "execution_count": null,
   "id": "7de84b4e-f24d-471b-b2ce-7d00590bbf4f",
   "metadata": {},
   "outputs": [],
   "source": [
    "## Temperature Dataset"
   ]
  },
  {
   "cell_type": "code",
   "execution_count": 34,
   "id": "356cb6bb-78be-4f3f-837e-0b8b3bc56da7",
   "metadata": {},
   "outputs": [],
   "source": [
    "filedir = '/home/Lakehouse/Competition/Ocean_Metar_19Feb/results/temperature'\n",
    "dataset_list = file_dict['temperature']\n",
    "dataset_temp = DC.dataset_loader(filedir,dataset_list)\n",
    "\n",
    "dataset = dataset_temp\n",
    "temp_rmse = ML.get_RMSE_dict(dataset)\n",
    "temp_mae = ML.get_MAE_dict(dataset)"
   ]
  },
  {
   "cell_type": "code",
   "execution_count": 107,
   "id": "d82e52b4-2320-4b55-bbf3-668dd2109e2c",
   "metadata": {},
   "outputs": [],
   "source": []
  },
  {
   "cell_type": "code",
   "execution_count": 108,
   "id": "762075ad-4d6c-4ff7-90a5-571639eafcda",
   "metadata": {},
   "outputs": [
    {
     "data": {
      "text/plain": [
       "{'temperature_set4_w6_b16_d2_rate0.2_unit80_train2000': 0.9326680303998253,\n",
       " 'temperature_set4_w6_b16_d2_rate0.2_unit80_train1000': 0.9970663995516075,\n",
       " 'temperature_set5_w96_b16_d3_rate0.2_unit50_train5000': 1.1454548541671175,\n",
       " 'temperature_set4_w6_b16_d2_rate0.2_unit80_train5000': 1.179716765055975}"
      ]
     },
     "execution_count": 108,
     "metadata": {},
     "output_type": "execute_result"
    }
   ],
   "source": [
    "temp_rmse"
   ]
  },
  {
   "cell_type": "code",
   "execution_count": 109,
   "id": "5ad381fd-1ead-48aa-ac03-ee620b2cba03",
   "metadata": {},
   "outputs": [
    {
     "data": {
      "text/plain": [
       "{'temperature_set4_w6_b16_d2_rate0.2_unit80_train1000': 43.81076763153076,\n",
       " 'temperature_set4_w6_b16_d2_rate0.2_unit80_train5000': 43.81076763153076,\n",
       " 'temperature_set5_w96_b16_d3_rate0.2_unit50_train5000': 43.81076763153076,\n",
       " 'temperature_set4_w6_b16_d2_rate0.2_unit80_train2000': 43.81076763153076}"
      ]
     },
     "execution_count": 109,
     "metadata": {},
     "output_type": "execute_result"
    }
   ],
   "source": [
    "temp_mae"
   ]
  },
  {
   "cell_type": "code",
   "execution_count": null,
   "id": "7fcbf2cb-a3ef-491e-9f54-f7948b5896d1",
   "metadata": {},
   "outputs": [],
   "source": [
    "## Dew Dataset"
   ]
  },
  {
   "cell_type": "code",
   "execution_count": 58,
   "id": "3173c378-95d8-4cff-a09f-366d2eae8bac",
   "metadata": {},
   "outputs": [],
   "source": [
    "filedir = '/home/Lakehouse/Competition/Ocean_Metar_19Feb/results/dew'\n",
    "dataset_list = file_dict['dew']\n",
    "dataset_dew = dataset_loader(filedir,dataset_list)\n",
    "\n",
    "dataset = dataset_dew\n",
    "dew_rmse = ML.get_RMSE_dict(dataset)\n",
    "dew_mae = ML.get_MAE_dict(dataset)"
   ]
  },
  {
   "cell_type": "code",
   "execution_count": 196,
   "id": "a7a4d4c3-0745-48fd-b668-4f2aa0d27a0a",
   "metadata": {},
   "outputs": [],
   "source": []
  },
  {
   "cell_type": "code",
   "execution_count": 59,
   "id": "ef0ac6f6-078c-42fa-aff9-89c981011bc9",
   "metadata": {
    "scrolled": true
   },
   "outputs": [
    {
     "data": {
      "text/plain": [
       "{'dew_set4_w6_b16_d2_rate0.2_unit80_train5000': 0.6897241986299173,\n",
       " 'dew_set5_w96_b16_d3_rate0.2_unit50_train5000': 0.9174853723139939,\n",
       " 'dew_set1_w6_b8_d2_rate0.2_unit50': 0.9942979826253485,\n",
       " 'dew_set1_w6_b8_d2_rate0.1_unit50': 1.0043114457860005,\n",
       " 'dew_set1_w6_b8_d4_rate0.1_unit50': 1.0076055264235062,\n",
       " 'dew_set1_w6_b8_d2_rate0.2_unit80': 1.0263792045233116,\n",
       " 'dew_set1_w6_b16_d2_rate0.1_unit80': 1.0306552202864998,\n",
       " 'dew_set1_w6_b8_d3_rate0.3_unit80': 1.0412978757483127,\n",
       " 'dew_set1_w6_b8_d3_rate0.1_unit50': 1.0504378144769453,\n",
       " 'dew_set1_w6_b8_d4_rate0.3_unit50': 1.0543438885253402,\n",
       " 'dew_set1_w6_b8_d2_rate0.1_unit80': 1.0638906587829546,\n",
       " 'dew_set4_w6_b16_d2_rate0.2_unit80_train1000': 1.07413757792794,\n",
       " 'dew_set1_w6_b8_d4_rate0.2_unit50': 1.0748138024241287,\n",
       " 'dew_set1_w6_b8_d3_rate0.1_unit80': 1.0804253545505114,\n",
       " 'dew_set1_w6_b8_d2_rate0.3_unit50': 1.0894438674222577,\n",
       " 'dew_set1_w6_b8_d2_rate0.3_unit80': 1.1445460771318539,\n",
       " 'dew_set1_w6_b8_d4_rate0.2_unit80': 1.1831544506371663,\n",
       " 'dew_set1_w6_b8_d4_rate0.3_unit80': 1.2158080364465174,\n",
       " 'dew_set1_w6_b8_d3_rate0.2_unit50': 1.231561050580462,\n",
       " 'dew_set1_w6_b8_d4_rate0.1_unit80': 1.27431570995358,\n",
       " 'dew_set1_w6_b8_d3_rate0.3_unit50': 1.306933062807356,\n",
       " 'dew_set1_w6_b8_d3_rate0.2_unit80': 1.3510234710918283,\n",
       " 'dew_set1_w6_b16_d2_rate0.1_unit50': 1.3565706662279016,\n",
       " 'dew_set4_w6_b16_d2_rate0.2_unit80_train2000': 1.3922016081972128}"
      ]
     },
     "execution_count": 59,
     "metadata": {},
     "output_type": "execute_result"
    }
   ],
   "source": [
    "dew_rmse"
   ]
  },
  {
   "cell_type": "code",
   "execution_count": 60,
   "id": "4f3357ea-9d6e-4c44-95f4-b3d3dbe8defa",
   "metadata": {
    "scrolled": true
   },
   "outputs": [
    {
     "data": {
      "text/plain": [
       "{'dew_set4_w6_b16_d2_rate0.2_unit80_train5000': 0.516375789642334,\n",
       " 'dew_set1_w6_b8_d2_rate0.2_unit50': 0.60931566208601,\n",
       " 'dew_set1_w6_b8_d2_rate0.1_unit50': 0.6242270429432392,\n",
       " 'dew_set1_w6_b16_d2_rate0.1_unit80': 0.6555745244026184,\n",
       " 'dew_set1_w6_b8_d4_rate0.1_unit50': 0.6662476743757725,\n",
       " 'dew_set1_w6_b8_d2_rate0.2_unit80': 0.6840186321735382,\n",
       " 'dew_set1_w6_b8_d3_rate0.3_unit80': 0.701245185136795,\n",
       " 'dew_set1_w6_b8_d3_rate0.1_unit50': 0.7040140500664711,\n",
       " 'dew_set1_w6_b8_d4_rate0.3_unit50': 0.7192715328931808,\n",
       " 'dew_set1_w6_b8_d2_rate0.1_unit80': 0.727573319375515,\n",
       " 'dew_set1_w6_b8_d4_rate0.2_unit50': 0.7400786793231964,\n",
       " 'dew_set1_w6_b8_d2_rate0.3_unit50': 0.7412334156036376,\n",
       " 'dew_set4_w6_b16_d2_rate0.2_unit80_train1000': 0.7469110210239888,\n",
       " 'dew_set1_w6_b8_d3_rate0.1_unit80': 0.7547264702618122,\n",
       " 'dew_set5_w96_b16_d3_rate0.2_unit50_train5000': 0.7741246604919434,\n",
       " 'dew_set1_w6_b8_d4_rate0.2_unit80': 0.8050104263424873,\n",
       " 'dew_set1_w6_b8_d2_rate0.3_unit80': 0.8340313023328781,\n",
       " 'dew_set1_w6_b8_d4_rate0.3_unit80': 0.879682295024395,\n",
       " 'dew_set4_w6_b16_d2_rate0.2_unit80_train2000': 0.8926393961906434,\n",
       " 'dew_set1_w6_b8_d4_rate0.1_unit80': 0.9311831700801849,\n",
       " 'dew_set1_w6_b8_d3_rate0.2_unit50': 0.9475648310780526,\n",
       " 'dew_set1_w6_b8_d3_rate0.3_unit50': 0.956154562830925,\n",
       " 'dew_set1_w6_b8_d3_rate0.2_unit80': 1.0450573766231537,\n",
       " 'dew_set1_w6_b16_d2_rate0.1_unit50': 1.0964020247757436}"
      ]
     },
     "execution_count": 60,
     "metadata": {},
     "output_type": "execute_result"
    }
   ],
   "source": [
    "dew_mae"
   ]
  },
  {
   "cell_type": "code",
   "execution_count": null,
   "id": "5ac08c73-8342-476f-8454-0b5fa648030a",
   "metadata": {},
   "outputs": [],
   "source": [
    "## Air Pressure Dataset"
   ]
  },
  {
   "cell_type": "code",
   "execution_count": 31,
   "id": "5f6d5daa-5bed-4029-9dc4-337e4c693bae",
   "metadata": {},
   "outputs": [],
   "source": [
    "filedir = '/home/Lakehouse/Competition/Ocean_Metar_19Feb/results/air_pressure'\n",
    "dataset_list = file_dict['air_pressure']\n",
    "dataset_air = dataset_loader(filedir,dataset_list)\n",
    "\n",
    "dataset = dataset_air\n",
    "air_rmse = ML.get_RMSE_dict(dataset)\n",
    "air_mae = ML.get_MAE_dict(dataset)"
   ]
  },
  {
   "cell_type": "code",
   "execution_count": 199,
   "id": "eea7c509-0147-4776-941a-bc6db6259bcc",
   "metadata": {},
   "outputs": [],
   "source": []
  },
  {
   "cell_type": "code",
   "execution_count": 200,
   "id": "84aa8811-5778-4ad3-acc6-379dd60fd325",
   "metadata": {
    "scrolled": true
   },
   "outputs": [
    {
     "data": {
      "text/plain": [
       "{'air_pressure_set4_w6_b16_d2_rate0.2_unit80_train5000': 0.677155448867923,\n",
       " 'air_pressure_set4_w6_b16_d2_rate0.2_unit80_train1000': 0.694693009928574,\n",
       " 'air_pressure_set1_w6_b32_d2_rate0.2_unit50': 0.7153766424179637,\n",
       " 'air_pressure_set1_w6_b16_d2_rate0.2_unit80': 0.7199319731138147,\n",
       " 'air_pressure_set1_w6_b32_d2_rate0.1_unit80': 0.7225059787217637,\n",
       " 'air_pressure_set1_w6_b16_d2_rate0.2_unit50': 0.7250608794393623,\n",
       " 'air_pressure_set1_w6_b32_d2_rate0.3_unit80': 0.7337035315608528,\n",
       " 'air_pressure_set1_w6_b16_d2_rate0.1_unit80': 0.7378391049348397,\n",
       " 'air_pressure_set1_w6_b8_d2_rate0.3_unit80': 0.7430455053480486,\n",
       " 'air_pressure_set1_w6_b16_d3_rate0.1_unit50': 0.7513244184394855,\n",
       " 'air_pressure_set4_w6_b16_d2_rate0.2_unit80_train2000': 0.7515904765116687,\n",
       " 'air_pressure_set1_w6_b8_d4_rate0.2_unit80': 0.7571366298778043,\n",
       " 'air_pressure_set1_w6_b32_d2_rate0.2_unit80': 0.7589438269906583,\n",
       " 'air_pressure_set1_w6_b32_d2_rate0.1_unit50': 0.7591917264203143,\n",
       " 'air_pressure_set1_w6_b16_d3_rate0.2_unit50': 0.759541615973762,\n",
       " 'air_pressure_set1_w6_b8_d2_rate0.1_unit80': 0.7614301460618518,\n",
       " 'air_pressure_set1_w6_b16_d4_rate0.1_unit80': 0.7614494300487902,\n",
       " 'air_pressure_set1_w6_b16_d3_rate0.2_unit80': 0.7650184216489212,\n",
       " 'air_pressure_set1_w6_b32_d4_rate0.2_unit80': 0.7680812697964016,\n",
       " 'air_pressure_set1_w6_b8_d4_rate0.2_unit50': 0.7684517072468219,\n",
       " 'air_pressure_set1_w6_b32_d4_rate0.1_unit50': 0.7701112311604758,\n",
       " 'air_pressure_set1_w6_b8_d4_rate0.1_unit80': 0.7730917057658496,\n",
       " 'air_pressure_set1_w6_b8_d3_rate0.2_unit80': 0.7822694193068825,\n",
       " 'air_pressure_set1_w6_b32_d2_rate0.3_unit50': 0.7883822713321998,\n",
       " 'air_pressure_set1_w6_b32_d4_rate0.2_unit50': 0.792852596716059,\n",
       " 'air_pressure_set1_w6_b32_d3_rate0.2_unit80': 0.7982219145113654,\n",
       " 'air_pressure_set1_w6_b8_d2_rate0.2_unit80': 0.8063450210461701,\n",
       " 'air_pressure_set1_w6_b32_d3_rate0.3_unit50': 0.80703965704999,\n",
       " 'air_pressure_set1_w6_b8_d3_rate0.1_unit80': 0.8094362189502062,\n",
       " 'air_pressure_set1_w6_b16_d4_rate0.2_unit80': 0.8107901550260833,\n",
       " 'air_pressure_set1_w6_b16_d2_rate0.1_unit50': 0.8135934189030564,\n",
       " 'air_pressure_set1_w6_b16_d2_rate0.3_unit80': 0.8169775832027026,\n",
       " 'air_pressure_set1_w6_b16_d3_rate0.3_unit80': 0.8350631457117628,\n",
       " 'air_pressure_set1_w6_b32_d3_rate0.1_unit50': 0.8398299256007576,\n",
       " 'air_pressure_set1_w6_b32_d3_rate0.3_unit80': 0.8412314674417746,\n",
       " 'air_pressure_set1_w6_b16_d4_rate0.3_unit80': 0.8555074089821477,\n",
       " 'air_pressure_set1_w6_b16_d3_rate0.3_unit50': 0.8596093275338347,\n",
       " 'air_pressure_set1_w6_b32_d3_rate0.2_unit50': 0.859657318862214,\n",
       " 'air_pressure_set1_w6_b16_d2_rate0.3_unit50': 0.8604979587211362,\n",
       " 'air_pressure_set1_w6_b8_d3_rate0.1_unit50': 0.8640699479185641,\n",
       " 'air_pressure_set1_w6_b32_d3_rate0.1_unit80': 0.8723008001920868,\n",
       " 'air_pressure_set1_w6_b8_d3_rate0.2_unit50': 0.8751976080087338,\n",
       " 'air_pressure_set1_w6_b16_d4_rate0.2_unit50': 0.8790147341851803,\n",
       " 'air_pressure_set1_w6_b8_d4_rate0.3_unit50': 0.890972669235782,\n",
       " 'air_pressure_set1_w6_b8_d2_rate0.2_unit50': 0.9114297264673428,\n",
       " 'air_pressure_set1_w6_b16_d4_rate0.3_unit50': 0.914079709624627,\n",
       " 'air_pressure_set1_w6_b8_d2_rate0.3_unit50': 0.9259854525787263,\n",
       " 'air_pressure_set1_w6_b16_d4_rate0.1_unit50': 0.9294950373967217,\n",
       " 'air_pressure_set1_w6_b8_d4_rate0.1_unit50': 0.9394533076454668,\n",
       " 'air_pressure_set1_w6_b8_d3_rate0.3_unit80': 0.9403294277125407,\n",
       " 'air_pressure_set1_w6_b32_d4_rate0.3_unit50': 0.9607083438252415,\n",
       " 'air_pressure_set1_w6_b8_d4_rate0.3_unit80': 0.9610788793960746,\n",
       " 'air_pressure_set1_w6_b16_d3_rate0.1_unit80': 0.9862949351779089,\n",
       " 'air_pressure_set1_w6_b8_d2_rate0.1_unit50': 0.9964369464718071,\n",
       " 'air_pressure_set1_w6_b32_d4_rate0.1_unit80': 1.006188823875758,\n",
       " 'air_pressure_set1_w6_b8_d3_rate0.3_unit50': 1.0738653000054637}"
      ]
     },
     "execution_count": 200,
     "metadata": {},
     "output_type": "execute_result"
    }
   ],
   "source": [
    "air_rmse"
   ]
  },
  {
   "cell_type": "code",
   "execution_count": 201,
   "id": "38a83a69-e900-44e4-84a8-6723b5aad417",
   "metadata": {
    "scrolled": true
   },
   "outputs": [
    {
     "data": {
      "text/plain": [
       "{'air_pressure_set4_w6_b16_d2_rate0.2_unit80_train5000': 0.49300689697265626,\n",
       " 'air_pressure_set1_w6_b32_d2_rate0.2_unit50': 0.5441607666015625,\n",
       " 'air_pressure_set4_w6_b16_d2_rate0.2_unit80_train1000': 0.5455215454101563,\n",
       " 'air_pressure_set1_w6_b16_d2_rate0.2_unit80': 0.550858154296875,\n",
       " 'air_pressure_set1_w6_b16_d2_rate0.2_unit50': 0.5529122924804688,\n",
       " 'air_pressure_set1_w6_b32_d2_rate0.3_unit80': 0.561246337890625,\n",
       " 'air_pressure_set1_w6_b32_d2_rate0.1_unit80': 0.5639376831054688,\n",
       " 'air_pressure_set1_w6_b8_d4_rate0.2_unit80': 0.5685858154296874,\n",
       " 'air_pressure_set1_w6_b16_d4_rate0.1_unit80': 0.570765380859375,\n",
       " 'air_pressure_set1_w6_b16_d3_rate0.2_unit80': 0.5738150024414063,\n",
       " 'air_pressure_set1_w6_b32_d4_rate0.2_unit80': 0.5739202880859375,\n",
       " 'air_pressure_set1_w6_b32_d4_rate0.1_unit50': 0.57640380859375,\n",
       " 'air_pressure_set1_w6_b8_d4_rate0.1_unit80': 0.57904541015625,\n",
       " 'air_pressure_set1_w6_b16_d3_rate0.1_unit50': 0.5790643310546875,\n",
       " 'air_pressure_set1_w6_b8_d2_rate0.1_unit80': 0.5814822387695312,\n",
       " 'air_pressure_set1_w6_b32_d2_rate0.1_unit50': 0.581785888671875,\n",
       " 'air_pressure_set1_w6_b32_d2_rate0.2_unit80': 0.5822842407226563,\n",
       " 'air_pressure_set1_w6_b32_d4_rate0.2_unit50': 0.5871392822265625,\n",
       " 'air_pressure_set1_w6_b16_d2_rate0.1_unit80': 0.5905868530273437,\n",
       " 'air_pressure_set1_w6_b32_d2_rate0.3_unit50': 0.59271728515625,\n",
       " 'air_pressure_set1_w6_b8_d4_rate0.2_unit50': 0.5958596801757813,\n",
       " 'air_pressure_set1_w6_b8_d3_rate0.2_unit80': 0.6005242919921875,\n",
       " 'air_pressure_set4_w6_b16_d2_rate0.2_unit80_train2000': 0.601734619140625,\n",
       " 'air_pressure_set1_w6_b16_d2_rate0.1_unit50': 0.6023855590820313,\n",
       " 'air_pressure_set1_w6_b8_d2_rate0.2_unit80': 0.6035302734375,\n",
       " 'air_pressure_set1_w6_b32_d3_rate0.3_unit50': 0.6045547485351562,\n",
       " 'air_pressure_set1_w6_b8_d2_rate0.3_unit80': 0.6060995483398437,\n",
       " 'air_pressure_set1_w6_b16_d2_rate0.3_unit80': 0.612733154296875,\n",
       " 'air_pressure_set1_w6_b16_d3_rate0.2_unit50': 0.6128973388671874,\n",
       " 'air_pressure_set1_w6_b8_d3_rate0.1_unit80': 0.6133642578125,\n",
       " 'air_pressure_set1_w6_b32_d3_rate0.3_unit80': 0.61806884765625,\n",
       " 'air_pressure_set1_w6_b16_d3_rate0.3_unit50': 0.6273846435546875,\n",
       " 'air_pressure_set1_w6_b16_d2_rate0.3_unit50': 0.6299746704101562,\n",
       " 'air_pressure_set1_w6_b16_d4_rate0.2_unit80': 0.63142822265625,\n",
       " 'air_pressure_set1_w6_b32_d3_rate0.1_unit50': 0.633905029296875,\n",
       " 'air_pressure_set1_w6_b32_d3_rate0.2_unit80': 0.63524169921875,\n",
       " 'air_pressure_set1_w6_b8_d3_rate0.2_unit50': 0.6382406616210937,\n",
       " 'air_pressure_set1_w6_b32_d3_rate0.2_unit50': 0.638443603515625,\n",
       " 'air_pressure_set1_w6_b8_d3_rate0.1_unit50': 0.6389898681640624,\n",
       " 'air_pressure_set1_w6_b16_d3_rate0.3_unit80': 0.6426126098632813,\n",
       " 'air_pressure_set1_w6_b16_d4_rate0.2_unit50': 0.64570068359375,\n",
       " 'air_pressure_set1_w6_b16_d4_rate0.3_unit80': 0.6528744506835937,\n",
       " 'air_pressure_set1_w6_b16_d4_rate0.3_unit50': 0.6738458251953126,\n",
       " 'air_pressure_set1_w6_b32_d3_rate0.1_unit80': 0.6771493530273438,\n",
       " 'air_pressure_set1_w6_b8_d3_rate0.3_unit80': 0.6775775146484375,\n",
       " 'air_pressure_set1_w6_b8_d2_rate0.3_unit50': 0.6874996948242188,\n",
       " 'air_pressure_set1_w6_b8_d2_rate0.2_unit50': 0.689908447265625,\n",
       " 'air_pressure_set1_w6_b8_d4_rate0.1_unit50': 0.6930596923828125,\n",
       " 'air_pressure_set1_w6_b8_d4_rate0.3_unit50': 0.69407958984375,\n",
       " 'air_pressure_set1_w6_b8_d4_rate0.3_unit80': 0.6962548828125,\n",
       " 'air_pressure_set1_w6_b32_d4_rate0.3_unit50': 0.7023757934570313,\n",
       " 'air_pressure_set1_w6_b16_d3_rate0.1_unit80': 0.7266351318359375,\n",
       " 'air_pressure_set1_w6_b16_d4_rate0.1_unit50': 0.7305706787109375,\n",
       " 'air_pressure_set1_w6_b8_d2_rate0.1_unit50': 0.7310940551757813,\n",
       " 'air_pressure_set1_w6_b32_d4_rate0.1_unit80': 0.7457879638671875,\n",
       " 'air_pressure_set1_w6_b8_d3_rate0.3_unit50': 0.7915225219726563}"
      ]
     },
     "execution_count": 201,
     "metadata": {},
     "output_type": "execute_result"
    }
   ],
   "source": [
    "air_mae "
   ]
  },
  {
   "cell_type": "code",
   "execution_count": 314,
   "id": "ed038a95-36f5-46e2-8869-442667824b16",
   "metadata": {},
   "outputs": [],
   "source": [
    "\n",
    "filedir = '/home/Lakehouse/Competition/Ocean_Metar_19Feb/results/cloud'\n",
    "dataset_list = file_dict_cloud['cloud']\n",
    "dataset_cloud = dataset_loader(filedir,dataset_list)\n",
    "\n",
    "dataset = dataset_cloud\n",
    "cloud_rmse = ML.get_RMSE_dict(dataset)\n",
    "cloud_mae = ML.get_MAE_dict(dataset)"
   ]
  },
  {
   "cell_type": "code",
   "execution_count": 26,
   "id": "22ab8537-a45e-4370-8f41-1cab22c90881",
   "metadata": {},
   "outputs": [],
   "source": []
  },
  {
   "cell_type": "code",
   "execution_count": 315,
   "id": "ef3f494c-c1c0-4560-9dde-36f9f3b659b1",
   "metadata": {
    "scrolled": true
   },
   "outputs": [
    {
     "data": {
      "text/plain": [
       "{'cloud_type_layer_1_set7_w6_b32_d2_rate0.3_unit50_train5000': 0.7097181707620621,\n",
       " 'cloud_type_layer_1_set7_w12_b32_d2_rate0.3_unit50_train5000': 0.7314244121313095,\n",
       " 'cloud_type_layer_1_set7_w24_b32_d2_rate0.3_unit50_train5000': 0.753132273554802,\n",
       " 'cloud_type_layer_2_set7_w6_b32_d2_rate0.3_unit50_train5000': 1.2369160723686219,\n",
       " 'cloud_type_layer_2_set7_w12_b32_d2_rate0.3_unit50_train5000': 1.3179137814044952,\n",
       " 'cloud_type_layer_2_set7_w24_b32_d2_rate0.3_unit50_train5000': 1.3496126806735993,\n",
       " 'cloud_type_layer_4_set7_w6_b32_d2_rate0.3_unit50_train5000': 1.3637556394189596,\n",
       " 'cloud_type_layer_4_set7_w24_b32_d2_rate0.3_unit50_train5000': 1.4088873310387136,\n",
       " 'cloud_type_layer_4_set7_w12_b32_d2_rate0.3_unit50_train5000': 1.4120010234415532,\n",
       " 'cloud_type_layer_3_set7_w6_b32_d2_rate0.3_unit50_train5000': 1.8116329926252366,\n",
       " 'cloud_type_layer_3_set7_w24_b32_d2_rate0.3_unit50_train5000': 1.8719291573762893,\n",
       " 'cloud_type_layer_3_set7_w12_b32_d2_rate0.3_unit50_train5000': 1.9255793863534927,\n",
       " 'cloud_set6_w6_b32_d2_rate0.2_unit50_train5000': 1790.079248046875,\n",
       " 'cloud_set6_w6_b32_d2_rate0.2_unit50_train1000': 2146.493857421875,\n",
       " 'cloud_layer_2_set6_w24_b32_d2_rate0.2_unit50_train5000': 2568.3005810546874,\n",
       " 'cloud_layer_1_set6_w6_b32_d2_rate0.2_unit50_train5000': 2631.1611431884767,\n",
       " 'cloud_layer_2_set6_w6_b32_d2_rate0.2_unit50_train5000': 2721.5254345703124,\n",
       " 'cloud_layer_2_set6_w12_b32_d2_rate0.2_unit50_train5000': 2870.256474609375,\n",
       " 'cloud_layer_3_set6_w12_b32_d2_rate0.2_unit50_train1000': 3026.749189453125,\n",
       " 'cloud_layer_1_set6_w12_b32_d2_rate0.2_unit50_train5000': 3030.8256066894533,\n",
       " 'cloud_layer_1_set6_w24_b32_d2_rate0.2_unit50_train1000': 3111.171560058594,\n",
       " 'cloud_layer_1_set6_w24_b32_d2_rate0.2_unit50_train5000': 3134.0575036621094,\n",
       " 'cloud_layer_2_set6_w24_b32_d2_rate0.2_unit50_train1000': 3224.392976074219,\n",
       " 'cloud_layer_3_set6_w6_b32_d2_rate0.2_unit50_train1000': 3483.0812109375,\n",
       " 'cloud_layer_1_set6_w6_b32_d2_rate0.2_unit50_train1000': 3525.0800122070314,\n",
       " 'cloud_layer_1_set6_w12_b32_d2_rate0.2_unit50_train1000': 3852.894219970703,\n",
       " 'cloud_layer_2_set6_w12_b32_d2_rate0.2_unit50_train1000': 3965.7693920898437,\n",
       " 'cloud_layer_2_set6_w6_b32_d2_rate0.2_unit50_train1000': 4291.171696777344,\n",
       " 'cloud_layer_3_set6_w6_b32_d2_rate0.2_unit50_train5000': 4293.09765625,\n",
       " 'cloud_layer_3_set6_w12_b32_d2_rate0.2_unit50_train5000': 4399.802692871093}"
      ]
     },
     "execution_count": 315,
     "metadata": {},
     "output_type": "execute_result"
    }
   ],
   "source": [
    "cloud_mae"
   ]
  },
  {
   "cell_type": "code",
   "execution_count": 312,
   "id": "4ae4bdaf-b995-4a3a-bff0-c838cb56f4e8",
   "metadata": {
    "scrolled": true
   },
   "outputs": [
    {
     "data": {
      "text/plain": [
       "{'cloud_type_layer_1_set7_w6_b32_d2_rate0.3_unit50_train5000': 1.104470420045334,\n",
       " 'cloud_type_layer_1_set7_w12_b32_d2_rate0.3_unit50_train5000': 1.1102459914918696,\n",
       " 'cloud_type_layer_1_set7_w24_b32_d2_rate0.3_unit50_train5000': 1.1183497808470595,\n",
       " 'cloud_type_layer_2_set7_w6_b32_d2_rate0.3_unit50_train5000': 1.65922621886116,\n",
       " 'cloud_type_layer_2_set7_w24_b32_d2_rate0.3_unit50_train5000': 1.6707852231328917,\n",
       " 'cloud_type_layer_2_set7_w12_b32_d2_rate0.3_unit50_train5000': 1.690843439848054,\n",
       " 'cloud_type_layer_4_set7_w12_b32_d2_rate0.3_unit50_train5000': 2.2139491767210413,\n",
       " 'cloud_type_layer_4_set7_w6_b32_d2_rate0.3_unit50_train5000': 2.2221299314504663,\n",
       " 'cloud_type_layer_4_set7_w24_b32_d2_rate0.3_unit50_train5000': 2.3064160667223113,\n",
       " 'cloud_type_layer_3_set7_w6_b32_d2_rate0.3_unit50_train5000': 2.355095743047858,\n",
       " 'cloud_type_layer_3_set7_w12_b32_d2_rate0.3_unit50_train5000': 2.4296656198365976,\n",
       " 'cloud_type_layer_3_set7_w24_b32_d2_rate0.3_unit50_train5000': 2.4482231394197425,\n",
       " 'cloud_set6_w6_b32_d2_rate0.2_unit50_train5000': 2663.3852497228804,\n",
       " 'cloud_set6_w6_b32_d2_rate0.2_unit50_train1000': 3149.139139071865,\n",
       " 'cloud_layer_3_set6_w12_b32_d2_rate0.2_unit50_train1000': 4332.327433118456,\n",
       " 'cloud_layer_3_set6_w6_b32_d2_rate0.2_unit50_train1000': 4591.375067445942,\n",
       " 'cloud_layer_2_set6_w24_b32_d2_rate0.2_unit50_train5000': 4649.801730974288,\n",
       " 'cloud_layer_2_set6_w12_b32_d2_rate0.2_unit50_train5000': 4653.657011933264,\n",
       " 'cloud_layer_2_set6_w6_b32_d2_rate0.2_unit50_train5000': 4707.469604336454,\n",
       " 'cloud_layer_2_set6_w24_b32_d2_rate0.2_unit50_train1000': 5427.920578791155,\n",
       " 'cloud_layer_2_set6_w12_b32_d2_rate0.2_unit50_train1000': 5595.959300252617,\n",
       " 'cloud_layer_1_set6_w12_b32_d2_rate0.2_unit50_train5000': 5596.59501088754,\n",
       " 'cloud_layer_1_set6_w24_b32_d2_rate0.2_unit50_train5000': 5620.512658442985,\n",
       " 'cloud_layer_1_set6_w6_b32_d2_rate0.2_unit50_train5000': 5623.654397861664,\n",
       " 'cloud_layer_2_set6_w6_b32_d2_rate0.2_unit50_train1000': 5730.810781393541,\n",
       " 'cloud_layer_1_set6_w6_b32_d2_rate0.2_unit50_train1000': 6065.673908572304,\n",
       " 'cloud_layer_1_set6_w24_b32_d2_rate0.2_unit50_train1000': 6124.3211456407835,\n",
       " 'cloud_layer_1_set6_w12_b32_d2_rate0.2_unit50_train1000': 6159.212341521518,\n",
       " 'cloud_layer_3_set6_w6_b32_d2_rate0.2_unit50_train5000': 6423.48476916006,\n",
       " 'cloud_layer_3_set6_w12_b32_d2_rate0.2_unit50_train5000': 6430.859162650423}"
      ]
     },
     "execution_count": 312,
     "metadata": {},
     "output_type": "execute_result"
    }
   ],
   "source": [
    "# this is for cloud height \n",
    "cloud_rmse"
   ]
  },
  {
   "cell_type": "code",
   "execution_count": 241,
   "id": "73987a1c-900f-403e-ae6b-532ef6a788da",
   "metadata": {},
   "outputs": [
    {
     "data": {
      "text/plain": [
       "{'cloud_set6_w6_b32_d2_rate0.2_unit50_train5000': 1790.079248046875,\n",
       " 'cloud_set6_w6_b32_d2_rate0.2_unit50_train1000': 2146.493857421875}"
      ]
     },
     "execution_count": 241,
     "metadata": {},
     "output_type": "execute_result"
    }
   ],
   "source": [
    "cloud_mae"
   ]
  },
  {
   "cell_type": "code",
   "execution_count": 30,
   "id": "96853a37-64cc-448a-bf1b-10d7c621fb80",
   "metadata": {},
   "outputs": [],
   "source": [
    "## Unsorted data\n",
    "\n",
    "filedir = '/home/Lakehouse/Competition/Ocean_Metar_19Feb/results/unsorted'\n",
    "dataset_list = file_dict['unsorted']\n",
    "dataset_unsorted = dataset_loader(filedir,dataset_list)\n",
    "\n",
    "dataset = dataset_unsorted\n",
    "unsorted_rmse = ML.get_RMSE_dict(dataset)\n",
    "unsorted_mae = ML.get_MAE_dict(dataset)"
   ]
  },
  {
   "cell_type": "code",
   "execution_count": 42,
   "id": "bfecb384-7ab2-40a9-bc90-b758361bfd36",
   "metadata": {},
   "outputs": [
    {
     "data": {
      "text/plain": [
       "{'air_pressure_set2_window48': 0.4973623135870196,\n",
       " 'air_pressure_set3_window48': 0.5056746727783188,\n",
       " 'air_pressure_set3_window24': 0.5194100960316627,\n",
       " 'air_pressure_set2_window24': 0.5472576720063519,\n",
       " 'air_pressure_set2_window12': 0.5616501600524271,\n",
       " 'cloud_layers_set1_window6': 0.5801299585503853,\n",
       " 'air_pressure_set3_window6': 0.5820390366795051,\n",
       " 'cloud_layers_set1_window48': 0.5941094290621449,\n",
       " 'air_pressure_set3_window12': 0.5943186045847993,\n",
       " 'cloud_layers_set1_window24': 0.612490726888703,\n",
       " 'air_pressure_set2_window6': 0.6127743278191036,\n",
       " 'cloud_layers_no_scale_set1_window6': 0.612922782844743,\n",
       " 'cloud_layers_no_scale_set1_window48': 0.6227720087489862,\n",
       " 'air_pressure_set3_window3': 0.640848307273331,\n",
       " 'air_pressure_set2_window3': 0.6471898499487151,\n",
       " 'cloud_layers_set2_window48': 0.6811814233870612,\n",
       " 'cloud_layers_set2_window24': 0.6842654957271912,\n",
       " 'cloud_layers_set2_window6': 0.6952265014586436,\n",
       " 'cloud_layers_set2_window12': 0.6981212439321843,\n",
       " 'cloud_layers_set2_window3': 0.7051284032985138,\n",
       " 'temperature_set2_window24': 0.742772122234348,\n",
       " 'temperature_set2_window48': 0.7941519065141222,\n",
       " 'air_pressure_set1_window6': 0.8053324741832935,\n",
       " 'dew_set3_window6': 0.8106768733819676,\n",
       " 'dew_set3_window3': 0.8233639816196774,\n",
       " 'temperature_set2_window12': 0.8446047581473265,\n",
       " 'temperature_set2_window6': 0.8667532627335847,\n",
       " 'air_pressure_set1_window48': 0.8684207475757317,\n",
       " 'temperature_set2_window3': 0.871395809145427,\n",
       " 'cloud_layers_no_scale_set1_window24': 0.8990276489900342,\n",
       " 'dew_set2_window3': 0.9033173279121494,\n",
       " 'dew_set2_window12': 0.9118918923701463,\n",
       " 'dew_set2_window48': 0.927360174381773,\n",
       " 'dew_set2_window24': 0.9455004244320674,\n",
       " 'temperature_set1_window24': 0.9515259059689001,\n",
       " 'dew_set2_window6': 0.9520556136382974,\n",
       " 'temperature_set1_window48': 0.9612924343205818,\n",
       " 'temperature_set3_window6': 0.9878321271856696,\n",
       " 'temperature_set1_window6': 1.0126029063540483,\n",
       " 'dew_set1_window48': 1.1630195372442513,\n",
       " 'air_pressure_set1_window24': 1.1635773920359305,\n",
       " 'dew_set1_window6': 1.1791970013702648,\n",
       " 'dew_set1_window24': 1.1842960582378965,\n",
       " 'cloud_1_type_set2_window3': 1.593203993525063,\n",
       " 'cloud_1_type_set2_window6': 1.6079377905082355,\n",
       " 'cloud_1_type_set2_window12': 1.620442146314371,\n",
       " 'cloud_1_type_set2_window24': 1.6327365948528096,\n",
       " 'cloud_1_type_set2_window48': 1.6332281020028063,\n",
       " 'wind_speed_set1_window6': 2.203355744734822,\n",
       " 'wind_speed_set1_window24': 2.302106251826279,\n",
       " 'wind_speed_set1_window48': 2.317597816363458,\n",
       " 'wind_speed_set2_window24': 2.3328279461247785,\n",
       " 'wind_speed_set2_window12': 2.33653590578641,\n",
       " 'wind_speed_set2_window48': 2.359422116751772,\n",
       " 'wind_speed_set2_window3': 2.3984588793044757,\n",
       " 'wind_speed_set2_window6': 2.4211285216152043,\n",
       " 'wind_degree_set1_window6': 70.95432877611718,\n",
       " 'wind_degree_set1_window24': 72.00499351928386,\n",
       " 'wind_degree_set2_window3': 72.1890778647719,\n",
       " 'wind_degree_set2_window6': 72.90040792256194,\n",
       " 'wind_degree_set1_window48': 74.97453549457393,\n",
       " 'wind_degree_set2_window12': 77.13004096525682,\n",
       " 'wind_degree_set2_window48': 85.68115686293626,\n",
       " 'wind_degree_set2_window24': 90.49590068289133}"
      ]
     },
     "execution_count": 42,
     "metadata": {},
     "output_type": "execute_result"
    }
   ],
   "source": [
    "unsorted_rmse "
   ]
  },
  {
   "cell_type": "code",
   "execution_count": null,
   "id": "ae5f2744-24a3-4999-9062-338274a2b2c8",
   "metadata": {},
   "outputs": [],
   "source": []
  },
  {
   "cell_type": "code",
   "execution_count": 279,
   "id": "545d2b8c-ee93-47ef-bb8e-f575a1ef9d79",
   "metadata": {},
   "outputs": [],
   "source": [
    "## Unsorted data\n",
    "\n",
    "filedir = '/home/Lakehouse/Competition/Ocean_Metar_19Feb/results/windvar'\n",
    "dataset_list = file_dict['windvar']\n",
    "dataset_windvar = dataset_loader(filedir,dataset_list)\n",
    "\n",
    "dataset = dataset_windvar\n",
    "windvar_rmse = ML.get_RMSE_dict(dataset)\n",
    "windvar_mae = ML.get_MAE_dict(dataset)"
   ]
  },
  {
   "cell_type": "code",
   "execution_count": 280,
   "id": "f2a772b8-e2e0-4129-be35-c07fb8cd51a3",
   "metadata": {},
   "outputs": [
    {
     "data": {
      "text/plain": [
       "{'windvar_var_bool_wind_max_var_set8_w24_b32_d2_rate0.3_unit50_train5000': 0.09974122993033002,\n",
       " 'windvar_var_bool_wind_min_var_set8_w24_b32_d2_rate0.3_unit50_train5000': 0.09974913272615392,\n",
       " 'windvar_var_bool_wind_max_var_set8_w6_b32_d2_rate0.3_unit50_train5000': 0.09988552277021033,\n",
       " 'windvar_var_bool_wind_max_var_set8_w12_b32_d2_rate0.3_unit50_train5000': 0.09994186592637985,\n",
       " 'windvar_var_bool_wind_min_var_set8_w12_b32_d2_rate0.3_unit50_train5000': 0.10022064952013952,\n",
       " 'windvar_var_bool_wind_min_var_set8_w6_b32_d2_rate0.3_unit50_train5000': 0.10048393132617923,\n",
       " 'windvar_var_cleaned_wind_min_var_set8_w12_b32_d2_rate0.3_unit50_train5000': 9.374527975566874,\n",
       " 'windvar_var_cleaned_wind_min_var_set8_w24_b32_d2_rate0.3_unit50_train5000': 9.625209194117705,\n",
       " 'windvar_var_cleaned_wind_min_var_set8_w6_b32_d2_rate0.3_unit50_train5000': 9.933320811383517,\n",
       " 'windvar_var_cleaned_wind_max_var_set8_w6_b32_d2_rate0.3_unit50_train5000': 14.164488023277181,\n",
       " 'windvar_var_cleaned_wind_max_var_set8_w12_b32_d2_rate0.3_unit50_train5000': 14.182186767469496,\n",
       " 'windvar_var_cleaned_wind_max_var_set8_w24_b32_d2_rate0.3_unit50_train5000': 14.324463928495243}"
      ]
     },
     "execution_count": 280,
     "metadata": {},
     "output_type": "execute_result"
    }
   ],
   "source": [
    "windvar_rmse"
   ]
  },
  {
   "cell_type": "code",
   "execution_count": 277,
   "id": "aa2a9826-02cd-405f-8acd-44e93a2bdddf",
   "metadata": {},
   "outputs": [
    {
     "data": {
      "text/plain": [
       "{'windvar_var_bool_wind_max_var_set8_w24_b32_d2_rate0.3_unit50_train5000': 0.019785575927235188,\n",
       " 'windvar_var_bool_wind_min_var_set8_w24_b32_d2_rate0.3_unit50_train5000': 0.022035739440470933,\n",
       " 'windvar_var_bool_wind_max_var_set8_w6_b32_d2_rate0.3_unit50_train5000': 0.024089613184332847,\n",
       " 'windvar_var_bool_wind_max_var_set8_w12_b32_d2_rate0.3_unit50_train5000': 0.025124221411533653,\n",
       " 'windvar_var_bool_wind_min_var_set8_w12_b32_d2_rate0.3_unit50_train5000': 0.02881853569764644,\n",
       " 'windvar_var_bool_wind_min_var_set8_w6_b32_d2_rate0.3_unit50_train5000': 0.03125630172435194,\n",
       " 'windvar_var_cleaned_wind_max_var_set8_w6_b32_d2_rate0.3_unit50_train5000': 2.4315174643695356,\n",
       " 'windvar_var_cleaned_wind_min_var_set8_w12_b32_d2_rate0.3_unit50_train5000': 3.1904089391231536,\n",
       " 'windvar_var_cleaned_wind_min_var_set8_w24_b32_d2_rate0.3_unit50_train5000': 4.159665642976761,\n",
       " 'windvar_var_cleaned_wind_min_var_set8_w6_b32_d2_rate0.3_unit50_train5000': 5.043737258911133}"
      ]
     },
     "execution_count": 277,
     "metadata": {},
     "output_type": "execute_result"
    }
   ],
   "source": [
    "windvar_mae"
   ]
  },
  {
   "cell_type": "code",
   "execution_count": null,
   "id": "b1a4b0e2-66cb-4cfd-9fdc-091d4673b0d4",
   "metadata": {},
   "outputs": [],
   "source": [
    "# Create pred_degree, pred_speed,pred_vis, pred_air, etc"
   ]
  },
  {
   "cell_type": "code",
   "execution_count": null,
   "id": "ddaf6f04-0d17-41af-ae0b-8a3ff5e677f6",
   "metadata": {},
   "outputs": [],
   "source": [
    "data = metar_dict_test_1['metar_df']['air_pressure'].values\n",
    "time_steps = 24\n",
    "selected_model = Air_Pressure_Results[f'set2_window{time_steps}']['model']\n",
    "propagation_steps = 12\n",
    "next_val = get_next_value(selected_model, time_steps, data, rounding = True )"
   ]
  },
  {
   "cell_type": "code",
   "execution_count": null,
   "id": "02f40d18-4e0c-425a-ac89-1627b8fe7807",
   "metadata": {},
   "outputs": [],
   "source": [
    "# Choose several sets of models to drive the pred things\n",
    "\n",
    "# decide the correct input \n",
    "\n"
   ]
  },
  {
   "cell_type": "code",
   "execution_count": null,
   "id": "a9c633a0-15c4-45f5-801f-925a222c9181",
   "metadata": {},
   "outputs": [],
   "source": [
    "# each model set is comprised of the following 8 Predictions\n",
    "1. Wind Degree [Need to improve prediction]\n",
    "2. Wind Speed [acceptable]\n",
    "3. Visibility Distance [acceptable]\n",
    "4. Cloud Type (average over how many layers there are) [need to work on]\n",
    "5. Cloud Height (average of how many layers there are) [Seems okay]\n",
    "6. Temperature [acceptable]\n",
    "7. Dew [acceptable]\n",
    "8。Air Pressure [acceptable]"
   ]
  },
  {
   "cell_type": "code",
   "execution_count": null,
   "id": "67fccfd9-fa7d-4adf-936f-c5c943450b64",
   "metadata": {},
   "outputs": [],
   "source": [
    "# simply pick 1 out of each model just for comparison sake and getting pipeline running\n"
   ]
  },
  {
   "cell_type": "code",
   "execution_count": null,
   "id": "7ad85e2a-b10e-4900-b8b4-10c6c191f926",
   "metadata": {},
   "outputs": [],
   "source": []
  },
  {
   "cell_type": "code",
   "execution_count": null,
   "id": "04b01b64-0e15-49b5-8a0f-b3b0fd71de1b",
   "metadata": {},
   "outputs": [],
   "source": [
    "# Benchmark comparison on MAE and RMSE results of the 5 model sets"
   ]
  },
  {
   "cell_type": "code",
   "execution_count": 132,
   "id": "fb36fe46-ef61-4b62-8ce1-3cbd64527a28",
   "metadata": {},
   "outputs": [
    {
     "data": {
      "text/plain": [
       "dict_keys(['model', 'x_train', 'y_train', 'dataset_train', 'dataset_test', 'dataset_total', 'y_pred', 'y_pred_scaled', 'x_test', 'rmse'])"
      ]
     },
     "execution_count": 132,
     "metadata": {},
     "output_type": "execute_result"
    }
   ],
   "source": [
    " dataset_1['cloud_1_type_set2_window3'].keys()"
   ]
  },
  {
   "cell_type": "code",
   "execution_count": 90,
   "id": "b6fb35cf-df02-4c1f-a2e6-67563b4bc50c",
   "metadata": {},
   "outputs": [
    {
     "name": "stdout",
     "output_type": "stream",
     "text": [
      "The data contains a total of : 89590 rows\n",
      "The randomly selected sequence is from row 1638 to 1661\n",
      "Input Data is now parsed\n",
      "The data contains a total of : 89590 rows\n",
      "The randomly selected sequence is from row 3865 to 3888\n",
      "Input Data is now parsed\n"
     ]
    }
   ],
   "source": [
    "# Deployment test:\n",
    "txt_filepath = '../dataset/METAR_Data.txt'\n",
    "window_length = 24\n",
    "# metar_dict_test_1_24 = DC.get_metar_prediction_input(txt_filepath,window_length) # row 57159 to 57182\n",
    "# metar_dict_test_2_24 = DC.get_metar_prediction_input(txt_filepath,window_length) # row 48846 to 48869\n",
    "metar_dict_test_3_24 = DC.get_metar_prediction_input(txt_filepath,window_length) # row 47968 to 47991\n",
    "metar_dict_test_4_24 = DC.get_metar_prediction_input(txt_filepath,window_length) # row 47968 to 47991\n"
   ]
  },
  {
   "cell_type": "code",
   "execution_count": 194,
   "id": "480d67bf-49ac-4b68-a2bb-929b75d5b525",
   "metadata": {},
   "outputs": [
    {
     "data": {
      "text/plain": [
       "Index(['hour', 'minutes', 'wind_speed', 'wind_degrees', 'wind_min_var',\n",
       "       'wind_max_var', 'vis_distance', 'temperature', 'dew', 'air_pressure'],\n",
       "      dtype='object')"
      ]
     },
     "execution_count": 194,
     "metadata": {},
     "output_type": "execute_result"
    }
   ],
   "source": []
  },
  {
   "cell_type": "code",
   "execution_count": 184,
   "id": "6e8fd028-7b13-4130-81a2-6e7acc32bbfa",
   "metadata": {
    "scrolled": true
   },
   "outputs": [],
   "source": [
    "\n",
    "def pred_n_cloud(input_df,time_steps,selected_model):\n",
    "  \n",
    "    return next_val[0][0]\n",
    "\n",
    "def pred_cloud_type(input_df,time_steps,selected_model):\n",
    "    \n",
    "    return next_val[0][0]\n",
    "\n",
    "def pred_windvar(input_df,time_steps,selected_model):\n",
    "    \n",
    "    return next_val[0][0]"
   ]
  },
  {
   "cell_type": "code",
   "execution_count": 53,
   "id": "1a5c9cea-32e5-4e9d-8f42-8a61ec47c8e6",
   "metadata": {},
   "outputs": [
    {
     "data": {
      "text/plain": [
       "Index(['year', 'month', 'day', 'hour', 'minutes', 'wind_speed', 'wind_degrees',\n",
       "       'wind_min_var', 'wind_max_var', 'vis_distance', 'temperature', 'dew',\n",
       "       'air_pressure', 'n_cloud_layers', 'cloud_layer_1_height',\n",
       "       'cloud_layer_1_type', 'cloud_layer_2_height', 'cloud_layer_2_type',\n",
       "       'cloud_layer_3_height', 'cloud_layer_3_type', 'cloud_layer_4_height',\n",
       "       'cloud_layer_4_type'],\n",
       "      dtype='object')"
      ]
     },
     "execution_count": 53,
     "metadata": {},
     "output_type": "execute_result"
    }
   ],
   "source": [
    "metar_dict_test_1_24['metar_df'].keys()"
   ]
  },
  {
   "cell_type": "code",
   "execution_count": 54,
   "id": "995cb9fd-ee87-400f-a797-5e96beaa555b",
   "metadata": {},
   "outputs": [],
   "source": [
    "def pred_next_metar(input_df,time_steps,model_dict):\n",
    "    target_list = ['wind_speed', 'wind_degrees', 'wind_min_var', 'wind_max_var', 'vis_distance',\n",
    "                   'n_cloud_layers','cloud_layer_1_height', 'cloud_layer_1_type',\n",
    "                   'cloud_layer_2_height', 'cloud_layer_2_type', 'cloud_layer_3_height',\n",
    "                   'cloud_layer_3_type', 'cloud_layer_4_height', 'cloud_layer_4_type',\n",
    "                   'temperature', 'dew', 'air_pressure']\n",
    "    result_dict = {}\n",
    "    for t in target_list :\n",
    "        input_data = input_df[t]\n",
    "        data = input_data.values\n",
    "        selected_model = model_dict[t]\n",
    "        next_val = ML.get_next_value(selected_model, time_steps, data, rounding = True )\n",
    "        result = {t:next_val[0][0]}\n",
    "        result_dict.update(result)\n",
    "    return result_dict"
   ]
  },
  {
   "cell_type": "code",
   "execution_count": 188,
   "id": "98cae5bb-00ad-462b-b493-33ec10828024",
   "metadata": {
    "scrolled": true
   },
   "outputs": [
    {
     "data": {
      "text/html": [
       "<div>\n",
       "<style scoped>\n",
       "    .dataframe tbody tr th:only-of-type {\n",
       "        vertical-align: middle;\n",
       "    }\n",
       "\n",
       "    .dataframe tbody tr th {\n",
       "        vertical-align: top;\n",
       "    }\n",
       "\n",
       "    .dataframe thead th {\n",
       "        text-align: right;\n",
       "    }\n",
       "</style>\n",
       "<table border=\"1\" class=\"dataframe\">\n",
       "  <thead>\n",
       "    <tr style=\"text-align: right;\">\n",
       "      <th></th>\n",
       "      <th>hour</th>\n",
       "      <th>minutes</th>\n",
       "      <th>wind_speed</th>\n",
       "      <th>wind_degrees</th>\n",
       "      <th>wind_min_var</th>\n",
       "      <th>wind_max_var</th>\n",
       "      <th>vis_distance</th>\n",
       "      <th>temperature</th>\n",
       "      <th>dew</th>\n",
       "      <th>air_pressure</th>\n",
       "    </tr>\n",
       "  </thead>\n",
       "  <tbody>\n",
       "    <tr>\n",
       "      <th>0</th>\n",
       "      <td>7</td>\n",
       "      <td>53</td>\n",
       "      <td>8</td>\n",
       "      <td>130.0</td>\n",
       "      <td>0</td>\n",
       "      <td>0</td>\n",
       "      <td>9.00</td>\n",
       "      <td>26</td>\n",
       "      <td>23</td>\n",
       "      <td>1013</td>\n",
       "    </tr>\n",
       "    <tr>\n",
       "      <th>1</th>\n",
       "      <td>8</td>\n",
       "      <td>53</td>\n",
       "      <td>5</td>\n",
       "      <td>120.0</td>\n",
       "      <td>0</td>\n",
       "      <td>0</td>\n",
       "      <td>10.00</td>\n",
       "      <td>26</td>\n",
       "      <td>23</td>\n",
       "      <td>1013</td>\n",
       "    </tr>\n",
       "    <tr>\n",
       "      <th>2</th>\n",
       "      <td>9</td>\n",
       "      <td>53</td>\n",
       "      <td>3</td>\n",
       "      <td>120.0</td>\n",
       "      <td>0</td>\n",
       "      <td>0</td>\n",
       "      <td>10.00</td>\n",
       "      <td>26</td>\n",
       "      <td>23</td>\n",
       "      <td>1013</td>\n",
       "    </tr>\n",
       "    <tr>\n",
       "      <th>3</th>\n",
       "      <td>10</td>\n",
       "      <td>53</td>\n",
       "      <td>3</td>\n",
       "      <td>130.0</td>\n",
       "      <td>0</td>\n",
       "      <td>0</td>\n",
       "      <td>10.00</td>\n",
       "      <td>26</td>\n",
       "      <td>23</td>\n",
       "      <td>1013</td>\n",
       "    </tr>\n",
       "    <tr>\n",
       "      <th>4</th>\n",
       "      <td>11</td>\n",
       "      <td>53</td>\n",
       "      <td>0</td>\n",
       "      <td>0.0</td>\n",
       "      <td>0</td>\n",
       "      <td>0</td>\n",
       "      <td>10.00</td>\n",
       "      <td>27</td>\n",
       "      <td>24</td>\n",
       "      <td>1014</td>\n",
       "    </tr>\n",
       "    <tr>\n",
       "      <th>5</th>\n",
       "      <td>12</td>\n",
       "      <td>53</td>\n",
       "      <td>5</td>\n",
       "      <td>200.0</td>\n",
       "      <td>0</td>\n",
       "      <td>0</td>\n",
       "      <td>10.00</td>\n",
       "      <td>29</td>\n",
       "      <td>25</td>\n",
       "      <td>1014</td>\n",
       "    </tr>\n",
       "    <tr>\n",
       "      <th>6</th>\n",
       "      <td>13</td>\n",
       "      <td>53</td>\n",
       "      <td>8</td>\n",
       "      <td>220.0</td>\n",
       "      <td>0</td>\n",
       "      <td>0</td>\n",
       "      <td>10.00</td>\n",
       "      <td>31</td>\n",
       "      <td>24</td>\n",
       "      <td>1015</td>\n",
       "    </tr>\n",
       "    <tr>\n",
       "      <th>7</th>\n",
       "      <td>14</td>\n",
       "      <td>53</td>\n",
       "      <td>8</td>\n",
       "      <td>260.0</td>\n",
       "      <td>0</td>\n",
       "      <td>0</td>\n",
       "      <td>10.00</td>\n",
       "      <td>29</td>\n",
       "      <td>23</td>\n",
       "      <td>1015</td>\n",
       "    </tr>\n",
       "    <tr>\n",
       "      <th>8</th>\n",
       "      <td>15</td>\n",
       "      <td>53</td>\n",
       "      <td>7</td>\n",
       "      <td>230.0</td>\n",
       "      <td>0</td>\n",
       "      <td>0</td>\n",
       "      <td>10.00</td>\n",
       "      <td>31</td>\n",
       "      <td>23</td>\n",
       "      <td>1015</td>\n",
       "    </tr>\n",
       "    <tr>\n",
       "      <th>9</th>\n",
       "      <td>16</td>\n",
       "      <td>53</td>\n",
       "      <td>5</td>\n",
       "      <td>107.0</td>\n",
       "      <td>0</td>\n",
       "      <td>0</td>\n",
       "      <td>0.75</td>\n",
       "      <td>27</td>\n",
       "      <td>23</td>\n",
       "      <td>1015</td>\n",
       "    </tr>\n",
       "    <tr>\n",
       "      <th>10</th>\n",
       "      <td>17</td>\n",
       "      <td>53</td>\n",
       "      <td>6</td>\n",
       "      <td>80.0</td>\n",
       "      <td>0</td>\n",
       "      <td>0</td>\n",
       "      <td>10.00</td>\n",
       "      <td>29</td>\n",
       "      <td>24</td>\n",
       "      <td>1014</td>\n",
       "    </tr>\n",
       "    <tr>\n",
       "      <th>11</th>\n",
       "      <td>19</td>\n",
       "      <td>53</td>\n",
       "      <td>3</td>\n",
       "      <td>10.0</td>\n",
       "      <td>0</td>\n",
       "      <td>0</td>\n",
       "      <td>8.00</td>\n",
       "      <td>26</td>\n",
       "      <td>23</td>\n",
       "      <td>1014</td>\n",
       "    </tr>\n",
       "    <tr>\n",
       "      <th>12</th>\n",
       "      <td>20</td>\n",
       "      <td>53</td>\n",
       "      <td>4</td>\n",
       "      <td>180.0</td>\n",
       "      <td>0</td>\n",
       "      <td>0</td>\n",
       "      <td>3.00</td>\n",
       "      <td>26</td>\n",
       "      <td>23</td>\n",
       "      <td>1014</td>\n",
       "    </tr>\n",
       "    <tr>\n",
       "      <th>13</th>\n",
       "      <td>21</td>\n",
       "      <td>53</td>\n",
       "      <td>5</td>\n",
       "      <td>230.0</td>\n",
       "      <td>0</td>\n",
       "      <td>0</td>\n",
       "      <td>9.00</td>\n",
       "      <td>26</td>\n",
       "      <td>23</td>\n",
       "      <td>1014</td>\n",
       "    </tr>\n",
       "    <tr>\n",
       "      <th>14</th>\n",
       "      <td>22</td>\n",
       "      <td>53</td>\n",
       "      <td>0</td>\n",
       "      <td>0.0</td>\n",
       "      <td>0</td>\n",
       "      <td>0</td>\n",
       "      <td>10.00</td>\n",
       "      <td>26</td>\n",
       "      <td>22</td>\n",
       "      <td>1014</td>\n",
       "    </tr>\n",
       "    <tr>\n",
       "      <th>15</th>\n",
       "      <td>23</td>\n",
       "      <td>53</td>\n",
       "      <td>6</td>\n",
       "      <td>170.0</td>\n",
       "      <td>0</td>\n",
       "      <td>0</td>\n",
       "      <td>10.00</td>\n",
       "      <td>26</td>\n",
       "      <td>23</td>\n",
       "      <td>1015</td>\n",
       "    </tr>\n",
       "    <tr>\n",
       "      <th>16</th>\n",
       "      <td>0</td>\n",
       "      <td>53</td>\n",
       "      <td>3</td>\n",
       "      <td>230.0</td>\n",
       "      <td>0</td>\n",
       "      <td>0</td>\n",
       "      <td>10.00</td>\n",
       "      <td>26</td>\n",
       "      <td>23</td>\n",
       "      <td>1015</td>\n",
       "    </tr>\n",
       "    <tr>\n",
       "      <th>17</th>\n",
       "      <td>1</td>\n",
       "      <td>53</td>\n",
       "      <td>4</td>\n",
       "      <td>100.0</td>\n",
       "      <td>0</td>\n",
       "      <td>0</td>\n",
       "      <td>8.00</td>\n",
       "      <td>26</td>\n",
       "      <td>23</td>\n",
       "      <td>1015</td>\n",
       "    </tr>\n",
       "    <tr>\n",
       "      <th>18</th>\n",
       "      <td>2</td>\n",
       "      <td>53</td>\n",
       "      <td>3</td>\n",
       "      <td>130.0</td>\n",
       "      <td>0</td>\n",
       "      <td>0</td>\n",
       "      <td>10.00</td>\n",
       "      <td>25</td>\n",
       "      <td>23</td>\n",
       "      <td>1016</td>\n",
       "    </tr>\n",
       "    <tr>\n",
       "      <th>19</th>\n",
       "      <td>3</td>\n",
       "      <td>53</td>\n",
       "      <td>0</td>\n",
       "      <td>0.0</td>\n",
       "      <td>0</td>\n",
       "      <td>0</td>\n",
       "      <td>10.00</td>\n",
       "      <td>26</td>\n",
       "      <td>23</td>\n",
       "      <td>1016</td>\n",
       "    </tr>\n",
       "    <tr>\n",
       "      <th>20</th>\n",
       "      <td>4</td>\n",
       "      <td>53</td>\n",
       "      <td>0</td>\n",
       "      <td>0.0</td>\n",
       "      <td>0</td>\n",
       "      <td>0</td>\n",
       "      <td>10.00</td>\n",
       "      <td>26</td>\n",
       "      <td>24</td>\n",
       "      <td>1016</td>\n",
       "    </tr>\n",
       "    <tr>\n",
       "      <th>21</th>\n",
       "      <td>5</td>\n",
       "      <td>53</td>\n",
       "      <td>0</td>\n",
       "      <td>0.0</td>\n",
       "      <td>0</td>\n",
       "      <td>0</td>\n",
       "      <td>10.00</td>\n",
       "      <td>27</td>\n",
       "      <td>24</td>\n",
       "      <td>1015</td>\n",
       "    </tr>\n",
       "    <tr>\n",
       "      <th>22</th>\n",
       "      <td>6</td>\n",
       "      <td>53</td>\n",
       "      <td>0</td>\n",
       "      <td>0.0</td>\n",
       "      <td>0</td>\n",
       "      <td>0</td>\n",
       "      <td>10.00</td>\n",
       "      <td>26</td>\n",
       "      <td>24</td>\n",
       "      <td>1015</td>\n",
       "    </tr>\n",
       "  </tbody>\n",
       "</table>\n",
       "</div>"
      ],
      "text/plain": [
       "    hour  minutes  wind_speed  wind_degrees  wind_min_var  wind_max_var  \\\n",
       "0      7       53           8         130.0             0             0   \n",
       "1      8       53           5         120.0             0             0   \n",
       "2      9       53           3         120.0             0             0   \n",
       "3     10       53           3         130.0             0             0   \n",
       "4     11       53           0           0.0             0             0   \n",
       "5     12       53           5         200.0             0             0   \n",
       "6     13       53           8         220.0             0             0   \n",
       "7     14       53           8         260.0             0             0   \n",
       "8     15       53           7         230.0             0             0   \n",
       "9     16       53           5         107.0             0             0   \n",
       "10    17       53           6          80.0             0             0   \n",
       "11    19       53           3          10.0             0             0   \n",
       "12    20       53           4         180.0             0             0   \n",
       "13    21       53           5         230.0             0             0   \n",
       "14    22       53           0           0.0             0             0   \n",
       "15    23       53           6         170.0             0             0   \n",
       "16     0       53           3         230.0             0             0   \n",
       "17     1       53           4         100.0             0             0   \n",
       "18     2       53           3         130.0             0             0   \n",
       "19     3       53           0           0.0             0             0   \n",
       "20     4       53           0           0.0             0             0   \n",
       "21     5       53           0           0.0             0             0   \n",
       "22     6       53           0           0.0             0             0   \n",
       "\n",
       "    vis_distance  temperature  dew  air_pressure  \n",
       "0           9.00           26   23          1013  \n",
       "1          10.00           26   23          1013  \n",
       "2          10.00           26   23          1013  \n",
       "3          10.00           26   23          1013  \n",
       "4          10.00           27   24          1014  \n",
       "5          10.00           29   25          1014  \n",
       "6          10.00           31   24          1015  \n",
       "7          10.00           29   23          1015  \n",
       "8          10.00           31   23          1015  \n",
       "9           0.75           27   23          1015  \n",
       "10         10.00           29   24          1014  \n",
       "11          8.00           26   23          1014  \n",
       "12          3.00           26   23          1014  \n",
       "13          9.00           26   23          1014  \n",
       "14         10.00           26   22          1014  \n",
       "15         10.00           26   23          1015  \n",
       "16         10.00           26   23          1015  \n",
       "17          8.00           26   23          1015  \n",
       "18         10.00           25   23          1016  \n",
       "19         10.00           26   23          1016  \n",
       "20         10.00           26   24          1016  \n",
       "21         10.00           27   24          1015  \n",
       "22         10.00           26   24          1015  "
      ]
     },
     "execution_count": 188,
     "metadata": {},
     "output_type": "execute_result"
    }
   ],
   "source": [
    "input_df"
   ]
  },
  {
   "cell_type": "code",
   "execution_count": 81,
   "id": "d87edf29-d3cd-4e09-9763-a0a6cad0b04c",
   "metadata": {
    "scrolled": true
   },
   "outputs": [],
   "source": [
    "model_dict_1 = {'wind_speed':dataset_wind['wind_speed_set1_w6_b8_d2_rate0.2_unit50']['model'], \n",
    "              'wind_degrees':dataset_wind['wind_degree_set1_w6_b16_d4_rate0.2_unit50']['model'], \n",
    "              'min_var_bool':dataset_windvar['windvar_var_bool_wind_min_var_set8_w6_b32_d2_rate0.3_unit50_train5000']['model'],\n",
    "              'max_var_bool':dataset_windvar['windvar_var_bool_wind_max_var_set8_w6_b32_d2_rate0.3_unit50_train5000']['model'],\n",
    "              'wind_min_var':dataset_windvar['windvar_var_cleaned_wind_min_var_set8_w6_b32_d2_rate0.3_unit50_train5000']['model'],\n",
    "              'wind_max_var':dataset_windvar['windvar_var_cleaned_wind_max_var_set8_w6_b32_d2_rate0.3_unit50_train5000']['model'],\n",
    "              'vis_distance':dataset_vis['visibility_set4_w6_b16_d2_rate0.2_unit80_train2000']['model'], \n",
    "              'n_cloud_layers':dataset_unsorted['cloud_layers_set1_window6']['model'],\n",
    "              'cloud_layer_1_type':dataset_cloud['cloud_type_layer_1_set7_w6_b32_d2_rate0.3_unit50_train5000']['model'],\n",
    "              'cloud_layer_1_height':dataset_cloud['cloud_layer_1_set6_w6_b32_d2_rate0.2_unit50_train5000']['model'],\n",
    "              'cloud_layer_2_type':dataset_cloud['cloud_type_layer_2_set7_w6_b32_d2_rate0.3_unit50_train5000']['model'],\n",
    "               'cloud_layer_2_height':dataset_cloud['cloud_layer_2_set6_w6_b32_d2_rate0.2_unit50_train5000']['model'],\n",
    "               'cloud_layer_3_type':dataset_cloud['cloud_type_layer_3_set7_w6_b32_d2_rate0.3_unit50_train5000']['model'],\n",
    "               'cloud_layer_3_height':dataset_cloud['cloud_layer_3_set6_w6_b32_d2_rate0.2_unit50_train5000']['model'],\n",
    "               'cloud_layer_4_type':dataset_cloud['cloud_type_layer_4_set7_w6_b32_d2_rate0.3_unit50_train5000']['model'],\n",
    "               'cloud_layer_4_height':dataset_cloud['cloud_layer_3_set6_w6_b32_d2_rate0.2_unit50_train5000']['model'],\n",
    "              'temperature':dataset_temp['temperature_set4_w6_b16_d2_rate0.2_unit80_train2000']['model'], \n",
    "              'dew':dataset_dew['dew_set4_w6_b16_d2_rate0.2_unit80_train5000']['model'], \n",
    "              'air_pressure':dataset_air['air_pressure_set4_w6_b16_d2_rate0.2_unit80_train5000']['model'],}"
   ]
  },
  {
   "cell_type": "code",
   "execution_count": 271,
   "id": "b841d90a-9627-482a-b729-cf6dbac5b1f5",
   "metadata": {},
   "outputs": [
    {
     "name": "stdout",
     "output_type": "stream",
     "text": [
      "The data has been saved to ../results/model/Model_Set_1.pkl.\n"
     ]
    }
   ],
   "source": [
    "file_path = '../results/model/Model_Set_1.pkl' \n",
    "\n",
    "# Save the dictionary into a binary file using pickle\n",
    "with open(file_path, 'wb') as file:\n",
    "    pickle.dump(model_dict_1, file)\n",
    "print(f\"The data has been saved to {file_path}.\")"
   ]
  },
  {
   "cell_type": "code",
   "execution_count": 1,
   "id": "4bfc038c-98e9-4f74-a8d4-e8812165add3",
   "metadata": {},
   "outputs": [],
   "source": [
    "import gzip"
   ]
  },
  {
   "cell_type": "code",
   "execution_count": 4,
   "id": "6c307498-e45e-49fe-b35c-bea764a2c6ad",
   "metadata": {},
   "outputs": [
    {
     "name": "stderr",
     "output_type": "stream",
     "text": [
      "2024-02-20 09:47:46.382063: I tensorflow/core/platform/cpu_feature_guard.cc:182] This TensorFlow binary is optimized to use available CPU instructions in performance-critical operations.\n",
      "To enable the following instructions: AVX2 FMA, in other operations, rebuild TensorFlow with the appropriate compiler flags.\n"
     ]
    }
   ],
   "source": [
    "model_dict_1 = load_dict('../results/model/Model_Set_1.pkl')"
   ]
  },
  {
   "cell_type": "code",
   "execution_count": 5,
   "id": "659efc81-5ec8-41ca-abb6-d3554ddac2e7",
   "metadata": {},
   "outputs": [
    {
     "name": "stdout",
     "output_type": "stream",
     "text": [
      "The data has been saved to ../results/model/Model_Set_1.pkl.gz.\n"
     ]
    }
   ],
   "source": [
    "file_path = '../results/model/Model_Set_1.pkl.gz' \n",
    "\n",
    "# Save the dictionary into a binary file using pickle\n",
    "with gzip.open(file_path, 'wb') as file:\n",
    "    pickle.dump(model_dict_1, file)\n",
    "print(f\"The data has been saved to {file_path}.\")"
   ]
  },
  {
   "cell_type": "code",
   "execution_count": 321,
   "id": "4101a477-a710-4359-83d6-e4e1f75c16ad",
   "metadata": {},
   "outputs": [],
   "source": [
    "model_dict_3 = {'wind_speed':dataset_unsorted['wind_speed_set2_window24']['model'], \n",
    "              'wind_degrees':dataset_unsorted['wind_degree_set2_window24']['model'], \n",
    "              'min_var_bool':dataset_windvar['windvar_var_bool_wind_min_var_set8_w24_b32_d2_rate0.3_unit50_train5000']['model'],\n",
    "              'max_var_bool':dataset_windvar['windvar_var_bool_wind_max_var_set8_w24_b32_d2_rate0.3_unit50_train5000']['model'],\n",
    "              'wind_min_var':dataset_windvar['windvar_var_cleaned_wind_min_var_set8_w24_b32_d2_rate0.3_unit50_train5000']['model'],\n",
    "              'wind_max_var':dataset_windvar['windvar_var_cleaned_wind_max_var_set8_w24_b32_d2_rate0.3_unit50_train5000']['model'],\n",
    "              'n_cloud_layers':dataset_unsorted['cloud_layers_set2_window24']['model'],\n",
    "              'cloud_layer_1_type':dataset_cloud['cloud_type_layer_1_set7_w24_b32_d2_rate0.3_unit50_train5000']['model'],\n",
    "              'cloud_layer_1_height':dataset_cloud['cloud_layer_1_set6_w24_b32_d2_rate0.2_unit50_train5000']['model'],\n",
    "              'cloud_layer_2_type':dataset_cloud['cloud_type_layer_2_set7_w24_b32_d2_rate0.3_unit50_train5000']['model'],\n",
    "               'cloud_layer_2_height':dataset_cloud['cloud_layer_2_set6_w24_b32_d2_rate0.2_unit50_train1000']['model'],\n",
    "               'cloud_layer_3_type':dataset_cloud['cloud_type_layer_3_set7_w24_b32_d2_rate0.3_unit50_train5000']['model'],\n",
    "               'cloud_layer_3_height':dataset_cloud['cloud_layer_1_set6_w24_b32_d2_rate0.2_unit50_train5000']['model'],\n",
    "               'cloud_layer_4_type':dataset_cloud['cloud_type_layer_4_set7_w24_b32_d2_rate0.3_unit50_train5000']['model'],\n",
    "               'cloud_layer_4_height':dataset_cloud['cloud_layer_1_set6_w24_b32_d2_rate0.2_unit50_train5000']['model'],\n",
    "              'temperature':dataset_unsorted['temperature_set2_window24']['model'], \n",
    "              'dew':dataset_unsorted['dew_set2_window24']['model'], \n",
    "              'air_pressure':dataset_unsorted['air_pressure_set3_window24']['model'],\n",
    "               'vis_distance':dataset_vis['visibility_set5_w24_b32_d2_rate0.3_unit50_train5000']['model'], }"
   ]
  },
  {
   "cell_type": "code",
   "execution_count": 322,
   "id": "84d189ce-c7e4-4e43-8e8a-976b3d99ddfb",
   "metadata": {},
   "outputs": [
    {
     "name": "stdout",
     "output_type": "stream",
     "text": [
      "The data has been saved to ../results/model/Model_Set_3.pkl.\n"
     ]
    }
   ],
   "source": [
    "file_path = '../results/model/Model_Set_3.pkl' \n",
    "\n",
    "# Save the dictionary into a binary file using pickle\n",
    "with open(file_path, 'wb') as file:\n",
    "    pickle.dump(model_dict_3, file)\n",
    "print(f\"The data has been saved to {file_path}.\")"
   ]
  },
  {
   "cell_type": "code",
   "execution_count": 304,
   "id": "15bf9134-417b-42ef-8c34-f92e52ff9719",
   "metadata": {},
   "outputs": [],
   "source": [
    "model_dict_2 = {'wind_speed':dataset_unsorted['wind_speed_set2_window12']['model'], \n",
    "              'wind_degrees':dataset_unsorted['wind_degree_set2_window12']['model'], \n",
    "              'min_var_bool':dataset_windvar['windvar_var_bool_wind_min_var_set8_w12_b32_d2_rate0.3_unit50_train5000']['model'],\n",
    "              'max_var_bool':dataset_windvar['windvar_var_bool_wind_max_var_set8_w12_b32_d2_rate0.3_unit50_train5000']['model'],\n",
    "              'wind_min_var':dataset_windvar['windvar_var_cleaned_wind_min_var_set8_w12_b32_d2_rate0.3_unit50_train5000']['model'],\n",
    "              'wind_max_var':dataset_windvar['windvar_var_cleaned_wind_max_var_set8_w12_b32_d2_rate0.3_unit50_train5000']['model'],\n",
    "              'n_cloud_layers':dataset_unsorted['cloud_layers_set2_window12']['model'],\n",
    "              'cloud_layer_1_type':dataset_cloud['cloud_type_layer_1_set7_w12_b32_d2_rate0.3_unit50_train5000']['model'],\n",
    "              'cloud_layer_1_height':dataset_cloud['cloud_layer_1_set6_w12_b32_d2_rate0.2_unit50_train5000']['model'],\n",
    "              'cloud_layer_2_type':dataset_cloud['cloud_type_layer_2_set7_w12_b32_d2_rate0.3_unit50_train5000']['model'],\n",
    "               'cloud_layer_2_height':dataset_cloud['cloud_layer_2_set6_w12_b32_d2_rate0.2_unit50_train5000']['model'],\n",
    "               'cloud_layer_3_type':dataset_cloud['cloud_type_layer_3_set7_w12_b32_d2_rate0.3_unit50_train5000']['model'],\n",
    "               'cloud_layer_3_height':dataset_cloud['cloud_layer_3_set6_w12_b32_d2_rate0.2_unit50_train5000']['model'],\n",
    "               'cloud_layer_4_type':dataset_cloud['cloud_type_layer_4_set7_w12_b32_d2_rate0.3_unit50_train5000']['model'],\n",
    "               'cloud_layer_4_height':dataset_cloud['cloud_layer_3_set6_w12_b32_d2_rate0.2_unit50_train5000']['model'],\n",
    "              'temperature':dataset_unsorted['temperature_set2_window12']['model'], \n",
    "              'dew':dataset_unsorted['dew_set2_window12']['model'], \n",
    "              'air_pressure':dataset_unsorted['air_pressure_set3_window12']['model'],\n",
    "               'vis_distance':dataset_vis['visibility_set5_w12_b32_d2_rate0.3_unit50_train5000']['model'], }"
   ]
  },
  {
   "cell_type": "code",
   "execution_count": 6,
   "id": "b7a4546f-fca9-44f3-a2de-45d943e34039",
   "metadata": {},
   "outputs": [
    {
     "name": "stdout",
     "output_type": "stream",
     "text": [
      "The data has been saved to ../results/model/Model_Set_1_compressed.pkl.\n"
     ]
    }
   ],
   "source": [
    "file_path = '../results/model/Model_Set_1_compressed.pkl' \n",
    "\n",
    "# Save the dictionary into a binary file using pickle\n",
    "with open(file_path, 'wb') as file:\n",
    "    pickle.dump(model_dict_1, file, protocol=pickle.HIGHEST_PROTOCOL)\n",
    "print(f\"The data has been saved to {file_path}.\")"
   ]
  },
  {
   "cell_type": "code",
   "execution_count": 76,
   "id": "804f0cb5-5a75-4e9b-8dba-0b3ecf127c5c",
   "metadata": {},
   "outputs": [
    {
     "name": "stdout",
     "output_type": "stream",
     "text": [
      "1/1 [==============================] - 0s 19ms/step\n",
      "1/1 [==============================] - 0s 32ms/step\n",
      "1/1 [==============================] - 0s 36ms/step\n",
      "1/1 [==============================] - 0s 23ms/step\n",
      "1/1 [==============================] - 0s 21ms/step\n",
      "1/1 [==============================] - 0s 43ms/step\n",
      "1/1 [==============================] - 1s 981ms/step\n",
      "1/1 [==============================] - 1s 1s/step\n",
      "WARNING:tensorflow:5 out of the last 21 calls to <function Model.make_predict_function.<locals>.predict_function at 0x7f19b5fa8a60> triggered tf.function retracing. Tracing is expensive and the excessive number of tracings could be due to (1) creating @tf.function repeatedly in a loop, (2) passing tensors with different shapes, (3) passing Python objects instead of tensors. For (1), please define your @tf.function outside of the loop. For (2), @tf.function has reduce_retracing=True option that can avoid unnecessary retracing. For (3), please refer to https://www.tensorflow.org/guide/function#controlling_retracing and https://www.tensorflow.org/api_docs/python/tf/function for  more details.\n",
      "1/1 [==============================] - 1s 1s/step\n",
      "1/1 [==============================] - 1s 1s/step\n",
      "1/1 [==============================] - 1s 1s/step\n",
      "1/1 [==============================] - 1s 983ms/step\n",
      "1/1 [==============================] - 0s 16ms/step\n",
      "1/1 [==============================] - 1s 1s/step\n",
      "1/1 [==============================] - 1s 1s/step\n",
      "1/1 [==============================] - 1s 975ms/step\n",
      "1/1 [==============================] - 1s 1s/step\n"
     ]
    },
    {
     "data": {
      "text/plain": [
       "{'wind_speed': 8,\n",
       " 'wind_degrees': 72,\n",
       " 'wind_min_var': 0,\n",
       " 'wind_max_var': 0,\n",
       " 'vis_distance': 10,\n",
       " 'n_cloud_layers': 3,\n",
       " 'cloud_layer_1_height': 2284,\n",
       " 'cloud_layer_1_type': 1,\n",
       " 'cloud_layer_2_height': 9503,\n",
       " 'cloud_layer_2_type': 2,\n",
       " 'cloud_layer_3_height': 14980,\n",
       " 'cloud_layer_3_type': 4,\n",
       " 'cloud_layer_4_height': 18432,\n",
       " 'cloud_layer_4_type': 4,\n",
       " 'temperature': 28,\n",
       " 'dew': 23,\n",
       " 'air_pressure': 1015}"
      ]
     },
     "execution_count": 76,
     "metadata": {},
     "output_type": "execute_result"
    }
   ],
   "source": [
    "the_df = metar_dict_test_1_24['metar_df']\n",
    "input_df = the_df[:-1] # To check for final answer\n",
    "time_steps =  6 # Need to match the model window size\n",
    "model_dict = model_dict_1\n",
    "############################################\n",
    "predicted_METAR_df = ML.pred_next_metar(input_df,time_steps,model_dict)"
   ]
  },
  {
   "cell_type": "code",
   "execution_count": null,
   "id": "4d86629f-4b23-4c36-9924-6c2f90ae151d",
   "metadata": {},
   "outputs": [],
   "source": []
  },
  {
   "cell_type": "code",
   "execution_count": 85,
   "id": "49e74da4-9458-42b5-a6de-738597c6bce8",
   "metadata": {},
   "outputs": [
    {
     "name": "stdout",
     "output_type": "stream",
     "text": [
      "1/1 [==============================] - 0s 19ms/step\n",
      "1/1 [==============================] - 0s 24ms/step\n",
      "1/1 [==============================] - 0s 23ms/step\n",
      "1/1 [==============================] - 0s 26ms/step\n",
      "1/1 [==============================] - 0s 22ms/step\n",
      "1/1 [==============================] - 0s 26ms/step\n",
      "1/1 [==============================] - 0s 24ms/step\n",
      "1/1 [==============================] - 0s 19ms/step\n",
      "1/1 [==============================] - 0s 19ms/step\n",
      "1/1 [==============================] - 0s 21ms/step\n",
      "1/1 [==============================] - 0s 19ms/step\n",
      "1/1 [==============================] - 0s 26ms/step\n",
      "1/1 [==============================] - 0s 19ms/step\n",
      "1/1 [==============================] - 0s 18ms/step\n",
      "1/1 [==============================] - 0s 19ms/step\n",
      "1/1 [==============================] - 0s 19ms/step\n",
      "1/1 [==============================] - 0s 19ms/step\n"
     ]
    }
   ],
   "source": [
    "the_df = metar_dict_test_2_24['metar_df']\n",
    "input_df = the_df[:-1] # To check for final answer\n",
    "time_steps =  6 # Need to match the model window size\n",
    "model_dict = model_dict_1\n",
    "############################################\n",
    "predicted_METAR_df_2 = ML.pred_next_metar(input_df,time_steps,model_dict)"
   ]
  },
  {
   "cell_type": "code",
   "execution_count": 86,
   "id": "e9bf7f32-5c99-4263-b34e-55f76ca7825a",
   "metadata": {},
   "outputs": [
    {
     "data": {
      "text/html": [
       "<div>\n",
       "<style scoped>\n",
       "    .dataframe tbody tr th:only-of-type {\n",
       "        vertical-align: middle;\n",
       "    }\n",
       "\n",
       "    .dataframe tbody tr th {\n",
       "        vertical-align: top;\n",
       "    }\n",
       "\n",
       "    .dataframe thead th {\n",
       "        text-align: right;\n",
       "    }\n",
       "</style>\n",
       "<table border=\"1\" class=\"dataframe\">\n",
       "  <thead>\n",
       "    <tr style=\"text-align: right;\">\n",
       "      <th></th>\n",
       "      <th>wind_speed</th>\n",
       "      <th>wind_degrees</th>\n",
       "      <th>wind_min_var</th>\n",
       "      <th>wind_max_var</th>\n",
       "      <th>vis_distance</th>\n",
       "      <th>n_cloud_layers</th>\n",
       "      <th>cloud_layer_1_height</th>\n",
       "      <th>cloud_layer_1_type</th>\n",
       "      <th>cloud_layer_2_height</th>\n",
       "      <th>cloud_layer_2_type</th>\n",
       "      <th>cloud_layer_3_height</th>\n",
       "      <th>cloud_layer_3_type</th>\n",
       "      <th>cloud_layer_4_height</th>\n",
       "      <th>cloud_layer_4_type</th>\n",
       "      <th>temperature</th>\n",
       "      <th>dew</th>\n",
       "      <th>air_pressure</th>\n",
       "    </tr>\n",
       "  </thead>\n",
       "  <tbody>\n",
       "    <tr>\n",
       "      <th>0</th>\n",
       "      <td>9</td>\n",
       "      <td>175</td>\n",
       "      <td>4</td>\n",
       "      <td>3</td>\n",
       "      <td>11</td>\n",
       "      <td>1</td>\n",
       "      <td>19793</td>\n",
       "      <td>2</td>\n",
       "      <td>8134</td>\n",
       "      <td>0</td>\n",
       "      <td>5903</td>\n",
       "      <td>1</td>\n",
       "      <td>4264</td>\n",
       "      <td>0</td>\n",
       "      <td>26</td>\n",
       "      <td>21</td>\n",
       "      <td>1008</td>\n",
       "    </tr>\n",
       "  </tbody>\n",
       "</table>\n",
       "</div>"
      ],
      "text/plain": [
       "   wind_speed  wind_degrees  wind_min_var  wind_max_var  vis_distance  \\\n",
       "0           9           175             4             3            11   \n",
       "\n",
       "   n_cloud_layers  cloud_layer_1_height  cloud_layer_1_type  \\\n",
       "0               1                 19793                   2   \n",
       "\n",
       "   cloud_layer_2_height  cloud_layer_2_type  cloud_layer_3_height  \\\n",
       "0                  8134                   0                  5903   \n",
       "\n",
       "   cloud_layer_3_type  cloud_layer_4_height  cloud_layer_4_type  temperature  \\\n",
       "0                   1                  4264                   0           26   \n",
       "\n",
       "   dew  air_pressure  \n",
       "0   21          1008  "
      ]
     },
     "execution_count": 86,
     "metadata": {},
     "output_type": "execute_result"
    }
   ],
   "source": [
    "predicted_METAR_df_2 "
   ]
  },
  {
   "cell_type": "code",
   "execution_count": 87,
   "id": "f40a09b7-6973-4273-95cc-30a764411f7c",
   "metadata": {},
   "outputs": [
    {
     "name": "stdout",
     "output_type": "stream",
     "text": [
      "Correct Answers is :\n"
     ]
    },
    {
     "data": {
      "text/html": [
       "<div>\n",
       "<style scoped>\n",
       "    .dataframe tbody tr th:only-of-type {\n",
       "        vertical-align: middle;\n",
       "    }\n",
       "\n",
       "    .dataframe tbody tr th {\n",
       "        vertical-align: top;\n",
       "    }\n",
       "\n",
       "    .dataframe thead th {\n",
       "        text-align: right;\n",
       "    }\n",
       "</style>\n",
       "<table border=\"1\" class=\"dataframe\">\n",
       "  <thead>\n",
       "    <tr style=\"text-align: right;\">\n",
       "      <th></th>\n",
       "      <th>year</th>\n",
       "      <th>month</th>\n",
       "      <th>day</th>\n",
       "      <th>hour</th>\n",
       "      <th>minutes</th>\n",
       "      <th>wind_speed</th>\n",
       "      <th>wind_degrees</th>\n",
       "      <th>wind_min_var</th>\n",
       "      <th>wind_max_var</th>\n",
       "      <th>vis_distance</th>\n",
       "      <th>...</th>\n",
       "      <th>air_pressure</th>\n",
       "      <th>n_cloud_layers</th>\n",
       "      <th>cloud_layer_1_height</th>\n",
       "      <th>cloud_layer_1_type</th>\n",
       "      <th>cloud_layer_2_height</th>\n",
       "      <th>cloud_layer_2_type</th>\n",
       "      <th>cloud_layer_3_height</th>\n",
       "      <th>cloud_layer_3_type</th>\n",
       "      <th>cloud_layer_4_height</th>\n",
       "      <th>cloud_layer_4_type</th>\n",
       "    </tr>\n",
       "  </thead>\n",
       "  <tbody>\n",
       "    <tr>\n",
       "      <th>23</th>\n",
       "      <td>2020</td>\n",
       "      <td>2</td>\n",
       "      <td>7</td>\n",
       "      <td>4</td>\n",
       "      <td>53</td>\n",
       "      <td>14</td>\n",
       "      <td>200</td>\n",
       "      <td>0.0</td>\n",
       "      <td>0.0</td>\n",
       "      <td>10.0</td>\n",
       "      <td>...</td>\n",
       "      <td>1009</td>\n",
       "      <td>1</td>\n",
       "      <td>25000</td>\n",
       "      <td>5</td>\n",
       "      <td>0</td>\n",
       "      <td>0</td>\n",
       "      <td>0</td>\n",
       "      <td>0</td>\n",
       "      <td>0</td>\n",
       "      <td>0</td>\n",
       "    </tr>\n",
       "  </tbody>\n",
       "</table>\n",
       "<p>1 rows × 22 columns</p>\n",
       "</div>"
      ],
      "text/plain": [
       "    year  month  day  hour  minutes  wind_speed  wind_degrees  wind_min_var  \\\n",
       "23  2020      2    7     4       53          14           200           0.0   \n",
       "\n",
       "    wind_max_var  vis_distance  ...  air_pressure  n_cloud_layers  \\\n",
       "23           0.0          10.0  ...          1009               1   \n",
       "\n",
       "    cloud_layer_1_height  cloud_layer_1_type  cloud_layer_2_height  \\\n",
       "23                 25000                   5                     0   \n",
       "\n",
       "    cloud_layer_2_type  cloud_layer_3_height  cloud_layer_3_type  \\\n",
       "23                   0                     0                   0   \n",
       "\n",
       "    cloud_layer_4_height  cloud_layer_4_type  \n",
       "23                     0                   0  \n",
       "\n",
       "[1 rows x 22 columns]"
      ]
     },
     "execution_count": 87,
     "metadata": {},
     "output_type": "execute_result"
    }
   ],
   "source": [
    "print('Correct Answers is :')\n",
    "the_df[-1:]"
   ]
  },
  {
   "cell_type": "code",
   "execution_count": 173,
   "id": "ca8c114c-eed2-4d8d-a09f-f764effaca91",
   "metadata": {
    "scrolled": true
   },
   "outputs": [],
   "source": [
    "the_df = metar_dict_test_3_24['metar_df']\n",
    "input_df = the_df[:-1] # Data aside from last row is given as input, last row is reserved to check for answer\n",
    "time_steps =  6 # Need to match the model window size\n",
    "model_dict = model_dict_1\n",
    "############################################\n",
    "predicted_METAR_df_3 = ML.pred_next_metar(input_df,time_steps,model_dict)"
   ]
  },
  {
   "cell_type": "code",
   "execution_count": 152,
   "id": "4b0157d0-966f-4507-9f55-0b40b75dfdbe",
   "metadata": {},
   "outputs": [
    {
     "data": {
      "text/plain": [
       "6"
      ]
     },
     "execution_count": 152,
     "metadata": {},
     "output_type": "execute_result"
    }
   ],
   "source": [
    "hour = input_df[-1:].reset_index([0]).hour\n",
    "hour[0]"
   ]
  },
  {
   "cell_type": "code",
   "execution_count": null,
   "id": "2fc0ed07-9569-43ba-bcba-4cfc48d6a1a2",
   "metadata": {},
   "outputs": [],
   "source": []
  },
  {
   "cell_type": "code",
   "execution_count": 176,
   "id": "a927d4a4-e160-44bb-b72a-a39bed0d72b4",
   "metadata": {},
   "outputs": [
    {
     "name": "stdout",
     "output_type": "stream",
     "text": [
      "METAR KMIA 120753Z 20003KT 10SM BKN060 23/19 A2985\n"
     ]
    }
   ],
   "source": [
    "input = the_df\n",
    "row = 23\n",
    "metar_output = ML.print_metar(input,row)\n",
    "print(metar_output)"
   ]
  },
  {
   "cell_type": "code",
   "execution_count": 174,
   "id": "64f0b393-6ce2-493a-9a18-20ebd72fef30",
   "metadata": {},
   "outputs": [
    {
     "name": "stdout",
     "output_type": "stream",
     "text": [
      "METAR KMIA 120753Z 15005KT 10SM FEW040 23/19 A2988\n"
     ]
    },
    {
     "name": "stderr",
     "output_type": "stream",
     "text": [
      "/home/Lakehouse/DreamBrookPy/DreamBrookPy/MachineLearning.py:372: FutureWarning: Calling int on a single element Series is deprecated and will raise a TypeError in the future. Use int(ser.iloc[0]) instead\n",
      "  day = day_format(int(input.loc[row,'day']))\n",
      "/home/Lakehouse/DreamBrookPy/DreamBrookPy/MachineLearning.py:373: FutureWarning: Calling int on a single element Series is deprecated and will raise a TypeError in the future. Use int(ser.iloc[0]) instead\n",
      "  hour = int(input.loc[row,'hour'])\n",
      "/home/Lakehouse/DreamBrookPy/DreamBrookPy/MachineLearning.py:374: FutureWarning: Calling int on a single element Series is deprecated and will raise a TypeError in the future. Use int(ser.iloc[0]) instead\n",
      "  minutes = int(input.loc[row,'minutes'])\n"
     ]
    }
   ],
   "source": [
    "input = predicted_METAR_df_3\n",
    "row = 0\n",
    "metar_output = ML.print_metar(input,row)\n",
    "print(metar_output)"
   ]
  },
  {
   "cell_type": "code",
   "execution_count": 95,
   "id": "9572914b-480b-4830-b8b5-2320efaa3910",
   "metadata": {},
   "outputs": [
    {
     "name": "stdout",
     "output_type": "stream",
     "text": [
      "Correct Answers is :\n"
     ]
    },
    {
     "data": {
      "text/plain": [
       "23    19\n",
       "Name: dew, dtype: int64"
      ]
     },
     "execution_count": 95,
     "metadata": {},
     "output_type": "execute_result"
    }
   ],
   "source": [
    "print('Correct Answers is :')\n",
    "the_df[-1:]"
   ]
  },
  {
   "cell_type": "code",
   "execution_count": 237,
   "id": "6654fe81-cbc7-4200-9d1c-1cd3fcd45993",
   "metadata": {},
   "outputs": [
    {
     "name": "stdout",
     "output_type": "stream",
     "text": [
      "the corresponding metar formatted data for the given input is: \n",
      "METAR KMIA 41253Z 12008KT 10SM FEW250 24/19 A3012\n"
     ]
    }
   ],
   "source": [
    "input = metar_dict_test_1_24['metar_df']\n",
    "row = 23\n",
    "metar_output = ML.print_metar(input,row)\n"
   ]
  },
  {
   "cell_type": "code",
   "execution_count": 108,
   "id": "020dc4e1-0f90-4b81-b3b0-f452b8720bbf",
   "metadata": {},
   "outputs": [
    {
     "data": {
      "text/plain": [
       "0"
      ]
     },
     "execution_count": 108,
     "metadata": {},
     "output_type": "execute_result"
    }
   ],
   "source": [
    "a = int(round_to_nearest_ten(predicted_METAR_df_3.loc[[0],'wind_min_var'])[0])\n",
    "a"
   ]
  },
  {
   "cell_type": "code",
   "execution_count": 110,
   "id": "5030a436-01df-4d69-ac21-2ee87c3d2ad4",
   "metadata": {},
   "outputs": [
    {
     "name": "stdout",
     "output_type": "stream",
     "text": [
      "False\n"
     ]
    }
   ],
   "source": [
    "b = 0\n",
    "if a & b ==0 :\n",
    "    print('False')"
   ]
  },
  {
   "cell_type": "code",
   "execution_count": 96,
   "id": "84885ee1-7ff8-4acd-bdcb-0f7a68e06a27",
   "metadata": {},
   "outputs": [],
   "source": [
    "def round_to_nearest_ten(n):\n",
    "    return round(n / 10) * 10"
   ]
  },
  {
   "cell_type": "code",
   "execution_count": 193,
   "id": "a9ffc1ca-5041-4b44-b26d-ed266a61b7f3",
   "metadata": {},
   "outputs": [
    {
     "name": "stdout",
     "output_type": "stream",
     "text": [
      "1/1 [==============================] - 0s 32ms/step\n",
      "The next value in the given sequence is 1\n",
      "predicted wind speed : 1\n",
      "1/1 [==============================] - 0s 20ms/step\n",
      "The next value in the given sequence is 49\n",
      "predicted wind degrees : 49\n",
      "Correct Answers is :\n",
      "    hour  minutes  wind_speed  wind_degrees  wind_min_var  wind_max_var  \\\n",
      "23     7       53           3         220.0             0             0   \n",
      "\n",
      "    vis_distance  temperature  dew  air_pressure  \n",
      "23          10.0           27   24          1015  \n"
     ]
    }
   ],
   "source": [
    "#using METAR_pred Pipeline perform 10 predictions and create a DataFrame for answer, and for all the the prediction\n"
   ]
  },
  {
   "cell_type": "markdown",
   "id": "a1363736-0c9e-4730-a89f-c2e763323dcb",
   "metadata": {},
   "source": [
    "## Deployment"
   ]
  },
  {
   "cell_type": "code",
   "execution_count": 183,
   "id": "51b28bd2-0967-4a99-a9cc-b87069ce0bcd",
   "metadata": {},
   "outputs": [],
   "source": [
    "# Deployment test:\n",
    "txt_filepath = '../dataset/METAR_Data.txt'\n",
    "window_length = 12 # data window length (need to be > time steps of model)\n",
    "time_steps =  6 # Need to match the model window size\n",
    "model_dict = model_dict_1 # model used for prediction\n",
    "n_deploy = 10\n"
   ]
  },
  {
   "cell_type": "code",
   "execution_count": 184,
   "id": "6a8b53f2-47a5-452b-8101-02eae51828fc",
   "metadata": {
    "scrolled": true
   },
   "outputs": [
    {
     "name": "stderr",
     "output_type": "stream",
     "text": [
      "/home/Lakehouse/DreamBrookPy/DreamBrookPy/MachineLearning.py:373: FutureWarning: Calling int on a single element Series is deprecated and will raise a TypeError in the future. Use int(ser.iloc[0]) instead\n",
      "  day = day_format(int(input.loc[row,'day']))\n",
      "/home/Lakehouse/DreamBrookPy/DreamBrookPy/MachineLearning.py:374: FutureWarning: Calling int on a single element Series is deprecated and will raise a TypeError in the future. Use int(ser.iloc[0]) instead\n",
      "  hour = day_format(int(input.loc[row,'hour']))\n",
      "/home/Lakehouse/DreamBrookPy/DreamBrookPy/MachineLearning.py:375: FutureWarning: Calling int on a single element Series is deprecated and will raise a TypeError in the future. Use int(ser.iloc[0]) instead\n",
      "  minutes = day_format(int(input.loc[row,'minutes']))\n",
      "/home/Lakehouse/DreamBrookPy/DreamBrookPy/MachineLearning.py:373: FutureWarning: Calling int on a single element Series is deprecated and will raise a TypeError in the future. Use int(ser.iloc[0]) instead\n",
      "  day = day_format(int(input.loc[row,'day']))\n",
      "/home/Lakehouse/DreamBrookPy/DreamBrookPy/MachineLearning.py:374: FutureWarning: Calling int on a single element Series is deprecated and will raise a TypeError in the future. Use int(ser.iloc[0]) instead\n",
      "  hour = day_format(int(input.loc[row,'hour']))\n",
      "/home/Lakehouse/DreamBrookPy/DreamBrookPy/MachineLearning.py:375: FutureWarning: Calling int on a single element Series is deprecated and will raise a TypeError in the future. Use int(ser.iloc[0]) instead\n",
      "  minutes = day_format(int(input.loc[row,'minutes']))\n",
      "/home/Lakehouse/DreamBrookPy/DreamBrookPy/MachineLearning.py:373: FutureWarning: Calling int on a single element Series is deprecated and will raise a TypeError in the future. Use int(ser.iloc[0]) instead\n",
      "  day = day_format(int(input.loc[row,'day']))\n",
      "/home/Lakehouse/DreamBrookPy/DreamBrookPy/MachineLearning.py:374: FutureWarning: Calling int on a single element Series is deprecated and will raise a TypeError in the future. Use int(ser.iloc[0]) instead\n",
      "  hour = day_format(int(input.loc[row,'hour']))\n",
      "/home/Lakehouse/DreamBrookPy/DreamBrookPy/MachineLearning.py:375: FutureWarning: Calling int on a single element Series is deprecated and will raise a TypeError in the future. Use int(ser.iloc[0]) instead\n",
      "  minutes = day_format(int(input.loc[row,'minutes']))\n",
      "/home/Lakehouse/DreamBrookPy/DreamBrookPy/MachineLearning.py:373: FutureWarning: Calling int on a single element Series is deprecated and will raise a TypeError in the future. Use int(ser.iloc[0]) instead\n",
      "  day = day_format(int(input.loc[row,'day']))\n",
      "/home/Lakehouse/DreamBrookPy/DreamBrookPy/MachineLearning.py:374: FutureWarning: Calling int on a single element Series is deprecated and will raise a TypeError in the future. Use int(ser.iloc[0]) instead\n",
      "  hour = day_format(int(input.loc[row,'hour']))\n",
      "/home/Lakehouse/DreamBrookPy/DreamBrookPy/MachineLearning.py:375: FutureWarning: Calling int on a single element Series is deprecated and will raise a TypeError in the future. Use int(ser.iloc[0]) instead\n",
      "  minutes = day_format(int(input.loc[row,'minutes']))\n",
      "/home/Lakehouse/DreamBrookPy/DreamBrookPy/MachineLearning.py:373: FutureWarning: Calling int on a single element Series is deprecated and will raise a TypeError in the future. Use int(ser.iloc[0]) instead\n",
      "  day = day_format(int(input.loc[row,'day']))\n",
      "/home/Lakehouse/DreamBrookPy/DreamBrookPy/MachineLearning.py:374: FutureWarning: Calling int on a single element Series is deprecated and will raise a TypeError in the future. Use int(ser.iloc[0]) instead\n",
      "  hour = day_format(int(input.loc[row,'hour']))\n",
      "/home/Lakehouse/DreamBrookPy/DreamBrookPy/MachineLearning.py:375: FutureWarning: Calling int on a single element Series is deprecated and will raise a TypeError in the future. Use int(ser.iloc[0]) instead\n",
      "  minutes = day_format(int(input.loc[row,'minutes']))\n",
      "/home/Lakehouse/DreamBrookPy/DreamBrookPy/MachineLearning.py:373: FutureWarning: Calling int on a single element Series is deprecated and will raise a TypeError in the future. Use int(ser.iloc[0]) instead\n",
      "  day = day_format(int(input.loc[row,'day']))\n",
      "/home/Lakehouse/DreamBrookPy/DreamBrookPy/MachineLearning.py:374: FutureWarning: Calling int on a single element Series is deprecated and will raise a TypeError in the future. Use int(ser.iloc[0]) instead\n",
      "  hour = day_format(int(input.loc[row,'hour']))\n",
      "/home/Lakehouse/DreamBrookPy/DreamBrookPy/MachineLearning.py:375: FutureWarning: Calling int on a single element Series is deprecated and will raise a TypeError in the future. Use int(ser.iloc[0]) instead\n",
      "  minutes = day_format(int(input.loc[row,'minutes']))\n",
      "/home/Lakehouse/DreamBrookPy/DreamBrookPy/MachineLearning.py:373: FutureWarning: Calling int on a single element Series is deprecated and will raise a TypeError in the future. Use int(ser.iloc[0]) instead\n",
      "  day = day_format(int(input.loc[row,'day']))\n",
      "/home/Lakehouse/DreamBrookPy/DreamBrookPy/MachineLearning.py:374: FutureWarning: Calling int on a single element Series is deprecated and will raise a TypeError in the future. Use int(ser.iloc[0]) instead\n",
      "  hour = day_format(int(input.loc[row,'hour']))\n",
      "/home/Lakehouse/DreamBrookPy/DreamBrookPy/MachineLearning.py:375: FutureWarning: Calling int on a single element Series is deprecated and will raise a TypeError in the future. Use int(ser.iloc[0]) instead\n",
      "  minutes = day_format(int(input.loc[row,'minutes']))\n",
      "/home/Lakehouse/DreamBrookPy/DreamBrookPy/MachineLearning.py:373: FutureWarning: Calling int on a single element Series is deprecated and will raise a TypeError in the future. Use int(ser.iloc[0]) instead\n",
      "  day = day_format(int(input.loc[row,'day']))\n",
      "/home/Lakehouse/DreamBrookPy/DreamBrookPy/MachineLearning.py:374: FutureWarning: Calling int on a single element Series is deprecated and will raise a TypeError in the future. Use int(ser.iloc[0]) instead\n",
      "  hour = day_format(int(input.loc[row,'hour']))\n",
      "/home/Lakehouse/DreamBrookPy/DreamBrookPy/MachineLearning.py:375: FutureWarning: Calling int on a single element Series is deprecated and will raise a TypeError in the future. Use int(ser.iloc[0]) instead\n",
      "  minutes = day_format(int(input.loc[row,'minutes']))\n",
      "/home/Lakehouse/DreamBrookPy/DreamBrookPy/MachineLearning.py:373: FutureWarning: Calling int on a single element Series is deprecated and will raise a TypeError in the future. Use int(ser.iloc[0]) instead\n",
      "  day = day_format(int(input.loc[row,'day']))\n",
      "/home/Lakehouse/DreamBrookPy/DreamBrookPy/MachineLearning.py:374: FutureWarning: Calling int on a single element Series is deprecated and will raise a TypeError in the future. Use int(ser.iloc[0]) instead\n",
      "  hour = day_format(int(input.loc[row,'hour']))\n",
      "/home/Lakehouse/DreamBrookPy/DreamBrookPy/MachineLearning.py:375: FutureWarning: Calling int on a single element Series is deprecated and will raise a TypeError in the future. Use int(ser.iloc[0]) instead\n",
      "  minutes = day_format(int(input.loc[row,'minutes']))\n",
      "/home/Lakehouse/DreamBrookPy/DreamBrookPy/MachineLearning.py:373: FutureWarning: Calling int on a single element Series is deprecated and will raise a TypeError in the future. Use int(ser.iloc[0]) instead\n",
      "  day = day_format(int(input.loc[row,'day']))\n",
      "/home/Lakehouse/DreamBrookPy/DreamBrookPy/MachineLearning.py:374: FutureWarning: Calling int on a single element Series is deprecated and will raise a TypeError in the future. Use int(ser.iloc[0]) instead\n",
      "  hour = day_format(int(input.loc[row,'hour']))\n",
      "/home/Lakehouse/DreamBrookPy/DreamBrookPy/MachineLearning.py:375: FutureWarning: Calling int on a single element Series is deprecated and will raise a TypeError in the future. Use int(ser.iloc[0]) instead\n",
      "  minutes = day_format(int(input.loc[row,'minutes']))\n"
     ]
    }
   ],
   "source": [
    "# Deployment test:\n",
    "txt_filepath = '../dataset/METAR_Data.txt'\n",
    "window_length = 12 # data window length (need to be > time steps of model)\n",
    "time_steps =  6 # Need to match the model window size\n",
    "model_dict = model_dict_1 # model used for prediction\n",
    "n_deploy = 10\n",
    "deployment_df, raw_METAR_dict =deploy_METAR_prediction(txt_filepath, window_length, time_steps,model_dict, n_deploy,start_index=False)"
   ]
  },
  {
   "cell_type": "code",
   "execution_count": 190,
   "id": "8bccb5d6-c88a-489a-88bd-8eb79c874e6c",
   "metadata": {},
   "outputs": [
    {
     "data": {
      "text/plain": [
       "0    METAR KMIA 010153Z 14005KT 10SM SCT160 27/23 A...\n",
       "1    METAR KMIA 072353Z 13008KT 10SM SCT210 27/18 A...\n",
       "2    METAR KMIA 281953Z 10002KT 10SM SCT180 29/24 A...\n",
       "3    METAR KMIA 282153Z 22005KT 10SM SCT210 32/27 A...\n",
       "4    METAR KMIA 241353Z 33005KT 10SM FEW040 16/12 A...\n",
       "5    METAR KMIA 192153Z 16012KT 010V010 10SM BKN090...\n",
       "6    METAR KMIA 030253Z 12004KT 10SM SCT240 29/24 A...\n",
       "7    METAR KMIA 112053Z 11006KT 10SM SCT220 27/19 A...\n",
       "8    METAR KMIA 231053Z 14003KT 10SM SCT090 27/24 A...\n",
       "9    METAR KMIA 190253Z 12006KT 10SM NSC100 29/23 A...\n",
       "Name: Predicted METAR, dtype: object"
      ]
     },
     "execution_count": 190,
     "metadata": {},
     "output_type": "execute_result"
    }
   ],
   "source": [
    "deployment_df['Predicted METAR']"
   ]
  },
  {
   "cell_type": "code",
   "execution_count": 191,
   "id": "0df4eabb-2737-446e-9114-78615c1c3abc",
   "metadata": {},
   "outputs": [
    {
     "data": {
      "text/plain": [
       "0    METAR KMIA 010132Z 00000KT 10SM OVC070 27/23 A...\n",
       "1    METAR KMIA 062353Z 13008KT 10SM SCT250 25/19 A...\n",
       "2    METAR KMIA 281953Z 17003KT 10SM OVC250 29/25 A...\n",
       "3    METAR KMIA 282116Z 16007KT 10SM BKN250 32/25 A...\n",
       "4    METAR KMIA 241353Z 33005KT 10SM FEW050 20/14 A...\n",
       "5    METAR KMIA 192153Z 19011KT 10SM SCT080 28/21 A...\n",
       "6    METAR KMIA 030253Z 11006KT 10SM BKN250 28/25 A...\n",
       "7    METAR KMIA 112053Z 07010KT 10SM FEW250 27/20 A...\n",
       "8    METAR KMIA 231053Z 35003KT 10SM BKN250 27/24 A...\n",
       "9    METAR KMIA 190253Z 16003KT 10SM FEW020 29/23 A...\n",
       "Name: Reported METAR, dtype: object"
      ]
     },
     "execution_count": 191,
     "metadata": {},
     "output_type": "execute_result"
    }
   ],
   "source": [
    "deployment_df['Reported METAR']"
   ]
  },
  {
   "cell_type": "code",
   "execution_count": 187,
   "id": "9dfe81bb-2ce9-417d-8145-933a7d1157f9",
   "metadata": {},
   "outputs": [
    {
     "data": {
      "text/plain": [
       "dict_keys([0, '0_answer_df', 1, '1_answer_df', 2, '2_answer_df', 3, '3_answer_df', 4, '4_answer_df', 5, '5_answer_df', 6, '6_answer_df', 7, '7_answer_df', 8, '8_answer_df', 9, '9_answer_df'])"
      ]
     },
     "execution_count": 187,
     "metadata": {},
     "output_type": "execute_result"
    }
   ],
   "source": [
    "raw_METAR_dict.keys()"
   ]
  },
  {
   "cell_type": "code",
   "execution_count": 188,
   "id": "43104693-c5b6-4d37-b8d9-f792e73bd707",
   "metadata": {},
   "outputs": [
    {
     "data": {
      "text/html": [
       "<div>\n",
       "<style scoped>\n",
       "    .dataframe tbody tr th:only-of-type {\n",
       "        vertical-align: middle;\n",
       "    }\n",
       "\n",
       "    .dataframe tbody tr th {\n",
       "        vertical-align: top;\n",
       "    }\n",
       "\n",
       "    .dataframe thead th {\n",
       "        text-align: right;\n",
       "    }\n",
       "</style>\n",
       "<table border=\"1\" class=\"dataframe\">\n",
       "  <thead>\n",
       "    <tr style=\"text-align: right;\">\n",
       "      <th></th>\n",
       "      <th>year</th>\n",
       "      <th>month</th>\n",
       "      <th>day</th>\n",
       "      <th>hour</th>\n",
       "      <th>minutes</th>\n",
       "      <th>wind_speed</th>\n",
       "      <th>wind_degrees</th>\n",
       "      <th>wind_min_var</th>\n",
       "      <th>wind_max_var</th>\n",
       "      <th>vis_distance</th>\n",
       "      <th>...</th>\n",
       "      <th>cloud_layer_1_type</th>\n",
       "      <th>cloud_layer_2_height</th>\n",
       "      <th>cloud_layer_2_type</th>\n",
       "      <th>cloud_layer_3_height</th>\n",
       "      <th>cloud_layer_3_type</th>\n",
       "      <th>cloud_layer_4_height</th>\n",
       "      <th>cloud_layer_4_type</th>\n",
       "      <th>temperature</th>\n",
       "      <th>dew</th>\n",
       "      <th>air_pressure</th>\n",
       "    </tr>\n",
       "  </thead>\n",
       "  <tbody>\n",
       "    <tr>\n",
       "      <th>0</th>\n",
       "      <td>0    2022\n",
       "Name: year, dtype: int32</td>\n",
       "      <td>0    12\n",
       "Name: month, dtype: int32</td>\n",
       "      <td>0    1\n",
       "Name: day, dtype: int32</td>\n",
       "      <td>0    1\n",
       "Name: hour, dtype: int64</td>\n",
       "      <td>10    53\n",
       "Name: minutes, dtype: int64</td>\n",
       "      <td>5</td>\n",
       "      <td>139</td>\n",
       "      <td>0</td>\n",
       "      <td>0</td>\n",
       "      <td>11</td>\n",
       "      <td>...</td>\n",
       "      <td>1</td>\n",
       "      <td>7963</td>\n",
       "      <td>3</td>\n",
       "      <td>16037</td>\n",
       "      <td>4</td>\n",
       "      <td>19938</td>\n",
       "      <td>2</td>\n",
       "      <td>27</td>\n",
       "      <td>23</td>\n",
       "      <td>1019</td>\n",
       "    </tr>\n",
       "  </tbody>\n",
       "</table>\n",
       "<p>1 rows × 22 columns</p>\n",
       "</div>"
      ],
      "text/plain": [
       "                                 year                              month  \\\n",
       "0  0    2022\n",
       "Name: year, dtype: int32  0    12\n",
       "Name: month, dtype: int32   \n",
       "\n",
       "                              day                             hour  \\\n",
       "0  0    1\n",
       "Name: day, dtype: int32  0    1\n",
       "Name: hour, dtype: int64   \n",
       "\n",
       "                                minutes  wind_speed  wind_degrees  \\\n",
       "0  10    53\n",
       "Name: minutes, dtype: int64           5           139   \n",
       "\n",
       "   wind_min_var  wind_max_var  vis_distance  ...  cloud_layer_1_type  \\\n",
       "0             0             0            11  ...                   1   \n",
       "\n",
       "   cloud_layer_2_height  cloud_layer_2_type  cloud_layer_3_height  \\\n",
       "0                  7963                   3                 16037   \n",
       "\n",
       "   cloud_layer_3_type  cloud_layer_4_height  cloud_layer_4_type  temperature  \\\n",
       "0                   4                 19938                   2           27   \n",
       "\n",
       "   dew  air_pressure  \n",
       "0   23          1019  \n",
       "\n",
       "[1 rows x 22 columns]"
      ]
     },
     "execution_count": 188,
     "metadata": {},
     "output_type": "execute_result"
    }
   ],
   "source": [
    "raw_METAR_dict[0]\n"
   ]
  },
  {
   "cell_type": "code",
   "execution_count": 189,
   "id": "af2fdef3-1ad2-4613-b57b-2ec30859d0be",
   "metadata": {},
   "outputs": [
    {
     "data": {
      "text/html": [
       "<div>\n",
       "<style scoped>\n",
       "    .dataframe tbody tr th:only-of-type {\n",
       "        vertical-align: middle;\n",
       "    }\n",
       "\n",
       "    .dataframe tbody tr th {\n",
       "        vertical-align: top;\n",
       "    }\n",
       "\n",
       "    .dataframe thead th {\n",
       "        text-align: right;\n",
       "    }\n",
       "</style>\n",
       "<table border=\"1\" class=\"dataframe\">\n",
       "  <thead>\n",
       "    <tr style=\"text-align: right;\">\n",
       "      <th></th>\n",
       "      <th>year</th>\n",
       "      <th>month</th>\n",
       "      <th>day</th>\n",
       "      <th>hour</th>\n",
       "      <th>minutes</th>\n",
       "      <th>wind_speed</th>\n",
       "      <th>wind_degrees</th>\n",
       "      <th>wind_min_var</th>\n",
       "      <th>wind_max_var</th>\n",
       "      <th>vis_distance</th>\n",
       "      <th>...</th>\n",
       "      <th>air_pressure</th>\n",
       "      <th>n_cloud_layers</th>\n",
       "      <th>cloud_layer_1_height</th>\n",
       "      <th>cloud_layer_1_type</th>\n",
       "      <th>cloud_layer_2_height</th>\n",
       "      <th>cloud_layer_2_type</th>\n",
       "      <th>cloud_layer_3_height</th>\n",
       "      <th>cloud_layer_3_type</th>\n",
       "      <th>cloud_layer_4_height</th>\n",
       "      <th>cloud_layer_4_type</th>\n",
       "    </tr>\n",
       "  </thead>\n",
       "  <tbody>\n",
       "    <tr>\n",
       "      <th>11</th>\n",
       "      <td>2022</td>\n",
       "      <td>12</td>\n",
       "      <td>1</td>\n",
       "      <td>1</td>\n",
       "      <td>32</td>\n",
       "      <td>0</td>\n",
       "      <td>0</td>\n",
       "      <td>0</td>\n",
       "      <td>0</td>\n",
       "      <td>10.0</td>\n",
       "      <td>...</td>\n",
       "      <td>1019</td>\n",
       "      <td>3</td>\n",
       "      <td>2000</td>\n",
       "      <td>5</td>\n",
       "      <td>3300</td>\n",
       "      <td>5</td>\n",
       "      <td>7000</td>\n",
       "      <td>8</td>\n",
       "      <td>0</td>\n",
       "      <td>0</td>\n",
       "    </tr>\n",
       "  </tbody>\n",
       "</table>\n",
       "<p>1 rows × 22 columns</p>\n",
       "</div>"
      ],
      "text/plain": [
       "    year  month  day  hour  minutes  wind_speed  wind_degrees  wind_min_var  \\\n",
       "11  2022     12    1     1       32           0             0             0   \n",
       "\n",
       "    wind_max_var  vis_distance  ...  air_pressure  n_cloud_layers  \\\n",
       "11             0          10.0  ...          1019               3   \n",
       "\n",
       "    cloud_layer_1_height  cloud_layer_1_type  cloud_layer_2_height  \\\n",
       "11                  2000                   5                  3300   \n",
       "\n",
       "    cloud_layer_2_type  cloud_layer_3_height  cloud_layer_3_type  \\\n",
       "11                   5                  7000                   8   \n",
       "\n",
       "    cloud_layer_4_height  cloud_layer_4_type  \n",
       "11                     0                   0  \n",
       "\n",
       "[1 rows x 22 columns]"
      ]
     },
     "execution_count": 189,
     "metadata": {},
     "output_type": "execute_result"
    }
   ],
   "source": [
    "raw_METAR_dict['0_answer_df']"
   ]
  },
  {
   "cell_type": "code",
   "execution_count": 197,
   "id": "22d924ac-803d-4e24-8ad5-eb8249a9452f",
   "metadata": {},
   "outputs": [],
   "source": [
    "# Deployment test:\n",
    "txt_filepath = '../dataset/METAR_Data.txt'\n",
    "window_length = 24 # data window length (need to be > time steps of model)\n",
    "time_steps =  6 # Need to match the model window size\n",
    "model_dict = model_dict_1 # model used for prediction\n",
    "n_deploy = 10\n",
    "deployment_df_2, raw_METAR_dict_2 =deploy_METAR_prediction(txt_filepath, window_length, time_steps,model_dict, n_deploy,start_index=False)\n",
    "score_df_2 = get_assessment_score(deployment_df_2,raw_METAR_dict_2)"
   ]
  },
  {
   "cell_type": "code",
   "execution_count": 245,
   "id": "a4cc3ac4-7cc3-46ed-a7e6-6b0aa92200b3",
   "metadata": {},
   "outputs": [],
   "source": [
    "score_df_2 = get_assessment_score(deployment_df_2,raw_METAR_dict_2)"
   ]
  },
  {
   "cell_type": "code",
   "execution_count": 286,
   "id": "70fa71da-10c6-4095-a8be-8f2642985fb9",
   "metadata": {},
   "outputs": [
    {
     "data": {
      "text/plain": [
       "array([54.61591575, 74.32264957, 87.        , 48.44908142, 95.06743451,\n",
       "       97.39495798, 99.97054932, 73.85311379])"
      ]
     },
     "execution_count": 286,
     "metadata": {},
     "output_type": "execute_result"
    }
   ],
   "source": [
    "score_df_2.mean().values # 10 deployment "
   ]
  },
  {
   "cell_type": "code",
   "execution_count": 198,
   "id": "3ff639a3-7833-427e-b549-cfc3656f9d8e",
   "metadata": {},
   "outputs": [
    {
     "data": {
      "text/html": [
       "<div>\n",
       "<style scoped>\n",
       "    .dataframe tbody tr th:only-of-type {\n",
       "        vertical-align: middle;\n",
       "    }\n",
       "\n",
       "    .dataframe tbody tr th {\n",
       "        vertical-align: top;\n",
       "    }\n",
       "\n",
       "    .dataframe thead th {\n",
       "        text-align: right;\n",
       "    }\n",
       "</style>\n",
       "<table border=\"1\" class=\"dataframe\">\n",
       "  <thead>\n",
       "    <tr style=\"text-align: right;\">\n",
       "      <th></th>\n",
       "      <th>Predicted METAR</th>\n",
       "      <th>Reported METAR</th>\n",
       "    </tr>\n",
       "  </thead>\n",
       "  <tbody>\n",
       "    <tr>\n",
       "      <th>0</th>\n",
       "      <td>METAR KMIA 050353Z 12005KT 5SM SCT100 23/21 A3012</td>\n",
       "      <td>METAR KMIA 050353Z 06006KT 10SM SCT050 23/21 A...</td>\n",
       "    </tr>\n",
       "    <tr>\n",
       "      <th>1</th>\n",
       "      <td>METAR KMIA 060653Z 04002KT 10SM SCT040 26/22 A...</td>\n",
       "      <td>METAR KMIA 060653Z 12003KT 10SM BKN060 24/22 A...</td>\n",
       "    </tr>\n",
       "    <tr>\n",
       "      <th>2</th>\n",
       "      <td>METAR KMIA 082253Z 10008KT 10SM SCT060 25/18 A...</td>\n",
       "      <td>METAR KMIA 082253Z 07009KT 10SM SCT060 24/17 A...</td>\n",
       "    </tr>\n",
       "    <tr>\n",
       "      <th>3</th>\n",
       "      <td>METAR KMIA 150553Z 08001KT 10SM SCT200 27/23 A...</td>\n",
       "      <td>METAR KMIA 150553Z 25003KT 10SM BKN250 26/23 A...</td>\n",
       "    </tr>\n",
       "    <tr>\n",
       "      <th>4</th>\n",
       "      <td>METAR KMIA 242253Z 12009KT 10SM SCT210 32/24 A...</td>\n",
       "      <td>METAR KMIA 242253Z 13008KT 10SM BKN250 31/24 A...</td>\n",
       "    </tr>\n",
       "    <tr>\n",
       "      <th>5</th>\n",
       "      <td>METAR KMIA 052353Z 22009KT 10SM SCT230 31/18 A...</td>\n",
       "      <td>METAR KMIA 042353Z 26006KT 10SM FEW250 28/17 A...</td>\n",
       "    </tr>\n",
       "    <tr>\n",
       "      <th>6</th>\n",
       "      <td>METAR KMIA 151053Z 31008KT 030V010 10SM SCT210...</td>\n",
       "      <td>METAR KMIA 151053Z 32009KT 10SM BKN250 14/7 A3006</td>\n",
       "    </tr>\n",
       "    <tr>\n",
       "      <th>7</th>\n",
       "      <td>METAR KMIA 162353Z 09011KT 10SM SCT230 31/23 A...</td>\n",
       "      <td>METAR KMIA 152353Z 07013KT 10SM SCT250 29/23 A...</td>\n",
       "    </tr>\n",
       "    <tr>\n",
       "      <th>8</th>\n",
       "      <td>METAR KMIA 140553Z 10007KT 10SM SCT050 21/12 A...</td>\n",
       "      <td>METAR KMIA 140553Z 05005KT 10SM FEW050 20/12 A...</td>\n",
       "    </tr>\n",
       "    <tr>\n",
       "      <th>9</th>\n",
       "      <td>METAR KMIA 052253Z 08011KT 10SM SCT050 23/12 A...</td>\n",
       "      <td>METAR KMIA 052253Z 06011KT 10SM FEW050 23/12 A...</td>\n",
       "    </tr>\n",
       "  </tbody>\n",
       "</table>\n",
       "</div>"
      ],
      "text/plain": [
       "                                     Predicted METAR  \\\n",
       "0  METAR KMIA 050353Z 12005KT 5SM SCT100 23/21 A3012   \n",
       "1  METAR KMIA 060653Z 04002KT 10SM SCT040 26/22 A...   \n",
       "2  METAR KMIA 082253Z 10008KT 10SM SCT060 25/18 A...   \n",
       "3  METAR KMIA 150553Z 08001KT 10SM SCT200 27/23 A...   \n",
       "4  METAR KMIA 242253Z 12009KT 10SM SCT210 32/24 A...   \n",
       "5  METAR KMIA 052353Z 22009KT 10SM SCT230 31/18 A...   \n",
       "6  METAR KMIA 151053Z 31008KT 030V010 10SM SCT210...   \n",
       "7  METAR KMIA 162353Z 09011KT 10SM SCT230 31/23 A...   \n",
       "8  METAR KMIA 140553Z 10007KT 10SM SCT050 21/12 A...   \n",
       "9  METAR KMIA 052253Z 08011KT 10SM SCT050 23/12 A...   \n",
       "\n",
       "                                      Reported METAR  \n",
       "0  METAR KMIA 050353Z 06006KT 10SM SCT050 23/21 A...  \n",
       "1  METAR KMIA 060653Z 12003KT 10SM BKN060 24/22 A...  \n",
       "2  METAR KMIA 082253Z 07009KT 10SM SCT060 24/17 A...  \n",
       "3  METAR KMIA 150553Z 25003KT 10SM BKN250 26/23 A...  \n",
       "4  METAR KMIA 242253Z 13008KT 10SM BKN250 31/24 A...  \n",
       "5  METAR KMIA 042353Z 26006KT 10SM FEW250 28/17 A...  \n",
       "6  METAR KMIA 151053Z 32009KT 10SM BKN250 14/7 A3006  \n",
       "7  METAR KMIA 152353Z 07013KT 10SM SCT250 29/23 A...  \n",
       "8  METAR KMIA 140553Z 05005KT 10SM FEW050 20/12 A...  \n",
       "9  METAR KMIA 052253Z 06011KT 10SM FEW050 23/12 A...  "
      ]
     },
     "execution_count": 198,
     "metadata": {},
     "output_type": "execute_result"
    }
   ],
   "source": [
    "deployment_df_2"
   ]
  },
  {
   "cell_type": "code",
   "execution_count": 244,
   "id": "e4a1a2b5-eedf-4757-b289-42e7edae64ba",
   "metadata": {},
   "outputs": [],
   "source": [
    "# Protocol to assess performance \n",
    "def get_score(pred_df,answer_df,p_index,a_index, prop):\n",
    "    \"\"\" Getting accuracy score for a single property\n",
    "    \"\"\"\n",
    "    s1 = pred_df[prop][p_index]\n",
    "    s2 = answer_df[prop][a_index]\n",
    "    s_diff = np.abs((s1-s2)/s2)\n",
    "    score = (1-s_diff) *100\n",
    "    return score\n",
    "def get_assessment_score(deployment_df,raw_METAR_dict):\n",
    "    \"\"\"\n",
    "    Model assessment score across 8 dimensions.\n",
    "    \"\"\"\n",
    "    degree_list = []\n",
    "    speed_list = []\n",
    "    vis_list = []\n",
    "    cloud_list = []\n",
    "    temp_list =[]\n",
    "    dew_list = []\n",
    "    air_list = []\n",
    "    sim_list = []\n",
    "    for i in range(len(deployment_df)):\n",
    "        ## get_single assessment score for every data\n",
    "        pred_df =raw_METAR_dict[i]\n",
    "        p_index = pred_df.index[0] # contain only 1 line of data.\n",
    "        answer_df = raw_METAR_dict[f'{i}_answer_df']\n",
    "        a_index = answer_df.index[0] # contain only 1 line of data.\n",
    "\n",
    "        # Wind Degree \n",
    "        prop = 'wind_degrees'\n",
    "        degree_score = get_score(pred_df,answer_df,p_index,a_index, prop)\n",
    "\n",
    "        # Wind Speed\n",
    "        prop = 'wind_speed'\n",
    "        speed_score = get_score(pred_df,answer_df,p_index,a_index, prop)\n",
    "        \n",
    "\n",
    "        # Visibility\n",
    "        prop = 'vis_distance'\n",
    "        vis_score = get_score(pred_df,answer_df,p_index,a_index, prop)\n",
    "\n",
    "        #Cloud Coverage # assess on the first layer of cloud only , assuming the accuracy for upper layer (if any) is similar\n",
    "        prop = 'cloud_layer_1_type'\n",
    "        s1 = pred_df[prop][p_index]\n",
    "        s2 = answer_df[prop][a_index]\n",
    "        if s1 == s2 :\n",
    "            cloud_score_1 = 100\n",
    "        else:\n",
    "            cloud_score_1 = 50\n",
    "\n",
    "        prop = 'n_cloud_layers'\n",
    "        s1 = pred_df[prop][p_index]\n",
    "        s2 = answer_df[prop][a_index]\n",
    "        if s1 == s2 :\n",
    "            cloud_score_2 = 100\n",
    "        else:\n",
    "            cloud_score_2 = 50\n",
    "        \n",
    "        # cloud height of layer 1\n",
    "        prop = 'cloud_layer_1_height'\n",
    "        cloud_score_3 = get_score(pred_df,answer_df,p_index,a_index, prop)\n",
    "        \n",
    "        # overall cloud score\n",
    "        cloud_score = (cloud_score_1 + cloud_score_2 + cloud_score_3) /3\n",
    "        \n",
    "\n",
    "        #Temperature\n",
    "        prop = 'temperature'\n",
    "        temp_score = get_score(pred_df,answer_df,p_index,a_index, prop)\n",
    "\n",
    "        #Dew\n",
    "        prop = 'dew'\n",
    "        dew_score = get_score(pred_df,answer_df,p_index,a_index, prop)\n",
    "\n",
    "        #Air Pressure\n",
    "        prop = 'air_pressure'\n",
    "        air_score = get_score(pred_df,answer_df,p_index,a_index, prop)\n",
    "        \n",
    "        \n",
    "        ###String Similarity\n",
    "        str1 = deployment_df['Predicted METAR'][i][19:] # excluding the timestamp\n",
    "        str2 = deployment_df['Reported METAR'][i][19:] \n",
    "        ratio = fuzz.ratio(str1, str2)\n",
    "        similarity = jaccard_similarity(str1, str2) * 100\n",
    "        string_sim = (ratio + similarity) / 2\n",
    "        \n",
    "        assessment_result = [degree_score,speed_score,vis_score,cloud_score,temp_score,dew_score,air_score,string_sim]\n",
    "        degree_list.append(degree_score)\n",
    "        speed_list.append(speed_score)\n",
    "        vis_list.append(vis_score)\n",
    "        cloud_list.append(cloud_score)\n",
    "        temp_list.append(temp_score)\n",
    "        dew_list.append(dew_score)\n",
    "        air_list.append(air_score)\n",
    "        sim_list.append(string_sim)\n",
    "            \n",
    "    assessment_df = pd.DataFrame(\n",
    "                    {'Wind Degree':degree_list ,\n",
    "                     'Wind Speed':speed_list, \n",
    "                     'Visibility': vis_list,\n",
    "                    'Cloud Coverage':cloud_list, \n",
    "                     'Temperature':temp_list, \n",
    "                     'Dew':dew_list, \n",
    "                     'Air Pressure':air_list,\n",
    "                     'String Similarity':sim_list,\n",
    "                    })\n",
    "    return assessment_df\n",
    "\n",
    "def jaccard_similarity(str1, str2):\n",
    "    set1, set2 = set(str1), set(str2)\n",
    "    return len(set1 & set2) / len(set1 | set2)"
   ]
  },
  {
   "cell_type": "code",
   "execution_count": null,
   "id": "00ff1718-b947-462e-904e-052a336fd023",
   "metadata": {},
   "outputs": [],
   "source": [
    "def deploy_METAR_prediction(txt_filepath, window_length, time_steps,model_dict, n_deploy,start_index=False):\n",
    "    \"\"\"\n",
    "    Deploying METAR Prediction for n_deploy number of deployments. \n",
    "    Specify start_index to use exactly a specific starting index, this can only be useful for n_deploy = 1\n",
    "    return deployment_df, predicted_METAR_dict\n",
    "    \n",
    "    \"\"\"\n",
    "    predicted_METAR_dict={}\n",
    "    pred_METAR_list = []\n",
    "    answer_METAR_list = []\n",
    "    for i in range(n_deploy):\n",
    "        data_input_for_prediction = DC.get_metar_prediction_input(txt_filepath,window_length,start_index=start_index)\n",
    "        the_df = data_input_for_prediction['metar_df']\n",
    "        input_df = the_df[:-1] # Left out the last datapoint for list_of_answers\n",
    "        ############################################\n",
    "        predicted_METAR_df = ML.pred_next_metar(input_df,time_steps,model_dict)\n",
    "    \n",
    "        new_data= {i:predicted_METAR_df,\n",
    "                   f'{i}_answer_df':the_df[-1:]}\n",
    "        predicted_METAR_dict.update(new_data)\n",
    "    \n",
    "        metar_output = ML.print_metar(predicted_METAR_df,row=0) # contain only a single row of next-hour data\n",
    "        answer_row = window_length - 1\n",
    "        metar_answer = ML.print_metar(the_df,row=answer_row) # the next_row after input_df\n",
    "        pred_METAR_list.append(metar_output)\n",
    "        answer_METAR_list.append(metar_answer)\n",
    "    deployment_df = pd.DataFrame({\n",
    "        'Predicted METAR': pred_METAR_list,\n",
    "        'Reported METAR': answer_METAR_list, \n",
    "    })\n",
    "    return deployment_df, predicted_METAR_dict"
   ]
  },
  {
   "cell_type": "code",
   "execution_count": 208,
   "id": "5e9f7738-cef5-4def-a9d7-46e34581d265",
   "metadata": {},
   "outputs": [],
   "source": [
    "str1 = deployment_df_2['Predicted METAR'][0][19:] # excluding the timestamp\n",
    "str2 = deployment_df_2['Reported METAR'][0][19:] "
   ]
  },
  {
   "cell_type": "code",
   "execution_count": 347,
   "id": "e0511307-487c-4da0-a81c-5e38eca7c077",
   "metadata": {
    "scrolled": true
   },
   "outputs": [
    {
     "data": {
      "text/html": [
       "<div>\n",
       "<style scoped>\n",
       "    .dataframe tbody tr th:only-of-type {\n",
       "        vertical-align: middle;\n",
       "    }\n",
       "\n",
       "    .dataframe tbody tr th {\n",
       "        vertical-align: top;\n",
       "    }\n",
       "\n",
       "    .dataframe thead th {\n",
       "        text-align: right;\n",
       "    }\n",
       "</style>\n",
       "<table border=\"1\" class=\"dataframe\">\n",
       "  <thead>\n",
       "    <tr style=\"text-align: right;\">\n",
       "      <th></th>\n",
       "      <th>year</th>\n",
       "      <th>month</th>\n",
       "      <th>day</th>\n",
       "      <th>hour</th>\n",
       "      <th>minutes</th>\n",
       "      <th>wind_speed</th>\n",
       "      <th>wind_degrees</th>\n",
       "      <th>wind_min_var</th>\n",
       "      <th>wind_max_var</th>\n",
       "      <th>vis_distance</th>\n",
       "      <th>...</th>\n",
       "      <th>air_pressure</th>\n",
       "      <th>n_cloud_layers</th>\n",
       "      <th>cloud_layer_1_height</th>\n",
       "      <th>cloud_layer_1_type</th>\n",
       "      <th>cloud_layer_2_height</th>\n",
       "      <th>cloud_layer_2_type</th>\n",
       "      <th>cloud_layer_3_height</th>\n",
       "      <th>cloud_layer_3_type</th>\n",
       "      <th>cloud_layer_4_height</th>\n",
       "      <th>cloud_layer_4_type</th>\n",
       "    </tr>\n",
       "  </thead>\n",
       "  <tbody>\n",
       "    <tr>\n",
       "      <th>0</th>\n",
       "      <td>2014</td>\n",
       "      <td>3</td>\n",
       "      <td>11</td>\n",
       "      <td>8</td>\n",
       "      <td>53</td>\n",
       "      <td>0</td>\n",
       "      <td>0.0</td>\n",
       "      <td>0.0</td>\n",
       "      <td>0.0</td>\n",
       "      <td>10.0</td>\n",
       "      <td>...</td>\n",
       "      <td>1014</td>\n",
       "      <td>1</td>\n",
       "      <td>3000</td>\n",
       "      <td>1</td>\n",
       "      <td>0</td>\n",
       "      <td>0</td>\n",
       "      <td>0</td>\n",
       "      <td>0</td>\n",
       "      <td>0</td>\n",
       "      <td>0</td>\n",
       "    </tr>\n",
       "    <tr>\n",
       "      <th>1</th>\n",
       "      <td>2014</td>\n",
       "      <td>3</td>\n",
       "      <td>11</td>\n",
       "      <td>9</td>\n",
       "      <td>53</td>\n",
       "      <td>0</td>\n",
       "      <td>0.0</td>\n",
       "      <td>0.0</td>\n",
       "      <td>0.0</td>\n",
       "      <td>10.0</td>\n",
       "      <td>...</td>\n",
       "      <td>1014</td>\n",
       "      <td>1</td>\n",
       "      <td>3000</td>\n",
       "      <td>1</td>\n",
       "      <td>0</td>\n",
       "      <td>0</td>\n",
       "      <td>0</td>\n",
       "      <td>0</td>\n",
       "      <td>0</td>\n",
       "      <td>0</td>\n",
       "    </tr>\n",
       "    <tr>\n",
       "      <th>2</th>\n",
       "      <td>2014</td>\n",
       "      <td>3</td>\n",
       "      <td>11</td>\n",
       "      <td>10</td>\n",
       "      <td>53</td>\n",
       "      <td>3</td>\n",
       "      <td>40.0</td>\n",
       "      <td>0.0</td>\n",
       "      <td>0.0</td>\n",
       "      <td>10.0</td>\n",
       "      <td>...</td>\n",
       "      <td>1015</td>\n",
       "      <td>1</td>\n",
       "      <td>3500</td>\n",
       "      <td>1</td>\n",
       "      <td>0</td>\n",
       "      <td>0</td>\n",
       "      <td>0</td>\n",
       "      <td>0</td>\n",
       "      <td>0</td>\n",
       "      <td>0</td>\n",
       "    </tr>\n",
       "    <tr>\n",
       "      <th>3</th>\n",
       "      <td>2014</td>\n",
       "      <td>3</td>\n",
       "      <td>11</td>\n",
       "      <td>11</td>\n",
       "      <td>53</td>\n",
       "      <td>0</td>\n",
       "      <td>0.0</td>\n",
       "      <td>0.0</td>\n",
       "      <td>0.0</td>\n",
       "      <td>10.0</td>\n",
       "      <td>...</td>\n",
       "      <td>1015</td>\n",
       "      <td>2</td>\n",
       "      <td>3000</td>\n",
       "      <td>1</td>\n",
       "      <td>25000</td>\n",
       "      <td>1</td>\n",
       "      <td>0</td>\n",
       "      <td>0</td>\n",
       "      <td>0</td>\n",
       "      <td>0</td>\n",
       "    </tr>\n",
       "    <tr>\n",
       "      <th>4</th>\n",
       "      <td>2014</td>\n",
       "      <td>3</td>\n",
       "      <td>11</td>\n",
       "      <td>12</td>\n",
       "      <td>53</td>\n",
       "      <td>0</td>\n",
       "      <td>0.0</td>\n",
       "      <td>0.0</td>\n",
       "      <td>0.0</td>\n",
       "      <td>10.0</td>\n",
       "      <td>...</td>\n",
       "      <td>1015</td>\n",
       "      <td>2</td>\n",
       "      <td>2500</td>\n",
       "      <td>1</td>\n",
       "      <td>25000</td>\n",
       "      <td>1</td>\n",
       "      <td>0</td>\n",
       "      <td>0</td>\n",
       "      <td>0</td>\n",
       "      <td>0</td>\n",
       "    </tr>\n",
       "    <tr>\n",
       "      <th>5</th>\n",
       "      <td>2014</td>\n",
       "      <td>3</td>\n",
       "      <td>11</td>\n",
       "      <td>13</td>\n",
       "      <td>53</td>\n",
       "      <td>0</td>\n",
       "      <td>0.0</td>\n",
       "      <td>0.0</td>\n",
       "      <td>0.0</td>\n",
       "      <td>10.0</td>\n",
       "      <td>...</td>\n",
       "      <td>1015</td>\n",
       "      <td>1</td>\n",
       "      <td>2000</td>\n",
       "      <td>1</td>\n",
       "      <td>0</td>\n",
       "      <td>0</td>\n",
       "      <td>0</td>\n",
       "      <td>0</td>\n",
       "      <td>0</td>\n",
       "      <td>0</td>\n",
       "    </tr>\n",
       "    <tr>\n",
       "      <th>6</th>\n",
       "      <td>2014</td>\n",
       "      <td>3</td>\n",
       "      <td>11</td>\n",
       "      <td>14</td>\n",
       "      <td>53</td>\n",
       "      <td>3</td>\n",
       "      <td>57.0</td>\n",
       "      <td>0.0</td>\n",
       "      <td>0.0</td>\n",
       "      <td>10.0</td>\n",
       "      <td>...</td>\n",
       "      <td>1015</td>\n",
       "      <td>1</td>\n",
       "      <td>3000</td>\n",
       "      <td>1</td>\n",
       "      <td>0</td>\n",
       "      <td>0</td>\n",
       "      <td>0</td>\n",
       "      <td>0</td>\n",
       "      <td>0</td>\n",
       "      <td>0</td>\n",
       "    </tr>\n",
       "    <tr>\n",
       "      <th>7</th>\n",
       "      <td>2014</td>\n",
       "      <td>3</td>\n",
       "      <td>11</td>\n",
       "      <td>15</td>\n",
       "      <td>53</td>\n",
       "      <td>6</td>\n",
       "      <td>103.0</td>\n",
       "      <td>0.0</td>\n",
       "      <td>0.0</td>\n",
       "      <td>10.0</td>\n",
       "      <td>...</td>\n",
       "      <td>1015</td>\n",
       "      <td>1</td>\n",
       "      <td>3400</td>\n",
       "      <td>2</td>\n",
       "      <td>0</td>\n",
       "      <td>0</td>\n",
       "      <td>0</td>\n",
       "      <td>0</td>\n",
       "      <td>0</td>\n",
       "      <td>0</td>\n",
       "    </tr>\n",
       "    <tr>\n",
       "      <th>8</th>\n",
       "      <td>2014</td>\n",
       "      <td>3</td>\n",
       "      <td>11</td>\n",
       "      <td>16</td>\n",
       "      <td>53</td>\n",
       "      <td>9</td>\n",
       "      <td>170.0</td>\n",
       "      <td>140.0</td>\n",
       "      <td>210.0</td>\n",
       "      <td>10.0</td>\n",
       "      <td>...</td>\n",
       "      <td>1014</td>\n",
       "      <td>1</td>\n",
       "      <td>3600</td>\n",
       "      <td>2</td>\n",
       "      <td>0</td>\n",
       "      <td>0</td>\n",
       "      <td>0</td>\n",
       "      <td>0</td>\n",
       "      <td>0</td>\n",
       "      <td>0</td>\n",
       "    </tr>\n",
       "    <tr>\n",
       "      <th>9</th>\n",
       "      <td>2014</td>\n",
       "      <td>3</td>\n",
       "      <td>11</td>\n",
       "      <td>17</td>\n",
       "      <td>53</td>\n",
       "      <td>10</td>\n",
       "      <td>140.0</td>\n",
       "      <td>0.0</td>\n",
       "      <td>0.0</td>\n",
       "      <td>10.0</td>\n",
       "      <td>...</td>\n",
       "      <td>1013</td>\n",
       "      <td>1</td>\n",
       "      <td>3600</td>\n",
       "      <td>2</td>\n",
       "      <td>0</td>\n",
       "      <td>0</td>\n",
       "      <td>0</td>\n",
       "      <td>0</td>\n",
       "      <td>0</td>\n",
       "      <td>0</td>\n",
       "    </tr>\n",
       "    <tr>\n",
       "      <th>10</th>\n",
       "      <td>2014</td>\n",
       "      <td>3</td>\n",
       "      <td>11</td>\n",
       "      <td>18</td>\n",
       "      <td>53</td>\n",
       "      <td>11</td>\n",
       "      <td>130.0</td>\n",
       "      <td>0.0</td>\n",
       "      <td>0.0</td>\n",
       "      <td>10.0</td>\n",
       "      <td>...</td>\n",
       "      <td>1013</td>\n",
       "      <td>1</td>\n",
       "      <td>4000</td>\n",
       "      <td>2</td>\n",
       "      <td>0</td>\n",
       "      <td>0</td>\n",
       "      <td>0</td>\n",
       "      <td>0</td>\n",
       "      <td>0</td>\n",
       "      <td>0</td>\n",
       "    </tr>\n",
       "    <tr>\n",
       "      <th>11</th>\n",
       "      <td>2014</td>\n",
       "      <td>3</td>\n",
       "      <td>11</td>\n",
       "      <td>19</td>\n",
       "      <td>53</td>\n",
       "      <td>12</td>\n",
       "      <td>140.0</td>\n",
       "      <td>0.0</td>\n",
       "      <td>0.0</td>\n",
       "      <td>10.0</td>\n",
       "      <td>...</td>\n",
       "      <td>1012</td>\n",
       "      <td>1</td>\n",
       "      <td>4000</td>\n",
       "      <td>1</td>\n",
       "      <td>0</td>\n",
       "      <td>0</td>\n",
       "      <td>0</td>\n",
       "      <td>0</td>\n",
       "      <td>0</td>\n",
       "      <td>0</td>\n",
       "    </tr>\n",
       "    <tr>\n",
       "      <th>12</th>\n",
       "      <td>2014</td>\n",
       "      <td>3</td>\n",
       "      <td>11</td>\n",
       "      <td>20</td>\n",
       "      <td>53</td>\n",
       "      <td>10</td>\n",
       "      <td>150.0</td>\n",
       "      <td>0.0</td>\n",
       "      <td>0.0</td>\n",
       "      <td>10.0</td>\n",
       "      <td>...</td>\n",
       "      <td>1012</td>\n",
       "      <td>1</td>\n",
       "      <td>3400</td>\n",
       "      <td>1</td>\n",
       "      <td>0</td>\n",
       "      <td>0</td>\n",
       "      <td>0</td>\n",
       "      <td>0</td>\n",
       "      <td>0</td>\n",
       "      <td>0</td>\n",
       "    </tr>\n",
       "    <tr>\n",
       "      <th>13</th>\n",
       "      <td>2014</td>\n",
       "      <td>3</td>\n",
       "      <td>11</td>\n",
       "      <td>21</td>\n",
       "      <td>53</td>\n",
       "      <td>13</td>\n",
       "      <td>130.0</td>\n",
       "      <td>0.0</td>\n",
       "      <td>0.0</td>\n",
       "      <td>10.0</td>\n",
       "      <td>...</td>\n",
       "      <td>1011</td>\n",
       "      <td>1</td>\n",
       "      <td>3200</td>\n",
       "      <td>1</td>\n",
       "      <td>0</td>\n",
       "      <td>0</td>\n",
       "      <td>0</td>\n",
       "      <td>0</td>\n",
       "      <td>0</td>\n",
       "      <td>0</td>\n",
       "    </tr>\n",
       "    <tr>\n",
       "      <th>14</th>\n",
       "      <td>2014</td>\n",
       "      <td>3</td>\n",
       "      <td>11</td>\n",
       "      <td>22</td>\n",
       "      <td>53</td>\n",
       "      <td>10</td>\n",
       "      <td>140.0</td>\n",
       "      <td>0.0</td>\n",
       "      <td>0.0</td>\n",
       "      <td>10.0</td>\n",
       "      <td>...</td>\n",
       "      <td>1012</td>\n",
       "      <td>1</td>\n",
       "      <td>3200</td>\n",
       "      <td>1</td>\n",
       "      <td>0</td>\n",
       "      <td>0</td>\n",
       "      <td>0</td>\n",
       "      <td>0</td>\n",
       "      <td>0</td>\n",
       "      <td>0</td>\n",
       "    </tr>\n",
       "    <tr>\n",
       "      <th>15</th>\n",
       "      <td>2014</td>\n",
       "      <td>3</td>\n",
       "      <td>11</td>\n",
       "      <td>23</td>\n",
       "      <td>53</td>\n",
       "      <td>9</td>\n",
       "      <td>140.0</td>\n",
       "      <td>0.0</td>\n",
       "      <td>0.0</td>\n",
       "      <td>10.0</td>\n",
       "      <td>...</td>\n",
       "      <td>1012</td>\n",
       "      <td>1</td>\n",
       "      <td>2400</td>\n",
       "      <td>1</td>\n",
       "      <td>0</td>\n",
       "      <td>0</td>\n",
       "      <td>0</td>\n",
       "      <td>0</td>\n",
       "      <td>0</td>\n",
       "      <td>0</td>\n",
       "    </tr>\n",
       "    <tr>\n",
       "      <th>16</th>\n",
       "      <td>2014</td>\n",
       "      <td>3</td>\n",
       "      <td>12</td>\n",
       "      <td>0</td>\n",
       "      <td>53</td>\n",
       "      <td>7</td>\n",
       "      <td>160.0</td>\n",
       "      <td>0.0</td>\n",
       "      <td>0.0</td>\n",
       "      <td>10.0</td>\n",
       "      <td>...</td>\n",
       "      <td>1013</td>\n",
       "      <td>1</td>\n",
       "      <td>2200</td>\n",
       "      <td>1</td>\n",
       "      <td>0</td>\n",
       "      <td>0</td>\n",
       "      <td>0</td>\n",
       "      <td>0</td>\n",
       "      <td>0</td>\n",
       "      <td>0</td>\n",
       "    </tr>\n",
       "    <tr>\n",
       "      <th>17</th>\n",
       "      <td>2014</td>\n",
       "      <td>3</td>\n",
       "      <td>12</td>\n",
       "      <td>1</td>\n",
       "      <td>53</td>\n",
       "      <td>7</td>\n",
       "      <td>170.0</td>\n",
       "      <td>0.0</td>\n",
       "      <td>0.0</td>\n",
       "      <td>10.0</td>\n",
       "      <td>...</td>\n",
       "      <td>1013</td>\n",
       "      <td>1</td>\n",
       "      <td>2200</td>\n",
       "      <td>1</td>\n",
       "      <td>0</td>\n",
       "      <td>0</td>\n",
       "      <td>0</td>\n",
       "      <td>0</td>\n",
       "      <td>0</td>\n",
       "      <td>0</td>\n",
       "    </tr>\n",
       "    <tr>\n",
       "      <th>18</th>\n",
       "      <td>2014</td>\n",
       "      <td>3</td>\n",
       "      <td>12</td>\n",
       "      <td>2</td>\n",
       "      <td>53</td>\n",
       "      <td>4</td>\n",
       "      <td>160.0</td>\n",
       "      <td>0.0</td>\n",
       "      <td>0.0</td>\n",
       "      <td>10.0</td>\n",
       "      <td>...</td>\n",
       "      <td>1013</td>\n",
       "      <td>1</td>\n",
       "      <td>2200</td>\n",
       "      <td>1</td>\n",
       "      <td>0</td>\n",
       "      <td>0</td>\n",
       "      <td>0</td>\n",
       "      <td>0</td>\n",
       "      <td>0</td>\n",
       "      <td>0</td>\n",
       "    </tr>\n",
       "    <tr>\n",
       "      <th>19</th>\n",
       "      <td>2014</td>\n",
       "      <td>3</td>\n",
       "      <td>12</td>\n",
       "      <td>3</td>\n",
       "      <td>53</td>\n",
       "      <td>5</td>\n",
       "      <td>150.0</td>\n",
       "      <td>0.0</td>\n",
       "      <td>0.0</td>\n",
       "      <td>10.0</td>\n",
       "      <td>...</td>\n",
       "      <td>1013</td>\n",
       "      <td>1</td>\n",
       "      <td>2600</td>\n",
       "      <td>1</td>\n",
       "      <td>0</td>\n",
       "      <td>0</td>\n",
       "      <td>0</td>\n",
       "      <td>0</td>\n",
       "      <td>0</td>\n",
       "      <td>0</td>\n",
       "    </tr>\n",
       "    <tr>\n",
       "      <th>20</th>\n",
       "      <td>2014</td>\n",
       "      <td>3</td>\n",
       "      <td>12</td>\n",
       "      <td>4</td>\n",
       "      <td>53</td>\n",
       "      <td>5</td>\n",
       "      <td>170.0</td>\n",
       "      <td>0.0</td>\n",
       "      <td>0.0</td>\n",
       "      <td>10.0</td>\n",
       "      <td>...</td>\n",
       "      <td>1012</td>\n",
       "      <td>1</td>\n",
       "      <td>2500</td>\n",
       "      <td>1</td>\n",
       "      <td>0</td>\n",
       "      <td>0</td>\n",
       "      <td>0</td>\n",
       "      <td>0</td>\n",
       "      <td>0</td>\n",
       "      <td>0</td>\n",
       "    </tr>\n",
       "    <tr>\n",
       "      <th>21</th>\n",
       "      <td>2014</td>\n",
       "      <td>3</td>\n",
       "      <td>12</td>\n",
       "      <td>5</td>\n",
       "      <td>53</td>\n",
       "      <td>5</td>\n",
       "      <td>180.0</td>\n",
       "      <td>0.0</td>\n",
       "      <td>0.0</td>\n",
       "      <td>10.0</td>\n",
       "      <td>...</td>\n",
       "      <td>1012</td>\n",
       "      <td>2</td>\n",
       "      <td>1500</td>\n",
       "      <td>1</td>\n",
       "      <td>2500</td>\n",
       "      <td>2</td>\n",
       "      <td>0</td>\n",
       "      <td>0</td>\n",
       "      <td>0</td>\n",
       "      <td>0</td>\n",
       "    </tr>\n",
       "    <tr>\n",
       "      <th>22</th>\n",
       "      <td>2014</td>\n",
       "      <td>3</td>\n",
       "      <td>12</td>\n",
       "      <td>6</td>\n",
       "      <td>53</td>\n",
       "      <td>5</td>\n",
       "      <td>190.0</td>\n",
       "      <td>0.0</td>\n",
       "      <td>0.0</td>\n",
       "      <td>10.0</td>\n",
       "      <td>...</td>\n",
       "      <td>1011</td>\n",
       "      <td>2</td>\n",
       "      <td>2500</td>\n",
       "      <td>1</td>\n",
       "      <td>9500</td>\n",
       "      <td>2</td>\n",
       "      <td>0</td>\n",
       "      <td>0</td>\n",
       "      <td>0</td>\n",
       "      <td>0</td>\n",
       "    </tr>\n",
       "  </tbody>\n",
       "</table>\n",
       "<p>23 rows × 22 columns</p>\n",
       "</div>"
      ],
      "text/plain": [
       "    year  month  day  hour  minutes  wind_speed  wind_degrees  wind_min_var  \\\n",
       "0   2014      3   11     8       53           0           0.0           0.0   \n",
       "1   2014      3   11     9       53           0           0.0           0.0   \n",
       "2   2014      3   11    10       53           3          40.0           0.0   \n",
       "3   2014      3   11    11       53           0           0.0           0.0   \n",
       "4   2014      3   11    12       53           0           0.0           0.0   \n",
       "5   2014      3   11    13       53           0           0.0           0.0   \n",
       "6   2014      3   11    14       53           3          57.0           0.0   \n",
       "7   2014      3   11    15       53           6         103.0           0.0   \n",
       "8   2014      3   11    16       53           9         170.0         140.0   \n",
       "9   2014      3   11    17       53          10         140.0           0.0   \n",
       "10  2014      3   11    18       53          11         130.0           0.0   \n",
       "11  2014      3   11    19       53          12         140.0           0.0   \n",
       "12  2014      3   11    20       53          10         150.0           0.0   \n",
       "13  2014      3   11    21       53          13         130.0           0.0   \n",
       "14  2014      3   11    22       53          10         140.0           0.0   \n",
       "15  2014      3   11    23       53           9         140.0           0.0   \n",
       "16  2014      3   12     0       53           7         160.0           0.0   \n",
       "17  2014      3   12     1       53           7         170.0           0.0   \n",
       "18  2014      3   12     2       53           4         160.0           0.0   \n",
       "19  2014      3   12     3       53           5         150.0           0.0   \n",
       "20  2014      3   12     4       53           5         170.0           0.0   \n",
       "21  2014      3   12     5       53           5         180.0           0.0   \n",
       "22  2014      3   12     6       53           5         190.0           0.0   \n",
       "\n",
       "    wind_max_var  vis_distance  ...  air_pressure  n_cloud_layers  \\\n",
       "0            0.0          10.0  ...          1014               1   \n",
       "1            0.0          10.0  ...          1014               1   \n",
       "2            0.0          10.0  ...          1015               1   \n",
       "3            0.0          10.0  ...          1015               2   \n",
       "4            0.0          10.0  ...          1015               2   \n",
       "5            0.0          10.0  ...          1015               1   \n",
       "6            0.0          10.0  ...          1015               1   \n",
       "7            0.0          10.0  ...          1015               1   \n",
       "8          210.0          10.0  ...          1014               1   \n",
       "9            0.0          10.0  ...          1013               1   \n",
       "10           0.0          10.0  ...          1013               1   \n",
       "11           0.0          10.0  ...          1012               1   \n",
       "12           0.0          10.0  ...          1012               1   \n",
       "13           0.0          10.0  ...          1011               1   \n",
       "14           0.0          10.0  ...          1012               1   \n",
       "15           0.0          10.0  ...          1012               1   \n",
       "16           0.0          10.0  ...          1013               1   \n",
       "17           0.0          10.0  ...          1013               1   \n",
       "18           0.0          10.0  ...          1013               1   \n",
       "19           0.0          10.0  ...          1013               1   \n",
       "20           0.0          10.0  ...          1012               1   \n",
       "21           0.0          10.0  ...          1012               2   \n",
       "22           0.0          10.0  ...          1011               2   \n",
       "\n",
       "    cloud_layer_1_height  cloud_layer_1_type  cloud_layer_2_height  \\\n",
       "0                   3000                   1                     0   \n",
       "1                   3000                   1                     0   \n",
       "2                   3500                   1                     0   \n",
       "3                   3000                   1                 25000   \n",
       "4                   2500                   1                 25000   \n",
       "5                   2000                   1                     0   \n",
       "6                   3000                   1                     0   \n",
       "7                   3400                   2                     0   \n",
       "8                   3600                   2                     0   \n",
       "9                   3600                   2                     0   \n",
       "10                  4000                   2                     0   \n",
       "11                  4000                   1                     0   \n",
       "12                  3400                   1                     0   \n",
       "13                  3200                   1                     0   \n",
       "14                  3200                   1                     0   \n",
       "15                  2400                   1                     0   \n",
       "16                  2200                   1                     0   \n",
       "17                  2200                   1                     0   \n",
       "18                  2200                   1                     0   \n",
       "19                  2600                   1                     0   \n",
       "20                  2500                   1                     0   \n",
       "21                  1500                   1                  2500   \n",
       "22                  2500                   1                  9500   \n",
       "\n",
       "    cloud_layer_2_type  cloud_layer_3_height  cloud_layer_3_type  \\\n",
       "0                    0                     0                   0   \n",
       "1                    0                     0                   0   \n",
       "2                    0                     0                   0   \n",
       "3                    1                     0                   0   \n",
       "4                    1                     0                   0   \n",
       "5                    0                     0                   0   \n",
       "6                    0                     0                   0   \n",
       "7                    0                     0                   0   \n",
       "8                    0                     0                   0   \n",
       "9                    0                     0                   0   \n",
       "10                   0                     0                   0   \n",
       "11                   0                     0                   0   \n",
       "12                   0                     0                   0   \n",
       "13                   0                     0                   0   \n",
       "14                   0                     0                   0   \n",
       "15                   0                     0                   0   \n",
       "16                   0                     0                   0   \n",
       "17                   0                     0                   0   \n",
       "18                   0                     0                   0   \n",
       "19                   0                     0                   0   \n",
       "20                   0                     0                   0   \n",
       "21                   2                     0                   0   \n",
       "22                   2                     0                   0   \n",
       "\n",
       "    cloud_layer_4_height  cloud_layer_4_type  \n",
       "0                      0                   0  \n",
       "1                      0                   0  \n",
       "2                      0                   0  \n",
       "3                      0                   0  \n",
       "4                      0                   0  \n",
       "5                      0                   0  \n",
       "6                      0                   0  \n",
       "7                      0                   0  \n",
       "8                      0                   0  \n",
       "9                      0                   0  \n",
       "10                     0                   0  \n",
       "11                     0                   0  \n",
       "12                     0                   0  \n",
       "13                     0                   0  \n",
       "14                     0                   0  \n",
       "15                     0                   0  \n",
       "16                     0                   0  \n",
       "17                     0                   0  \n",
       "18                     0                   0  \n",
       "19                     0                   0  \n",
       "20                     0                   0  \n",
       "21                     0                   0  \n",
       "22                     0                   0  \n",
       "\n",
       "[23 rows x 22 columns]"
      ]
     },
     "execution_count": 347,
     "metadata": {},
     "output_type": "execute_result"
    }
   ],
   "source": [
    "input_df"
   ]
  },
  {
   "cell_type": "code",
   "execution_count": 224,
   "id": "183e8b7b-27ec-4296-acf2-eab834747808",
   "metadata": {},
   "outputs": [
    {
     "ename": "TypeError",
     "evalue": "'numpy.ndarray' object is not callable",
     "output_type": "error",
     "traceback": [
      "\u001b[0;31m---------------------------------------------------------------------------\u001b[0m",
      "\u001b[0;31mTypeError\u001b[0m                                 Traceback (most recent call last)",
      "Cell \u001b[0;32mIn[224], line 1\u001b[0m\n\u001b[0;32m----> 1\u001b[0m \u001b[43mraw_METAR_dict_2\u001b[49m\u001b[43m[\u001b[49m\u001b[38;5;241;43m0\u001b[39;49m\u001b[43m]\u001b[49m\u001b[38;5;241;43m.\u001b[39;49m\u001b[43mwind_degrees\u001b[49m\u001b[38;5;241;43m.\u001b[39;49m\u001b[43mvalues\u001b[49m\u001b[43m(\u001b[49m\u001b[43m)\u001b[49m\n",
      "\u001b[0;31mTypeError\u001b[0m: 'numpy.ndarray' object is not callable"
     ]
    }
   ],
   "source": [
    "raw_METAR_dict_2[0].wind_degrees"
   ]
  },
  {
   "cell_type": "code",
   "execution_count": 236,
   "id": "39f150a0-b720-415b-a4fd-e8a7b680dfdd",
   "metadata": {},
   "outputs": [
    {
     "data": {
      "text/plain": [
       "Index(['year', 'month', 'day', 'hour', 'minutes', 'wind_speed', 'wind_degrees',\n",
       "       'wind_min_var', 'wind_max_var', 'vis_distance', 'temperature', 'dew',\n",
       "       'air_pressure', 'n_cloud_layers', 'cloud_layer_1_height',\n",
       "       'cloud_layer_1_type', 'cloud_layer_2_height', 'cloud_layer_2_type',\n",
       "       'cloud_layer_3_height', 'cloud_layer_3_type', 'cloud_layer_4_height',\n",
       "       'cloud_layer_4_type'],\n",
       "      dtype='object')"
      ]
     },
     "execution_count": 236,
     "metadata": {},
     "output_type": "execute_result"
    }
   ],
   "source": [
    "raw_METAR_dict_2['0_answer_df'].columns"
   ]
  },
  {
   "cell_type": "code",
   "execution_count": 202,
   "id": "cb1d98db-6d39-4aba-a8a9-ccf19efd5857",
   "metadata": {},
   "outputs": [],
   "source": []
  },
  {
   "cell_type": "code",
   "execution_count": 210,
   "id": "035868c2-5c04-4e5a-8a20-816e40b7f92e",
   "metadata": {},
   "outputs": [
    {
     "name": "stderr",
     "output_type": "stream",
     "text": [
      "/usr/local/lib/python3.10/dist-packages/fuzzywuzzy/fuzz.py:11: UserWarning: Using slow pure-python SequenceMatcher. Install python-Levenshtein to remove this warning\n",
      "  warnings.warn('Using slow pure-python SequenceMatcher. Install python-Levenshtein to remove this warning')\n"
     ]
    }
   ],
   "source": [
    "from fuzzywuzzy import fuzz\n"
   ]
  },
  {
   "cell_type": "code",
   "execution_count": 211,
   "id": "f8217e46-9cf2-4503-a8ec-75a8aef4c3fb",
   "metadata": {},
   "outputs": [
    {
     "name": "stdout",
     "output_type": "stream",
     "text": [
      "82\n"
     ]
    }
   ],
   "source": [
    "# Ratio of similarity\n",
    "\n",
    "print(ratio)  # Closer to 100 means more similar"
   ]
  },
  {
   "cell_type": "code",
   "execution_count": 212,
   "id": "af757a32-ef36-41b9-b795-453ffd760107",
   "metadata": {},
   "outputs": [
    {
     "name": "stdout",
     "output_type": "stream",
     "text": [
      "0.9285714285714286\n"
     ]
    }
   ],
   "source": [
    "\n"
   ]
  },
  {
   "cell_type": "code",
   "execution_count": 341,
   "id": "cbef9d2f-5df8-481f-b172-8f843b442088",
   "metadata": {
    "scrolled": true
   },
   "outputs": [
    {
     "name": "stdout",
     "output_type": "stream",
     "text": [
      "Problematic data at index 21: invalid literal for int() with base 10: 'KM'\n",
      "The extracted sequence contained irregularities, re-extracting data sequence ...\n",
      "Input Data is now parsed\n",
      "No Wind Detail info found on index 6, 'NoneType' object has no attribute 'speed' >>> Setting data as 0\n",
      "Problematic data at index 1: invalid literal for int() with base 10: 'KM'\n",
      "Problematic data at index 3: invalid literal for int() with base 10: 'KM'\n",
      "Problematic data at index 7: invalid literal for int() with base 10: 'KM'\n",
      "The extracted sequence contained irregularities, re-extracting data sequence ...\n",
      "Input Data is now parsed\n",
      "Problematic data at index 20: invalid literal for int() with base 10: 'KM'\n",
      "The extracted sequence contained irregularities, re-extracting data sequence ...\n",
      "Input Data is now parsed\n",
      "Problematic data at index 2: invalid literal for int() with base 10: 'KM'\n",
      "The extracted sequence contained irregularities, re-extracting data sequence ...\n",
      "Input Data is now parsed\n",
      "Problematic data at index 18: invalid literal for int() with base 10: 'KM'\n",
      "Problematic data at index 20: invalid literal for int() with base 10: 'KM'\n",
      "The extracted sequence contained irregularities, re-extracting data sequence ...\n",
      "Input Data is now parsed\n",
      "Problematic data at index 16: invalid literal for int() with base 10: 'KM'\n",
      "The extracted sequence contained irregularities, re-extracting data sequence ...\n",
      "Input Data is now parsed\n",
      "Problematic data at index 2: invalid literal for int() with base 10: 'KM'\n",
      "The extracted sequence contained irregularities, re-extracting data sequence ...\n",
      "Input Data is now parsed\n",
      "No Wind Detail info found on index 0, 'NoneType' object has no attribute 'speed' >>> Setting data as 0\n",
      "No Wind Detail info found on index 14, 'NoneType' object has no attribute 'speed' >>> Setting data as 0\n",
      "No Wind Detail info found on index 18, 'NoneType' object has no attribute 'speed' >>> Setting data as 0\n"
     ]
    },
    {
     "name": "stderr",
     "output_type": "stream",
     "text": [
      "/home/Lakehouse/DreamBrookPy/DreamBrookPy/MachineLearning.py:543: RuntimeWarning: divide by zero encountered in scalar divide\n",
      "  score = (1-s_diff) *100\n"
     ]
    }
   ],
   "source": [
    "# Deployment test:\n",
    "txt_filepath = '../dataset/METAR_Data.txt'\n",
    "window_length = 24 # data window length (need to be > time steps of model)\n",
    "time_steps =  6 # Need to match the model window size\n",
    "model_dict = model_dict_1 # model used for prediction\n",
    "n_deploy = 100\n",
    "deployment_df_3, raw_METAR_dict_3 =ML.deploy_METAR_prediction(txt_filepath, window_length, time_steps,model_dict, n_deploy,start_index=False)\n",
    "score_df_3 = ML.get_assessment_score(deployment_df_3,raw_METAR_dict_3)"
   ]
  },
  {
   "cell_type": "code",
   "execution_count": 342,
   "id": "c060afd8-7d46-47bf-ba58-441e5cbe184f",
   "metadata": {},
   "outputs": [
    {
     "name": "stdout",
     "output_type": "stream",
     "text": [
      "The data has been saved to ../results/model/model_1_raw_dict.pkl.\n"
     ]
    }
   ],
   "source": [
    "score_df_3.to_csv('../results/model/model_1_score.csv')\n",
    "deployment_df_3.to_csv('../results/model/model_1_string.csv')\n",
    "file_path = '../results/model/model_1_raw_dict.pkl' \n",
    "\n",
    "# Save the dictionary into a binary file using pickle\n",
    "with open(file_path, 'wb') as file:\n",
    "    pickle.dump(raw_METAR_dict_3, file)\n",
    "print(f\"The data has been saved to {file_path}.\")"
   ]
  },
  {
   "cell_type": "code",
   "execution_count": 343,
   "id": "2748eed6-5437-4ae4-9c17-ee7dd324a44e",
   "metadata": {},
   "outputs": [
    {
     "data": {
      "text/plain": [
       "array([38.90097353, 66.99044975, 89.82222222, 73.68947646, 95.35746096,\n",
       "       95.71314093, 99.93707207, 72.85879645])"
      ]
     },
     "execution_count": 343,
     "metadata": {},
     "output_type": "execute_result"
    }
   ],
   "source": [
    "score_df_3.mean().values"
   ]
  },
  {
   "cell_type": "code",
   "execution_count": 268,
   "id": "b5ccd71f-e4c7-43c6-93c3-b82990167bcd",
   "metadata": {},
   "outputs": [],
   "source": [
    "score_df_5.to_csv('../results/score_df_5.csv')"
   ]
  },
  {
   "cell_type": "code",
   "execution_count": 269,
   "id": "5dbe6f8d-17b4-408e-ace4-2dad8080ef8c",
   "metadata": {},
   "outputs": [
    {
     "data": {
      "text/plain": [
       "array([66.01617126, 69.37298061, 89.32698413, 68.40991304, 95.18546152,\n",
       "       93.30539099, 99.93711077, 73.51735685])"
      ]
     },
     "execution_count": 269,
     "metadata": {},
     "output_type": "execute_result"
    }
   ],
   "source": [
    "score_df_3.mean().values"
   ]
  },
  {
   "cell_type": "code",
   "execution_count": 261,
   "id": "ff84e900-1459-4533-9ee8-bcb999035cb7",
   "metadata": {},
   "outputs": [
    {
     "name": "stdout",
     "output_type": "stream",
     "text": [
      "No Wind Detail info found on index 5, 'NoneType' object has no attribute 'speed' >>> Setting data as 0\n"
     ]
    },
    {
     "name": "stderr",
     "output_type": "stream",
     "text": [
      "/home/Lakehouse/DreamBrookPy/DreamBrookPy/MachineLearning.py:542: RuntimeWarning: divide by zero encountered in scalar divide\n",
      "  s_diff = np.abs((s1-s2)/s2)\n"
     ]
    }
   ],
   "source": [
    "# Deployment test:\n",
    "txt_filepath = '../dataset/METAR_Data.txt'\n",
    "window_length = 24 # data window length (need to be > time steps of model)\n",
    "time_steps =  6 # Need to match the model window size\n",
    "model_dict = model_dict_1 # model used for prediction\n",
    "n_deploy = 10\n",
    "deployment_df_5, raw_METAR_dict_5 =ML.deploy_METAR_prediction(txt_filepath, window_length, time_steps,model_dict, n_deploy,start_index=False)\n",
    "score_df_5 = ML.get_assessment_score(deployment_df_5,raw_METAR_dict_5)"
   ]
  },
  {
   "cell_type": "code",
   "execution_count": 270,
   "id": "8ce9d3dd-0193-4860-90e1-e44f38b0673b",
   "metadata": {},
   "outputs": [
    {
     "data": {
      "text/plain": [
       "array([79.35019608, 57.14285714, 92.57142857, 74.5471115 , 95.63696265,\n",
       "       97.33226773, 99.93099537, 75.16132845])"
      ]
     },
     "execution_count": 270,
     "metadata": {},
     "output_type": "execute_result"
    }
   ],
   "source": [
    "score_df_5.mean().values"
   ]
  },
  {
   "cell_type": "code",
   "execution_count": 346,
   "id": "5571fc1e-7b4d-46af-8635-621642fce024",
   "metadata": {},
   "outputs": [
    {
     "data": {
      "text/plain": [
       "dict_keys([0, '0_answer_df', 1, '1_answer_df', 2, '2_answer_df', 3, '3_answer_df', 4, '4_answer_df', 5, '5_answer_df', 6, '6_answer_df', 7, '7_answer_df', 8, '8_answer_df', 9, '9_answer_df'])"
      ]
     },
     "execution_count": 346,
     "metadata": {},
     "output_type": "execute_result"
    }
   ],
   "source": [
    "raw_METAR_dict_5.keys()"
   ]
  },
  {
   "cell_type": "code",
   "execution_count": 323,
   "id": "2dcdf513-6b76-4fa0-a7db-e15b91de6a33",
   "metadata": {},
   "outputs": [
    {
     "name": "stdout",
     "output_type": "stream",
     "text": [
      "No Wind Detail info found on index 9, 'NoneType' object has no attribute 'speed' >>> Setting data as 0\n",
      "No Wind Detail info found on index 2, 'NoneType' object has no attribute 'speed' >>> Setting data as 0\n",
      "No Wind Detail info found on index 12, 'NoneType' object has no attribute 'speed' >>> Setting data as 0\n",
      "No Wind Detail info found on index 6, 'NoneType' object has no attribute 'speed' >>> Setting data as 0\n",
      "Problematic data at index 6: invalid literal for int() with base 10: 'KM'\n",
      "The extracted sequence contained irregularities, re-extracting data sequence ...\n",
      "Input Data is now parsed\n"
     ]
    },
    {
     "name": "stderr",
     "output_type": "stream",
     "text": [
      "/home/Lakehouse/DreamBrookPy/DreamBrookPy/MachineLearning.py:543: RuntimeWarning: divide by zero encountered in scalar divide\n",
      "  score = (1-s_diff) *100\n",
      "/home/Lakehouse/DreamBrookPy/DreamBrookPy/MachineLearning.py:543: RuntimeWarning: invalid value encountered in scalar divide\n",
      "  score = (1-s_diff) *100\n"
     ]
    }
   ],
   "source": [
    "# Deployment test:\n",
    "txt_filepath = '../dataset/METAR_Data.txt'\n",
    "window_length = 24 # data window length (need to be > time steps of model)\n",
    "time_steps =  12 # Need to match the model window size\n",
    "model_dict = model_dict_2 # model used for prediction\n",
    "n_deploy = 100\n",
    "deployment_df_4, raw_METAR_dict_4 =ML.deploy_METAR_prediction(txt_filepath, window_length, time_steps,model_dict, n_deploy,start_index=False)\n",
    "score_df_4 = ML.get_assessment_score(deployment_df_4,raw_METAR_dict_4)\n",
    "score_df_4.to_csv('../results/score_df_4.csv')"
   ]
  },
  {
   "cell_type": "code",
   "execution_count": 325,
   "id": "33356bbc-e249-40f6-af89-e0b5e4c7655c",
   "metadata": {
    "scrolled": true
   },
   "outputs": [
    {
     "data": {
      "text/plain": [
       "array([56.77227775, 68.22052158, 92.30714286, 72.48428112, 95.10615987,\n",
       "       94.37645512, 99.9202859 , 74.16957395])"
      ]
     },
     "execution_count": 325,
     "metadata": {},
     "output_type": "execute_result"
    }
   ],
   "source": [
    "score_df_4.mean().values"
   ]
  },
  {
   "cell_type": "code",
   "execution_count": 345,
   "id": "0d990b86-a296-4777-a0ae-fb0eb6a83f99",
   "metadata": {},
   "outputs": [
    {
     "name": "stdout",
     "output_type": "stream",
     "text": [
      "The data has been saved to ../results/model/model_3_raw_dict.pkl.\n"
     ]
    }
   ],
   "source": [
    "score_df_6.to_csv('../results/model/model_3_score.csv')\n",
    "deployment_df_6.to_csv('../results/model/model_3_string.csv')\n",
    "file_path = '../results/model/model_3_raw_dict.pkl' \n",
    "\n",
    "# Save the dictionary into a binary file using pickle\n",
    "with open(file_path, 'wb') as file:\n",
    "    pickle.dump(raw_METAR_dict_6, file)\n",
    "print(f\"The data has been saved to {file_path}.\")"
   ]
  },
  {
   "cell_type": "code",
   "execution_count": 344,
   "id": "e26cf2d9-fbb3-49cf-bc6e-d611b1ed72fd",
   "metadata": {},
   "outputs": [
    {
     "name": "stdout",
     "output_type": "stream",
     "text": [
      "The data has been saved to ../results/model/model_2_raw_dict.pkl.\n"
     ]
    }
   ],
   "source": [
    "score_df_4.to_csv('../results/model/model_2_score.csv')\n",
    "deployment_df_4.to_csv('../results/model/model_2_string.csv')\n",
    "file_path = '../results/model/model_2_raw_dict.pkl' \n",
    "\n",
    "# Save the dictionary into a binary file using pickle\n",
    "with open(file_path, 'wb') as file:\n",
    "    pickle.dump(raw_METAR_dict_4, file)\n",
    "print(f\"The data has been saved to {file_path}.\")"
   ]
  },
  {
   "cell_type": "code",
   "execution_count": 326,
   "id": "9e51ad08-31ba-449d-990a-47c81d305b1d",
   "metadata": {},
   "outputs": [
    {
     "name": "stdout",
     "output_type": "stream",
     "text": [
      "Problematic data at index 19: invalid literal for int() with base 10: 'KM'\n",
      "The extracted sequence contained irregularities, re-extracting data sequence ...\n",
      "Input Data is now parsed\n",
      "No Wind Detail info found on index 17, 'NoneType' object has no attribute 'speed' >>> Setting data as 0\n",
      "No Wind Detail info found on index 20, 'NoneType' object has no attribute 'speed' >>> Setting data as 0\n",
      "No Wind Detail info found on index 5, 'NoneType' object has no attribute 'speed' >>> Setting data as 0\n"
     ]
    },
    {
     "name": "stderr",
     "output_type": "stream",
     "text": [
      "/home/Lakehouse/DreamBrookPy/DreamBrookPy/MachineLearning.py:329: RuntimeWarning: invalid value encountered in cast\n",
      "  predicted_value = np.round(scaled_prediction).astype(int)\n"
     ]
    },
    {
     "name": "stdout",
     "output_type": "stream",
     "text": [
      "Problematic data at index 6: invalid literal for int() with base 10: 'KM'\n",
      "The extracted sequence contained irregularities, re-extracting data sequence ...\n",
      "Input Data is now parsed\n",
      "Problematic data at index 24: invalid literal for int() with base 10: 'KM'\n",
      "The extracted sequence contained irregularities, re-extracting data sequence ...\n",
      "Input Data is now parsed\n",
      "No Wind Detail info found on index 12, 'NoneType' object has no attribute 'speed' >>> Setting data as 0\n"
     ]
    },
    {
     "name": "stderr",
     "output_type": "stream",
     "text": [
      "/home/Lakehouse/DreamBrookPy/DreamBrookPy/MachineLearning.py:543: RuntimeWarning: divide by zero encountered in scalar divide\n",
      "  score = (1-s_diff) *100\n",
      "/home/Lakehouse/DreamBrookPy/DreamBrookPy/MachineLearning.py:543: RuntimeWarning: invalid value encountered in scalar divide\n",
      "  score = (1-s_diff) *100\n"
     ]
    }
   ],
   "source": [
    "# Deployment test:\n",
    "txt_filepath = '../dataset/METAR_Data.txt'\n",
    "window_length = 36 # data window length (need to be > time steps of model)\n",
    "time_steps =  24 # Need to match the model window size\n",
    "model_dict = model_dict_3 # model used for prediction\n",
    "n_deploy = 100\n",
    "deployment_df_6, raw_METAR_dict_6 =ML.deploy_METAR_prediction(txt_filepath, window_length, time_steps,model_dict, n_deploy,start_index=False)\n",
    "score_df_6 = ML.get_assessment_score(deployment_df_6,raw_METAR_dict_6)\n",
    "score_df_6.to_csv('../results/score_df_6.csv')"
   ]
  },
  {
   "cell_type": "code",
   "execution_count": 329,
   "id": "01ad5abc-e033-448f-a7af-cad0d1695638",
   "metadata": {},
   "outputs": [
    {
     "data": {
      "text/plain": [
       "array([ 2.74700287e+01,  6.52286200e+01,  8.21134921e+01, -1.33672059e+15,\n",
       "        9.54229044e+01,  9.57193668e+01,  9.99223016e+01,  7.23585341e+01])"
      ]
     },
     "execution_count": 329,
     "metadata": {},
     "output_type": "execute_result"
    }
   ],
   "source": [
    "score_df_6.mean().values"
   ]
  },
  {
   "cell_type": "code",
   "execution_count": 333,
   "id": "4003a788-bfe0-4ef6-bc99-a82f067266da",
   "metadata": {},
   "outputs": [
    {
     "name": "stdout",
     "output_type": "stream",
     "text": [
      "METAR KMIA 021653Z 09002KT 10SM SCT240 33/24 A3003\n",
      "METAR KMIA 261753Z 27006KT 10SM SCT210 13/1 A3020\n",
      "METAR KMIA 171053Z 16003KT 10SM SCT140 22/22 A2994\n",
      "METAR KMIA 040853Z 13008KT 10SM FEW030 29/24 A2994\n",
      "METAR KMIA 231553Z 08011KT 10SM SCT030 27/17 A3023\n",
      "METAR KMIA 162053Z 09011KT 10SM BKN200 24/17 A3009\n",
      "METAR KMIA 131453Z 06014KT 10SM BKN200 29/22 A3000\n",
      "METAR KMIA 280153Z 15011KT 10SM SCT060 22/12 A3000\n",
      "METAR KMIA 050553Z 24008KT 10SM SCT230 28/24 A2994\n",
      "METAR KMIA 211953Z 09010KT 10SM SCT050 28/18 A3020\n",
      "METAR KMIA 040553Z 22004KT 10SM SCT040 23/17 A3020\n",
      "METAR KMIA 140653Z 09008KT 10SM FEW190 23/17 A3000\n",
      "METAR KMIA 211053Z 10005KT 10SM SCT210 28/24 A2997\n",
      "METAR KMIA 110553Z 03008KT 10SM BKN110 19/18 A2997\n",
      "METAR KMIA 202453Z 04002KT 10SM SCT120 26/23 A2991\n",
      "METAR KMIA 130453Z 09011KT 6SM BKN150 26/23 A3006\n",
      "METAR KMIA 280653Z 28009KT 7SM BKN030 15/16 A2976\n",
      "METAR KMIA 310253Z 23007KT 10SM SCT220 16/5 A3017\n",
      "METAR KMIA 291653Z 09003KT 10SM FEW040 32/22 A3006\n",
      "METAR KMIA 171053Z 09010KT 8SM BKN140 26/23 A2997\n"
     ]
    }
   ],
   "source": [
    "for i in range(20):\n",
    "    print(deployment_df_3['Predicted METAR'][i])"
   ]
  },
  {
   "cell_type": "code",
   "execution_count": 334,
   "id": "397f0195-7875-449e-a8f8-7fa73ddce37f",
   "metadata": {},
   "outputs": [
    {
     "name": "stdout",
     "output_type": "stream",
     "text": [
      "METAR KMIA 021653Z 08008KT 10SM BKN250 33/24 A3003\n",
      "METAR KMIA 261753Z 34005KT 10SM SCT250 15/4 A3012\n",
      "METAR KMIA 171053Z 21003KT 7SM NSC 22/22 A2997\n",
      "METAR KMIA 040853Z 10004KT 10SM FEW030 28/24 A2994\n",
      "METAR KMIA 231553Z 06009KT 020V100 10SM BKN040 26/16 A3023\n",
      "METAR KMIA 162053Z 05009KT 10SM BKN250 24/17 A3012\n",
      "METAR KMIA 131453Z 09015KT 10SM BKN250 29/22 A3003\n",
      "METAR KMIA 280153Z 34009KT 10SM FEW040 20/13 A3006\n",
      "METAR KMIA 050553Z 25007KT 10SM BKN250 28/24 A2994\n",
      "METAR KMIA 211953Z 08011KT 10SM BKN040 29/18 A3017\n",
      "METAR KMIA 040553Z 35003KT 10SM FEW050 22/17 A3017\n",
      "METAR KMIA 140653Z 00000KT 10SM SCT250 23/18 A2997\n",
      "METAR KMIA 211053Z 09003KT 10SM BKN250 28/24 A3000\n",
      "METAR KMIA 110553Z 10012KT 10SM OVC130 23/19 A2994\n",
      "METAR KMIA 210053Z 29003KT 10SM BKN250 25/23 A2994\n",
      "METAR KMIA 130453Z 08007KT 10SM SCT250 26/23 A3003\n",
      "METAR KMIA 280653Z 33011KT 6SM OVC030 13/13 A2976\n",
      "METAR KMIA 310253Z 35006KT 10SM BKN250 16/6 A3020\n",
      "METAR KMIA 291653Z 00000KT 10SM BKN060 33/21 A3006\n",
      "METAR KMIA 171053Z 15004KT 10SM OVC200 27/24 A3000\n"
     ]
    }
   ],
   "source": [
    "for i in range(20):\n",
    "    print(deployment_df_3['Reported METAR'][i])"
   ]
  },
  {
   "cell_type": "code",
   "execution_count": 335,
   "id": "b4a33f99-3fd0-4beb-ad85-a7bad078f84a",
   "metadata": {},
   "outputs": [
    {
     "name": "stdout",
     "output_type": "stream",
     "text": [
      "METAR KMIA 050353Z 12005KT 5SM SCT100 23/21 A3012\n",
      "METAR KMIA 060653Z 04002KT 10SM SCT040 26/22 A2991\n",
      "METAR KMIA 082253Z 10008KT 10SM SCT060 25/18 A3015\n",
      "METAR KMIA 150553Z 08001KT 10SM SCT200 27/23 A3000\n",
      "METAR KMIA 242253Z 12009KT 10SM SCT210 32/24 A2994\n",
      "METAR KMIA 052353Z 22009KT 10SM SCT230 31/18 A2994\n",
      "METAR KMIA 151053Z 31008KT 030V010 10SM SCT210 13/8 A3006\n",
      "METAR KMIA 162353Z 09011KT 10SM SCT230 31/23 A3006\n",
      "METAR KMIA 140553Z 10007KT 10SM SCT050 21/12 A3026\n",
      "METAR KMIA 052253Z 08011KT 10SM SCT050 23/12 A3009\n"
     ]
    }
   ],
   "source": [
    "for i in range(10):\n",
    "    print(deployment_df_2['Predicted METAR'][i])"
   ]
  },
  {
   "cell_type": "code",
   "execution_count": 336,
   "id": "80aed719-9414-45c1-9564-984a57402e3b",
   "metadata": {},
   "outputs": [
    {
     "name": "stdout",
     "output_type": "stream",
     "text": [
      "METAR KMIA 050353Z 06006KT 10SM SCT050 23/21 A3012\n",
      "METAR KMIA 060653Z 12003KT 10SM BKN060 24/22 A2991\n",
      "METAR KMIA 082253Z 07009KT 10SM SCT060 24/17 A3015\n",
      "METAR KMIA 150553Z 25003KT 10SM BKN250 26/23 A3000\n",
      "METAR KMIA 242253Z 13008KT 10SM BKN250 31/24 A2994\n",
      "METAR KMIA 042353Z 26006KT 10SM FEW250 28/17 A2997\n",
      "METAR KMIA 151053Z 32009KT 10SM BKN250 14/7 A3006\n",
      "METAR KMIA 152353Z 07013KT 10SM SCT250 29/23 A3003\n",
      "METAR KMIA 140553Z 05005KT 10SM FEW050 20/12 A3023\n",
      "METAR KMIA 052253Z 06011KT 10SM FEW050 23/12 A3009\n"
     ]
    }
   ],
   "source": [
    "for i in range(10):\n",
    "    print(deployment_df_2['Reported METAR'][i])"
   ]
  },
  {
   "cell_type": "code",
   "execution_count": 337,
   "id": "ef435f8c-b239-42a6-afb1-a2c829404474",
   "metadata": {},
   "outputs": [
    {
     "name": "stdout",
     "output_type": "stream",
     "text": [
      "METAR KMIA 010132Z 00000KT 10SM OVC070 27/23 A3009\n",
      "METAR KMIA 062353Z 13008KT 10SM SCT250 25/19 A2994\n",
      "METAR KMIA 281953Z 17003KT 10SM OVC250 29/25 A3006\n",
      "METAR KMIA 282116Z 16007KT 10SM BKN250 32/25 A2979\n",
      "METAR KMIA 241353Z 33005KT 10SM FEW050 20/14 A3017\n",
      "METAR KMIA 192153Z 19011KT 10SM SCT080 28/21 A3000\n",
      "METAR KMIA 030253Z 11006KT 10SM BKN250 28/25 A3012\n",
      "METAR KMIA 112053Z 07010KT 10SM FEW250 27/20 A3000\n",
      "METAR KMIA 231053Z 35003KT 10SM BKN250 27/24 A2988\n",
      "METAR KMIA 190253Z 16003KT 10SM FEW020 29/23 A3000\n"
     ]
    }
   ],
   "source": [
    "for i in range(10):\n",
    "    print(deployment_df['Reported METAR'][i])"
   ]
  },
  {
   "cell_type": "code",
   "execution_count": 338,
   "id": "aaf364f1-af7a-467f-a275-3e5e9d5eace2",
   "metadata": {},
   "outputs": [
    {
     "name": "stdout",
     "output_type": "stream",
     "text": [
      "METAR KMIA 010153Z 14005KT 10SM SCT160 27/23 A3009\n",
      "METAR KMIA 072353Z 13008KT 10SM SCT210 27/18 A2994\n",
      "METAR KMIA 281953Z 10002KT 10SM SCT180 29/24 A3006\n",
      "METAR KMIA 282153Z 22005KT 10SM SCT210 32/27 A2979\n",
      "METAR KMIA 241353Z 33005KT 10SM FEW040 16/12 A3012\n",
      "METAR KMIA 192153Z 16012KT 010V010 10SM BKN090 28/22 A3000\n",
      "METAR KMIA 030253Z 12004KT 10SM SCT240 29/24 A3009\n",
      "METAR KMIA 112053Z 11006KT 10SM SCT220 27/19 A3000\n",
      "METAR KMIA 231053Z 14003KT 10SM SCT090 27/24 A2985\n",
      "METAR KMIA 190253Z 12006KT 10SM NSC100 29/23 A3000\n"
     ]
    }
   ],
   "source": [
    "for i in range(10):\n",
    "    print(deployment_df['Predicted METAR'][i])"
   ]
  },
  {
   "cell_type": "code",
   "execution_count": 339,
   "id": "d5344058-74d1-4143-aff1-fc4a8b14e192",
   "metadata": {},
   "outputs": [
    {
     "ename": "NameError",
     "evalue": "name 'raw_METAR_data' is not defined",
     "output_type": "error",
     "traceback": [
      "\u001b[0;31m---------------------------------------------------------------------------\u001b[0m",
      "\u001b[0;31mNameError\u001b[0m                                 Traceback (most recent call last)",
      "Cell \u001b[0;32mIn[339], line 1\u001b[0m\n\u001b[0;32m----> 1\u001b[0m \u001b[43mraw_METAR_data\u001b[49m\n",
      "\u001b[0;31mNameError\u001b[0m: name 'raw_METAR_data' is not defined"
     ]
    }
   ],
   "source": [
    "raw_METAR_data"
   ]
  },
  {
   "cell_type": "code",
   "execution_count": 2,
   "id": "02d33f39-25f6-4e62-b4e2-4a87d58a3f66",
   "metadata": {},
   "outputs": [],
   "source": [
    "def load_dict(filepath):\n",
    "    with open(filepath, 'rb') as file:\n",
    "        filedict = pickle.load(file)\n",
    "    return filedict\n"
   ]
  },
  {
   "cell_type": "code",
   "execution_count": 3,
   "id": "74499621-3017-4974-a220-24a77ef7015f",
   "metadata": {},
   "outputs": [],
   "source": [
    "import pickle"
   ]
  },
  {
   "cell_type": "code",
   "execution_count": null,
   "id": "e50cf12a-c045-4d0d-975a-8a46ba871b22",
   "metadata": {},
   "outputs": [],
   "source": [
    "# Load Model \n",
    "model_dict_1 = load_dict('../results/model/Model_Set_1.pkl')\n",
    "def load_dict(filepath):\n",
    "    with open(filepath, 'rb') as file:\n",
    "        filedict = pickle.load(file)\n",
    "    return filedict\n"
   ]
  }
 ],
 "metadata": {
  "kernelspec": {
   "display_name": "Python 3 (ipykernel)",
   "language": "python",
   "name": "python3"
  },
  "language_info": {
   "codemirror_mode": {
    "name": "ipython",
    "version": 3
   },
   "file_extension": ".py",
   "mimetype": "text/x-python",
   "name": "python",
   "nbconvert_exporter": "python",
   "pygments_lexer": "ipython3",
   "version": "3.10.12"
  }
 },
 "nbformat": 4,
 "nbformat_minor": 5
}
