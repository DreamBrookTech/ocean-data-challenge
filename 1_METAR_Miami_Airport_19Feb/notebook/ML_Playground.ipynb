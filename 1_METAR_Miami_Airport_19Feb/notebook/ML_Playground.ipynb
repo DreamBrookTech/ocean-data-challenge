{
 "cells": [
  {
   "cell_type": "markdown",
   "id": "dc734729-b917-429d-a557-7a3bc9721bb4",
   "metadata": {},
   "source": [
    "## Deployment Playground for OCEAN_METAR project"
   ]
  },
  {
   "cell_type": "code",
   "execution_count": 2,
   "id": "af83248f-1174-441d-b8cf-6b44bf18f7d1",
   "metadata": {},
   "outputs": [
    {
     "name": "stderr",
     "output_type": "stream",
     "text": [
      "2024-02-18 08:24:29.279809: I tensorflow/core/platform/cpu_feature_guard.cc:182] This TensorFlow binary is optimized to use available CPU instructions in performance-critical operations.\n",
      "To enable the following instructions: AVX2 FMA, in other operations, rebuild TensorFlow with the appropriate compiler flags.\n"
     ]
    }
   ],
   "source": [
    "import sys\n",
    "package_path = '/home/Lakehouse/DreamBrookPy'\n",
    "if package_path not in sys.path:\n",
    "    sys.path.append(package_path)\n",
    "import DreamBrookPy.MachineLearning as ML\n",
    "import DreamBrookPy.DataChef as DC"
   ]
  },
  {
   "cell_type": "code",
   "execution_count": 9,
   "id": "1ebc71b4-f7c2-465b-89a2-da489e0431a5",
   "metadata": {},
   "outputs": [],
   "source": [
    "import importlib"
   ]
  },
  {
   "cell_type": "code",
   "execution_count": 61,
   "id": "6f84cb82-f567-4fff-880c-07af125d145a",
   "metadata": {},
   "outputs": [
    {
     "data": {
      "text/plain": [
       "<module 'DreamBrookPy.MachineLearning' from '/home/Lakehouse/DreamBrookPy/DreamBrookPy/MachineLearning.py'>"
      ]
     },
     "execution_count": 61,
     "metadata": {},
     "output_type": "execute_result"
    }
   ],
   "source": [
    "importlib.reload(ML)"
   ]
  },
  {
   "cell_type": "code",
   "execution_count": 3,
   "id": "08649116-8395-4007-ae42-7b0298389ca9",
   "metadata": {},
   "outputs": [],
   "source": [
    "## General Import\n",
    "import numpy as np\n",
    "import matplotlib.pyplot as plt\n",
    "import pickle\n",
    "import pandas as pd"
   ]
  },
  {
   "cell_type": "code",
   "execution_count": 4,
   "id": "2fd6f748-fbf0-40e4-8c9d-ac5e3f22cfc3",
   "metadata": {},
   "outputs": [],
   "source": [
    "# # Assuming my_full_metar_dict is your final dictionary\n",
    "# file_path = '../results/my_full_metar_dict.pkl'  # Specify the file path and name\n",
    "# # Save the dictionary into a binary file using pickle\n",
    "\n",
    "def savedict(file_path, dict_name):\n",
    "    \"\"\"Save dictionary dict_name to file_path\"\"\"\n",
    "    with open(file_path, 'wb') as file:\n",
    "        pickle.dump(dict_name, file)\n",
    "        print(f\"The data dictionary has been saved to {file_path}.\")"
   ]
  },
  {
   "cell_type": "markdown",
   "id": "a450f23b-c322-402d-827c-cba7cf4bd42f",
   "metadata": {},
   "source": [
    "## Load Dataset "
   ]
  },
  {
   "cell_type": "code",
   "execution_count": 5,
   "id": "0b91f102-ac74-44f1-9d29-39ce9dba2f3d",
   "metadata": {},
   "outputs": [],
   "source": [
    "filepath = '../results/Full_Cleaned_METAR_dict.pkl' \n",
    "with open(filepath, 'rb') as file:\n",
    "    raw_METAR_data = pickle.load(file)"
   ]
  },
  {
   "cell_type": "code",
   "execution_count": 6,
   "id": "9b82b671-1d2b-432c-b7f0-682cfe7c237b",
   "metadata": {},
   "outputs": [
    {
     "data": {
      "text/plain": [
       "dict_keys(['year', 'month', 'day', 'hour', 'minute', 'wind_speed', 'wind_direction', 'wind_gust', 'wind_degrees', 'wind_unit', 'wind_min_ver', 'wind_max_var', 'visibility_distance', 'visibility_min_dis', 'visibility_min_dir', 'clouds', 'n_cloud_layers', 'clouds_0_layer', 'clouds_1_layer', 'clouds_2_layer', 'clouds_3_layer', 'clouds_4_layer', 'clouds_5_layer', 'clouds_6_layer', 'temperature', 'dew', 'air_pressure', 'bool_wind_min_var', 'bool_wind_max_var', 'wind_mind_var'])"
      ]
     },
     "execution_count": 6,
     "metadata": {},
     "output_type": "execute_result"
    }
   ],
   "source": [
    "raw_METAR_data.keys()"
   ]
  },
  {
   "cell_type": "code",
   "execution_count": 7,
   "id": "0c6dcb90-c9bc-4fbc-9cf9-1c6b1a0b544d",
   "metadata": {},
   "outputs": [],
   "source": [
    "filepath = '../results/my_full_metar_dict.pkl' \n",
    "with open(filepath, 'rb') as file:\n",
    "    metar_dataset = pickle.load(file)"
   ]
  },
  {
   "cell_type": "code",
   "execution_count": 45,
   "id": "02612c12-7f33-42a3-9168-0626b3c33380",
   "metadata": {},
   "outputs": [
    {
     "data": {
      "text/plain": [
       "{'_wind': Wind[speed=5, direction=ESE, gust=None, degrees=120, unit=KT, min_variation=None, max_variation=None],\n",
       " '_visibility': Visibility[distance=10SM, min_distance=None, min_direction=None],\n",
       " '_vertical_visibility': None,\n",
       " '_wind_shear': None,\n",
       " '_cavok': None,\n",
       " '_remark': 'automated station with a precipitation discriminator sea level pressure of 1014.1 HPa  hourly temperature of 27.2°C and dew point of 22.2°C  $',\n",
       " '_remarks': ['automated station with a precipitation discriminator',\n",
       "  'sea level pressure of 1014.1 HPa',\n",
       "  '',\n",
       "  'hourly temperature of 27.2°C and dew point of 22.2°C',\n",
       "  '',\n",
       "  '$'],\n",
       " '_clouds': [Cloud[height=1500, quantity=CloudQuantity.FEW, type=None],\n",
       "  Cloud[height=17000, quantity=CloudQuantity.OVC, type=None]],\n",
       " '_weather_conditions': [],\n",
       " '_day': 4,\n",
       " '_time': datetime.time(21, 53),\n",
       " '_message': 'KMIA 042153Z 12005KT 10SM FEW015 OVC170 27/22 A2995 RMK AO2 SLP141 T02720222 $',\n",
       " '_station': 'KMIA',\n",
       " '_flags': set(),\n",
       " '_trends': [],\n",
       " '_temperature': 27,\n",
       " '_dew_point': 22,\n",
       " '_altimeter': 1014,\n",
       " '_nosig': False,\n",
       " '_runways_info': []}"
      ]
     },
     "execution_count": 45,
     "metadata": {},
     "output_type": "execute_result"
    }
   ],
   "source": [
    "metar_dataset[29930]"
   ]
  },
  {
   "cell_type": "code",
   "execution_count": 75,
   "id": "192fe8d2-a49e-4b46-81b9-2e3d1c91a78c",
   "metadata": {},
   "outputs": [],
   "source": [
    "remark_list = []\n",
    "weather_list = []\n",
    "phenomena_list = []\n",
    "cavok_list = []\n",
    "run_list = []\n",
    "for i in list(metar_dataset.keys()):\n",
    "    r = metar_dataset[i]['_remark']\n",
    "    w = metar_dataset[i]['_weather_conditions']\n",
    "    c = metar_dataset[i]['_cavok']\n",
    "    run = metar_dataset[i]['_runways_info']\n",
    "    remark_list.append(r)\n",
    "    weather_list.append(w)\n",
    "    cavok_list.append(c)\n",
    "    run_list.append(run)\n",
    "    try :\n",
    "        phenomena_list.append(metar_dataset[i]['_weather_conditions'][0].phenomenons)\n",
    "    except:\n",
    "        phenomena_list.append('Nothing')\n",
    "weather_cond_dict = pd.DataFrame({'remark':remark_list,\n",
    "                                 'weather':weather_list,\n",
    "                                 'phenomena':phenomena_list,\n",
    "                                 'cavok':cavok_list,\n",
    "                                 'runway_info':run_list})"
   ]
  },
  {
   "cell_type": "code",
   "execution_count": 76,
   "id": "8cb7d085-9fdf-4053-a26d-eb1abb3fe411",
   "metadata": {},
   "outputs": [],
   "source": [
    "weather_cond_dict.to_csv('../results/weather_condition.csv')"
   ]
  },
  {
   "cell_type": "code",
   "execution_count": 74,
   "id": "a8cf5b4b-cda3-4d4b-ba36-8b30359a6481",
   "metadata": {},
   "outputs": [
    {
     "data": {
      "text/plain": [
       "phenomena\n",
       "Nothing                      82406\n",
       "[Phenomenon.RAIN]             4916\n",
       "[]                            1547\n",
       "[Phenomenon.MIST]              453\n",
       "[Phenomenon.FOG]                72\n",
       "[Phenomenon.HAZE]               39\n",
       "[Phenomenon.SMOKE]              15\n",
       "[Phenomenon.DRIZZLE]             2\n",
       "[Phenomenon.FUNNEL_CLOUD]        1\n",
       "Name: count, dtype: int64"
      ]
     },
     "execution_count": 74,
     "metadata": {},
     "output_type": "execute_result"
    }
   ],
   "source": [
    "weather_cond_dict['weather'].value_counts()"
   ]
  },
  {
   "cell_type": "code",
   "execution_count": 89,
   "id": "ea0156c6-9e44-4df5-8b72-b59a555e582c",
   "metadata": {},
   "outputs": [
    {
     "data": {
      "text/plain": [
       "0    1\n",
       "1    1\n",
       "2    1\n",
       "3    1\n",
       "4    1\n",
       "Name: day, dtype: int32"
      ]
     },
     "execution_count": 89,
     "metadata": {},
     "output_type": "execute_result"
    }
   ],
   "source": [
    "raw_METAR_data['day'][:5]"
   ]
  },
  {
   "cell_type": "code",
   "execution_count": 91,
   "id": "50213536-3423-4894-89f5-267cc663e0d0",
   "metadata": {},
   "outputs": [
    {
     "data": {
      "text/plain": [
       "0    1\n",
       "1    1\n",
       "2    1\n",
       "3    1\n",
       "4    1\n",
       "Name: month, dtype: int32"
      ]
     },
     "execution_count": 91,
     "metadata": {},
     "output_type": "execute_result"
    }
   ],
   "source": [
    "raw_METAR_data['month'][:5]"
   ]
  },
  {
   "cell_type": "code",
   "execution_count": 85,
   "id": "4ec672c8-9007-4cbc-83d0-ac3de8c99777",
   "metadata": {},
   "outputs": [
    {
     "data": {
      "text/html": [
       "<div>\n",
       "<style scoped>\n",
       "    .dataframe tbody tr th:only-of-type {\n",
       "        vertical-align: middle;\n",
       "    }\n",
       "\n",
       "    .dataframe tbody tr th {\n",
       "        vertical-align: top;\n",
       "    }\n",
       "\n",
       "    .dataframe thead th {\n",
       "        text-align: right;\n",
       "    }\n",
       "</style>\n",
       "<table border=\"1\" class=\"dataframe\">\n",
       "  <thead>\n",
       "    <tr style=\"text-align: right;\">\n",
       "      <th></th>\n",
       "      <th>Weather Phenomena</th>\n",
       "      <th>Occurance Count</th>\n",
       "    </tr>\n",
       "  </thead>\n",
       "  <tbody>\n",
       "    <tr>\n",
       "      <th>0</th>\n",
       "      <td>RAIN</td>\n",
       "      <td>4916</td>\n",
       "    </tr>\n",
       "    <tr>\n",
       "      <th>1</th>\n",
       "      <td>MIST</td>\n",
       "      <td>453</td>\n",
       "    </tr>\n",
       "    <tr>\n",
       "      <th>2</th>\n",
       "      <td>FOG</td>\n",
       "      <td>72</td>\n",
       "    </tr>\n",
       "    <tr>\n",
       "      <th>3</th>\n",
       "      <td>HAZE</td>\n",
       "      <td>39</td>\n",
       "    </tr>\n",
       "    <tr>\n",
       "      <th>4</th>\n",
       "      <td>SMOKE</td>\n",
       "      <td>15</td>\n",
       "    </tr>\n",
       "    <tr>\n",
       "      <th>5</th>\n",
       "      <td>DRIZZLE</td>\n",
       "      <td>2</td>\n",
       "    </tr>\n",
       "    <tr>\n",
       "      <th>6</th>\n",
       "      <td>FUNNEL_CLOUD</td>\n",
       "      <td>1</td>\n",
       "    </tr>\n",
       "  </tbody>\n",
       "</table>\n",
       "</div>"
      ],
      "text/plain": [
       "  Weather Phenomena  Occurance Count\n",
       "0              RAIN             4916\n",
       "1              MIST              453\n",
       "2               FOG               72\n",
       "3              HAZE               39\n",
       "4             SMOKE               15\n",
       "5           DRIZZLE                2\n",
       "6      FUNNEL_CLOUD                1"
      ]
     },
     "execution_count": 85,
     "metadata": {},
     "output_type": "execute_result"
    }
   ],
   "source": [
    "phenom_list = ['RAIN', 'MIST', 'FOG', 'HAZE', 'SMOKE', 'DRIZZLE', 'FUNNEL_CLOUD']\n",
    "phenom_value = [4916,453,72,39,15,2,1]\n",
    "phenom_df = pd.DataFrame({'Weather Phenomena': phenom_list,\n",
    "                         'Occurance Count': phenom_value})\n",
    "phenom_df"
   ]
  },
  {
   "cell_type": "code",
   "execution_count": null,
   "id": "36517026-9c0a-4fbd-9882-e79c3473ec14",
   "metadata": {},
   "outputs": [],
   "source": [
    "174 Runway info out of close to 90000 data points, so only about 0.2 % of days that there's special attention need to be placed on runway out of the ordinary"
   ]
  },
  {
   "cell_type": "code",
   "execution_count": 62,
   "id": "dd8d9265-667c-40bc-9bf1-265fb813d8c3",
   "metadata": {},
   "outputs": [],
   "source": [
    "with open('../results/weather_cond.txt', 'w') as file:\n",
    "    file.write(congested_text)"
   ]
  },
  {
   "cell_type": "code",
   "execution_count": 61,
   "id": "189a76f3-f6fe-4181-b0e7-148a445be3ec",
   "metadata": {},
   "outputs": [],
   "source": [
    "congested_text = '\\n'.join(weather_cond_dict.astype(str).agg(''.join, axis=1))"
   ]
  },
  {
   "cell_type": "markdown",
   "id": "8a331dc3-fa72-4b2d-af98-2611cc6e3079",
   "metadata": {},
   "source": [
    "# Test ML pipeline with different training and test data size "
   ]
  },
  {
   "cell_type": "code",
   "execution_count": null,
   "id": "7a9eaddf-bd02-4061-9904-3b378b8f06e0",
   "metadata": {},
   "outputs": [],
   "source": [
    "# In general we want to use Hour as the training data, but we may differ the data based on month or year too. "
   ]
  },
  {
   "cell_type": "code",
   "execution_count": null,
   "id": "69731271-1569-4196-b0b4-95fb7bf7bad4",
   "metadata": {},
   "outputs": [],
   "source": [
    "# 10 Target Features to predict:\n",
    "1. Wind Degree\n",
    "2. Wind Speed\n",
    "3. Boolean test: Wind Var exist = T/F ; if T, predict Wind_MIN_Var & MAX_Var\n",
    "4. N_Cloud Layers Classification ; For each cloud layer, Predict CLOUD_Height\n",
    "5. Temperature\n",
    "6. Dew\n",
    "7. Air Pressure"
   ]
  },
  {
   "cell_type": "code",
   "execution_count": 8,
   "id": "4338810c-a0e9-4977-998e-bef395398096",
   "metadata": {},
   "outputs": [],
   "source": [
    "# since the prediction gonna be based on Hour based data, we use hour here\n",
    "hour = raw_METAR_data['hour']"
   ]
  },
  {
   "cell_type": "code",
   "execution_count": null,
   "id": "d748ffed-683d-4229-b8eb-30131c439be1",
   "metadata": {},
   "outputs": [],
   "source": []
  },
  {
   "cell_type": "markdown",
   "id": "4830dd6e-fa38-4338-8276-595a4cc69fb9",
   "metadata": {},
   "source": [
    "## 1. Wind Degree"
   ]
  },
  {
   "cell_type": "code",
   "execution_count": 21,
   "id": "b4257863-3a16-4083-a378-c734fd8dd9c8",
   "metadata": {},
   "outputs": [],
   "source": [
    "wind_degree_data = raw_METAR_data['wind_degrees']"
   ]
  },
  {
   "cell_type": "code",
   "execution_count": 34,
   "id": "4201baf7-34af-43e9-898c-4ed5b843343a",
   "metadata": {
    "scrolled": true
   },
   "outputs": [
    {
     "name": "stdout",
     "output_type": "stream",
     "text": [
      ">>> Starting Training for param = 6...\n",
      "Epoch 1: loss = 0.14433994889259338, duration = 6.83 seconds\n",
      "Epoch 11: loss = 0.08702535182237625, duration = 0.36 seconds\n",
      "Epoch 21: loss = 0.0665743425488472, duration = 0.33 seconds\n",
      "Epoch 31: loss = 0.06485124677419662, duration = 0.39 seconds\n",
      "Epoch 41: loss = 0.06756869703531265, duration = 0.39 seconds\n",
      "Epoch 51: loss = 0.06740204244852066, duration = 0.36 seconds\n",
      "Epoch 61: loss = 0.06399480998516083, duration = 0.38 seconds\n",
      "Epoch 71: loss = 0.06139504909515381, duration = 0.41 seconds\n",
      "Epoch 81: loss = 0.06377290189266205, duration = 0.46 seconds\n",
      "Epoch 91: loss = 0.06439529359340668, duration = 0.35 seconds\n",
      "7/7 [==============================] - 1s 4ms/step\n",
      "The root mean squared error is 70.95432877611718.\n",
      "The data dictionary has been saved to ../results/wind_degree_set1_window6.pkl.\n",
      ">>> Starting Training for param = 24...\n",
      "Epoch 1: loss = 0.12082864344120026, duration = 8.03 seconds\n",
      "Epoch 11: loss = 0.08750995248556137, duration = 0.80 seconds\n",
      "Epoch 21: loss = 0.06781282275915146, duration = 1.05 seconds\n",
      "Epoch 31: loss = 0.06617158651351929, duration = 0.95 seconds\n",
      "Epoch 41: loss = 0.06445688754320145, duration = 0.88 seconds\n",
      "Epoch 51: loss = 0.06495089828968048, duration = 0.99 seconds\n",
      "Epoch 61: loss = 0.06348702311515808, duration = 0.80 seconds\n",
      "Epoch 71: loss = 0.0640079528093338, duration = 0.95 seconds\n",
      "Epoch 81: loss = 0.06157221645116806, duration = 0.90 seconds\n",
      "Epoch 91: loss = 0.06301732361316681, duration = 1.05 seconds\n",
      "7/7 [==============================] - 1s 13ms/step\n",
      "The root mean squared error is 72.00499351928386.\n",
      "The data dictionary has been saved to ../results/wind_degree_set1_window24.pkl.\n",
      ">>> Starting Training for param = 48...\n",
      "Epoch 1: loss = 0.1300082504749298, duration = 8.32 seconds\n",
      "Epoch 11: loss = 0.08571123331785202, duration = 1.81 seconds\n",
      "Epoch 21: loss = 0.06998005509376526, duration = 1.82 seconds\n",
      "Epoch 31: loss = 0.06565288454294205, duration = 1.88 seconds\n",
      "7/7 [==============================] - 1s 19ms/step\n",
      "The root mean squared error is 74.97453549457393.\n",
      "The data dictionary has been saved to ../results/wind_degree_set1_window48.pkl.\n"
     ]
    }
   ],
   "source": [
    "### Everything is here in 1 Cell to avoid confusions. Later will automate this for batch processing.\n",
    "raw_data = wind_degree_data \n",
    "Wind_Degree_Results = {} # Container for finalized data\n",
    "wind_degree_result_6,wind_degree_result_24,wind_degree_result_48 = [None, None, None]\n",
    "result_list = [wind_degree_result_6,wind_degree_result_24,wind_degree_result_48]\n",
    "param_list = [6,24,48]\n",
    "data_id = 'set1_window'\n",
    "datadir = f'../results/wind_degree_{data_id}'\n",
    "\n",
    "for p,r in zip(param_list,result_list):\n",
    "    print(f'>>> Starting Training for param = {p}...')\n",
    "    # Specify Hyperparameters, and perform training/predictions\n",
    "    hyperparameters = {\n",
    "        'n_units' : 50,'dropout_rate' : 0.2,'n_dense' : 1,'n_epochs' : 100,'n_batch' : 32,'LSTM_depth' : 3,'n_train' :1000,'n_test' : 200,\n",
    "        'window_size':p, 'scaling':'MinMax'\n",
    "    }\n",
    "    r = ML.process_training_data_and_learn(raw_data, hyperparameters)\n",
    "    ##Save_result\n",
    "    file_path  = f'{datadir}{p}.pkl' \n",
    "    savedict(file_path, dict_name=r)\n",
    "    new_data = {f'{data_id}{p}':r} \n",
    "\n",
    "    ### Provide Data Container\n",
    "    Wind_Degree_Results.update(new_data)"
   ]
  },
  {
   "cell_type": "code",
   "execution_count": null,
   "id": "f8f18849-a94f-4665-ae9b-12d03e78d888",
   "metadata": {},
   "outputs": [],
   "source": [
    "Wind_Degree_Results.keys()"
   ]
  },
  {
   "cell_type": "code",
   "execution_count": 35,
   "id": "1efb5f5d-f4ef-4b88-814d-cf8c1d800f5b",
   "metadata": {},
   "outputs": [
    {
     "data": {
      "text/plain": [
       "<matplotlib.legend.Legend at 0x7f859d0e2530>"
      ]
     },
     "execution_count": 35,
     "metadata": {},
     "output_type": "execute_result"
    },
    {
     "data": {
      "image/png": "[encoded data removed]",
      "text/plain": [
       "<Figure size 640x480 with 1 Axes>"
      ]
     },
     "metadata": {},
     "output_type": "display_data"
    }
   ],
   "source": [
    "for p in param_list:\n",
    "    d_to_plot = Wind_Degree_Results[f'set1_window{p}']\n",
    "    plt.scatter(d_to_plot['dataset_test'],d_to_plot['y_pred_scaled'], label=f'n_window = {p} ')\n",
    "plt.xlabel('Real Data')\n",
    "plt.ylabel('Predicted Data')\n",
    "plt.legend()"
   ]
  },
  {
   "cell_type": "markdown",
   "id": "96ef7a7c-c1bd-4709-afe8-4d5a1b8cb166",
   "metadata": {},
   "source": [
    "### Set 2"
   ]
  },
  {
   "cell_type": "code",
   "execution_count": 92,
   "id": "866ce67b-3294-4981-aa04-37c7fe9289d5",
   "metadata": {
    "scrolled": true
   },
   "outputs": [
    {
     "name": "stdout",
     "output_type": "stream",
     "text": [
      ">>> Starting Training for param = 3...\n",
      "Epoch 1: loss = 0.07296659052371979, duration = 10.14 seconds\n",
      "Epoch 11: loss = 0.052078451961278915, duration = 2.48 seconds\n",
      "Epoch 21: loss = 0.05015058070421219, duration = 2.45 seconds\n",
      "Epoch 31: loss = 0.049716658890247345, duration = 2.32 seconds\n",
      "Epoch 41: loss = 0.04909709841012955, duration = 3.07 seconds\n",
      "Epoch 51: loss = 0.049075137823820114, duration = 2.56 seconds\n",
      "Epoch 61: loss = 0.049123428761959076, duration = 2.77 seconds\n",
      "Epoch 71: loss = 0.04898856580257416, duration = 3.32 seconds\n",
      "Epoch 81: loss = 0.04890057072043419, duration = 2.57 seconds\n",
      "Epoch 91: loss = 0.049007754772901535, duration = 2.86 seconds\n",
      "32/32 [==============================] - 2s 2ms/step\n",
      "The root mean squared error is 72.1890778647719.\n",
      "The data dictionary has been saved to ../results/wind_degree_set2_window3.pkl.\n",
      ">>> Starting Training for param = 6...\n",
      "Epoch 1: loss = 0.07515276968479156, duration = 10.94 seconds\n",
      "Epoch 11: loss = 0.05147877708077431, duration = 3.79 seconds\n",
      "Epoch 21: loss = 0.05019114166498184, duration = 3.93 seconds\n",
      "Epoch 31: loss = 0.04924628511071205, duration = 3.76 seconds\n",
      "Epoch 41: loss = 0.0483713261783123, duration = 3.75 seconds\n",
      "Epoch 51: loss = 0.047937698662281036, duration = 3.82 seconds\n",
      "Epoch 61: loss = 0.04787084832787514, duration = 4.40 seconds\n",
      "Epoch 71: loss = 0.04770226404070854, duration = 4.57 seconds\n",
      "Epoch 81: loss = 0.047117944806814194, duration = 3.92 seconds\n",
      "Epoch 91: loss = 0.04682517051696777, duration = 3.98 seconds\n",
      "32/32 [==============================] - 2s 6ms/step\n",
      "The root mean squared error is 72.90040792256194.\n",
      "The data dictionary has been saved to ../results/wind_degree_set2_window6.pkl.\n",
      ">>> Starting Training for param = 12...\n",
      "Epoch 1: loss = 0.07867942005395889, duration = 13.48 seconds\n",
      "Epoch 11: loss = 0.05172447860240936, duration = 6.47 seconds\n",
      "Epoch 21: loss = 0.04942283406853676, duration = 6.41 seconds\n",
      "Epoch 31: loss = 0.04815461114048958, duration = 6.17 seconds\n",
      "Epoch 41: loss = 0.047566384077072144, duration = 6.27 seconds\n",
      "Epoch 51: loss = 0.04699753597378731, duration = 6.44 seconds\n",
      "Epoch 61: loss = 0.04681478813290596, duration = 5.90 seconds\n",
      "Epoch 71: loss = 0.04594883322715759, duration = 7.21 seconds\n",
      "Epoch 81: loss = 0.044493455439805984, duration = 6.16 seconds\n",
      "Epoch 91: loss = 0.04259134829044342, duration = 6.87 seconds\n",
      "32/32 [==============================] - 2s 8ms/step\n",
      "The root mean squared error is 77.13004096525682.\n",
      "The data dictionary has been saved to ../results/wind_degree_set2_window12.pkl.\n",
      ">>> Starting Training for param = 24...\n",
      "Epoch 1: loss = 0.07735700160264969, duration = 19.90 seconds\n",
      "Epoch 11: loss = 0.05129439756274223, duration = 10.75 seconds\n",
      "Epoch 21: loss = 0.04937436804175377, duration = 10.21 seconds\n",
      "Epoch 31: loss = 0.04802275076508522, duration = 12.27 seconds\n",
      "Epoch 41: loss = 0.04664523899555206, duration = 10.89 seconds\n",
      "Epoch 51: loss = 0.04512711241841316, duration = 12.26 seconds\n",
      "Epoch 61: loss = 0.043032724410295486, duration = 10.87 seconds\n",
      "Epoch 71: loss = 0.03998999297618866, duration = 11.22 seconds\n",
      "Epoch 81: loss = 0.03626486286520958, duration = 10.53 seconds\n",
      "Epoch 91: loss = 0.03335987403988838, duration = 10.73 seconds\n",
      "32/32 [==============================] - 2s 9ms/step\n",
      "The root mean squared error is 90.49590068289133.\n",
      "The data dictionary has been saved to ../results/wind_degree_set2_window24.pkl.\n",
      ">>> Starting Training for param = 48...\n",
      "Epoch 1: loss = 0.07717710733413696, duration = 21.64 seconds\n",
      "Epoch 11: loss = 0.05178438127040863, duration = 15.71 seconds\n",
      "Epoch 21: loss = 0.05004090815782547, duration = 16.19 seconds\n",
      "Epoch 31: loss = 0.047993097454309464, duration = 15.66 seconds\n",
      "Epoch 41: loss = 0.046592723578214645, duration = 16.13 seconds\n",
      "Epoch 51: loss = 0.04493844881653786, duration = 14.54 seconds\n",
      "Epoch 61: loss = 0.04280581325292587, duration = 16.25 seconds\n",
      "Epoch 71: loss = 0.039752889424562454, duration = 16.87 seconds\n",
      "Epoch 81: loss = 0.03673546016216278, duration = 16.34 seconds\n",
      "Epoch 91: loss = 0.03377609699964523, duration = 19.50 seconds\n",
      "32/32 [==============================] - 2s 20ms/step\n",
      "The root mean squared error is 85.68115686293626.\n",
      "The data dictionary has been saved to ../results/wind_degree_set2_window48.pkl.\n"
     ]
    }
   ],
   "source": [
    "### Everything is here in 1 Cell to avoid confusions. Later will automate this for batch processing.\n",
    "raw_data = wind_degree_data \n",
    "#Wind_Degree_Results = {} # Container for finalized data\n",
    "wind_degree_result_3, wind_degree_result_6, wind_degree_result_12, wind_degree_result_24,wind_degree_result_48 = [None, None, None, None, None]\n",
    "result_list = [wind_degree_result_3, wind_degree_result_6, wind_degree_result_12,wind_degree_result_24,wind_degree_result_48]\n",
    "param_list = [3,6,12,24,48]\n",
    "data_id = 'set2_window'\n",
    "datadir = f'../results/wind_degree_{data_id}'\n",
    "\n",
    "for p,r in zip(param_list,result_list):\n",
    "    print(f'>>> Starting Training for param = {p}...')\n",
    "    # Specify Hyperparameters, and perform training/predictions\n",
    "    hyperparameters = {\n",
    "        'n_units' : 50,'dropout_rate' : 0.2,'n_dense' : 1,'n_epochs' : 100,'n_batch' : 32,'LSTM_depth' : 3,\n",
    "        'n_train' :10000,'n_test' : 1000,\n",
    "        'window_size':p, 'scaling':'MinMax'\n",
    "    }\n",
    "    r = ML.process_training_data_and_learn(raw_data, hyperparameters)\n",
    "    ##Save_result\n",
    "    file_path  = f'{datadir}{p}.pkl' \n",
    "    savedict(file_path, dict_name=r)\n",
    "    new_data = {f'{data_id}{p}':r} \n",
    "\n",
    "    ### Provide Data Container\n",
    "    Wind_Degree_Results.update(new_data)"
   ]
  },
  {
   "cell_type": "code",
   "execution_count": null,
   "id": "d42f8726-693b-4e3d-8c33-c0c88bb438a4",
   "metadata": {},
   "outputs": [],
   "source": []
  },
  {
   "cell_type": "code",
   "execution_count": null,
   "id": "4b522e70-e1b9-4c76-93fc-6afc6bb0dc51",
   "metadata": {},
   "outputs": [],
   "source": []
  },
  {
   "cell_type": "markdown",
   "id": "f49a3642-e904-4ec5-b812-4485391d5f79",
   "metadata": {},
   "source": [
    "## 2. Wind Speed "
   ]
  },
  {
   "cell_type": "code",
   "execution_count": 8,
   "id": "92c86550-88ef-4a21-b061-32b6521a635b",
   "metadata": {},
   "outputs": [],
   "source": [
    "wind_speed_data = raw_METAR_data['wind_speed']"
   ]
  },
  {
   "cell_type": "code",
   "execution_count": 38,
   "id": "9bddb7ff-0405-4319-a78b-bceac6d18928",
   "metadata": {
    "scrolled": true
   },
   "outputs": [
    {
     "name": "stdout",
     "output_type": "stream",
     "text": [
      ">>> Starting Training for param = 6...\n",
      "Epoch 1: loss = 0.07961418479681015, duration = 6.86 seconds\n",
      "Epoch 11: loss = 0.031787484884262085, duration = 0.33 seconds\n",
      "Epoch 21: loss = 0.0251499991863966, duration = 0.36 seconds\n",
      "Epoch 31: loss = 0.02310243807733059, duration = 0.31 seconds\n",
      "Epoch 41: loss = 0.02228592522442341, duration = 0.39 seconds\n",
      "Epoch 51: loss = 0.0222468301653862, duration = 0.38 seconds\n",
      "Epoch 61: loss = 0.02201652340590954, duration = 0.41 seconds\n",
      "Epoch 71: loss = 0.022887593135237694, duration = 0.39 seconds\n",
      "Epoch 81: loss = 0.021556518971920013, duration = 0.42 seconds\n",
      "Epoch 91: loss = 0.02156267873942852, duration = 0.36 seconds\n",
      "7/7 [==============================] - 1s 3ms/step\n",
      "The root mean squared error is 2.203355744734822.\n",
      "The data dictionary has been saved to ../results/wind_speed_set1_window6.pkl.\n",
      ">>> Starting Training for param = 24...\n",
      "Epoch 1: loss = 0.06718505173921585, duration = 8.09 seconds\n",
      "Epoch 11: loss = 0.030447879806160927, duration = 0.94 seconds\n",
      "Epoch 21: loss = 0.02647877298295498, duration = 0.95 seconds\n",
      "Epoch 31: loss = 0.023976542055606842, duration = 0.96 seconds\n",
      "Epoch 41: loss = 0.022720349952578545, duration = 1.25 seconds\n",
      "Epoch 51: loss = 0.022283095866441727, duration = 1.07 seconds\n",
      "Epoch 61: loss = 0.021700192242860794, duration = 1.04 seconds\n",
      "Epoch 71: loss = 0.021240467205643654, duration = 0.90 seconds\n",
      "Epoch 81: loss = 0.020034177228808403, duration = 1.06 seconds\n",
      "Epoch 91: loss = 0.020429978147149086, duration = 0.99 seconds\n",
      "7/7 [==============================] - 1s 9ms/step\n",
      "The root mean squared error is 2.302106251826279.\n",
      "The data dictionary has been saved to ../results/wind_speed_set1_window24.pkl.\n",
      ">>> Starting Training for param = 48...\n",
      "Epoch 1: loss = 0.0654514878988266, duration = 8.79 seconds\n",
      "Epoch 11: loss = 0.03151387348771095, duration = 2.02 seconds\n",
      "Epoch 21: loss = 0.027804145589470863, duration = 1.79 seconds\n",
      "Epoch 31: loss = 0.02485457994043827, duration = 1.68 seconds\n",
      "Epoch 41: loss = 0.02288706973195076, duration = 3.27 seconds\n",
      "Epoch 51: loss = 0.02218739315867424, duration = 3.79 seconds\n",
      "Epoch 61: loss = 0.021889973431825638, duration = 2.63 seconds\n",
      "Epoch 71: loss = 0.020539691671729088, duration = 2.12 seconds\n",
      "Epoch 81: loss = 0.02019704505801201, duration = 1.64 seconds\n",
      "Epoch 91: loss = 0.020366070792078972, duration = 1.91 seconds\n",
      "7/7 [==============================] - 2s 23ms/step\n",
      "The root mean squared error is 2.317597816363458.\n",
      "The data dictionary has been saved to ../results/wind_speed_set1_window48.pkl.\n"
     ]
    }
   ],
   "source": [
    "### Everything is here in 1 Cell to avoid confusions. Later will automate this for batch processing.\n",
    "raw_data = wind_speed_data \n",
    "Wind_Speed_Results = {} # Container for finalized data\n",
    "wind_speed_result_6,wind_speed_result_24,wind_speed_result_48 = [None, None, None]\n",
    "result_list = [wind_speed_result_6,wind_speed_result_24,wind_speed_result_48]\n",
    "param_list = [6,24,48]\n",
    "data_id = 'set1_window'\n",
    "datadir = f'../results/wind_speed_{data_id}'\n",
    "\n",
    "############## NO CHANGES NEEDED Starting From HERE ###################\n",
    "for p,r in zip(param_list,result_list):\n",
    "    print(f'>>> Starting Training for param = {p}...')\n",
    "    # Specify Hyperparameters, and perform training/predictions\n",
    "    hyperparameters = {\n",
    "        'n_units' : 50,'dropout_rate' : 0.2,'n_dense' : 1,'n_epochs' : 100,'n_batch' : 32,'LSTM_depth' : 3,'n_train' :1000,'n_test' : 200,\n",
    "        'window_size':p,\n",
    "    }\n",
    "    r = ML.process_training_data_and_learn(raw_data, hyperparameters)\n",
    "    ##Save_result\n",
    "    file_path  = f'{datadir}{p}.pkl' \n",
    "    savedict(file_path, dict_name=r)\n",
    "    new_data = {f'{data_id}{p}':r} \n",
    "    ############## NO CHANGES NEEDED Up To HERE ###################\n",
    "    \n",
    "    ### Provide Data Container\n",
    "    Wind_Speed_Results.update(new_data)"
   ]
  },
  {
   "cell_type": "code",
   "execution_count": 39,
   "id": "42700904-5801-448f-a34a-b520b11e0dd8",
   "metadata": {},
   "outputs": [
    {
     "data": {
      "text/plain": [
       "<matplotlib.legend.Legend at 0x7f856d832f50>"
      ]
     },
     "execution_count": 39,
     "metadata": {},
     "output_type": "execute_result"
    },
    {
     "data": {
      "image/png": "[encoded data removed]",
      "text/plain": [
       "<Figure size 640x480 with 1 Axes>"
      ]
     },
     "metadata": {},
     "output_type": "display_data"
    }
   ],
   "source": [
    "for p in param_list:\n",
    "    d_to_plot = Wind_Speed_Results[f'set1_window{p}']\n",
    "    plt.scatter(d_to_plot['dataset_test'],d_to_plot['y_pred_scaled'], label=f'n_window = {p} ')\n",
    "plt.xlabel('Real Data')\n",
    "plt.ylabel('Predicted Data')\n",
    "plt.legend()"
   ]
  },
  {
   "cell_type": "markdown",
   "id": "cdb3f1c0-bd18-4e98-8f97-b497798ca5b6",
   "metadata": {},
   "source": [
    "#### Set 2"
   ]
  },
  {
   "cell_type": "code",
   "execution_count": 13,
   "id": "b1d6d7f8-c2e8-4f45-8a46-30c15e0a7e2e",
   "metadata": {
    "scrolled": true
   },
   "outputs": [
    {
     "name": "stdout",
     "output_type": "stream",
     "text": [
      ">>> Starting Training for param = 3...\n",
      "Epoch 1: loss = 0.01533044409006834, duration = 9.19 seconds\n",
      "Epoch 11: loss = 0.008715607225894928, duration = 2.77 seconds\n",
      "Epoch 21: loss = 0.008552580140531063, duration = 3.00 seconds\n",
      "Epoch 31: loss = 0.00854476261883974, duration = 2.82 seconds\n",
      "Epoch 41: loss = 0.00835850927978754, duration = 3.05 seconds\n",
      "Epoch 51: loss = 0.008356830105185509, duration = 2.93 seconds\n",
      "Epoch 61: loss = 0.008347850292921066, duration = 3.32 seconds\n",
      "Epoch 71: loss = 0.00827023945748806, duration = 2.49 seconds\n",
      "Epoch 81: loss = 0.008313028141856194, duration = 3.22 seconds\n",
      "Epoch 91: loss = 0.008268272504210472, duration = 3.36 seconds\n",
      "32/32 [==============================] - 1s 5ms/step\n",
      "The root mean squared error is 2.3984588793044757.\n",
      "The data dictionary has been saved to ../results/wind_speed_set2_window3.pkl.\n",
      ">>> Starting Training for param = 6...\n",
      "Epoch 1: loss = 0.01769414357841015, duration = 19.90 seconds\n",
      "Epoch 11: loss = 0.008743850514292717, duration = 4.12 seconds\n",
      "Epoch 21: loss = 0.008522232994437218, duration = 4.30 seconds\n",
      "Epoch 31: loss = 0.008333373814821243, duration = 4.17 seconds\n",
      "Epoch 41: loss = 0.008267194963991642, duration = 4.18 seconds\n",
      "Epoch 51: loss = 0.008240696974098682, duration = 5.20 seconds\n",
      "Epoch 61: loss = 0.00825803354382515, duration = 4.56 seconds\n",
      "Epoch 71: loss = 0.008173801936209202, duration = 4.11 seconds\n",
      "Epoch 81: loss = 0.008212202228605747, duration = 3.98 seconds\n",
      "Epoch 91: loss = 0.008188394829630852, duration = 3.86 seconds\n",
      "32/32 [==============================] - 1s 3ms/step\n",
      "The root mean squared error is 2.4211285216152043.\n",
      "The data dictionary has been saved to ../results/wind_speed_set2_window6.pkl.\n",
      ">>> Starting Training for param = 12...\n",
      "Epoch 1: loss = 0.018665339797735214, duration = 12.43 seconds\n",
      "Epoch 11: loss = 0.008627246133983135, duration = 6.45 seconds\n",
      "Epoch 21: loss = 0.008373803459107876, duration = 6.66 seconds\n",
      "Epoch 31: loss = 0.008206725120544434, duration = 7.53 seconds\n",
      "Epoch 41: loss = 0.008174912072718143, duration = 6.83 seconds\n",
      "Epoch 51: loss = 0.008058354258537292, duration = 6.94 seconds\n",
      "Epoch 61: loss = 0.00803691241890192, duration = 7.29 seconds\n",
      "Epoch 71: loss = 0.007991674356162548, duration = 7.30 seconds\n",
      "Epoch 81: loss = 0.007977832108736038, duration = 6.94 seconds\n",
      "Epoch 91: loss = 0.007874548435211182, duration = 6.22 seconds\n",
      "32/32 [==============================] - 2s 8ms/step\n",
      "The root mean squared error is 2.33653590578641.\n",
      "The data dictionary has been saved to ../results/wind_speed_set2_window12.pkl.\n",
      ">>> Starting Training for param = 24...\n",
      "Epoch 1: loss = 0.017396381124854088, duration = 17.78 seconds\n",
      "Epoch 11: loss = 0.00835734698921442, duration = 11.20 seconds\n",
      "Epoch 21: loss = 0.008041013963520527, duration = 9.89 seconds\n",
      "Epoch 31: loss = 0.007832217030227184, duration = 10.40 seconds\n",
      "Epoch 41: loss = 0.007715696934610605, duration = 10.54 seconds\n",
      "Epoch 51: loss = 0.0076288445852696896, duration = 10.24 seconds\n",
      "Epoch 61: loss = 0.007602232042700052, duration = 10.31 seconds\n",
      "Epoch 71: loss = 0.007610776927322149, duration = 10.68 seconds\n",
      "Epoch 81: loss = 0.007527963258326054, duration = 10.57 seconds\n",
      "Epoch 91: loss = 0.00744709512218833, duration = 10.77 seconds\n",
      "32/32 [==============================] - 2s 12ms/step\n",
      "The root mean squared error is 2.3328279461247785.\n",
      "The data dictionary has been saved to ../results/wind_speed_set2_window24.pkl.\n",
      ">>> Starting Training for param = 48...\n",
      "Epoch 1: loss = 0.018064221367239952, duration = 22.24 seconds\n",
      "Epoch 11: loss = 0.008120612241327763, duration = 16.23 seconds\n",
      "Epoch 21: loss = 0.007790642324835062, duration = 15.69 seconds\n",
      "Epoch 31: loss = 0.007664094213396311, duration = 15.99 seconds\n",
      "Epoch 41: loss = 0.007540376391261816, duration = 17.74 seconds\n",
      "Epoch 51: loss = 0.007450175005942583, duration = 16.92 seconds\n",
      "Epoch 61: loss = 0.007322747725993395, duration = 15.26 seconds\n",
      "Epoch 71: loss = 0.0073325419798493385, duration = 15.80 seconds\n",
      "Epoch 81: loss = 0.007212914060801268, duration = 16.47 seconds\n",
      "Epoch 91: loss = 0.007087336387485266, duration = 16.19 seconds\n",
      "32/32 [==============================] - 2s 18ms/step\n",
      "The root mean squared error is 2.359422116751772.\n",
      "The data dictionary has been saved to ../results/wind_speed_set2_window48.pkl.\n"
     ]
    }
   ],
   "source": [
    "### Everything is here in 1 Cell to avoid confusions. Later will automate this for batch processing.\n",
    "raw_data = wind_speed_data \n",
    "Wind_Speed_Results = {} # Container for finalized data\n",
    "wind_speed_result_3, wind_speed_result_6, wind_speed_result_12, wind_speed_result_24,wind_speed_result_48 = [None, None, None, None, None]\n",
    "result_list = [wind_speed_result_3, wind_speed_result_6, wind_speed_result_12, wind_speed_result_24,wind_speed_result_48 ]\n",
    "param_list = [3,6,12,24,48]\n",
    "data_id = 'set2_window'\n",
    "datadir = f'../results/wind_speed_{data_id}'\n",
    "\n",
    "############## NO CHANGES NEEDED Starting From HERE ###################\n",
    "for p,r in zip(param_list,result_list):\n",
    "    print(f'>>> Starting Training for param = {p}...')\n",
    "    # Specify Hyperparameters, and perform training/predictions\n",
    "    hyperparameters = {\n",
    "        'n_units' : 50,'dropout_rate' : 0.2,'n_dense' : 1,'n_epochs' : 100,'n_batch' : 32,'LSTM_depth' : 3,\n",
    "        'n_train' :10000,'n_test' : 1000,\n",
    "        'window_size':p, 'scaling':'MinMax'\n",
    "    }\n",
    "    r = ML.process_training_data_and_learn(raw_data, hyperparameters)\n",
    "    ##Save_result\n",
    "    file_path  = f'{datadir}{p}.pkl' \n",
    "    savedict(file_path, dict_name=r)\n",
    "    new_data = {f'{data_id}{p}':r} \n",
    "    ############## NO CHANGES NEEDED Up To HERE ###################\n",
    "\n",
    "    ### Provide Data Container\n",
    "    Wind_Speed_Results.update(new_data)"
   ]
  },
  {
   "cell_type": "markdown",
   "id": "80eaf3b3-c911-4a49-8a82-60ffb40bd113",
   "metadata": {},
   "source": [
    "## 3. Wind Var"
   ]
  },
  {
   "cell_type": "markdown",
   "id": "c2e7d018-8eb9-4cd0-9a53-121b5c29fa9f",
   "metadata": {},
   "source": [
    "### 3.1 Wind Var Exist ?"
   ]
  },
  {
   "cell_type": "code",
   "execution_count": null,
   "id": "486f90f7-4e90-4277-a36d-842c9bae3354",
   "metadata": {},
   "outputs": [],
   "source": []
  },
  {
   "cell_type": "markdown",
   "id": "7433e8f4-49e5-4c4b-9325-cf48b04cbf18",
   "metadata": {},
   "source": [
    "### 3.2 Wind Var Min"
   ]
  },
  {
   "cell_type": "code",
   "execution_count": null,
   "id": "6939daf7-1532-4cf1-8858-675245254922",
   "metadata": {},
   "outputs": [],
   "source": []
  },
  {
   "cell_type": "code",
   "execution_count": null,
   "id": "a18c872f-9d1e-48ab-bde3-1ec31692c0c0",
   "metadata": {},
   "outputs": [],
   "source": []
  },
  {
   "cell_type": "markdown",
   "id": "74c0feeb-06bb-41bc-a6dd-a0adf24edf84",
   "metadata": {},
   "source": [
    "### 3.3. Wind Var Max"
   ]
  },
  {
   "cell_type": "code",
   "execution_count": null,
   "id": "6340d8b6-0d39-474c-876c-9ffdff156daa",
   "metadata": {},
   "outputs": [],
   "source": []
  },
  {
   "cell_type": "code",
   "execution_count": null,
   "id": "5a4a5020-b3a5-4ff6-b4cf-30625bdd3f25",
   "metadata": {},
   "outputs": [],
   "source": []
  },
  {
   "cell_type": "markdown",
   "id": "c8d4e3b5-e423-4b31-ba33-d7351a49838f",
   "metadata": {},
   "source": [
    "## 4. Clouds"
   ]
  },
  {
   "cell_type": "code",
   "execution_count": null,
   "id": "5edf2f02-4a6f-4f77-be96-8800027f1cdb",
   "metadata": {},
   "outputs": [],
   "source": []
  },
  {
   "cell_type": "markdown",
   "id": "ecdc8a31-4657-4378-a006-aa7ec01821fe",
   "metadata": {},
   "source": [
    "### 4.1 N_Clouds Classification"
   ]
  },
  {
   "cell_type": "code",
   "execution_count": 12,
   "id": "30a944f8-a646-4c91-80b4-7dcd4012db53",
   "metadata": {},
   "outputs": [],
   "source": [
    "cloud_layers_data = raw_METAR_data['n_cloud_layers']"
   ]
  },
  {
   "cell_type": "code",
   "execution_count": 44,
   "id": "37cfabc1-17e4-4d23-b8b9-003985f63a63",
   "metadata": {
    "scrolled": true
   },
   "outputs": [
    {
     "name": "stdout",
     "output_type": "stream",
     "text": [
      ">>> Starting Training for param = 6...\n",
      "Epoch 1: loss = 0.11144516617059708, duration = 7.20 seconds\n",
      "Epoch 11: loss = 0.04622023552656174, duration = 0.34 seconds\n",
      "Epoch 21: loss = 0.03513141721487045, duration = 0.36 seconds\n",
      "Epoch 31: loss = 0.032131753861904144, duration = 0.40 seconds\n",
      "Epoch 41: loss = 0.03269817680120468, duration = 0.30 seconds\n",
      "Epoch 51: loss = 0.03199993818998337, duration = 0.43 seconds\n",
      "Epoch 61: loss = 0.030251501128077507, duration = 0.43 seconds\n",
      "Epoch 71: loss = 0.03111131303012371, duration = 0.38 seconds\n",
      "Epoch 81: loss = 0.029957883059978485, duration = 0.43 seconds\n",
      "Epoch 91: loss = 0.030289407819509506, duration = 0.38 seconds\n",
      "7/7 [==============================] - 1s 4ms/step\n",
      "The root mean squared error is 0.5801299585503853.\n",
      "The data dictionary has been saved to ../results/cloud_layers_set1_window6.pkl.\n",
      ">>> Starting Training for param = 24...\n",
      "Epoch 1: loss = 0.0964154303073883, duration = 7.58 seconds\n",
      "Epoch 11: loss = 0.04562918841838837, duration = 1.01 seconds\n",
      "Epoch 21: loss = 0.03495483100414276, duration = 0.90 seconds\n",
      "Epoch 31: loss = 0.03253856301307678, duration = 0.97 seconds\n",
      "Epoch 41: loss = 0.031045790761709213, duration = 0.91 seconds\n",
      "Epoch 51: loss = 0.030913792550563812, duration = 1.03 seconds\n",
      "Epoch 61: loss = 0.030567390844225883, duration = 1.13 seconds\n",
      "Epoch 71: loss = 0.03099302016198635, duration = 1.03 seconds\n",
      "Epoch 81: loss = 0.03086313046514988, duration = 0.96 seconds\n",
      "Epoch 91: loss = 0.030503561720252037, duration = 1.12 seconds\n",
      "7/7 [==============================] - 1s 13ms/step\n",
      "The root mean squared error is 0.612490726888703.\n",
      "The data dictionary has been saved to ../results/cloud_layers_set1_window24.pkl.\n",
      ">>> Starting Training for param = 48...\n",
      "Epoch 1: loss = 0.08838190883398056, duration = 7.85 seconds\n",
      "Epoch 11: loss = 0.04413360729813576, duration = 1.76 seconds\n",
      "Epoch 21: loss = 0.03579128906130791, duration = 1.79 seconds\n",
      "Epoch 31: loss = 0.03375563770532608, duration = 1.84 seconds\n",
      "Epoch 41: loss = 0.03139811381697655, duration = 1.66 seconds\n",
      "Epoch 51: loss = 0.031943775713443756, duration = 1.57 seconds\n",
      "Epoch 61: loss = 0.03090706840157509, duration = 2.02 seconds\n",
      "Epoch 71: loss = 0.030886651948094368, duration = 2.15 seconds\n",
      "Epoch 81: loss = 0.03076978214085102, duration = 1.96 seconds\n",
      "Epoch 91: loss = 0.028976034373044968, duration = 1.74 seconds\n",
      "7/7 [==============================] - 1s 18ms/step\n",
      "The root mean squared error is 0.5941094290621449.\n",
      "The data dictionary has been saved to ../results/cloud_layers_set1_window48.pkl.\n"
     ]
    }
   ],
   "source": [
    "### Everything is here in 1 Cell to avoid confusions. Later will automate this for batch processing.\n",
    "raw_data = cloud_layers_data\n",
    "Cloud_Layers_Results = {} # Container for finalized data\n",
    "cloud_layers_result_6,cloud_layers_result_24,cloud_layers_result_48 = [None, None, None]\n",
    "result_list = [cloud_layers_result_6,cloud_layers_result_24,cloud_layers_result_48]\n",
    "param_list = [6,24,48]\n",
    "data_id = 'set1_window'\n",
    "datadir = f'../results/cloud_layers_{data_id}'\n",
    "\n",
    "############## NO CHANGES NEEDED Starting From HERE ###################\n",
    "for p,r in zip(param_list,result_list):\n",
    "    print(f'>>> Starting Training for param = {p}...')\n",
    "    # Specify Hyperparameters, and perform training/predictions\n",
    "    hyperparameters = {\n",
    "        'n_units' : 50,'dropout_rate' : 0.2,'n_dense' : 1,'n_epochs' : 100,'n_batch' : 32,'LSTM_depth' : 3,'n_train' :1000,'n_test' : 200,\n",
    "        'window_size':p,\n",
    "    }\n",
    "    r = ML.process_training_data_and_learn(raw_data, hyperparameters)\n",
    "    ##Save_result\n",
    "    file_path  = f'{datadir}{p}.pkl' \n",
    "    savedict(file_path, dict_name=r)\n",
    "    new_data = {f'{data_id}{p}':r} \n",
    "    ############## NO CHANGES NEEDED Up To HERE ###################\n",
    "    \n",
    "    ### Provide Data Container\n",
    "    Cloud_Layers_Results.update(new_data)"
   ]
  },
  {
   "cell_type": "code",
   "execution_count": 62,
   "id": "0dc992c3-262f-4c0b-9b4e-49534e8b7d82",
   "metadata": {
    "scrolled": true
   },
   "outputs": [
    {
     "name": "stdout",
     "output_type": "stream",
     "text": [
      ">>> Starting Training for param = 6...\n",
      "Epoch 1: loss = 1.9275579452514648, duration = 8.79 seconds\n",
      "Epoch 11: loss = 0.645940363407135, duration = 0.48 seconds\n",
      "Epoch 21: loss = 0.5567461848258972, duration = 0.40 seconds\n",
      "Epoch 31: loss = 0.5328808426856995, duration = 0.57 seconds\n",
      "Epoch 41: loss = 0.5220677256584167, duration = 0.43 seconds\n",
      "Epoch 51: loss = 0.5060551762580872, duration = 0.43 seconds\n",
      "Epoch 61: loss = 0.5098639726638794, duration = 0.34 seconds\n",
      "Epoch 71: loss = 0.49676549434661865, duration = 0.39 seconds\n",
      "Epoch 81: loss = 0.49879348278045654, duration = 0.39 seconds\n",
      "Epoch 91: loss = 0.4892899990081787, duration = 0.42 seconds\n",
      "7/7 [==============================] - 2s 4ms/step\n",
      "The root mean squared error is 0.612922782844743.\n",
      "The data dictionary has been saved to ../results/cloud_layers_no_scale_set1_window6.pkl.\n",
      ">>> Starting Training for param = 24...\n",
      "Epoch 1: loss = 1.5679454803466797, duration = 10.85 seconds\n",
      "Epoch 11: loss = 0.5656049251556396, duration = 1.17 seconds\n",
      "Epoch 21: loss = 0.5162831544876099, duration = 0.95 seconds\n",
      "Epoch 31: loss = 0.5153833627700806, duration = 1.01 seconds\n",
      "Epoch 41: loss = 0.5067280530929565, duration = 0.80 seconds\n",
      "Epoch 51: loss = 0.4911803901195526, duration = 1.08 seconds\n",
      "Epoch 61: loss = 0.4863995313644409, duration = 0.83 seconds\n",
      "Epoch 71: loss = 0.49771228432655334, duration = 0.92 seconds\n",
      "Epoch 81: loss = 0.49100974202156067, duration = 1.11 seconds\n",
      "Epoch 91: loss = 0.4773145020008087, duration = 1.07 seconds\n",
      "7/7 [==============================] - 1s 8ms/step\n",
      "The root mean squared error is 0.8990276489900342.\n",
      "The data dictionary has been saved to ../results/cloud_layers_no_scale_set1_window24.pkl.\n",
      ">>> Starting Training for param = 48...\n",
      "Epoch 1: loss = 1.449973702430725, duration = 12.80 seconds\n",
      "Epoch 11: loss = 0.606735348701477, duration = 1.92 seconds\n",
      "Epoch 21: loss = 0.5424261093139648, duration = 1.79 seconds\n",
      "Epoch 31: loss = 0.5004677772521973, duration = 1.87 seconds\n",
      "Epoch 41: loss = 0.5042392015457153, duration = 1.92 seconds\n",
      "Epoch 51: loss = 0.5035777688026428, duration = 1.67 seconds\n",
      "Epoch 61: loss = 0.5039026737213135, duration = 1.73 seconds\n",
      "Epoch 71: loss = 0.4979225993156433, duration = 1.69 seconds\n",
      "Epoch 81: loss = 0.46994879841804504, duration = 2.26 seconds\n",
      "Epoch 91: loss = 0.4817028343677521, duration = 1.73 seconds\n",
      "7/7 [==============================] - 2s 16ms/step\n",
      "The root mean squared error is 0.6227720087489862.\n",
      "The data dictionary has been saved to ../results/cloud_layers_no_scale_set1_window48.pkl.\n"
     ]
    }
   ],
   "source": [
    "### Everything is here in 1 Cell to avoid confusions. Later will automate this for batch processing.\n",
    "raw_data = cloud_layers_data\n",
    "Cloud_Layers_Results_no_scale = {} # Container for finalized data\n",
    "cloud_layers_result_6,cloud_layers_result_24,cloud_layers_result_48 = [None, None, None]\n",
    "result_list = [cloud_layers_result_6,cloud_layers_result_24,cloud_layers_result_48]\n",
    "param_list = [6,24,48]\n",
    "data_id = 'set1_window'\n",
    "datadir = f'../results/cloud_layers_no_scale_{data_id}'\n",
    "\n",
    "############## NO CHANGES NEEDED Starting From HERE ###################\n",
    "for p,r in zip(param_list,result_list):\n",
    "    print(f'>>> Starting Training for param = {p}...')\n",
    "    # Specify Hyperparameters, and perform training/predictions\n",
    "    hyperparameters = {\n",
    "        'n_units' : 50,'dropout_rate' : 0.2,'n_dense' : 1,'n_epochs' : 100,'n_batch' : 32,'LSTM_depth' : 3,'n_train' :1000,'n_test' : 200,\n",
    "        'window_size':p, 'scaling' : 'Normal',\n",
    "    }\n",
    "    ## Default scaling should be 'MinMax', which range from (0,1)\n",
    "    r = ML.process_training_data_and_learn(raw_data, hyperparameters)\n",
    "    ##Save_result\n",
    "    file_path  = f'{datadir}{p}.pkl' \n",
    "    savedict(file_path, dict_name=r)\n",
    "    new_data = {f'{data_id}{p}':r} \n",
    "    ############## NO CHANGES NEEDED Up To HERE ###################\n",
    "    \n",
    "    ### Provide Data Container\n",
    "    Cloud_Layers_Results_no_scale.update(new_data)\n",
    "\n",
    "# NO_SCALE DOESN'T HELP in this case."
   ]
  },
  {
   "cell_type": "code",
   "execution_count": 54,
   "id": "839ceeeb-c9f6-4f5c-b967-ef21b1e7ca94",
   "metadata": {},
   "outputs": [
    {
     "data": {
      "text/plain": [
       "<matplotlib.legend.Legend at 0x7f856ac52410>"
      ]
     },
     "execution_count": 54,
     "metadata": {},
     "output_type": "execute_result"
    },
    {
     "data": {
      "image/png": "[encoded data removed]",
      "text/plain": [
       "<Figure size 640x480 with 1 Axes>"
      ]
     },
     "metadata": {},
     "output_type": "display_data"
    }
   ],
   "source": [
    "for p in param_list:\n",
    "    d_to_plot = Cloud_Layers_Results[f'set1_window{p}']\n",
    "    plt.scatter(d_to_plot['dataset_test'],d_to_plot['y_pred_scaled'], label=f'n_window = {p} ')\n",
    "plt.xlim(0,7)\n",
    "plt.ylim(0,7)\n",
    "plt.xlabel('Real Data')\n",
    "plt.ylabel('Predicted Data')\n",
    "plt.legend()"
   ]
  },
  {
   "cell_type": "code",
   "execution_count": 53,
   "id": "d981543a-c3bd-448b-a6aa-2c3b6db90b73",
   "metadata": {},
   "outputs": [
    {
     "data": {
      "text/plain": [
       "<matplotlib.legend.Legend at 0x7f855f0a53f0>"
      ]
     },
     "execution_count": 53,
     "metadata": {},
     "output_type": "execute_result"
    },
    {
     "data": {
      "image/png": "[encoded data removed]",
      "text/plain": [
       "<Figure size 640x480 with 1 Axes>"
      ]
     },
     "metadata": {},
     "output_type": "display_data"
    }
   ],
   "source": [
    "# for p in param_list:\n",
    "#     d_to_plot = Cloud_Layers_Results[f'set1_window{p}']\n",
    "#     plt.scatter(d_to_plot['dataset_test'],d_to_plot['y_pred_scaled'], label=f'n_window = {p} ')\n",
    "for p in param_list:\n",
    "    d_to_plot = Cloud_Layers_Results[f'set1_window{p}']\n",
    "    plt.scatter(d_to_plot['dataset_test'],np.around(d_to_plot['y_pred_scaled']), label=f'n_window = {p} rounded ')\n",
    "plt.xlim(0,7)\n",
    "plt.ylim(0,7)\n",
    "plt.xlabel('Real Data')\n",
    "plt.ylabel('Predicted Data')\n",
    "plt.legend()"
   ]
  },
  {
   "cell_type": "code",
   "execution_count": 13,
   "id": "25676ce5-8473-4ac7-9e35-da6811aa7efc",
   "metadata": {},
   "outputs": [],
   "source": [
    "### Set2"
   ]
  },
  {
   "cell_type": "code",
   "execution_count": 14,
   "id": "0bd97c82-8d49-40d8-95cc-df9f8329afcb",
   "metadata": {
    "scrolled": true
   },
   "outputs": [
    {
     "name": "stdout",
     "output_type": "stream",
     "text": [
      ">>> Starting Training for param = 3...\n",
      "Epoch 1: loss = 0.03717038407921791, duration = 8.53 seconds\n",
      "Epoch 11: loss = 0.020861128345131874, duration = 2.50 seconds\n",
      "Epoch 21: loss = 0.020533785223960876, duration = 2.77 seconds\n",
      "Epoch 31: loss = 0.02051580511033535, duration = 2.36 seconds\n",
      "Epoch 41: loss = 0.02036341466009617, duration = 2.63 seconds\n",
      "Epoch 51: loss = 0.02024827152490616, duration = 2.74 seconds\n",
      "Epoch 61: loss = 0.020361732691526413, duration = 2.46 seconds\n",
      "Epoch 71: loss = 0.020289624109864235, duration = 2.39 seconds\n",
      "Epoch 81: loss = 0.020291024819016457, duration = 2.95 seconds\n",
      "Epoch 91: loss = 0.020208068192005157, duration = 2.55 seconds\n",
      "32/32 [==============================] - 2s 4ms/step\n",
      "The root mean squared error is 0.7051284032985138.\n",
      "The data dictionary has been saved to ../results/cloud_layers_set2_window3.pkl.\n",
      ">>> Starting Training for param = 6...\n",
      "Epoch 1: loss = 0.03866668418049812, duration = 10.99 seconds\n",
      "Epoch 11: loss = 0.020878147333860397, duration = 3.64 seconds\n",
      "Epoch 21: loss = 0.020489707589149475, duration = 4.16 seconds\n",
      "Epoch 31: loss = 0.020369796082377434, duration = 3.81 seconds\n",
      "Epoch 41: loss = 0.020234661176800728, duration = 3.85 seconds\n",
      "Epoch 51: loss = 0.020159030333161354, duration = 3.77 seconds\n",
      "Epoch 61: loss = 0.02018800936639309, duration = 3.87 seconds\n",
      "Epoch 71: loss = 0.02024012804031372, duration = 3.59 seconds\n",
      "Epoch 81: loss = 0.01996537670493126, duration = 3.96 seconds\n",
      "Epoch 91: loss = 0.020095329731702805, duration = 3.92 seconds\n",
      "32/32 [==============================] - 1s 4ms/step\n",
      "The root mean squared error is 0.6952265014586436.\n",
      "The data dictionary has been saved to ../results/cloud_layers_set2_window6.pkl.\n",
      ">>> Starting Training for param = 12...\n",
      "Epoch 1: loss = 0.04010731354355812, duration = 11.99 seconds\n",
      "Epoch 11: loss = 0.02092035673558712, duration = 6.31 seconds\n",
      "Epoch 21: loss = 0.020464088767766953, duration = 5.54 seconds\n",
      "Epoch 31: loss = 0.020492231473326683, duration = 5.96 seconds\n",
      "Epoch 41: loss = 0.020215816795825958, duration = 5.72 seconds\n",
      "Epoch 51: loss = 0.020293429493904114, duration = 5.40 seconds\n",
      "Epoch 61: loss = 0.02002221904695034, duration = 5.68 seconds\n",
      "Epoch 71: loss = 0.01996546983718872, duration = 6.22 seconds\n",
      "Epoch 81: loss = 0.020041387528181076, duration = 5.90 seconds\n",
      "Epoch 91: loss = 0.01996980607509613, duration = 5.97 seconds\n",
      "32/32 [==============================] - 1s 5ms/step\n",
      "The root mean squared error is 0.6981212439321843.\n",
      "The data dictionary has been saved to ../results/cloud_layers_set2_window12.pkl.\n",
      ">>> Starting Training for param = 24...\n",
      "Epoch 1: loss = 0.03902343660593033, duration = 15.64 seconds\n",
      "Epoch 11: loss = 0.02060079015791416, duration = 9.84 seconds\n",
      "Epoch 21: loss = 0.020312556996941566, duration = 10.12 seconds\n",
      "Epoch 31: loss = 0.019840262830257416, duration = 10.44 seconds\n",
      "Epoch 41: loss = 0.019872309640049934, duration = 10.35 seconds\n",
      "Epoch 51: loss = 0.019753780215978622, duration = 9.73 seconds\n",
      "Epoch 61: loss = 0.019597064703702927, duration = 10.06 seconds\n",
      "Epoch 71: loss = 0.019399600103497505, duration = 10.46 seconds\n",
      "Epoch 81: loss = 0.019425006583333015, duration = 9.94 seconds\n",
      "Epoch 91: loss = 0.01917571946978569, duration = 10.77 seconds\n",
      "32/32 [==============================] - 2s 9ms/step\n",
      "The root mean squared error is 0.6842654957271912.\n",
      "The data dictionary has been saved to ../results/cloud_layers_set2_window24.pkl.\n",
      ">>> Starting Training for param = 48...\n",
      "Epoch 1: loss = 0.03949158266186714, duration = 19.14 seconds\n",
      "Epoch 11: loss = 0.0204919520765543, duration = 14.00 seconds\n",
      "Epoch 21: loss = 0.019834252074360847, duration = 15.04 seconds\n",
      "Epoch 31: loss = 0.019671887159347534, duration = 15.61 seconds\n",
      "Epoch 41: loss = 0.01960577629506588, duration = 14.81 seconds\n",
      "Epoch 51: loss = 0.019527141004800797, duration = 15.20 seconds\n",
      "Epoch 61: loss = 0.019509082660079002, duration = 14.00 seconds\n",
      "Epoch 71: loss = 0.019271742552518845, duration = 14.97 seconds\n",
      "Epoch 81: loss = 0.01905183121562004, duration = 14.52 seconds\n",
      "Epoch 91: loss = 0.018854863941669464, duration = 14.62 seconds\n",
      "32/32 [==============================] - 2s 14ms/step\n",
      "The root mean squared error is 0.6811814233870612.\n",
      "The data dictionary has been saved to ../results/cloud_layers_set2_window48.pkl.\n"
     ]
    }
   ],
   "source": [
    "### Everything is here in 1 Cell to avoid confusions. Later will automate this for batch processing.\n",
    "raw_data = cloud_layers_data \n",
    "Cloud_Layers_Results = {} # Container for finalized data # NEED TO BE OF if data already exit to avoid cleaned up [So Don't run now]\n",
    "cloud_layers_result_3, cloud_layers_result_6,cloud_layers_result_12,cloud_layers_result_24,cloud_layers_result_48 = [None, None, None,None,None]\n",
    "result_list = [cloud_layers_result_3, cloud_layers_result_6,cloud_layers_result_12,cloud_layers_result_24,cloud_layers_result_48]\n",
    "param_list = [3, 6,12, 24,48]\n",
    "data_id = 'set2_window'\n",
    "datadir = f'../results/cloud_layers_{data_id}'\n",
    "\n",
    "############## NO CHANGES NEEDED Starting From HERE ###################\n",
    "for p,r in zip(param_list,result_list):\n",
    "    print(f'>>> Starting Training for param = {p}...')\n",
    "    # Specify Hyperparameters, and perform training/predictions\n",
    "    hyperparameters = {\n",
    "        'n_units' : 50,'dropout_rate' : 0.2,'n_dense' : 1,'n_epochs' : 100,'n_batch' : 32,'LSTM_depth' : 3,\n",
    "        'n_train' :10000,'n_test' : 1000,\n",
    "        'window_size':p, 'scaling': 'MinMax'\n",
    "    }\n",
    "    r = ML.process_training_data_and_learn(raw_data, hyperparameters)\n",
    "    ##Save_result\n",
    "    file_path  = f'{datadir}{p}.pkl' \n",
    "    savedict(file_path, dict_name=r)\n",
    "    new_data = {f'{data_id}{p}':r} \n",
    "    ############## NO CHANGES NEEDED Up To HERE ###################\n",
    "    \n",
    "    ### Provide Data Container\n",
    "    Cloud_Layers_Results.update(new_data)"
   ]
  },
  {
   "cell_type": "markdown",
   "id": "c5dfeda3-0ff3-4f2a-8bbe-bf6677525c02",
   "metadata": {},
   "source": [
    "### 4.2 Cloud_heights for each layers "
   ]
  },
  {
   "cell_type": "code",
   "execution_count": 15,
   "id": "8a22d41b-addb-4b86-9662-3bf2af7ba04e",
   "metadata": {},
   "outputs": [
    {
     "data": {
      "text/plain": [
       "dict_keys(['year', 'month', 'day', 'hour', 'minute', 'wind_speed', 'wind_direction', 'wind_gust', 'wind_degrees', 'wind_unit', 'wind_min_ver', 'wind_max_var', 'visibility_distance', 'visibility_min_dis', 'visibility_min_dir', 'clouds', 'n_cloud_layers', 'clouds_0_layer', 'clouds_1_layer', 'clouds_2_layer', 'clouds_3_layer', 'clouds_4_layer', 'clouds_5_layer', 'clouds_6_layer', 'temperature', 'dew', 'air_pressure'])"
      ]
     },
     "execution_count": 15,
     "metadata": {},
     "output_type": "execute_result"
    }
   ],
   "source": [
    "# Layer1 \n",
    "raw_METAR_data.keys()"
   ]
  },
  {
   "cell_type": "code",
   "execution_count": 25,
   "id": "f350b2b5-1105-4155-8b8c-48d16c83955d",
   "metadata": {},
   "outputs": [],
   "source": [
    "cloud_1_height = raw_METAR_data['clouds_1_layer']['layer_1']['height']\n",
    "cloud_1_type = raw_METAR_data['clouds_1_layer']['layer_1']['quantity_num']"
   ]
  },
  {
   "cell_type": "code",
   "execution_count": null,
   "id": "9b43ffac-363d-4886-889d-f0b16ede43aa",
   "metadata": {},
   "outputs": [],
   "source": [
    "# Check for NaN and Fix"
   ]
  },
  {
   "cell_type": "code",
   "execution_count": 27,
   "id": "1e3740d8-b818-4414-b7df-74cc767fd1d1",
   "metadata": {
    "scrolled": true
   },
   "outputs": [
    {
     "name": "stdout",
     "output_type": "stream",
     "text": [
      ">>> Starting Training for param = 3...\n",
      "Epoch 1: loss = nan, duration = 10.09 seconds\n",
      "Epoch 11: loss = nan, duration = 2.80 seconds\n",
      "Epoch 21: loss = nan, duration = 2.43 seconds\n"
     ]
    },
    {
     "ename": "KeyboardInterrupt",
     "evalue": "",
     "output_type": "error",
     "traceback": [
      "\u001b[0;31m---------------------------------------------------------------------------\u001b[0m",
      "\u001b[0;31mKeyboardInterrupt\u001b[0m                         Traceback (most recent call last)",
      "Cell \u001b[0;32mIn[27], line 19\u001b[0m\n\u001b[1;32m     13\u001b[0m \u001b[38;5;66;03m# Specify Hyperparameters, and perform training/predictions\u001b[39;00m\n\u001b[1;32m     14\u001b[0m hyperparameters \u001b[38;5;241m=\u001b[39m {\n\u001b[1;32m     15\u001b[0m     \u001b[38;5;124m'\u001b[39m\u001b[38;5;124mn_units\u001b[39m\u001b[38;5;124m'\u001b[39m : \u001b[38;5;241m50\u001b[39m,\u001b[38;5;124m'\u001b[39m\u001b[38;5;124mdropout_rate\u001b[39m\u001b[38;5;124m'\u001b[39m : \u001b[38;5;241m0.2\u001b[39m,\u001b[38;5;124m'\u001b[39m\u001b[38;5;124mn_dense\u001b[39m\u001b[38;5;124m'\u001b[39m : \u001b[38;5;241m1\u001b[39m,\u001b[38;5;124m'\u001b[39m\u001b[38;5;124mn_epochs\u001b[39m\u001b[38;5;124m'\u001b[39m : \u001b[38;5;241m100\u001b[39m,\u001b[38;5;124m'\u001b[39m\u001b[38;5;124mn_batch\u001b[39m\u001b[38;5;124m'\u001b[39m : \u001b[38;5;241m32\u001b[39m,\u001b[38;5;124m'\u001b[39m\u001b[38;5;124mLSTM_depth\u001b[39m\u001b[38;5;124m'\u001b[39m : \u001b[38;5;241m3\u001b[39m,\n\u001b[1;32m     16\u001b[0m     \u001b[38;5;124m'\u001b[39m\u001b[38;5;124mn_train\u001b[39m\u001b[38;5;124m'\u001b[39m :\u001b[38;5;241m10000\u001b[39m,\u001b[38;5;124m'\u001b[39m\u001b[38;5;124mn_test\u001b[39m\u001b[38;5;124m'\u001b[39m : \u001b[38;5;241m1000\u001b[39m,\n\u001b[1;32m     17\u001b[0m     \u001b[38;5;124m'\u001b[39m\u001b[38;5;124mwindow_size\u001b[39m\u001b[38;5;124m'\u001b[39m:p, \u001b[38;5;124m'\u001b[39m\u001b[38;5;124mscaling\u001b[39m\u001b[38;5;124m'\u001b[39m: \u001b[38;5;124m'\u001b[39m\u001b[38;5;124mMinMax\u001b[39m\u001b[38;5;124m'\u001b[39m\n\u001b[1;32m     18\u001b[0m }\n\u001b[0;32m---> 19\u001b[0m r \u001b[38;5;241m=\u001b[39m \u001b[43mML\u001b[49m\u001b[38;5;241;43m.\u001b[39;49m\u001b[43mprocess_training_data_and_learn\u001b[49m\u001b[43m(\u001b[49m\u001b[43mraw_data\u001b[49m\u001b[43m,\u001b[49m\u001b[43m \u001b[49m\u001b[43mhyperparameters\u001b[49m\u001b[43m)\u001b[49m\n\u001b[1;32m     20\u001b[0m \u001b[38;5;66;03m##Save_result\u001b[39;00m\n\u001b[1;32m     21\u001b[0m file_path  \u001b[38;5;241m=\u001b[39m \u001b[38;5;124mf\u001b[39m\u001b[38;5;124m'\u001b[39m\u001b[38;5;132;01m{\u001b[39;00mdatadir\u001b[38;5;132;01m}\u001b[39;00m\u001b[38;5;132;01m{\u001b[39;00mp\u001b[38;5;132;01m}\u001b[39;00m\u001b[38;5;124m.pkl\u001b[39m\u001b[38;5;124m'\u001b[39m \n",
      "File \u001b[0;32m/home/Lakehouse/DreamBrookPy/DreamBrookPy/MachineLearning.py:262\u001b[0m, in \u001b[0;36mprocess_training_data_and_learn\u001b[0;34m(raw_data, hyperparameters)\u001b[0m\n\u001b[1;32m    259\u001b[0m x_train, y_train \u001b[38;5;241m=\u001b[39m prepare_training_data(training_set_scaled, window_size)\n\u001b[1;32m    261\u001b[0m \u001b[38;5;66;03m# Start model training , also consider other opt and loss mech later, L2 etc. \u001b[39;00m\n\u001b[0;32m--> 262\u001b[0m model \u001b[38;5;241m=\u001b[39m \u001b[43mbuild_LSTM\u001b[49m\u001b[43m(\u001b[49m\u001b[43mx_train\u001b[49m\u001b[43m,\u001b[49m\u001b[43m \u001b[49m\u001b[43my_train\u001b[49m\u001b[43m,\u001b[49m\u001b[43m \u001b[49m\u001b[43mn_units\u001b[49m\u001b[43m,\u001b[49m\u001b[43m \u001b[49m\u001b[43mdropout_rate\u001b[49m\u001b[43m,\u001b[49m\u001b[43m \u001b[49m\u001b[43mn_dense\u001b[49m\u001b[43m,\u001b[49m\u001b[43m \u001b[49m\u001b[43mn_epochs\u001b[49m\u001b[43m,\u001b[49m\u001b[43m \u001b[49m\u001b[43mn_batch\u001b[49m\u001b[43m,\u001b[49m\u001b[43m \u001b[49m\u001b[43mLSTM_depth\u001b[49m\u001b[43m,\u001b[49m\n\u001b[1;32m    263\u001b[0m \u001b[43m           \u001b[49m\u001b[43mopt_type\u001b[49m\u001b[38;5;241;43m=\u001b[39;49m\u001b[38;5;124;43m'\u001b[39;49m\u001b[38;5;124;43madam\u001b[39;49m\u001b[38;5;124;43m'\u001b[39;49m\u001b[43m,\u001b[49m\u001b[43mloss_type\u001b[49m\u001b[38;5;241;43m=\u001b[39;49m\u001b[38;5;124;43m'\u001b[39;49m\u001b[38;5;124;43mmean_squared_error\u001b[39;49m\u001b[38;5;124;43m'\u001b[39;49m\u001b[43m)\u001b[49m\n\u001b[1;32m    265\u001b[0m \u001b[38;5;66;03m# Prepare Test data\u001b[39;00m\n\u001b[1;32m    266\u001b[0m inputs \u001b[38;5;241m=\u001b[39m dataset_total[\u001b[38;5;28mlen\u001b[39m(dataset_total) \u001b[38;5;241m-\u001b[39m \u001b[38;5;28mlen\u001b[39m(dataset_test) \u001b[38;5;241m-\u001b[39m window_size:]\u001b[38;5;241m.\u001b[39mvalues\n",
      "File \u001b[0;32m/home/Lakehouse/DreamBrookPy/DreamBrookPy/MachineLearning.py:159\u001b[0m, in \u001b[0;36mbuild_LSTM\u001b[0;34m(x_train, y_train, n_units, dropout_rate, n_dense, n_epochs, n_batch, LSTM_depth, opt_type, loss_type)\u001b[0m\n\u001b[1;32m    156\u001b[0m regressor\u001b[38;5;241m.\u001b[39mcompile(optimizer \u001b[38;5;241m=\u001b[39m opt_type, loss \u001b[38;5;241m=\u001b[39m loss_type)\n\u001b[1;32m    158\u001b[0m \u001b[38;5;66;03m# Define batch size and training durations.\u001b[39;00m\n\u001b[0;32m--> 159\u001b[0m \u001b[43mregressor\u001b[49m\u001b[38;5;241;43m.\u001b[39;49m\u001b[43mfit\u001b[49m\u001b[43m(\u001b[49m\u001b[43mx_train\u001b[49m\u001b[43m,\u001b[49m\u001b[43m \u001b[49m\u001b[43my_train\u001b[49m\u001b[43m,\u001b[49m\u001b[43m \u001b[49m\u001b[43mepochs\u001b[49m\u001b[43m \u001b[49m\u001b[38;5;241;43m=\u001b[39;49m\u001b[43m \u001b[49m\u001b[43mn_epochs\u001b[49m\u001b[43m,\u001b[49m\u001b[43m \u001b[49m\u001b[43mbatch_size\u001b[49m\u001b[43m \u001b[49m\u001b[38;5;241;43m=\u001b[39;49m\u001b[43m \u001b[49m\u001b[43mn_batch\u001b[49m\u001b[43m,\u001b[49m\u001b[43m \u001b[49m\u001b[43mverbose\u001b[49m\u001b[38;5;241;43m=\u001b[39;49m\u001b[38;5;241;43m0\u001b[39;49m\u001b[43m,\u001b[49m\u001b[43m \u001b[49m\u001b[43mcallbacks\u001b[49m\u001b[38;5;241;43m=\u001b[39;49m\u001b[43m[\u001b[49m\u001b[43mPrintEpochCallback\u001b[49m\u001b[43m(\u001b[49m\u001b[43m)\u001b[49m\u001b[43m]\u001b[49m\u001b[43m)\u001b[49m\n\u001b[1;32m    161\u001b[0m \u001b[38;5;28;01mreturn\u001b[39;00m regressor\n",
      "File \u001b[0;32m/usr/local/lib/python3.10/dist-packages/keras/src/utils/traceback_utils.py:65\u001b[0m, in \u001b[0;36mfilter_traceback.<locals>.error_handler\u001b[0;34m(*args, **kwargs)\u001b[0m\n\u001b[1;32m     63\u001b[0m filtered_tb \u001b[38;5;241m=\u001b[39m \u001b[38;5;28;01mNone\u001b[39;00m\n\u001b[1;32m     64\u001b[0m \u001b[38;5;28;01mtry\u001b[39;00m:\n\u001b[0;32m---> 65\u001b[0m     \u001b[38;5;28;01mreturn\u001b[39;00m \u001b[43mfn\u001b[49m\u001b[43m(\u001b[49m\u001b[38;5;241;43m*\u001b[39;49m\u001b[43margs\u001b[49m\u001b[43m,\u001b[49m\u001b[43m \u001b[49m\u001b[38;5;241;43m*\u001b[39;49m\u001b[38;5;241;43m*\u001b[39;49m\u001b[43mkwargs\u001b[49m\u001b[43m)\u001b[49m\n\u001b[1;32m     66\u001b[0m \u001b[38;5;28;01mexcept\u001b[39;00m \u001b[38;5;167;01mException\u001b[39;00m \u001b[38;5;28;01mas\u001b[39;00m e:\n\u001b[1;32m     67\u001b[0m     filtered_tb \u001b[38;5;241m=\u001b[39m _process_traceback_frames(e\u001b[38;5;241m.\u001b[39m__traceback__)\n",
      "File \u001b[0;32m/usr/local/lib/python3.10/dist-packages/keras/src/engine/training.py:1807\u001b[0m, in \u001b[0;36mModel.fit\u001b[0;34m(self, x, y, batch_size, epochs, verbose, callbacks, validation_split, validation_data, shuffle, class_weight, sample_weight, initial_epoch, steps_per_epoch, validation_steps, validation_batch_size, validation_freq, max_queue_size, workers, use_multiprocessing)\u001b[0m\n\u001b[1;32m   1799\u001b[0m \u001b[38;5;28;01mwith\u001b[39;00m tf\u001b[38;5;241m.\u001b[39mprofiler\u001b[38;5;241m.\u001b[39mexperimental\u001b[38;5;241m.\u001b[39mTrace(\n\u001b[1;32m   1800\u001b[0m     \u001b[38;5;124m\"\u001b[39m\u001b[38;5;124mtrain\u001b[39m\u001b[38;5;124m\"\u001b[39m,\n\u001b[1;32m   1801\u001b[0m     epoch_num\u001b[38;5;241m=\u001b[39mepoch,\n\u001b[0;32m   (...)\u001b[0m\n\u001b[1;32m   1804\u001b[0m     _r\u001b[38;5;241m=\u001b[39m\u001b[38;5;241m1\u001b[39m,\n\u001b[1;32m   1805\u001b[0m ):\n\u001b[1;32m   1806\u001b[0m     callbacks\u001b[38;5;241m.\u001b[39mon_train_batch_begin(step)\n\u001b[0;32m-> 1807\u001b[0m     tmp_logs \u001b[38;5;241m=\u001b[39m \u001b[38;5;28;43mself\u001b[39;49m\u001b[38;5;241;43m.\u001b[39;49m\u001b[43mtrain_function\u001b[49m\u001b[43m(\u001b[49m\u001b[43miterator\u001b[49m\u001b[43m)\u001b[49m\n\u001b[1;32m   1808\u001b[0m     \u001b[38;5;28;01mif\u001b[39;00m data_handler\u001b[38;5;241m.\u001b[39mshould_sync:\n\u001b[1;32m   1809\u001b[0m         context\u001b[38;5;241m.\u001b[39masync_wait()\n",
      "File \u001b[0;32m/usr/local/lib/python3.10/dist-packages/tensorflow/python/util/traceback_utils.py:150\u001b[0m, in \u001b[0;36mfilter_traceback.<locals>.error_handler\u001b[0;34m(*args, **kwargs)\u001b[0m\n\u001b[1;32m    148\u001b[0m filtered_tb \u001b[38;5;241m=\u001b[39m \u001b[38;5;28;01mNone\u001b[39;00m\n\u001b[1;32m    149\u001b[0m \u001b[38;5;28;01mtry\u001b[39;00m:\n\u001b[0;32m--> 150\u001b[0m   \u001b[38;5;28;01mreturn\u001b[39;00m \u001b[43mfn\u001b[49m\u001b[43m(\u001b[49m\u001b[38;5;241;43m*\u001b[39;49m\u001b[43margs\u001b[49m\u001b[43m,\u001b[49m\u001b[43m \u001b[49m\u001b[38;5;241;43m*\u001b[39;49m\u001b[38;5;241;43m*\u001b[39;49m\u001b[43mkwargs\u001b[49m\u001b[43m)\u001b[49m\n\u001b[1;32m    151\u001b[0m \u001b[38;5;28;01mexcept\u001b[39;00m \u001b[38;5;167;01mException\u001b[39;00m \u001b[38;5;28;01mas\u001b[39;00m e:\n\u001b[1;32m    152\u001b[0m   filtered_tb \u001b[38;5;241m=\u001b[39m _process_traceback_frames(e\u001b[38;5;241m.\u001b[39m__traceback__)\n",
      "File \u001b[0;32m/usr/local/lib/python3.10/dist-packages/tensorflow/python/eager/polymorphic_function/polymorphic_function.py:832\u001b[0m, in \u001b[0;36mFunction.__call__\u001b[0;34m(self, *args, **kwds)\u001b[0m\n\u001b[1;32m    829\u001b[0m compiler \u001b[38;5;241m=\u001b[39m \u001b[38;5;124m\"\u001b[39m\u001b[38;5;124mxla\u001b[39m\u001b[38;5;124m\"\u001b[39m \u001b[38;5;28;01mif\u001b[39;00m \u001b[38;5;28mself\u001b[39m\u001b[38;5;241m.\u001b[39m_jit_compile \u001b[38;5;28;01melse\u001b[39;00m \u001b[38;5;124m\"\u001b[39m\u001b[38;5;124mnonXla\u001b[39m\u001b[38;5;124m\"\u001b[39m\n\u001b[1;32m    831\u001b[0m \u001b[38;5;28;01mwith\u001b[39;00m OptionalXlaContext(\u001b[38;5;28mself\u001b[39m\u001b[38;5;241m.\u001b[39m_jit_compile):\n\u001b[0;32m--> 832\u001b[0m   result \u001b[38;5;241m=\u001b[39m \u001b[38;5;28;43mself\u001b[39;49m\u001b[38;5;241;43m.\u001b[39;49m\u001b[43m_call\u001b[49m\u001b[43m(\u001b[49m\u001b[38;5;241;43m*\u001b[39;49m\u001b[43margs\u001b[49m\u001b[43m,\u001b[49m\u001b[43m \u001b[49m\u001b[38;5;241;43m*\u001b[39;49m\u001b[38;5;241;43m*\u001b[39;49m\u001b[43mkwds\u001b[49m\u001b[43m)\u001b[49m\n\u001b[1;32m    834\u001b[0m new_tracing_count \u001b[38;5;241m=\u001b[39m \u001b[38;5;28mself\u001b[39m\u001b[38;5;241m.\u001b[39mexperimental_get_tracing_count()\n\u001b[1;32m    835\u001b[0m without_tracing \u001b[38;5;241m=\u001b[39m (tracing_count \u001b[38;5;241m==\u001b[39m new_tracing_count)\n",
      "File \u001b[0;32m/usr/local/lib/python3.10/dist-packages/tensorflow/python/eager/polymorphic_function/polymorphic_function.py:868\u001b[0m, in \u001b[0;36mFunction._call\u001b[0;34m(self, *args, **kwds)\u001b[0m\n\u001b[1;32m    865\u001b[0m   \u001b[38;5;28mself\u001b[39m\u001b[38;5;241m.\u001b[39m_lock\u001b[38;5;241m.\u001b[39mrelease()\n\u001b[1;32m    866\u001b[0m   \u001b[38;5;66;03m# In this case we have created variables on the first call, so we run the\u001b[39;00m\n\u001b[1;32m    867\u001b[0m   \u001b[38;5;66;03m# defunned version which is guaranteed to never create variables.\u001b[39;00m\n\u001b[0;32m--> 868\u001b[0m   \u001b[38;5;28;01mreturn\u001b[39;00m \u001b[43mtracing_compilation\u001b[49m\u001b[38;5;241;43m.\u001b[39;49m\u001b[43mcall_function\u001b[49m\u001b[43m(\u001b[49m\n\u001b[1;32m    869\u001b[0m \u001b[43m      \u001b[49m\u001b[43margs\u001b[49m\u001b[43m,\u001b[49m\u001b[43m \u001b[49m\u001b[43mkwds\u001b[49m\u001b[43m,\u001b[49m\u001b[43m \u001b[49m\u001b[38;5;28;43mself\u001b[39;49m\u001b[38;5;241;43m.\u001b[39;49m\u001b[43m_no_variable_creation_config\u001b[49m\n\u001b[1;32m    870\u001b[0m \u001b[43m  \u001b[49m\u001b[43m)\u001b[49m\n\u001b[1;32m    871\u001b[0m \u001b[38;5;28;01melif\u001b[39;00m \u001b[38;5;28mself\u001b[39m\u001b[38;5;241m.\u001b[39m_variable_creation_config \u001b[38;5;129;01mis\u001b[39;00m \u001b[38;5;129;01mnot\u001b[39;00m \u001b[38;5;28;01mNone\u001b[39;00m:\n\u001b[1;32m    872\u001b[0m   \u001b[38;5;66;03m# Release the lock early so that multiple threads can perform the call\u001b[39;00m\n\u001b[1;32m    873\u001b[0m   \u001b[38;5;66;03m# in parallel.\u001b[39;00m\n\u001b[1;32m    874\u001b[0m   \u001b[38;5;28mself\u001b[39m\u001b[38;5;241m.\u001b[39m_lock\u001b[38;5;241m.\u001b[39mrelease()\n",
      "File \u001b[0;32m/usr/local/lib/python3.10/dist-packages/tensorflow/python/eager/polymorphic_function/tracing_compilation.py:139\u001b[0m, in \u001b[0;36mcall_function\u001b[0;34m(args, kwargs, tracing_options)\u001b[0m\n\u001b[1;32m    137\u001b[0m bound_args \u001b[38;5;241m=\u001b[39m function\u001b[38;5;241m.\u001b[39mfunction_type\u001b[38;5;241m.\u001b[39mbind(\u001b[38;5;241m*\u001b[39margs, \u001b[38;5;241m*\u001b[39m\u001b[38;5;241m*\u001b[39mkwargs)\n\u001b[1;32m    138\u001b[0m flat_inputs \u001b[38;5;241m=\u001b[39m function\u001b[38;5;241m.\u001b[39mfunction_type\u001b[38;5;241m.\u001b[39munpack_inputs(bound_args)\n\u001b[0;32m--> 139\u001b[0m \u001b[38;5;28;01mreturn\u001b[39;00m \u001b[43mfunction\u001b[49m\u001b[38;5;241;43m.\u001b[39;49m\u001b[43m_call_flat\u001b[49m\u001b[43m(\u001b[49m\u001b[43m  \u001b[49m\u001b[38;5;66;43;03m# pylint: disable=protected-access\u001b[39;49;00m\n\u001b[1;32m    140\u001b[0m \u001b[43m    \u001b[49m\u001b[43mflat_inputs\u001b[49m\u001b[43m,\u001b[49m\u001b[43m \u001b[49m\u001b[43mcaptured_inputs\u001b[49m\u001b[38;5;241;43m=\u001b[39;49m\u001b[43mfunction\u001b[49m\u001b[38;5;241;43m.\u001b[39;49m\u001b[43mcaptured_inputs\u001b[49m\n\u001b[1;32m    141\u001b[0m \u001b[43m\u001b[49m\u001b[43m)\u001b[49m\n",
      "File \u001b[0;32m/usr/local/lib/python3.10/dist-packages/tensorflow/python/eager/polymorphic_function/concrete_function.py:1323\u001b[0m, in \u001b[0;36mConcreteFunction._call_flat\u001b[0;34m(self, tensor_inputs, captured_inputs)\u001b[0m\n\u001b[1;32m   1319\u001b[0m possible_gradient_type \u001b[38;5;241m=\u001b[39m gradients_util\u001b[38;5;241m.\u001b[39mPossibleTapeGradientTypes(args)\n\u001b[1;32m   1320\u001b[0m \u001b[38;5;28;01mif\u001b[39;00m (possible_gradient_type \u001b[38;5;241m==\u001b[39m gradients_util\u001b[38;5;241m.\u001b[39mPOSSIBLE_GRADIENT_TYPES_NONE\n\u001b[1;32m   1321\u001b[0m     \u001b[38;5;129;01mand\u001b[39;00m executing_eagerly):\n\u001b[1;32m   1322\u001b[0m   \u001b[38;5;66;03m# No tape is watching; skip to running the function.\u001b[39;00m\n\u001b[0;32m-> 1323\u001b[0m   \u001b[38;5;28;01mreturn\u001b[39;00m \u001b[38;5;28;43mself\u001b[39;49m\u001b[38;5;241;43m.\u001b[39;49m\u001b[43m_inference_function\u001b[49m\u001b[38;5;241;43m.\u001b[39;49m\u001b[43mcall_preflattened\u001b[49m\u001b[43m(\u001b[49m\u001b[43margs\u001b[49m\u001b[43m)\u001b[49m\n\u001b[1;32m   1324\u001b[0m forward_backward \u001b[38;5;241m=\u001b[39m \u001b[38;5;28mself\u001b[39m\u001b[38;5;241m.\u001b[39m_select_forward_and_backward_functions(\n\u001b[1;32m   1325\u001b[0m     args,\n\u001b[1;32m   1326\u001b[0m     possible_gradient_type,\n\u001b[1;32m   1327\u001b[0m     executing_eagerly)\n\u001b[1;32m   1328\u001b[0m forward_function, args_with_tangents \u001b[38;5;241m=\u001b[39m forward_backward\u001b[38;5;241m.\u001b[39mforward()\n",
      "File \u001b[0;32m/usr/local/lib/python3.10/dist-packages/tensorflow/python/eager/polymorphic_function/atomic_function.py:216\u001b[0m, in \u001b[0;36mAtomicFunction.call_preflattened\u001b[0;34m(self, args)\u001b[0m\n\u001b[1;32m    214\u001b[0m \u001b[38;5;28;01mdef\u001b[39;00m \u001b[38;5;21mcall_preflattened\u001b[39m(\u001b[38;5;28mself\u001b[39m, args: Sequence[core\u001b[38;5;241m.\u001b[39mTensor]) \u001b[38;5;241m-\u001b[39m\u001b[38;5;241m>\u001b[39m Any:\n\u001b[1;32m    215\u001b[0m \u001b[38;5;250m  \u001b[39m\u001b[38;5;124;03m\"\"\"Calls with flattened tensor inputs and returns the structured output.\"\"\"\u001b[39;00m\n\u001b[0;32m--> 216\u001b[0m   flat_outputs \u001b[38;5;241m=\u001b[39m \u001b[38;5;28;43mself\u001b[39;49m\u001b[38;5;241;43m.\u001b[39;49m\u001b[43mcall_flat\u001b[49m\u001b[43m(\u001b[49m\u001b[38;5;241;43m*\u001b[39;49m\u001b[43margs\u001b[49m\u001b[43m)\u001b[49m\n\u001b[1;32m    217\u001b[0m   \u001b[38;5;28;01mreturn\u001b[39;00m \u001b[38;5;28mself\u001b[39m\u001b[38;5;241m.\u001b[39mfunction_type\u001b[38;5;241m.\u001b[39mpack_output(flat_outputs)\n",
      "File \u001b[0;32m/usr/local/lib/python3.10/dist-packages/tensorflow/python/eager/polymorphic_function/atomic_function.py:251\u001b[0m, in \u001b[0;36mAtomicFunction.call_flat\u001b[0;34m(self, *args)\u001b[0m\n\u001b[1;32m    249\u001b[0m \u001b[38;5;28;01mwith\u001b[39;00m record\u001b[38;5;241m.\u001b[39mstop_recording():\n\u001b[1;32m    250\u001b[0m   \u001b[38;5;28;01mif\u001b[39;00m \u001b[38;5;28mself\u001b[39m\u001b[38;5;241m.\u001b[39m_bound_context\u001b[38;5;241m.\u001b[39mexecuting_eagerly():\n\u001b[0;32m--> 251\u001b[0m     outputs \u001b[38;5;241m=\u001b[39m \u001b[38;5;28;43mself\u001b[39;49m\u001b[38;5;241;43m.\u001b[39;49m\u001b[43m_bound_context\u001b[49m\u001b[38;5;241;43m.\u001b[39;49m\u001b[43mcall_function\u001b[49m\u001b[43m(\u001b[49m\n\u001b[1;32m    252\u001b[0m \u001b[43m        \u001b[49m\u001b[38;5;28;43mself\u001b[39;49m\u001b[38;5;241;43m.\u001b[39;49m\u001b[43mname\u001b[49m\u001b[43m,\u001b[49m\n\u001b[1;32m    253\u001b[0m \u001b[43m        \u001b[49m\u001b[38;5;28;43mlist\u001b[39;49m\u001b[43m(\u001b[49m\u001b[43margs\u001b[49m\u001b[43m)\u001b[49m\u001b[43m,\u001b[49m\n\u001b[1;32m    254\u001b[0m \u001b[43m        \u001b[49m\u001b[38;5;28;43mlen\u001b[39;49m\u001b[43m(\u001b[49m\u001b[38;5;28;43mself\u001b[39;49m\u001b[38;5;241;43m.\u001b[39;49m\u001b[43mfunction_type\u001b[49m\u001b[38;5;241;43m.\u001b[39;49m\u001b[43mflat_outputs\u001b[49m\u001b[43m)\u001b[49m\u001b[43m,\u001b[49m\n\u001b[1;32m    255\u001b[0m \u001b[43m    \u001b[49m\u001b[43m)\u001b[49m\n\u001b[1;32m    256\u001b[0m   \u001b[38;5;28;01melse\u001b[39;00m:\n\u001b[1;32m    257\u001b[0m     outputs \u001b[38;5;241m=\u001b[39m make_call_op_in_graph(\n\u001b[1;32m    258\u001b[0m         \u001b[38;5;28mself\u001b[39m,\n\u001b[1;32m    259\u001b[0m         \u001b[38;5;28mlist\u001b[39m(args),\n\u001b[1;32m    260\u001b[0m         \u001b[38;5;28mself\u001b[39m\u001b[38;5;241m.\u001b[39m_bound_context\u001b[38;5;241m.\u001b[39mfunction_call_options\u001b[38;5;241m.\u001b[39mas_attrs(),\n\u001b[1;32m    261\u001b[0m     )\n",
      "File \u001b[0;32m/usr/local/lib/python3.10/dist-packages/tensorflow/python/eager/context.py:1486\u001b[0m, in \u001b[0;36mContext.call_function\u001b[0;34m(self, name, tensor_inputs, num_outputs)\u001b[0m\n\u001b[1;32m   1484\u001b[0m cancellation_context \u001b[38;5;241m=\u001b[39m cancellation\u001b[38;5;241m.\u001b[39mcontext()\n\u001b[1;32m   1485\u001b[0m \u001b[38;5;28;01mif\u001b[39;00m cancellation_context \u001b[38;5;129;01mis\u001b[39;00m \u001b[38;5;28;01mNone\u001b[39;00m:\n\u001b[0;32m-> 1486\u001b[0m   outputs \u001b[38;5;241m=\u001b[39m \u001b[43mexecute\u001b[49m\u001b[38;5;241;43m.\u001b[39;49m\u001b[43mexecute\u001b[49m\u001b[43m(\u001b[49m\n\u001b[1;32m   1487\u001b[0m \u001b[43m      \u001b[49m\u001b[43mname\u001b[49m\u001b[38;5;241;43m.\u001b[39;49m\u001b[43mdecode\u001b[49m\u001b[43m(\u001b[49m\u001b[38;5;124;43m\"\u001b[39;49m\u001b[38;5;124;43mutf-8\u001b[39;49m\u001b[38;5;124;43m\"\u001b[39;49m\u001b[43m)\u001b[49m\u001b[43m,\u001b[49m\n\u001b[1;32m   1488\u001b[0m \u001b[43m      \u001b[49m\u001b[43mnum_outputs\u001b[49m\u001b[38;5;241;43m=\u001b[39;49m\u001b[43mnum_outputs\u001b[49m\u001b[43m,\u001b[49m\n\u001b[1;32m   1489\u001b[0m \u001b[43m      \u001b[49m\u001b[43minputs\u001b[49m\u001b[38;5;241;43m=\u001b[39;49m\u001b[43mtensor_inputs\u001b[49m\u001b[43m,\u001b[49m\n\u001b[1;32m   1490\u001b[0m \u001b[43m      \u001b[49m\u001b[43mattrs\u001b[49m\u001b[38;5;241;43m=\u001b[39;49m\u001b[43mattrs\u001b[49m\u001b[43m,\u001b[49m\n\u001b[1;32m   1491\u001b[0m \u001b[43m      \u001b[49m\u001b[43mctx\u001b[49m\u001b[38;5;241;43m=\u001b[39;49m\u001b[38;5;28;43mself\u001b[39;49m\u001b[43m,\u001b[49m\n\u001b[1;32m   1492\u001b[0m \u001b[43m  \u001b[49m\u001b[43m)\u001b[49m\n\u001b[1;32m   1493\u001b[0m \u001b[38;5;28;01melse\u001b[39;00m:\n\u001b[1;32m   1494\u001b[0m   outputs \u001b[38;5;241m=\u001b[39m execute\u001b[38;5;241m.\u001b[39mexecute_with_cancellation(\n\u001b[1;32m   1495\u001b[0m       name\u001b[38;5;241m.\u001b[39mdecode(\u001b[38;5;124m\"\u001b[39m\u001b[38;5;124mutf-8\u001b[39m\u001b[38;5;124m\"\u001b[39m),\n\u001b[1;32m   1496\u001b[0m       num_outputs\u001b[38;5;241m=\u001b[39mnum_outputs,\n\u001b[0;32m   (...)\u001b[0m\n\u001b[1;32m   1500\u001b[0m       cancellation_manager\u001b[38;5;241m=\u001b[39mcancellation_context,\n\u001b[1;32m   1501\u001b[0m   )\n",
      "File \u001b[0;32m/usr/local/lib/python3.10/dist-packages/tensorflow/python/eager/execute.py:53\u001b[0m, in \u001b[0;36mquick_execute\u001b[0;34m(op_name, num_outputs, inputs, attrs, ctx, name)\u001b[0m\n\u001b[1;32m     51\u001b[0m \u001b[38;5;28;01mtry\u001b[39;00m:\n\u001b[1;32m     52\u001b[0m   ctx\u001b[38;5;241m.\u001b[39mensure_initialized()\n\u001b[0;32m---> 53\u001b[0m   tensors \u001b[38;5;241m=\u001b[39m \u001b[43mpywrap_tfe\u001b[49m\u001b[38;5;241;43m.\u001b[39;49m\u001b[43mTFE_Py_Execute\u001b[49m\u001b[43m(\u001b[49m\u001b[43mctx\u001b[49m\u001b[38;5;241;43m.\u001b[39;49m\u001b[43m_handle\u001b[49m\u001b[43m,\u001b[49m\u001b[43m \u001b[49m\u001b[43mdevice_name\u001b[49m\u001b[43m,\u001b[49m\u001b[43m \u001b[49m\u001b[43mop_name\u001b[49m\u001b[43m,\u001b[49m\n\u001b[1;32m     54\u001b[0m \u001b[43m                                      \u001b[49m\u001b[43minputs\u001b[49m\u001b[43m,\u001b[49m\u001b[43m \u001b[49m\u001b[43mattrs\u001b[49m\u001b[43m,\u001b[49m\u001b[43m \u001b[49m\u001b[43mnum_outputs\u001b[49m\u001b[43m)\u001b[49m\n\u001b[1;32m     55\u001b[0m \u001b[38;5;28;01mexcept\u001b[39;00m core\u001b[38;5;241m.\u001b[39m_NotOkStatusException \u001b[38;5;28;01mas\u001b[39;00m e:\n\u001b[1;32m     56\u001b[0m   \u001b[38;5;28;01mif\u001b[39;00m name \u001b[38;5;129;01mis\u001b[39;00m \u001b[38;5;129;01mnot\u001b[39;00m \u001b[38;5;28;01mNone\u001b[39;00m:\n",
      "\u001b[0;31mKeyboardInterrupt\u001b[0m: "
     ]
    }
   ],
   "source": [
    "### Everything is here in 1 Cell to avoid confusions. Later will automate this for batch processing.\n",
    "raw_data = cloud_1_height\n",
    "Cloud_1_Results = {} # Container for finalized data # NEED TO BE OF if data already exit to avoid cleaned up [So Don't run now]\n",
    "cloud_1_result_3, cloud_1_result_6,cloud_1_result_12,cloud_1_result_24,cloud_1_result_48 = [None, None, None,None,None]\n",
    "result_list = [cloud_1_result_3, cloud_1_result_6,cloud_1_result_12,cloud_1_result_24,cloud_1_result_48]\n",
    "param_list = [3, 6,12, 24,48]\n",
    "data_id = 'set2_window'\n",
    "datadir = f'../results/cloud_1_{data_id}'\n",
    "\n",
    "############## NO CHANGES NEEDED Starting From HERE ###################\n",
    "for p,r in zip(param_list,result_list):\n",
    "    print(f'>>> Starting Training for param = {p}...')\n",
    "    # Specify Hyperparameters, and perform training/predictions\n",
    "    hyperparameters = {\n",
    "        'n_units' : 50,'dropout_rate' : 0.2,'n_dense' : 1,'n_epochs' : 100,'n_batch' : 32,'LSTM_depth' : 3,\n",
    "        'n_train' :10000,'n_test' : 1000,\n",
    "        'window_size':p, 'scaling': 'MinMax'\n",
    "    }\n",
    "    r = ML.process_training_data_and_learn(raw_data, hyperparameters)\n",
    "    ##Save_result\n",
    "    file_path  = f'{datadir}{p}.pkl' \n",
    "    savedict(file_path, dict_name=r)\n",
    "    new_data = {f'{data_id}{p}':r} \n",
    "    ############## NO CHANGES NEEDED Up To HERE ###################\n",
    "    \n",
    "    ### Provide Data Container\n",
    "    Cloud_1_Results.update(new_data)"
   ]
  },
  {
   "cell_type": "code",
   "execution_count": null,
   "id": "ca565fdf-0a45-43a5-8bc2-e8aaa88051a8",
   "metadata": {},
   "outputs": [],
   "source": []
  },
  {
   "cell_type": "code",
   "execution_count": 28,
   "id": "dbee717f-2753-4a5f-8f30-87597db088de",
   "metadata": {
    "scrolled": true
   },
   "outputs": [
    {
     "name": "stdout",
     "output_type": "stream",
     "text": [
      ">>> Starting Training for param = 3...\n",
      "Epoch 1: loss = 0.05215740203857422, duration = 8.83 seconds\n",
      "Epoch 11: loss = 0.03899076208472252, duration = 2.41 seconds\n",
      "Epoch 21: loss = 0.038930218666791916, duration = 2.30 seconds\n",
      "Epoch 31: loss = 0.03841431438922882, duration = 2.31 seconds\n",
      "Epoch 41: loss = 0.03827908635139465, duration = 2.35 seconds\n",
      "Epoch 51: loss = 0.038346197456121445, duration = 2.65 seconds\n",
      "Epoch 61: loss = 0.038405075669288635, duration = 2.25 seconds\n",
      "Epoch 71: loss = 0.038163140416145325, duration = 2.52 seconds\n",
      "Epoch 81: loss = 0.0381893515586853, duration = 2.42 seconds\n",
      "Epoch 91: loss = 0.03813762217760086, duration = 2.36 seconds\n",
      "32/32 [==============================] - 1s 2ms/step\n",
      "The root mean squared error is 1.593203993525063.\n",
      "The data dictionary has been saved to ../results/cloud_1_type_set2_window3.pkl.\n",
      ">>> Starting Training for param = 6...\n",
      "Epoch 1: loss = 0.05582568794488907, duration = 9.95 seconds\n",
      "Epoch 11: loss = 0.03878884017467499, duration = 3.69 seconds\n",
      "Epoch 21: loss = 0.03851652517914772, duration = 3.59 seconds\n",
      "Epoch 31: loss = 0.03844331577420235, duration = 3.46 seconds\n",
      "Epoch 41: loss = 0.038318321108818054, duration = 4.12 seconds\n",
      "Epoch 51: loss = 0.038390208035707474, duration = 3.84 seconds\n",
      "Epoch 61: loss = 0.03826495260000229, duration = 3.27 seconds\n",
      "Epoch 71: loss = 0.03832082822918892, duration = 3.45 seconds\n",
      "Epoch 81: loss = 0.038058437407016754, duration = 3.45 seconds\n",
      "Epoch 91: loss = 0.03794921562075615, duration = 3.61 seconds\n",
      "32/32 [==============================] - 1s 4ms/step\n",
      "The root mean squared error is 1.6079377905082355.\n",
      "The data dictionary has been saved to ../results/cloud_1_type_set2_window6.pkl.\n",
      ">>> Starting Training for param = 12...\n",
      "Epoch 1: loss = 0.05628347024321556, duration = 12.54 seconds\n",
      "Epoch 11: loss = 0.038666609674692154, duration = 5.94 seconds\n",
      "Epoch 21: loss = 0.03867219388484955, duration = 6.13 seconds\n",
      "Epoch 31: loss = 0.03844021260738373, duration = 5.43 seconds\n",
      "Epoch 41: loss = 0.03823477029800415, duration = 5.96 seconds\n",
      "Epoch 51: loss = 0.03841179981827736, duration = 5.69 seconds\n",
      "Epoch 61: loss = 0.038231611251831055, duration = 6.21 seconds\n",
      "Epoch 71: loss = 0.03810350224375725, duration = 5.87 seconds\n",
      "Epoch 81: loss = 0.037939753383398056, duration = 5.50 seconds\n",
      "Epoch 91: loss = 0.03749790042638779, duration = 6.02 seconds\n",
      "32/32 [==============================] - 3s 7ms/step\n",
      "The root mean squared error is 1.620442146314371.\n",
      "The data dictionary has been saved to ../results/cloud_1_type_set2_window12.pkl.\n",
      ">>> Starting Training for param = 24...\n",
      "Epoch 1: loss = 0.057527508586645126, duration = 17.15 seconds\n",
      "Epoch 11: loss = 0.038555264472961426, duration = 8.92 seconds\n",
      "Epoch 21: loss = 0.038925766944885254, duration = 9.92 seconds\n",
      "Epoch 31: loss = 0.03879304602742195, duration = 12.07 seconds\n",
      "Epoch 41: loss = 0.03840107470750809, duration = 8.96 seconds\n",
      "Epoch 51: loss = 0.03832566365599632, duration = 9.96 seconds\n",
      "Epoch 61: loss = 0.03793852776288986, duration = 8.53 seconds\n",
      "Epoch 71: loss = 0.0379047766327858, duration = 8.76 seconds\n",
      "Epoch 81: loss = 0.03781188651919365, duration = 9.30 seconds\n",
      "Epoch 91: loss = 0.03687187284231186, duration = 9.24 seconds\n",
      "32/32 [==============================] - 2s 11ms/step\n",
      "The root mean squared error is 1.6327365948528096.\n",
      "The data dictionary has been saved to ../results/cloud_1_type_set2_window24.pkl.\n",
      ">>> Starting Training for param = 48...\n",
      "Epoch 1: loss = 0.05760915204882622, duration = 21.80 seconds\n",
      "Epoch 11: loss = 0.0385589674115181, duration = 14.50 seconds\n",
      "Epoch 21: loss = 0.03859849274158478, duration = 13.47 seconds\n",
      "Epoch 31: loss = 0.03810307756066322, duration = 13.23 seconds\n",
      "Epoch 41: loss = 0.03818367049098015, duration = 14.46 seconds\n",
      "Epoch 51: loss = 0.038145408034324646, duration = 14.06 seconds\n",
      "Epoch 61: loss = 0.03803889825940132, duration = 15.35 seconds\n",
      "Epoch 71: loss = 0.037851884961128235, duration = 15.55 seconds\n",
      "Epoch 81: loss = 0.03744930401444435, duration = 14.20 seconds\n",
      "Epoch 91: loss = 0.0374801903963089, duration = 13.93 seconds\n",
      "32/32 [==============================] - 2s 19ms/step\n",
      "The root mean squared error is 1.6332281020028063.\n",
      "The data dictionary has been saved to ../results/cloud_1_type_set2_window48.pkl.\n"
     ]
    }
   ],
   "source": [
    "### Everything is here in 1 Cell to avoid confusions. Later will automate this for batch processing.\n",
    "raw_data = cloud_1_type\n",
    "Cloud_1_Type_Results = {} # Container for finalized data # NEED TO BE OF if data already exit to avoid cleaned up [So Don't run now]\n",
    "cloud_1_type_result_3, cloud_1_type_result_6,cloud_1_type_result_12,cloud_1_type_result_24,cloud_1_type_result_48 = [None, None, None,None,None]\n",
    "result_list = [cloud_1_type_result_3, cloud_1_type_result_6,cloud_1_type_result_12,cloud_1_type_result_24,cloud_1_type_result_48]\n",
    "param_list = [3, 6,12, 24,48]\n",
    "data_id = 'set2_window'\n",
    "datadir = f'../results/cloud_1_type_{data_id}'\n",
    "\n",
    "############## NO CHANGES NEEDED Starting From HERE ###################\n",
    "for p,r in zip(param_list,result_list):\n",
    "    print(f'>>> Starting Training for param = {p}...')\n",
    "    # Specify Hyperparameters, and perform training/predictions\n",
    "    hyperparameters = {\n",
    "        'n_units' : 50,'dropout_rate' : 0.2,'n_dense' : 1,'n_epochs' : 100,'n_batch' : 32,'LSTM_depth' : 3,\n",
    "        'n_train' :10000,'n_test' : 1000,\n",
    "        'window_size':p, 'scaling': 'MinMax'\n",
    "    }\n",
    "    r = ML.process_training_data_and_learn(raw_data, hyperparameters)\n",
    "    ##Save_result\n",
    "    file_path  = f'{datadir}{p}.pkl' \n",
    "    savedict(file_path, dict_name=r)\n",
    "    new_data = {f'{data_id}{p}':r} \n",
    "    ############## NO CHANGES NEEDED Up To HERE ###################\n",
    "    \n",
    "    ### Provide Data Container\n",
    "    Cloud_1_Type_Results.update(new_data)"
   ]
  },
  {
   "cell_type": "code",
   "execution_count": 31,
   "id": "c4185a4a-b0ee-4f03-9f4c-a78e5c1773ba",
   "metadata": {},
   "outputs": [
    {
     "data": {
      "text/plain": [
       "<matplotlib.legend.Legend at 0x7fa55fc8b0d0>"
      ]
     },
     "execution_count": 31,
     "metadata": {},
     "output_type": "execute_result"
    },
    {
     "data": {
      "image/png": "[encoded data removed]",
      "text/plain": [
       "<Figure size 640x480 with 1 Axes>"
      ]
     },
     "metadata": {},
     "output_type": "display_data"
    }
   ],
   "source": [
    "######### Real Data\n",
    "for p in param_list:\n",
    "    d_to_plot =  Cloud_1_Type_Results[f'set2_window{p}']\n",
    "    plt.scatter(d_to_plot['dataset_test'],np.around(d_to_plot['y_pred_scaled']), label=f'n_window = {p} ')\n",
    "\n",
    "\n",
    "# # Setting the x and y axis limits to include the grey area\n",
    "# plt.xlim(xmin_extended, xmax_extended)\n",
    "# plt.ylim(ymin_extended, ymax_extended)\n",
    "\n",
    "\n",
    "plt.xlabel('Real Data')\n",
    "plt.ylabel('Predicted Data')\n",
    "plt.legend()"
   ]
  },
  {
   "cell_type": "code",
   "execution_count": null,
   "id": "f8a4ecb4-f0d7-46b8-868d-e5f1c8bcf43b",
   "metadata": {},
   "outputs": [],
   "source": []
  },
  {
   "cell_type": "markdown",
   "id": "ef2fbdce-9502-41c7-b533-963c2de388fd",
   "metadata": {},
   "source": [
    "## 5.Temperature"
   ]
  },
  {
   "cell_type": "code",
   "execution_count": 14,
   "id": "832582c6-aae0-4e0f-9d8b-7caa71c89869",
   "metadata": {},
   "outputs": [],
   "source": [
    "temperature_data = raw_METAR_data['temperature']"
   ]
  },
  {
   "cell_type": "code",
   "execution_count": 67,
   "id": "0f38e0e5-fbd3-4c64-9e93-87d3997bdc99",
   "metadata": {
    "scrolled": true
   },
   "outputs": [
    {
     "name": "stdout",
     "output_type": "stream",
     "text": [
      ">>> Starting Training for param = 6...\n",
      "Epoch 1: loss = 0.14533193409442902, duration = 9.88 seconds\n",
      "Epoch 11: loss = 0.02146519348025322, duration = 0.53 seconds\n",
      "Epoch 21: loss = 0.012972831726074219, duration = 0.77 seconds\n",
      "Epoch 31: loss = 0.00987967848777771, duration = 0.36 seconds\n",
      "Epoch 41: loss = 0.007045394740998745, duration = 0.46 seconds\n",
      "Epoch 51: loss = 0.005625169724225998, duration = 0.38 seconds\n",
      "Epoch 61: loss = 0.004852627404034138, duration = 0.36 seconds\n",
      "Epoch 71: loss = 0.004568328149616718, duration = 0.34 seconds\n",
      "Epoch 81: loss = 0.004458237439393997, duration = 0.37 seconds\n",
      "Epoch 91: loss = 0.003907135222107172, duration = 0.44 seconds\n",
      "7/7 [==============================] - 1s 4ms/step\n",
      "The root mean squared error is 1.0126029063540483.\n",
      "The data dictionary has been saved to ../results/temperature_set1_window6.pkl.\n",
      ">>> Starting Training for param = 24...\n",
      "Epoch 1: loss = 0.09763383865356445, duration = 8.91 seconds\n",
      "Epoch 11: loss = 0.019160153344273567, duration = 1.29 seconds\n",
      "Epoch 21: loss = 0.010721004568040371, duration = 0.90 seconds\n",
      "Epoch 31: loss = 0.007664806675165892, duration = 0.86 seconds\n",
      "Epoch 41: loss = 0.006595151964575052, duration = 1.09 seconds\n",
      "Epoch 51: loss = 0.005464996676892042, duration = 1.09 seconds\n",
      "Epoch 61: loss = 0.004949708469212055, duration = 1.25 seconds\n",
      "Epoch 71: loss = 0.005969555117189884, duration = 1.05 seconds\n",
      "Epoch 81: loss = 0.003932897001504898, duration = 1.04 seconds\n",
      "Epoch 91: loss = 0.0036470559425652027, duration = 0.96 seconds\n",
      "7/7 [==============================] - 1s 10ms/step\n",
      "The root mean squared error is 0.9515259059689001.\n",
      "The data dictionary has been saved to ../results/temperature_set1_window24.pkl.\n",
      ">>> Starting Training for param = 48...\n",
      "Epoch 1: loss = 0.09110909700393677, duration = 8.47 seconds\n",
      "Epoch 11: loss = 0.02206115610897541, duration = 1.69 seconds\n",
      "Epoch 21: loss = 0.01194710936397314, duration = 1.79 seconds\n",
      "Epoch 31: loss = 0.009095767512917519, duration = 1.86 seconds\n",
      "Epoch 41: loss = 0.006783510558307171, duration = 1.79 seconds\n",
      "Epoch 51: loss = 0.0064061423763632774, duration = 1.81 seconds\n",
      "Epoch 61: loss = 0.005487040150910616, duration = 1.76 seconds\n",
      "Epoch 71: loss = 0.004594888538122177, duration = 1.89 seconds\n",
      "Epoch 81: loss = 0.004685789812356234, duration = 1.84 seconds\n",
      "Epoch 91: loss = 0.0044259121641516685, duration = 1.69 seconds\n",
      "7/7 [==============================] - 1s 23ms/step\n",
      "The root mean squared error is 0.9612924343205818.\n",
      "The data dictionary has been saved to ../results/temperature_set1_window48.pkl.\n"
     ]
    }
   ],
   "source": [
    "### Everything is here in 1 Cell to avoid confusions. Later will automate this for batch processing.\n",
    "raw_data = temperature_data \n",
    "Temperature_Results = {} # Container for finalized data\n",
    "temperature_result_6,temperature_result_24,temperature_result_48 = [None, None, None]\n",
    "result_list = [temperature_result_6,temperature_result_24,temperature_result_48]\n",
    "param_list = [6,24,48]\n",
    "data_id = 'set1_window'\n",
    "datadir = f'../results/temperature_{data_id}'\n",
    "\n",
    "############## NO CHANGES NEEDED Starting From HERE ###################\n",
    "for p,r in zip(param_list,result_list):\n",
    "    print(f'>>> Starting Training for param = {p}...')\n",
    "    # Specify Hyperparameters, and perform training/predictions\n",
    "    hyperparameters = {\n",
    "        'n_units' : 50,'dropout_rate' : 0.2,'n_dense' : 1,'n_epochs' : 100,'n_batch' : 32,'LSTM_depth' : 3,'n_train' :1000,'n_test' : 200,\n",
    "        'window_size':p, 'scaling': 'MinMax'\n",
    "    }\n",
    "    r = ML.process_training_data_and_learn(raw_data, hyperparameters)\n",
    "    ##Save_result\n",
    "    file_path  = f'{datadir}{p}.pkl' \n",
    "    savedict(file_path, dict_name=r)\n",
    "    new_data = {f'{data_id}{p}':r} \n",
    "    ############## NO CHANGES NEEDED Up To HERE ###################\n",
    "    \n",
    "    ### Provide Data Container\n",
    "    Temperature_Results.update(new_data)"
   ]
  },
  {
   "cell_type": "code",
   "execution_count": 75,
   "id": "0c4bf010-eb5c-4578-adfa-4eb01091bc2a",
   "metadata": {},
   "outputs": [
    {
     "data": {
      "text/plain": [
       "<matplotlib.legend.Legend at 0x7f854b131bd0>"
      ]
     },
     "execution_count": 75,
     "metadata": {},
     "output_type": "execute_result"
    },
    {
     "data": {
      "image/png": "[encoded data removed]",
      "text/plain": [
       "<Figure size 640x480 with 1 Axes>"
      ]
     },
     "metadata": {},
     "output_type": "display_data"
    }
   ],
   "source": [
    "xmin,xmax,ymin,ymax = [10,28,10,28]\n",
    "plt.plot([xmin, xmax], [ymin, ymax], c = 'k', lw= '2' ) # Straight line for comparison\n",
    "\n",
    "# Error Margin\n",
    "x_values = np.linspace(xmin, xmax, 10)  # Generate 10 x-values between xmin and xmax\n",
    "y_values = np.linspace(ymin, ymax, 10)  # Generate corresponding y-values for the straight line\n",
    "\n",
    "# Calculate 5-10% error margins for y-values\n",
    "error = y_values * 0.05  # Change 0.1 to 0.05 for 5% error\n",
    "\n",
    "# Plotting scatter points along the straight line\n",
    "plt.scatter(x_values, y_values, color='blue', label='Data Points')\n",
    "\n",
    "# Adding error bars\n",
    "plt.errorbar(x_values, y_values, yerr=error, fmt='o', ecolor='lightgray', label='Error Margin', capsize=5)\n",
    "\n",
    "######### Real Data\n",
    "for p in param_list:\n",
    "    d_to_plot = Temperature_Results[f'set1_window{p}']\n",
    "    plt.scatter(d_to_plot['dataset_test'],d_to_plot['y_pred_scaled'], label=f'n_window = {p} ')\n",
    "\n",
    "\n",
    "# Setting the x and y axis limits to include the grey area\n",
    "plt.xlim(xmin_extended, xmax_extended)\n",
    "plt.ylim(ymin_extended, ymax_extended)\n",
    "\n",
    "\n",
    "plt.xlabel('Real Data')\n",
    "plt.ylabel('Predicted Data')\n",
    "plt.legend()"
   ]
  },
  {
   "cell_type": "markdown",
   "id": "f13acb2d-08e3-48a2-b82a-bfe03a33ce2c",
   "metadata": {},
   "source": [
    "### Set 2 [More Training Data with Small Window]"
   ]
  },
  {
   "cell_type": "code",
   "execution_count": 15,
   "id": "0072ec00-19fd-4139-baa3-9fd67267bb75",
   "metadata": {
    "scrolled": true
   },
   "outputs": [
    {
     "name": "stdout",
     "output_type": "stream",
     "text": [
      ">>> Starting Training for param = 3...\n",
      "Epoch 1: loss = 0.031679023057222366, duration = 9.66 seconds\n",
      "Epoch 11: loss = 0.002641819417476654, duration = 2.84 seconds\n",
      "Epoch 21: loss = 0.001814141869544983, duration = 2.91 seconds\n",
      "Epoch 31: loss = 0.0016252895584329963, duration = 2.82 seconds\n",
      "Epoch 41: loss = 0.0016779451398178935, duration = 3.02 seconds\n",
      "Epoch 51: loss = 0.0015782593982294202, duration = 2.77 seconds\n",
      "Epoch 61: loss = 0.0015920876758173108, duration = 2.63 seconds\n",
      "Epoch 71: loss = 0.0015833796933293343, duration = 2.84 seconds\n",
      "Epoch 81: loss = 0.0015867489855736494, duration = 3.10 seconds\n",
      "Epoch 91: loss = 0.0015409026527777314, duration = 3.60 seconds\n",
      "32/32 [==============================] - 2s 6ms/step\n",
      "The root mean squared error is 0.871395809145427.\n",
      "The data dictionary has been saved to ../results/temperature_set2_window3.pkl.\n",
      ">>> Starting Training for param = 6...\n",
      "Epoch 1: loss = 0.026363516226410866, duration = 10.56 seconds\n",
      "Epoch 11: loss = 0.002727074082940817, duration = 4.36 seconds\n",
      "Epoch 21: loss = 0.0017692908877506852, duration = 4.49 seconds\n",
      "Epoch 31: loss = 0.0016569588333368301, duration = 3.75 seconds\n",
      "Epoch 41: loss = 0.001626826822757721, duration = 4.04 seconds\n",
      "Epoch 51: loss = 0.0015496888663619757, duration = 4.18 seconds\n",
      "Epoch 61: loss = 0.001536983996629715, duration = 4.44 seconds\n",
      "Epoch 71: loss = 0.0015037970151752234, duration = 4.13 seconds\n",
      "Epoch 81: loss = 0.00151288160122931, duration = 4.55 seconds\n",
      "Epoch 91: loss = 0.0014759334735572338, duration = 4.14 seconds\n",
      "32/32 [==============================] - 2s 5ms/step\n",
      "The root mean squared error is 0.8667532627335847.\n",
      "The data dictionary has been saved to ../results/temperature_set2_window6.pkl.\n",
      ">>> Starting Training for param = 12...\n",
      "Epoch 1: loss = 0.027821950614452362, duration = 14.43 seconds\n",
      "Epoch 11: loss = 0.002669262932613492, duration = 6.96 seconds\n",
      "Epoch 21: loss = 0.0017530347686260939, duration = 6.77 seconds\n",
      "Epoch 31: loss = 0.001616746885702014, duration = 6.66 seconds\n",
      "Epoch 41: loss = 0.0014894501073285937, duration = 7.03 seconds\n",
      "Epoch 51: loss = 0.001497706864029169, duration = 6.50 seconds\n",
      "Epoch 61: loss = 0.001416844199411571, duration = 6.73 seconds\n",
      "Epoch 71: loss = 0.0014321069465950131, duration = 6.50 seconds\n",
      "Epoch 81: loss = 0.0014107398455962539, duration = 7.37 seconds\n",
      "Epoch 91: loss = 0.0013697792310267687, duration = 6.16 seconds\n",
      "32/32 [==============================] - 2s 7ms/step\n",
      "The root mean squared error is 0.8446047581473265.\n",
      "The data dictionary has been saved to ../results/temperature_set2_window12.pkl.\n",
      ">>> Starting Training for param = 24...\n",
      "Epoch 1: loss = 0.020134128630161285, duration = 17.01 seconds\n",
      "Epoch 11: loss = 0.0024839243851602077, duration = 11.05 seconds\n",
      "Epoch 21: loss = 0.0015642966609448195, duration = 10.35 seconds\n",
      "Epoch 31: loss = 0.0014881056267768145, duration = 11.29 seconds\n",
      "Epoch 41: loss = 0.0014191758818924427, duration = 10.27 seconds\n",
      "Epoch 51: loss = 0.0013760400470346212, duration = 10.11 seconds\n",
      "Epoch 61: loss = 0.0013195573119446635, duration = 10.08 seconds\n",
      "Epoch 71: loss = 0.0012907087802886963, duration = 10.10 seconds\n",
      "Epoch 81: loss = 0.001273832400329411, duration = 10.16 seconds\n",
      "Epoch 91: loss = 0.0012752299662679434, duration = 9.92 seconds\n",
      "32/32 [==============================] - 2s 12ms/step\n",
      "The root mean squared error is 0.742772122234348.\n",
      "The data dictionary has been saved to ../results/temperature_set2_window24.pkl.\n",
      ">>> Starting Training for param = 48...\n",
      "Epoch 1: loss = 0.02011176384985447, duration = 21.75 seconds\n",
      "Epoch 11: loss = 0.0028660004027187824, duration = 17.72 seconds\n",
      "Epoch 21: loss = 0.0015505776973441243, duration = 16.72 seconds\n",
      "Epoch 31: loss = 0.0014606581535190344, duration = 16.15 seconds\n",
      "Epoch 41: loss = 0.0013476797612383962, duration = 15.68 seconds\n",
      "Epoch 51: loss = 0.001349118771031499, duration = 15.61 seconds\n",
      "Epoch 61: loss = 0.001304617733694613, duration = 15.93 seconds\n",
      "Epoch 71: loss = 0.0012673753080889583, duration = 17.05 seconds\n",
      "Epoch 81: loss = 0.0012828048784285784, duration = 16.62 seconds\n",
      "Epoch 91: loss = 0.0012494894908741117, duration = 15.45 seconds\n",
      "32/32 [==============================] - 3s 32ms/step\n",
      "The root mean squared error is 0.7941519065141222.\n",
      "The data dictionary has been saved to ../results/temperature_set2_window48.pkl.\n"
     ]
    }
   ],
   "source": [
    "### Everything is here in 1 Cell to avoid confusions. Later will automate this for batch processing.\n",
    "raw_data = temperature_data \n",
    "Temperature_Results = {} # Container for finalized data # NEED TO BE OF if data already exit to avoid cleaned up [So Don't run now]\n",
    "temperature_result_3, temperature_result_6,temperature_result_12,temperature_result_24,temperature_result_48 = [None, None, None,None,None]\n",
    "result_list = [temperature_result_3, temperature_result_6,temperature_result_12,temperature_result_24,temperature_result_48]\n",
    "param_list = [3, 6,12, 24,48]\n",
    "data_id = 'set2_window'\n",
    "datadir = f'../results/temperature_{data_id}'\n",
    "\n",
    "############## NO CHANGES NEEDED Starting From HERE ###################\n",
    "for p,r in zip(param_list,result_list):\n",
    "    print(f'>>> Starting Training for param = {p}...')\n",
    "    # Specify Hyperparameters, and perform training/predictions\n",
    "    hyperparameters = {\n",
    "        'n_units' : 50,'dropout_rate' : 0.2,'n_dense' : 1,'n_epochs' : 100,'n_batch' : 32,'LSTM_depth' : 3,\n",
    "        'n_train' :10000,'n_test' : 1000,\n",
    "        'window_size':p, 'scaling': 'MinMax'\n",
    "    }\n",
    "    r = ML.process_training_data_and_learn(raw_data, hyperparameters)\n",
    "    ##Save_result\n",
    "    file_path  = f'{datadir}{p}.pkl' \n",
    "    savedict(file_path, dict_name=r)\n",
    "    new_data = {f'{data_id}{p}':r} \n",
    "    ############## NO CHANGES NEEDED Up To HERE ###################\n",
    "    \n",
    "    ### Provide Data Container\n",
    "    Temperature_Results.update(new_data)"
   ]
  },
  {
   "cell_type": "code",
   "execution_count": null,
   "id": "66b2433c-948c-43be-8a52-715a729336c6",
   "metadata": {},
   "outputs": [],
   "source": []
  },
  {
   "cell_type": "markdown",
   "id": "c1ccd549-6650-4f39-8910-09e85f8b5930",
   "metadata": {},
   "source": [
    "#### Set 3 With 50000 Training Data (across 5-6 years) and to predict 10000 hours (more than a year)\n",
    "For the best set consider to train based on Every other year vs continuous one. Always go for first v1 before improve"
   ]
  },
  {
   "cell_type": "code",
   "execution_count": null,
   "id": "81dc96c1-21bb-4994-b93b-6605ee0058ce",
   "metadata": {},
   "outputs": [],
   "source": [
    "'n_train' :50000, \n",
    "    'n_test' : 10000,"
   ]
  },
  {
   "cell_type": "code",
   "execution_count": null,
   "id": "3a652a05-5b10-4916-9d6c-94e0a0013338",
   "metadata": {},
   "outputs": [],
   "source": []
  },
  {
   "cell_type": "code",
   "execution_count": null,
   "id": "7b1b5b32-030d-48ae-a409-1246d7c0fb53",
   "metadata": {},
   "outputs": [],
   "source": []
  },
  {
   "cell_type": "markdown",
   "id": "9dd0c2b2-c8a3-4d4b-9686-9df78d1395b4",
   "metadata": {},
   "source": [
    "## 6. Dew"
   ]
  },
  {
   "cell_type": "code",
   "execution_count": 324,
   "id": "9a2d5c6c-926d-47fe-866c-2cd5cb6c80fc",
   "metadata": {},
   "outputs": [],
   "source": [
    "dew_data = raw_METAR_data['dew']"
   ]
  },
  {
   "cell_type": "code",
   "execution_count": null,
   "id": "eeac3a53-6bfb-4195-b24b-1d16c2ede6ff",
   "metadata": {},
   "outputs": [],
   "source": [
    "# Data Check : then save data after checking"
   ]
  },
  {
   "cell_type": "code",
   "execution_count": 77,
   "id": "7da5477f-75a8-47a1-b295-d75659a109c0",
   "metadata": {
    "scrolled": true
   },
   "outputs": [
    {
     "name": "stdout",
     "output_type": "stream",
     "text": [
      ">>> Starting Training for param = 6...\n",
      "Epoch 1: loss = 0.18095000088214874, duration = 9.21 seconds\n",
      "Epoch 11: loss = 0.01320179644972086, duration = 0.46 seconds\n",
      "Epoch 21: loss = 0.012320551089942455, duration = 0.42 seconds\n",
      "Epoch 31: loss = 0.009950940497219563, duration = 0.49 seconds\n",
      "Epoch 41: loss = 0.008206366561353207, duration = 0.38 seconds\n",
      "Epoch 51: loss = 0.006785944104194641, duration = 0.49 seconds\n",
      "Epoch 61: loss = 0.0074839238077402115, duration = 0.53 seconds\n",
      "Epoch 71: loss = 0.0060837240889668465, duration = 0.45 seconds\n",
      "Epoch 81: loss = 0.004632083233445883, duration = 0.39 seconds\n",
      "Epoch 91: loss = 0.0046004788018763065, duration = 0.45 seconds\n",
      "7/7 [==============================] - 1s 4ms/step\n",
      "The root mean squared error is 1.1791970013702648.\n",
      "The data dictionary has been saved to ../results/dew_set1_window6.pkl.\n",
      ">>> Starting Training for param = 24...\n",
      "Epoch 1: loss = 0.11009609699249268, duration = 8.04 seconds\n",
      "Epoch 11: loss = 0.020038116723299026, duration = 0.95 seconds\n",
      "Epoch 21: loss = 0.012457814998924732, duration = 1.15 seconds\n",
      "Epoch 31: loss = 0.009770676493644714, duration = 0.89 seconds\n",
      "Epoch 41: loss = 0.007296763826161623, duration = 1.08 seconds\n",
      "Epoch 51: loss = 0.006830770522356033, duration = 0.97 seconds\n",
      "Epoch 61: loss = 0.005336807109415531, duration = 1.00 seconds\n",
      "Epoch 71: loss = 0.005328367929905653, duration = 0.97 seconds\n",
      "Epoch 81: loss = 0.004724897909909487, duration = 0.94 seconds\n",
      "Epoch 91: loss = 0.004335192497819662, duration = 1.04 seconds\n",
      "7/7 [==============================] - 1s 11ms/step\n",
      "The root mean squared error is 1.1842960582378965.\n",
      "The data dictionary has been saved to ../results/dew_set1_window24.pkl.\n",
      ">>> Starting Training for param = 48...\n",
      "Epoch 1: loss = 0.10445930063724518, duration = 11.84 seconds\n",
      "Epoch 11: loss = 0.01645944081246853, duration = 1.74 seconds\n",
      "Epoch 21: loss = 0.010883367620408535, duration = 1.69 seconds\n",
      "Epoch 31: loss = 0.008173927664756775, duration = 1.89 seconds\n",
      "Epoch 41: loss = 0.008137074299156666, duration = 1.82 seconds\n",
      "Epoch 51: loss = 0.006035917904227972, duration = 1.95 seconds\n",
      "Epoch 61: loss = 0.005512908101081848, duration = 2.36 seconds\n",
      "Epoch 71: loss = 0.0056399996392428875, duration = 2.24 seconds\n",
      "Epoch 81: loss = 0.0047023058868944645, duration = 1.64 seconds\n",
      "Epoch 91: loss = 0.004043607506901026, duration = 1.64 seconds\n",
      "7/7 [==============================] - 2s 16ms/step\n",
      "The root mean squared error is 1.1630195372442513.\n",
      "The data dictionary has been saved to ../results/dew_set1_window48.pkl.\n"
     ]
    }
   ],
   "source": [
    "### Everything is here in 1 Cell to avoid confusions. Later will automate this for batch processing.\n",
    "raw_data = dew_data \n",
    "Dew_Results = {} # Container for finalized data\n",
    "dew_result_6,dew_result_24,dew_result_48 = [None, None, None]\n",
    "result_list = [dew_result_6,dew_result_24,dew_result_48]\n",
    "param_list = [6,24,48]\n",
    "data_id = 'set1_window'\n",
    "datadir = f'../results/dew_{data_id}'\n",
    "\n",
    "############## NO CHANGES NEEDED Starting From HERE ###################\n",
    "for p,r in zip(param_list,result_list):\n",
    "    print(f'>>> Starting Training for param = {p}...')\n",
    "    # Specify Hyperparameters, and perform training/predictions\n",
    "    hyperparameters = {\n",
    "        'n_units' : 50,'dropout_rate' : 0.2,'n_dense' : 1,'n_epochs' : 100,'n_batch' : 32,'LSTM_depth' : 3,'n_train' :1000,'n_test' : 200,\n",
    "        'window_size':p, 'scaling': 'MinMax'\n",
    "    }\n",
    "    r = ML.process_training_data_and_learn(raw_data, hyperparameters)\n",
    "    ##Save_result\n",
    "    file_path  = f'{datadir}{p}.pkl' \n",
    "    savedict(file_path, dict_name=r)\n",
    "    new_data = {f'{data_id}{p}':r} \n",
    "    ############## NO CHANGES NEEDED Up To HERE ###################\n",
    "    \n",
    "    ### Provide Data Container\n",
    "    Dew_Results.update(new_data)"
   ]
  },
  {
   "cell_type": "code",
   "execution_count": 81,
   "id": "2c258b99-1b6d-481f-831f-af12568503a2",
   "metadata": {},
   "outputs": [
    {
     "data": {
      "text/plain": [
       "<matplotlib.legend.Legend at 0x7f854657bc10>"
      ]
     },
     "execution_count": 81,
     "metadata": {},
     "output_type": "execute_result"
    },
    {
     "data": {
      "image/png": "[encoded data removed]",
      "text/plain": [
       "<Figure size 640x480 with 1 Axes>"
      ]
     },
     "metadata": {},
     "output_type": "display_data"
    }
   ],
   "source": [
    "# Setting the x and y axis limits \n",
    "xmin,xmax,ymin,ymax = [-1,25,-1,25]\n",
    "plt.plot([xmin, xmax], [ymin, ymax], c = 'k', lw= '2' ) # Straight line for comparison\n",
    "plt.xlim(xmin, xmax)\n",
    "plt.ylim(ymin, ymax)\n",
    "\n",
    "\n",
    "######### Real Data\n",
    "for p in param_list:\n",
    "    d_to_plot = Dew_Results[f'set1_window{p}']\n",
    "    plt.scatter(d_to_plot['dataset_test'],d_to_plot['y_pred_scaled'], label=f'n_window = {p} ')\n",
    "\n",
    "\n",
    "\n",
    "\n",
    "\n",
    "plt.xlabel('Real Data')\n",
    "plt.ylabel('Predicted Data')\n",
    "plt.legend()"
   ]
  },
  {
   "cell_type": "markdown",
   "id": "d47c4b04-f50e-45e4-8d4d-2a48ad9fb797",
   "metadata": {},
   "source": [
    "#### Set 2"
   ]
  },
  {
   "cell_type": "code",
   "execution_count": 9,
   "id": "4c9f2feb-dbb6-4997-8996-bad95a58eebf",
   "metadata": {},
   "outputs": [
    {
     "name": "stdout",
     "output_type": "stream",
     "text": [
      ">>> Starting Training for param = 48...\n",
      "Epoch 1: loss = 0.018143605440855026, duration = 21.05 seconds\n",
      "Epoch 11: loss = 0.0025691369082778692, duration = 15.79 seconds\n",
      "Epoch 21: loss = 0.0012865985045209527, duration = 18.05 seconds\n",
      "Epoch 31: loss = 0.0010739568388089538, duration = 16.56 seconds\n",
      "Epoch 41: loss = 0.0010915090097114444, duration = 17.03 seconds\n",
      "Epoch 51: loss = 0.0010093074524775147, duration = 15.99 seconds\n",
      "Epoch 61: loss = 0.0009833292569965124, duration = 15.13 seconds\n",
      "Epoch 71: loss = 0.0009861449943855405, duration = 15.74 seconds\n",
      "Epoch 81: loss = 0.001030953018926084, duration = 15.90 seconds\n",
      "Epoch 91: loss = 0.0009527381625957787, duration = 15.20 seconds\n",
      "32/32 [==============================] - 2s 21ms/step\n",
      "The root mean squared error is 0.927360174381773.\n",
      "The data dictionary has been saved to ../results/dew_set2_window48.pkl.\n"
     ]
    }
   ],
   "source": [
    "# Checking into original data\n",
    "### Everything is here in 1 Cell to avoid confusions. Later will automate this for batch processing.\n",
    "raw_data = dew_data \n",
    "Dew_Results = {} # Container for finalized data # NEED TO BE OF if data already exit to avoid cleaned up [So Don't run now]\n",
    "dew_result_48 = [None]\n",
    "result_list = [dew_result_48]\n",
    "param_list = [48]\n",
    "data_id = 'set2_window'\n",
    "datadir = f'../results/dew_{data_id}'\n",
    "\n",
    "############## NO CHANGES NEEDED Starting From HERE ###################\n",
    "for p,r in zip(param_list,result_list):\n",
    "    print(f'>>> Starting Training for param = {p}...')\n",
    "    # Specify Hyperparameters, and perform training/predictions\n",
    "    hyperparameters = {\n",
    "        'n_units' : 50,'dropout_rate' : 0.2,'n_dense' : 1,'n_epochs' : 100,'n_batch' : 32,'LSTM_depth' : 3,\n",
    "        'n_train' :10000,'n_test' : 1000,\n",
    "        'window_size':p, 'scaling': 'MinMax'\n",
    "    }\n",
    "    r = ML.process_training_data_and_learn(raw_data, hyperparameters)\n",
    "    ##Save_result\n",
    "    file_path  = f'{datadir}{p}.pkl' \n",
    "    savedict(file_path, dict_name=r)\n",
    "    new_data = {f'{data_id}{p}':r} \n",
    "    ############## NO CHANGES NEEDED Up To HERE ###################\n",
    "    \n",
    "    ### Provide Data Container\n",
    "    Dew_Results.update(new_data)"
   ]
  },
  {
   "cell_type": "markdown",
   "id": "110b9331-d6dd-437e-861f-0b70b837f6cd",
   "metadata": {},
   "source": [
    "#### Set 3 "
   ]
  },
  {
   "cell_type": "code",
   "execution_count": null,
   "id": "9f6f3216-38f6-4f21-bd60-9fd9e1beed4f",
   "metadata": {
    "scrolled": true
   },
   "outputs": [],
   "source": [
    "# Checking into original data\n",
    "### Everything is here in 1 Cell to avoid confusions. Later will automate this for batch processing.\n",
    "raw_data = dew_data \n",
    "Dew_Results = {} # Container for finalized data # NEED TO BE OF if data already exit to avoid cleaned up [So Don't run now]\n",
    "dew_result_3, dew_result_6,dew_result_12,dew_result_24,dew_result_48 = [None, None, None,None,None]\n",
    "result_list = [dew_result_3, dew_result_6,dew_result_12,dew_result_24,dew_result_48]\n",
    "param_list = [3, 6,12, 24,48]\n",
    "data_id = 'set3_window'\n",
    "datadir = f'../results/dew_{data_id}'\n",
    "\n",
    "############## NO CHANGES NEEDED Starting From HERE ###################\n",
    "for p,r in zip(param_list,result_list):\n",
    "    print(f'>>> Starting Training for param = {p}...')\n",
    "    # Specify Hyperparameters, and perform training/predictions\n",
    "    hyperparameters = {\n",
    "        'n_units' : 50,'dropout_rate' : 0.2,'n_dense' : 1,'n_epochs' : 100,'n_batch' : 32,'LSTM_depth' : 3,\n",
    "        'n_train' :50000,'n_test' : 5000,\n",
    "        'window_size':p, 'scaling': 'MinMax'\n",
    "    }\n",
    "    r = ML.process_training_data_and_learn(raw_data, hyperparameters)\n",
    "    ##Save_result\n",
    "    file_path  = f'{datadir}{p}.pkl' \n",
    "    savedict(file_path, dict_name=r)\n",
    "    new_data = {f'{data_id}{p}':r} \n",
    "    ############## NO CHANGES NEEDED Up To HERE ###################\n",
    "    \n",
    "    ### Provide Data Container\n",
    "    Dew_Results.update(new_data)"
   ]
  },
  {
   "cell_type": "markdown",
   "id": "15685135-e03b-46d6-a0d1-21a8de097736",
   "metadata": {},
   "source": [
    "##  7.Air_pressure"
   ]
  },
  {
   "cell_type": "code",
   "execution_count": 322,
   "id": "d927473e-213e-4e38-ae53-e77b3c6af761",
   "metadata": {},
   "outputs": [],
   "source": [
    "air_pressure_data = raw_METAR_data['air_pressure']"
   ]
  },
  {
   "cell_type": "code",
   "execution_count": 83,
   "id": "77e7cc50-c57c-43f5-b2c3-82a7662c9278",
   "metadata": {
    "scrolled": true
   },
   "outputs": [
    {
     "name": "stdout",
     "output_type": "stream",
     "text": [
      ">>> Starting Training for param = 6...\n",
      "Epoch 1: loss = 0.05911286175251007, duration = 10.21 seconds\n",
      "Epoch 11: loss = 0.010943441651761532, duration = 0.46 seconds\n",
      "Epoch 21: loss = 0.008406725712120533, duration = 0.38 seconds\n",
      "Epoch 31: loss = 0.005646971054375172, duration = 0.41 seconds\n",
      "Epoch 41: loss = 0.0036178287118673325, duration = 0.48 seconds\n",
      "Epoch 51: loss = 0.00306069222278893, duration = 0.50 seconds\n",
      "Epoch 61: loss = 0.0026690922677516937, duration = 0.33 seconds\n",
      "Epoch 71: loss = 0.0026327481027692556, duration = 0.57 seconds\n",
      "Epoch 81: loss = 0.002695108763873577, duration = 0.56 seconds\n",
      "Epoch 91: loss = 0.0023383614607155323, duration = 0.38 seconds\n",
      "7/7 [==============================] - 2s 6ms/step\n",
      "The root mean squared error is 0.8053324741832935.\n",
      "The data dictionary has been saved to ../results/air_pressure_set1_window6.pkl.\n",
      ">>> Starting Training for param = 24...\n",
      "Epoch 1: loss = 0.03787343204021454, duration = 10.34 seconds\n",
      "Epoch 11: loss = 0.009769462049007416, duration = 0.89 seconds\n",
      "Epoch 21: loss = 0.008604616858065128, duration = 1.26 seconds\n",
      "Epoch 31: loss = 0.007385504897683859, duration = 1.34 seconds\n",
      "Epoch 41: loss = 0.006756872404366732, duration = 0.83 seconds\n",
      "Epoch 51: loss = 0.00548895075917244, duration = 0.98 seconds\n",
      "Epoch 61: loss = 0.004474665503948927, duration = 1.07 seconds\n",
      "Epoch 71: loss = 0.0039898669347167015, duration = 0.98 seconds\n",
      "Epoch 81: loss = 0.003240864025428891, duration = 0.92 seconds\n",
      "Epoch 91: loss = 0.0026353204157203436, duration = 1.21 seconds\n",
      "7/7 [==============================] - 1s 9ms/step\n",
      "The root mean squared error is 1.1635773920359305.\n",
      "The data dictionary has been saved to ../results/air_pressure_set1_window24.pkl.\n",
      ">>> Starting Training for param = 48...\n",
      "Epoch 1: loss = 0.03487570583820343, duration = 8.19 seconds\n",
      "Epoch 11: loss = 0.009577243588864803, duration = 1.91 seconds\n",
      "Epoch 21: loss = 0.00904955342411995, duration = 1.89 seconds\n",
      "Epoch 31: loss = 0.00846912246197462, duration = 1.72 seconds\n",
      "Epoch 41: loss = 0.008398904465138912, duration = 1.72 seconds\n",
      "Epoch 51: loss = 0.007445854600518942, duration = 1.92 seconds\n",
      "Epoch 61: loss = 0.005376552697271109, duration = 2.07 seconds\n",
      "Epoch 71: loss = 0.0029343231581151485, duration = 2.01 seconds\n",
      "Epoch 81: loss = 0.0025627408176660538, duration = 1.83 seconds\n",
      "Epoch 91: loss = 0.0022843049373477697, duration = 1.90 seconds\n",
      "7/7 [==============================] - 2s 22ms/step\n",
      "The root mean squared error is 0.8684207475757317.\n",
      "The data dictionary has been saved to ../results/air_pressure_set1_window48.pkl.\n"
     ]
    }
   ],
   "source": [
    "### Everything is here in 1 Cell to avoid confusions. Later will automate this for batch processing.\n",
    "raw_data = air_pressure_data \n",
    "Air_Pressure_Results = {} # Container for finalized data\n",
    "air_pressure_result_6,air_pressure_result_24,air_pressure_result_48 = [None, None, None]\n",
    "result_list = [air_pressure_result_6,air_pressure_result_24,air_pressure_result_48]\n",
    "param_list = [6,24,48]\n",
    "data_id = 'set1_window'\n",
    "datadir = f'../results/air_pressure_{data_id}'\n",
    "\n",
    "############## NO CHANGES NEEDED Starting From HERE ###################\n",
    "for p,r in zip(param_list,result_list):\n",
    "    print(f'>>> Starting Training for param = {p}...')\n",
    "    # Specify Hyperparameters, and perform training/predictions\n",
    "    hyperparameters = {\n",
    "        'n_units' : 50,'dropout_rate' : 0.2,'n_dense' : 1,'n_epochs' : 100,'n_batch' : 32,'LSTM_depth' : 3,'n_train' :1000,'n_test' : 200,\n",
    "        'window_size':p, 'scaling': 'MinMax'\n",
    "    }\n",
    "    r = ML.process_training_data_and_learn(raw_data, hyperparameters)\n",
    "    ##Save_result\n",
    "    file_path  = f'{datadir}{p}.pkl' \n",
    "    savedict(file_path, dict_name=r)\n",
    "    new_data = {f'{data_id}{p}':r} \n",
    "    ############## NO CHANGES NEEDED Up To HERE ###################\n",
    "    \n",
    "    ### Provide Data Container\n",
    "    Air_Pressure_Results.update(new_data)"
   ]
  },
  {
   "cell_type": "code",
   "execution_count": 85,
   "id": "ea69cbd8-c058-4893-8e8e-a2ef79a3bdeb",
   "metadata": {},
   "outputs": [
    {
     "data": {
      "text/plain": [
       "<matplotlib.legend.Legend at 0x7f8537d96860>"
      ]
     },
     "execution_count": 85,
     "metadata": {},
     "output_type": "execute_result"
    },
    {
     "data": {
      "image/png": "[encoded data removed]",
      "text/plain": [
       "<Figure size 640x480 with 1 Axes>"
      ]
     },
     "metadata": {},
     "output_type": "display_data"
    }
   ],
   "source": [
    "# Setting the x and y axis limits \n",
    "xmin,xmax,ymin,ymax = [1006,1025,1006,1025]\n",
    "plt.plot([xmin, xmax], [ymin, ymax], c = 'k', lw= '2' ) # Straight line for comparison\n",
    "plt.xlim(xmin, xmax)\n",
    "plt.ylim(ymin, ymax)\n",
    "\n",
    "\n",
    "######### Real Data\n",
    "for p in param_list:\n",
    "    d_to_plot = Air_Pressure_Results[f'set1_window{p}']\n",
    "    plt.scatter(d_to_plot['dataset_test'],d_to_plot['y_pred_scaled'], label=f'n_window = {p} ')\n",
    "\n",
    "\n",
    "\n",
    "\n",
    "\n",
    "plt.xlabel('Real Data')\n",
    "plt.ylabel('Predicted Data')\n",
    "plt.legend()"
   ]
  },
  {
   "cell_type": "markdown",
   "id": "72c16b26-d8e6-454d-aefa-9f8c224b2d87",
   "metadata": {},
   "source": [
    "#### Set 2"
   ]
  },
  {
   "cell_type": "code",
   "execution_count": 11,
   "id": "2379bb31-7e9b-48e3-9ce8-252c7dfb7eb4",
   "metadata": {
    "scrolled": true
   },
   "outputs": [
    {
     "name": "stdout",
     "output_type": "stream",
     "text": [
      ">>> Starting Training for param = 3...\n",
      "Epoch 1: loss = 0.01965906098484993, duration = 9.98 seconds\n",
      "Epoch 11: loss = 0.0016460706247016788, duration = 2.95 seconds\n",
      "Epoch 21: loss = 0.0012203921796754003, duration = 2.52 seconds\n",
      "Epoch 31: loss = 0.0011846963316202164, duration = 2.96 seconds\n",
      "Epoch 41: loss = 0.0011456693755462766, duration = 2.82 seconds\n",
      "Epoch 51: loss = 0.0011320190969854593, duration = 2.97 seconds\n",
      "Epoch 61: loss = 0.0011535391677170992, duration = 2.49 seconds\n",
      "Epoch 71: loss = 0.0011178830172866583, duration = 2.60 seconds\n",
      "Epoch 81: loss = 0.0011065335711464286, duration = 2.79 seconds\n",
      "Epoch 91: loss = 0.0011051397304981947, duration = 2.81 seconds\n",
      "32/32 [==============================] - 2s 3ms/step\n",
      "The root mean squared error is 0.6471898499487151.\n",
      "The data dictionary has been saved to ../results/air_pressure_set2_window3.pkl.\n",
      ">>> Starting Training for param = 6...\n",
      "Epoch 1: loss = 0.01597801223397255, duration = 10.38 seconds\n",
      "Epoch 11: loss = 0.0015775329666212201, duration = 3.88 seconds\n",
      "Epoch 21: loss = 0.0011919443495571613, duration = 4.34 seconds\n",
      "Epoch 31: loss = 0.0011035073548555374, duration = 3.87 seconds\n",
      "Epoch 41: loss = 0.0010931278811767697, duration = 4.70 seconds\n",
      "Epoch 51: loss = 0.0010778500000014901, duration = 4.22 seconds\n",
      "Epoch 61: loss = 0.001049452112056315, duration = 4.07 seconds\n",
      "Epoch 71: loss = 0.0010233187349513173, duration = 3.80 seconds\n",
      "Epoch 81: loss = 0.0010432855924591422, duration = 4.23 seconds\n",
      "Epoch 91: loss = 0.0010197025258094072, duration = 3.65 seconds\n",
      "32/32 [==============================] - 2s 4ms/step\n",
      "The root mean squared error is 0.6127743278191036.\n",
      "The data dictionary has been saved to ../results/air_pressure_set2_window6.pkl.\n",
      ">>> Starting Training for param = 12...\n",
      "Epoch 1: loss = 0.01277596689760685, duration = 12.90 seconds\n",
      "Epoch 11: loss = 0.00153822242282331, duration = 6.74 seconds\n",
      "Epoch 21: loss = 0.001067007309757173, duration = 7.24 seconds\n",
      "Epoch 31: loss = 0.0010661513078957796, duration = 6.04 seconds\n",
      "Epoch 41: loss = 0.0009866037871688604, duration = 6.27 seconds\n",
      "Epoch 51: loss = 0.0009535864810459316, duration = 6.10 seconds\n",
      "Epoch 61: loss = 0.0009651105501689017, duration = 5.63 seconds\n",
      "Epoch 71: loss = 0.000952297355979681, duration = 6.05 seconds\n",
      "Epoch 81: loss = 0.0009204437956213951, duration = 6.07 seconds\n",
      "Epoch 91: loss = 0.0009186348179355264, duration = 5.99 seconds\n",
      "32/32 [==============================] - 2s 5ms/step\n",
      "The root mean squared error is 0.5616501600524271.\n",
      "The data dictionary has been saved to ../results/air_pressure_set2_window12.pkl.\n",
      ">>> Starting Training for param = 24...\n",
      "Epoch 1: loss = 0.011473482474684715, duration = 17.70 seconds\n",
      "Epoch 11: loss = 0.0022413209080696106, duration = 10.61 seconds\n",
      "Epoch 21: loss = 0.0010666997404769063, duration = 9.79 seconds\n",
      "Epoch 31: loss = 0.0009619389311410487, duration = 11.39 seconds\n",
      "Epoch 41: loss = 0.0009485735790804029, duration = 10.10 seconds\n",
      "Epoch 51: loss = 0.0009165902738459408, duration = 11.13 seconds\n",
      "Epoch 61: loss = 0.0008863783441483974, duration = 9.81 seconds\n",
      "Epoch 71: loss = 0.0009044178295880556, duration = 10.80 seconds\n",
      "Epoch 81: loss = 0.000893804186489433, duration = 11.14 seconds\n",
      "Epoch 91: loss = 0.0008524418226443231, duration = 11.07 seconds\n",
      "32/32 [==============================] - 2s 18ms/step\n",
      "The root mean squared error is 0.5472576720063519.\n",
      "The data dictionary has been saved to ../results/air_pressure_set2_window24.pkl.\n",
      ">>> Starting Training for param = 48...\n",
      "Epoch 1: loss = 0.011606385000050068, duration = 22.29 seconds\n",
      "Epoch 11: loss = 0.0015562294283881783, duration = 17.07 seconds\n",
      "Epoch 21: loss = 0.0009726001298986375, duration = 15.30 seconds\n",
      "Epoch 31: loss = 0.0009244337561540306, duration = 15.41 seconds\n",
      "Epoch 41: loss = 0.0009066671482287347, duration = 15.48 seconds\n",
      "Epoch 51: loss = 0.0008576300460845232, duration = 15.91 seconds\n",
      "Epoch 61: loss = 0.0008336876053363085, duration = 15.78 seconds\n",
      "Epoch 71: loss = 0.0008130905334837735, duration = 15.38 seconds\n",
      "Epoch 81: loss = 0.0008080708794295788, duration = 15.48 seconds\n",
      "Epoch 91: loss = 0.0007768077775835991, duration = 14.93 seconds\n",
      "32/32 [==============================] - 2s 17ms/step\n",
      "The root mean squared error is 0.4973623135870196.\n",
      "The data dictionary has been saved to ../results/air_pressure_set2_window48.pkl.\n"
     ]
    }
   ],
   "source": [
    "# Checking into original data\n",
    "### Everything is here in 1 Cell to avoid confusions. Later will automate this for batch processing.\n",
    "raw_data = air_pressure_data \n",
    "Air_Pressure_Results = {} # Container for finalized data # NEED TO BE OF if data already exit to avoid cleaned up [So Don't run now]\n",
    "air_pressure_result_3, air_pressure_result_6,air_pressure_result_12,air_pressure_result_24,air_pressure_result_48 = [None, None, None,None,None]\n",
    "result_list = [air_pressure_result_3, air_pressure_result_6,air_pressure_result_12,air_pressure_result_24,air_pressure_result_48 ]\n",
    "param_list = [3, 6,12, 24,48]\n",
    "data_id = 'set2_window'\n",
    "datadir = f'../results/air_pressure_{data_id}'\n",
    "\n",
    "############## NO CHANGES NEEDED Starting From HERE ###################\n",
    "for p,r in zip(param_list,result_list):\n",
    "    print(f'>>> Starting Training for param = {p}...')\n",
    "    # Specify Hyperparameters, and perform training/predictions\n",
    "    hyperparameters = {\n",
    "        'n_units' : 50,'dropout_rate' : 0.2,'n_dense' : 1,'n_epochs' : 100,'n_batch' : 32,'LSTM_depth' : 3,\n",
    "        'n_train' :10000,'n_test' : 1000,\n",
    "        'window_size':p, 'scaling': 'MinMax'\n",
    "    }\n",
    "    r = ML.process_training_data_and_learn(raw_data, hyperparameters)\n",
    "    ##Save_result\n",
    "    file_path  = f'{datadir}{p}.pkl' \n",
    "    savedict(file_path, dict_name=r)\n",
    "    new_data = {f'{data_id}{p}':r} \n",
    "    ############## NO CHANGES NEEDED Up To HERE ###################\n",
    "    \n",
    "    ### Provide Data Container\n",
    "    Air_Pressure_Results.update(new_data)"
   ]
  },
  {
   "cell_type": "markdown",
   "id": "b3cb87e7-35c3-4a92-8290-f58ebd6f9340",
   "metadata": {},
   "source": [
    "#### Set 3 "
   ]
  },
  {
   "cell_type": "code",
   "execution_count": 323,
   "id": "f2225588-df70-4326-840f-4008c5e0efb7",
   "metadata": {
    "scrolled": true
   },
   "outputs": [
    {
     "name": "stdout",
     "output_type": "stream",
     "text": [
      ">>> Starting Training for param = 3...\n",
      "Epoch 1: loss = 0.007325736340135336, duration = 23.90 seconds\n",
      "Epoch 11: loss = 0.00031316536478698254, duration = 13.12 seconds\n",
      "Epoch 21: loss = 0.00029455326148308814, duration = 12.74 seconds\n",
      "Epoch 31: loss = 0.00028943002689629793, duration = 13.55 seconds\n",
      "Epoch 41: loss = 0.00028599027427844703, duration = 12.99 seconds\n",
      "Epoch 51: loss = 0.00028074110741727054, duration = 12.83 seconds\n",
      "Epoch 61: loss = 0.00028214120538905263, duration = 13.12 seconds\n",
      "Epoch 71: loss = 0.0002817354106809944, duration = 13.49 seconds\n",
      "Epoch 81: loss = 0.00027629645774140954, duration = 13.33 seconds\n",
      "Epoch 91: loss = 0.0002761499199550599, duration = 13.00 seconds\n",
      "157/157 [==============================] - 3s 4ms/step\n",
      "The root mean squared error is 0.640848307273331.\n",
      "The data dictionary has been saved to ../results/air_pressure_set3_window3.pkl.\n",
      ">>> Starting Training for param = 6...\n",
      "Epoch 1: loss = 0.005793128628283739, duration = 31.69 seconds\n",
      "Epoch 11: loss = 0.0003020334697794169, duration = 20.72 seconds\n",
      "Epoch 21: loss = 0.00027916274848394096, duration = 18.98 seconds\n",
      "Epoch 31: loss = 0.00026551526389084756, duration = 19.20 seconds\n",
      "Epoch 41: loss = 0.00026233153766952455, duration = 18.62 seconds\n",
      "Epoch 51: loss = 0.0002563835005275905, duration = 18.82 seconds\n",
      "Epoch 61: loss = 0.0002544301387388259, duration = 18.53 seconds\n",
      "Epoch 71: loss = 0.0002465415745973587, duration = 18.55 seconds\n",
      "Epoch 81: loss = 0.00025080927298404276, duration = 20.87 seconds\n",
      "Epoch 91: loss = 0.00024650583509355783, duration = 18.99 seconds\n",
      "157/157 [==============================] - 3s 4ms/step\n",
      "The root mean squared error is 0.5820390366795051.\n",
      "The data dictionary has been saved to ../results/air_pressure_set3_window6.pkl.\n",
      ">>> Starting Training for param = 12...\n",
      "Epoch 1: loss = 0.00509136775508523, duration = 40.19 seconds\n",
      "Epoch 11: loss = 0.00026973552303388715, duration = 28.90 seconds\n",
      "Epoch 21: loss = 0.0002504315343685448, duration = 31.03 seconds\n",
      "Epoch 31: loss = 0.0002417263458482921, duration = 29.51 seconds\n",
      "Epoch 41: loss = 0.00023222953313961625, duration = 27.60 seconds\n",
      "Epoch 51: loss = 0.0002303469809703529, duration = 29.20 seconds\n",
      "Epoch 61: loss = 0.00022802891908213496, duration = 29.44 seconds\n",
      "Epoch 71: loss = 0.0002251646074000746, duration = 28.65 seconds\n",
      "Epoch 81: loss = 0.00022245034051593393, duration = 28.12 seconds\n",
      "Epoch 91: loss = 0.0002210547390859574, duration = 28.54 seconds\n",
      "157/157 [==============================] - 3s 5ms/step\n",
      "The root mean squared error is 0.5943186045847993.\n",
      "The data dictionary has been saved to ../results/air_pressure_set3_window12.pkl.\n",
      ">>> Starting Training for param = 24...\n",
      "Epoch 1: loss = 0.004896559752523899, duration = 59.45 seconds\n",
      "Epoch 11: loss = 0.00025183710386045277, duration = 55.64 seconds\n",
      "Epoch 21: loss = 0.00023174317902885377, duration = 52.53 seconds\n",
      "Epoch 31: loss = 0.00022553547751158476, duration = 51.13 seconds\n",
      "Epoch 41: loss = 0.00021862304129172117, duration = 49.65 seconds\n",
      "Epoch 51: loss = 0.00020755358855240047, duration = 53.52 seconds\n",
      "Epoch 61: loss = 0.00020380085334181786, duration = 49.80 seconds\n",
      "Epoch 71: loss = 0.00020187770132906735, duration = 48.97 seconds\n",
      "Epoch 81: loss = 0.00019919456099160016, duration = 52.67 seconds\n",
      "Epoch 91: loss = 0.00019641763356048614, duration = 51.64 seconds\n",
      "157/157 [==============================] - 3s 9ms/step\n",
      "The root mean squared error is 0.5194100960316627.\n",
      "The data dictionary has been saved to ../results/air_pressure_set3_window24.pkl.\n",
      ">>> Starting Training for param = 48...\n",
      "Epoch 1: loss = 0.004839213099330664, duration = 81.35 seconds\n",
      "Epoch 11: loss = 0.00024059451243374497, duration = 79.79 seconds\n",
      "Epoch 21: loss = 0.0002203348558396101, duration = 77.54 seconds\n",
      "Epoch 31: loss = 0.00020792170835193247, duration = 75.67 seconds\n",
      "Epoch 41: loss = 0.00020222236344125122, duration = 76.40 seconds\n",
      "Epoch 51: loss = 0.0001990731543628499, duration = 70.18 seconds\n",
      "Epoch 61: loss = 0.0001974181504920125, duration = 76.21 seconds\n",
      "Epoch 71: loss = 0.00019324706227052957, duration = 72.09 seconds\n",
      "Epoch 81: loss = 0.0001908241247292608, duration = 76.34 seconds\n",
      "Epoch 91: loss = 0.00018820055993273854, duration = 73.11 seconds\n",
      "157/157 [==============================] - 5s 18ms/step\n",
      "The root mean squared error is 0.5056746727783188.\n",
      "The data dictionary has been saved to ../results/air_pressure_set3_window48.pkl.\n"
     ]
    }
   ],
   "source": [
    "# Checking into original data\n",
    "### Everything is here in 1 Cell to avoid confusions. Later will automate this for batch processing.\n",
    "raw_data = air_pressure_data \n",
    "Air_Pressure_Results = {} # Container for finalized data # NEED TO BE OF if data already exit to avoid cleaned up [So Don't run now]\n",
    "air_pressure_result_3, air_pressure_result_6,air_pressure_result_12,air_pressure_result_24,air_pressure_result_48 = [None, None, None,None,None]\n",
    "result_list = [air_pressure_result_3, air_pressure_result_6,air_pressure_result_12,air_pressure_result_24,air_pressure_result_48 ]\n",
    "param_list = [3, 6, 12, 24,48]\n",
    "data_id = 'set3_window'\n",
    "datadir = f'../results/air_pressure_{data_id}'\n",
    "\n",
    "############## NO CHANGES NEEDED Starting From HERE ###################\n",
    "for p,r in zip(param_list,result_list):\n",
    "    print(f'>>> Starting Training for param = {p}...')\n",
    "    # Specify Hyperparameters, and perform training/predictions\n",
    "    hyperparameters = {\n",
    "        'n_units' : 50,'dropout_rate' : 0.2,'n_dense' : 1,'n_epochs' : 100,'n_batch' : 32,'LSTM_depth' : 3,\n",
    "        'n_train' :50000,'n_test' : 5000,\n",
    "        'window_size':p, 'scaling': 'MinMax'\n",
    "    }\n",
    "    r = ML.process_training_data_and_learn(raw_data, hyperparameters)\n",
    "    ##Save_result\n",
    "    file_path  = f'{datadir}{p}.pkl' \n",
    "    savedict(file_path, dict_name=r)\n",
    "    new_data = {f'{data_id}{p}':r} \n",
    "    ############## NO CHANGES NEEDED Up To HERE ###################\n",
    "    \n",
    "    ### Provide Data Container\n",
    "    Air_Pressure_Results.update(new_data)"
   ]
  },
  {
   "cell_type": "markdown",
   "id": "4104b3ab-5220-4c4a-8200-a29dc044416a",
   "metadata": {
    "jp-MarkdownHeadingCollapsed": true
   },
   "source": []
  },
  {
   "cell_type": "markdown",
   "id": "7b422bbc-eaff-48ea-bfea-f6ce1baa2f7d",
   "metadata": {},
   "source": [
    "#### Set 2"
   ]
  },
  {
   "cell_type": "markdown",
   "id": "fb2fcc9a-deb8-4121-ac19-8dabdcb881da",
   "metadata": {},
   "source": [
    "#### Set 3"
   ]
  },
  {
   "cell_type": "code",
   "execution_count": null,
   "id": "018778b1-32f6-4dfa-aca5-522311e11094",
   "metadata": {},
   "outputs": [],
   "source": []
  },
  {
   "cell_type": "markdown",
   "id": "8ae22ba9-ce3f-486b-9d6d-29644c793113",
   "metadata": {},
   "source": [
    "# Formatting of METAR input and Predicting Single Value output"
   ]
  },
  {
   "cell_type": "code",
   "execution_count": null,
   "id": "0ac58037-6ee7-4106-89fa-da60d18034cd",
   "metadata": {},
   "outputs": [],
   "source": []
  },
  {
   "cell_type": "markdown",
   "id": "54a6cb7b-e29b-4fb5-8de9-25dd56450da6",
   "metadata": {},
   "source": [
    "## 1.Collect ML results from combined results dict and generate METAR Formatted Output"
   ]
  },
  {
   "cell_type": "code",
   "execution_count": 88,
   "id": "e2ae4e53-8c21-4ff3-9d33-0945bdeb7f75",
   "metadata": {},
   "outputs": [
    {
     "name": "stdout",
     "output_type": "stream",
     "text": [
      "The data dictionary has been saved to ../results/METAR_Result_v0.pkl.\n"
     ]
    }
   ],
   "source": [
    "##Save_result This is all only containing set1\n",
    "ver = 'v0'\n",
    "file_path  = f'../results/METAR_Result_{ver}.pkl' \n",
    "dict_name = METAR_Result\n",
    "savedict(file_path, dict_name)"
   ]
  },
  {
   "cell_type": "code",
   "execution_count": null,
   "id": "deba1186-6a47-4c1b-a241-110cee8825f3",
   "metadata": {},
   "outputs": [],
   "source": [
    "##Save_result This is all only containing set1\n",
    "ver = 'v1'\n",
    "file_path  = f'../results/METAR_Result_{ver}.pkl' \n",
    "dict_name = METAR_Result\n",
    "savedict(file_path, dict_name)"
   ]
  },
  {
   "cell_type": "code",
   "execution_count": null,
   "id": "f5a93683-b992-4fed-a0df-a8c0b47a36fd",
   "metadata": {},
   "outputs": [],
   "source": [
    "##Save_result This is all only containing set1 and set2 \n",
    "ver = 'v2'\n",
    "file_path  = f'../results/METAR_Result_{ver}.pkl' \n",
    "dict_name = METAR_Result\n",
    "savedict(file_path, dict_name)"
   ]
  },
  {
   "cell_type": "code",
   "execution_count": null,
   "id": "ce0b4589-bf13-4163-8bbf-ed5eeab399d7",
   "metadata": {},
   "outputs": [],
   "source": [
    "##Save_result This is all only containing set1, set2, and set3 \n",
    "ver = 'v3'\n",
    "file_path  = f'../results/METAR_Result_{ver}.pkl' \n",
    "dict_name = METAR_Result\n",
    "savedict(file_path, dict_name)"
   ]
  },
  {
   "cell_type": "code",
   "execution_count": null,
   "id": "b91f5a90-68ff-411e-bc3e-10ea32bf7c9a",
   "metadata": {},
   "outputs": [],
   "source": []
  },
  {
   "cell_type": "code",
   "execution_count": null,
   "id": "e93bb69e-3db2-412a-b8f4-44a4f9dbb7b3",
   "metadata": {},
   "outputs": [],
   "source": []
  },
  {
   "cell_type": "markdown",
   "id": "fe3e3718-ee09-4c02-b099-d3adebb2830e",
   "metadata": {},
   "source": [
    "##  2.Input Formatting : [For each properties windows length varies]\n",
    "we allows different Modes of 48, 24 and 6 Hrs, each with different performance "
   ]
  },
  {
   "cell_type": "code",
   "execution_count": null,
   "id": "b0133aa1-34e2-4d81-a2cb-4d09f01d8f72",
   "metadata": {},
   "outputs": [],
   "source": [
    "Create a function that specifically Read the Metar Data in simple .txt format, and produce a clean targeted METAR Raw Data\n",
    "But also provide several samples for different input data (Randomly Picked from the OCEAN METAR DATA)\n",
    "Random slice of some starting point then take a slice 6,24 or 48 windows. + The Next Hour Benchmark results for each window set. \n",
    "Convert them as input and do prediction for the next hour. \n",
    "\n",
    "Consider providing next X hours result benchmarking too just in case user want it to be \"Propagate\" Single Prediction and Propagated Prediction. "
   ]
  },
  {
   "cell_type": "code",
   "execution_count": null,
   "id": "4717b2c6-1142-488c-80e2-99a7371e7494",
   "metadata": {},
   "outputs": [],
   "source": [
    "# From METAR dataset extract a specific length of data number, based "
   ]
  },
  {
   "cell_type": "code",
   "execution_count": 41,
   "id": "be718352-d71b-49f5-86da-b15e1751f922",
   "metadata": {},
   "outputs": [],
   "source": [
    "# ! pip install metar-taf-parser-mivek # install common metarparser package\n",
    "from metar_taf_parser.parser.parser import MetarParser"
   ]
  },
  {
   "cell_type": "code",
   "execution_count": 261,
   "id": "02d8c2eb-e1a4-444f-a6c4-5be3c9b8b1bf",
   "metadata": {},
   "outputs": [],
   "source": [
    "def get_metar_prediction_input(txt_filepath,window_length):\n",
    "    \"\"\"\n",
    "    Given the file path to a .txt file \n",
    "    based on the window length\n",
    "    extract a sequence of data starting in a random position, \n",
    "    then parsed the metar data associated with it,\n",
    "    produce a clean dataframe of input data based on it. \n",
    "    ready for machine learning input. \n",
    "    \"\"\"\n",
    "    df = pd.read_csv(txt_filepath)\n",
    "    print(f'The data contains a total of : {len(df)} rows')\n",
    "\n",
    "  \n",
    "    # Randomly pick on specific line and extract a window-length of data \n",
    "    selected_sequence = select_random_metar_sequence(df, window_length)\n",
    "    dates_dict = get_dates_info(selected_sequence)\n",
    "    print(f'The randomly selected sequence is from row {selected_sequence.index[0]} to {selected_sequence.index[-1]}')\n",
    "    # convert into df without index\n",
    "    selected_df = pd.DataFrame(selected_sequence['metar']).reset_index(drop=True)\n",
    "\n",
    "    parsed_metar_data, problem_list = parse_metar_df(selected_df)\n",
    "    if len(problem_list) == 0:\n",
    "        print('Input Data is now parsed')\n",
    "        ## Call a function that extract all the properties into dictionary here\n",
    "        full_dict = collect_metar_inputs(parsed_metar_data)\n",
    "        ## Return a full dictionary called cleaned_metar_dict \n",
    "        cleaned_metar_dict = preprocess_input(full_dict)\n",
    "        # include data from dates_df\n",
    "        combined_dict = {**dates_dict,**cleaned_metar_dict}\n",
    "        metar_df = pd.DataFrame(combined_dict)\n",
    "        full_metar_dict = {'parsed_metar_data' : parsed_metar_data,\n",
    "                           'metar_dict': combined_dict,\n",
    "                           'metar_df':metar_df}\n",
    "        ## \n",
    "        return full_metar_dict\n",
    "    else:\n",
    "        print('The extracted sequence contained irregularities, re-extracting data sequence ...')\n",
    "        # Redo everything two more times\n",
    "        selected_sequence_1 = select_random_metar_sequence(df, window_length)\n",
    "        dates_dict = get_dates_info(selected_sequence_1)\n",
    "        selected_df_1 = pd.DataFrame(selected_sequence_1['metar']).reset_index(drop=True)\n",
    "        parsed_metar_data, problem_list = parse_metar_df(selected_df_1)\n",
    "        if len(problem_list) == 0:\n",
    "            print('Input Data is now parsed')\n",
    "            full_dict = collect_metar_inputs(parsed_metar_data)\n",
    "            cleaned_metar_dict = preprocess_input(full_dict)\n",
    "            combined_dict = {**dates_dict,**cleaned_metar_dict}\n",
    "            metar_df = pd.DataFrame(combined_dict)\n",
    "            full_metar_dict = {'parsed_metar_data' : parsed_metar_data,\n",
    "                           'metar_dict': combined_dict,\n",
    "                           'metar_df':metar_df}\n",
    "            return full_metar_dict\n",
    "        else:\n",
    "            print('The extracted sequence contained irregularities, last try on re-extracting data sequence ...')\n",
    "            # Redo everything two more times\n",
    "            selected_sequence_2 = select_random_metar_sequence(df, window_length)\n",
    "            dates_dict= get_dates_info(selected_sequence_2)\n",
    "            selected_df_2 = pd.DataFrame(selected_sequence_2['metar']).reset_index(drop=True)\n",
    "            parsed_metar_data, problem_list = parse_metar_df(selected_df_2)\n",
    "            if len(problem_list) == 0:\n",
    "                print('Input Data is now parsed')\n",
    "                full_dict = collect_metar_inputs(parsed_metar_data)\n",
    "                cleaned_metar_dict = preprocess_input(full_dict)\n",
    "                combined_dict = {**dates_dict,**cleaned_metar_dict}\n",
    "                metar_df = pd.DataFrame(combined_dict)\n",
    "                full_metar_dict = {'parsed_metar_data' : parsed_metar_data,\n",
    "                           'metar_dict': combined_dict,\n",
    "                           'metar_df':metar_df}\n",
    "                return full_metar_dict\n",
    "            else:\n",
    "                print(\"Please check input .txt data for possible irregularities. Thank you.\")\n",
    "            \n"
   ]
  },
  {
   "cell_type": "code",
   "execution_count": 257,
   "id": "66736a08-36f5-43cd-bbc9-979a6734316a",
   "metadata": {},
   "outputs": [],
   "source": [
    "def get_dates_info(selected_sequence):\n",
    "  # create accounting for datest data\n",
    "    try:\n",
    "        dates_data = pd.to_datetime(selected_sequence['date'])\n",
    "        dates_dict = {\n",
    "            'year': pd.Series(dates_data.dt.year.values),\n",
    "            'month': pd.Series(dates_data.dt.month.values),\n",
    "            'day': pd.Series(dates_data.dt.day.values)\n",
    "        }\n",
    "        return dates_dict\n",
    "    except Exception as e:\n",
    "        print(f'Date Info is not available, ensure the column name is date, check log for more : {e}')\n",
    "    "
   ]
  },
  {
   "cell_type": "code",
   "execution_count": 253,
   "id": "2f882a57-5425-4f02-b712-7b5a5c073797",
   "metadata": {},
   "outputs": [],
   "source": [
    "dates_data = pd.to_datetime(selected_sequence['date'])"
   ]
  },
  {
   "cell_type": "code",
   "execution_count": 256,
   "id": "c4cfb246-9bb5-4a34-adf9-e15cd41ef0d1",
   "metadata": {},
   "outputs": [
    {
     "data": {
      "text/plain": [
       "0     2022\n",
       "1     2022\n",
       "2     2022\n",
       "3     2022\n",
       "4     2022\n",
       "5     2022\n",
       "6     2022\n",
       "7     2022\n",
       "8     2022\n",
       "9     2022\n",
       "10    2022\n",
       "11    2022\n",
       "12    2022\n",
       "13    2022\n",
       "14    2022\n",
       "15    2022\n",
       "16    2022\n",
       "17    2022\n",
       "18    2022\n",
       "19    2022\n",
       "20    2022\n",
       "21    2022\n",
       "22    2022\n",
       "23    2022\n",
       "dtype: int32"
      ]
     },
     "execution_count": 256,
     "metadata": {},
     "output_type": "execute_result"
    }
   ],
   "source": [
    "pd.Series(dates_data.dt.year.values)"
   ]
  },
  {
   "cell_type": "code",
   "execution_count": 11,
   "id": "35defee1-d4ec-4da1-a033-a476e17c99f4",
   "metadata": {},
   "outputs": [],
   "source": [
    "def extract_data(the_dataset, keyword):\n",
    "    \"\"\"\n",
    "    Extract specific information from the full metar dataset based on certain keywords\n",
    "    \"\"\"\n",
    "    output_list=[]\n",
    "    for i in range(len(the_dataset)):\n",
    "        dat = the_dataset[i]\n",
    "        new_data = dat[keyword]\n",
    "        output_list.append(new_data)\n",
    "    return output_list"
   ]
  },
  {
   "cell_type": "code",
   "execution_count": 12,
   "id": "27ee2fc7-8c4e-4978-babd-769d185c59fc",
   "metadata": {},
   "outputs": [
    {
     "name": "stdout",
     "output_type": "stream",
     "text": [
      "The data contains a total of : 89590 rows\n",
      "The randomly selected sequence is from row 26715 to 26738\n",
      "Input Data is now parsed\n"
     ]
    }
   ],
   "source": [
    "# Deployment test:\n",
    "txt_filepath = '../dataset/METAR_Data.txt'\n",
    "window_length = 24\n",
    "metar_dict_test_1_24 = DC.get_metar_prediction_input(txt_filepath,window_length) # row 57159 to 57182\n",
    "# metar_dict_test_2_24 = DC.get_metar_prediction_input(txt_filepath,window_length) # row 48846 to 48869\n",
    "# metar_dict_test_3_24 = DC.get_metar_prediction_input(txt_filepath,window_length) # row 47968 to 47991\n"
   ]
  },
  {
   "cell_type": "code",
   "execution_count": 13,
   "id": "0703bf8a-d2d1-43e1-a13f-38c453a0552f",
   "metadata": {},
   "outputs": [],
   "source": [
    "parsed_metar_data =metar_dict_test_1_24['parsed_metar_data']"
   ]
  },
  {
   "cell_type": "code",
   "execution_count": 14,
   "id": "d8a4fb08-0ca0-46ae-b2b3-5972ccf78142",
   "metadata": {},
   "outputs": [],
   "source": [
    "extract_list = ['_time','_wind','_visibility','_clouds','_temperature','_dew_point','_altimeter']\n",
    "naming_list = ['time','wind','visibility','clouds','temperature','dew','air_pressure']\n",
    "final_dict={}\n",
    "for d,n in zip(extract_list,naming_list) :\n",
    "    the_dataset= parsed_metar_data \n",
    "    keyword=d\n",
    "    output_list = extract_data(the_dataset, keyword)\n",
    "    new_data = {n:output_list}\n",
    "    final_dict.update(new_data)\n",
    "    "
   ]
  },
  {
   "cell_type": "code",
   "execution_count": null,
   "id": "78eed027-94a0-4625-8a47-22b01f343fab",
   "metadata": {},
   "outputs": [],
   "source": [
    "# Convert everything to series, then extract specific values from each list"
   ]
  },
  {
   "cell_type": "code",
   "execution_count": null,
   "id": "720bc6cf-ba44-4bd4-aee5-55eede25d8fb",
   "metadata": {},
   "outputs": [],
   "source": [
    "# for each data type in final_dict, preprocessing is to be made.\n",
    "# time\n",
    "# wind and so on"
   ]
  },
  {
   "cell_type": "code",
   "execution_count": 44,
   "id": "f1de884d-a92a-440e-8ac9-c7f84a50a8e6",
   "metadata": {},
   "outputs": [
    {
     "data": {
      "text/plain": [
       "[[Cloud[height=4000, quantity=CloudQuantity.SCT, type=None]],\n",
       " [Cloud[height=3600, quantity=CloudQuantity.FEW, type=None],\n",
       "  Cloud[height=5500, quantity=CloudQuantity.FEW, type=None]],\n",
       " [Cloud[height=3800, quantity=CloudQuantity.FEW, type=None],\n",
       "  Cloud[height=5000, quantity=CloudQuantity.FEW, type=None]],\n",
       " [Cloud[height=4000, quantity=CloudQuantity.FEW, type=None],\n",
       "  Cloud[height=6000, quantity=CloudQuantity.FEW, type=None]],\n",
       " [Cloud[height=4200, quantity=CloudQuantity.FEW, type=None],\n",
       "  Cloud[height=6000, quantity=CloudQuantity.FEW, type=None]],\n",
       " [Cloud[height=4200, quantity=CloudQuantity.FEW, type=None]],\n",
       " [],\n",
       " [],\n",
       " [Cloud[height=3000, quantity=CloudQuantity.FEW, type=None],\n",
       "  Cloud[height=25000, quantity=CloudQuantity.FEW, type=None]],\n",
       " [Cloud[height=25000, quantity=CloudQuantity.SCT, type=None]],\n",
       " [Cloud[height=25000, quantity=CloudQuantity.BKN, type=None]],\n",
       " [Cloud[height=2600, quantity=CloudQuantity.SCT, type=None],\n",
       "  Cloud[height=25000, quantity=CloudQuantity.BKN, type=None]],\n",
       " [Cloud[height=2000, quantity=CloudQuantity.SCT, type=None],\n",
       "  Cloud[height=25000, quantity=CloudQuantity.BKN, type=None]],\n",
       " [Cloud[height=2000, quantity=CloudQuantity.FEW, type=None],\n",
       "  Cloud[height=5000, quantity=CloudQuantity.SCT, type=None],\n",
       "  Cloud[height=25000, quantity=CloudQuantity.BKN, type=None]],\n",
       " [Cloud[height=4600, quantity=CloudQuantity.FEW, type=None],\n",
       "  Cloud[height=25000, quantity=CloudQuantity.FEW, type=None]],\n",
       " [Cloud[height=25000, quantity=CloudQuantity.FEW, type=None]],\n",
       " [Cloud[height=2000, quantity=CloudQuantity.FEW, type=None],\n",
       "  Cloud[height=4600, quantity=CloudQuantity.FEW, type=None]],\n",
       " [Cloud[height=3000, quantity=CloudQuantity.FEW, type=None]],\n",
       " [Cloud[height=2500, quantity=CloudQuantity.FEW, type=None]],\n",
       " [Cloud[height=2500, quantity=CloudQuantity.FEW, type=None]],\n",
       " [Cloud[height=2900, quantity=CloudQuantity.BKN, type=None]],\n",
       " [Cloud[height=3000, quantity=CloudQuantity.BKN, type=None]],\n",
       " [Cloud[height=3300, quantity=CloudQuantity.BKN, type=None],\n",
       "  Cloud[height=4600, quantity=CloudQuantity.BKN, type=None]],\n",
       " [Cloud[height=3500, quantity=CloudQuantity.BKN, type=None],\n",
       "  Cloud[height=4500, quantity=CloudQuantity.BKN, type=None]]]"
      ]
     },
     "execution_count": 44,
     "metadata": {},
     "output_type": "execute_result"
    }
   ],
   "source": [
    "final_dict['clouds']"
   ]
  },
  {
   "cell_type": "code",
   "execution_count": 25,
   "id": "35535734-b93e-4d56-9254-b4eabe294586",
   "metadata": {},
   "outputs": [
    {
     "data": {
      "text/plain": [
       "scattered"
      ]
     },
     "execution_count": 25,
     "metadata": {},
     "output_type": "execute_result"
    }
   ],
   "source": [
    "n_cloud[0].quantity"
   ]
  },
  {
   "cell_type": "code",
   "execution_count": 19,
   "id": "0b21ddb6-5472-4fa8-849a-0ac6ea5c35a8",
   "metadata": {},
   "outputs": [
    {
     "data": {
      "text/plain": [
       "1"
      ]
     },
     "execution_count": 19,
     "metadata": {},
     "output_type": "execute_result"
    }
   ],
   "source": [
    "n_cloud = final_dict['clouds'][0]\n",
    "len(n_cloud)"
   ]
  },
  {
   "cell_type": "code",
   "execution_count": 31,
   "id": "9abfa8a8-def6-489e-8f6b-012157bf25e5",
   "metadata": {},
   "outputs": [
    {
     "data": {
      "text/plain": [
       "[Cloud[height=4000, quantity=CloudQuantity.SCT, type=None]]"
      ]
     },
     "execution_count": 31,
     "metadata": {},
     "output_type": "execute_result"
    }
   ],
   "source": [
    "n_cloud"
   ]
  },
  {
   "cell_type": "code",
   "execution_count": 43,
   "id": "4e6eec6e-482b-4acf-8fba-5dbdb8ef01f4",
   "metadata": {
    "scrolled": true
   },
   "outputs": [
    {
     "data": {
      "text/html": [
       "<div>\n",
       "<style scoped>\n",
       "    .dataframe tbody tr th:only-of-type {\n",
       "        vertical-align: middle;\n",
       "    }\n",
       "\n",
       "    .dataframe tbody tr th {\n",
       "        vertical-align: top;\n",
       "    }\n",
       "\n",
       "    .dataframe thead th {\n",
       "        text-align: right;\n",
       "    }\n",
       "</style>\n",
       "<table border=\"1\" class=\"dataframe\">\n",
       "  <thead>\n",
       "    <tr style=\"text-align: right;\">\n",
       "      <th></th>\n",
       "      <th>cloud_layer_1_height</th>\n",
       "      <th>cloud_layer_1_type</th>\n",
       "      <th>cloud_layer_2_height</th>\n",
       "      <th>cloud_layer_2_type</th>\n",
       "      <th>cloud_layer_3_height</th>\n",
       "      <th>cloud_layer_3_type</th>\n",
       "      <th>cloud_layer_4_height</th>\n",
       "      <th>cloud_layer_4_type</th>\n",
       "    </tr>\n",
       "  </thead>\n",
       "  <tbody>\n",
       "    <tr>\n",
       "      <th>0</th>\n",
       "      <td>4000</td>\n",
       "      <td>2</td>\n",
       "      <td>0</td>\n",
       "      <td>0</td>\n",
       "      <td>0</td>\n",
       "      <td>0</td>\n",
       "      <td>0</td>\n",
       "      <td>0</td>\n",
       "    </tr>\n",
       "    <tr>\n",
       "      <th>1</th>\n",
       "      <td>3600</td>\n",
       "      <td>1</td>\n",
       "      <td>5500</td>\n",
       "      <td>1</td>\n",
       "      <td>0</td>\n",
       "      <td>0</td>\n",
       "      <td>0</td>\n",
       "      <td>0</td>\n",
       "    </tr>\n",
       "    <tr>\n",
       "      <th>2</th>\n",
       "      <td>3800</td>\n",
       "      <td>1</td>\n",
       "      <td>5000</td>\n",
       "      <td>1</td>\n",
       "      <td>0</td>\n",
       "      <td>0</td>\n",
       "      <td>0</td>\n",
       "      <td>0</td>\n",
       "    </tr>\n",
       "    <tr>\n",
       "      <th>3</th>\n",
       "      <td>4000</td>\n",
       "      <td>1</td>\n",
       "      <td>6000</td>\n",
       "      <td>1</td>\n",
       "      <td>0</td>\n",
       "      <td>0</td>\n",
       "      <td>0</td>\n",
       "      <td>0</td>\n",
       "    </tr>\n",
       "    <tr>\n",
       "      <th>4</th>\n",
       "      <td>4200</td>\n",
       "      <td>1</td>\n",
       "      <td>6000</td>\n",
       "      <td>1</td>\n",
       "      <td>0</td>\n",
       "      <td>0</td>\n",
       "      <td>0</td>\n",
       "      <td>0</td>\n",
       "    </tr>\n",
       "    <tr>\n",
       "      <th>5</th>\n",
       "      <td>4200</td>\n",
       "      <td>1</td>\n",
       "      <td>0</td>\n",
       "      <td>0</td>\n",
       "      <td>0</td>\n",
       "      <td>0</td>\n",
       "      <td>0</td>\n",
       "      <td>0</td>\n",
       "    </tr>\n",
       "    <tr>\n",
       "      <th>6</th>\n",
       "      <td>0</td>\n",
       "      <td>0</td>\n",
       "      <td>0</td>\n",
       "      <td>0</td>\n",
       "      <td>0</td>\n",
       "      <td>0</td>\n",
       "      <td>0</td>\n",
       "      <td>0</td>\n",
       "    </tr>\n",
       "    <tr>\n",
       "      <th>7</th>\n",
       "      <td>0</td>\n",
       "      <td>0</td>\n",
       "      <td>0</td>\n",
       "      <td>0</td>\n",
       "      <td>0</td>\n",
       "      <td>0</td>\n",
       "      <td>0</td>\n",
       "      <td>0</td>\n",
       "    </tr>\n",
       "    <tr>\n",
       "      <th>8</th>\n",
       "      <td>3000</td>\n",
       "      <td>1</td>\n",
       "      <td>25000</td>\n",
       "      <td>1</td>\n",
       "      <td>0</td>\n",
       "      <td>0</td>\n",
       "      <td>0</td>\n",
       "      <td>0</td>\n",
       "    </tr>\n",
       "    <tr>\n",
       "      <th>9</th>\n",
       "      <td>25000</td>\n",
       "      <td>2</td>\n",
       "      <td>0</td>\n",
       "      <td>0</td>\n",
       "      <td>0</td>\n",
       "      <td>0</td>\n",
       "      <td>0</td>\n",
       "      <td>0</td>\n",
       "    </tr>\n",
       "    <tr>\n",
       "      <th>10</th>\n",
       "      <td>25000</td>\n",
       "      <td>5</td>\n",
       "      <td>0</td>\n",
       "      <td>0</td>\n",
       "      <td>0</td>\n",
       "      <td>0</td>\n",
       "      <td>0</td>\n",
       "      <td>0</td>\n",
       "    </tr>\n",
       "    <tr>\n",
       "      <th>11</th>\n",
       "      <td>2600</td>\n",
       "      <td>2</td>\n",
       "      <td>25000</td>\n",
       "      <td>5</td>\n",
       "      <td>0</td>\n",
       "      <td>0</td>\n",
       "      <td>0</td>\n",
       "      <td>0</td>\n",
       "    </tr>\n",
       "    <tr>\n",
       "      <th>12</th>\n",
       "      <td>2000</td>\n",
       "      <td>2</td>\n",
       "      <td>25000</td>\n",
       "      <td>5</td>\n",
       "      <td>0</td>\n",
       "      <td>0</td>\n",
       "      <td>0</td>\n",
       "      <td>0</td>\n",
       "    </tr>\n",
       "    <tr>\n",
       "      <th>13</th>\n",
       "      <td>2000</td>\n",
       "      <td>1</td>\n",
       "      <td>5000</td>\n",
       "      <td>2</td>\n",
       "      <td>25000</td>\n",
       "      <td>5</td>\n",
       "      <td>0</td>\n",
       "      <td>0</td>\n",
       "    </tr>\n",
       "    <tr>\n",
       "      <th>14</th>\n",
       "      <td>4600</td>\n",
       "      <td>1</td>\n",
       "      <td>25000</td>\n",
       "      <td>1</td>\n",
       "      <td>0</td>\n",
       "      <td>0</td>\n",
       "      <td>0</td>\n",
       "      <td>0</td>\n",
       "    </tr>\n",
       "    <tr>\n",
       "      <th>15</th>\n",
       "      <td>25000</td>\n",
       "      <td>1</td>\n",
       "      <td>0</td>\n",
       "      <td>0</td>\n",
       "      <td>0</td>\n",
       "      <td>0</td>\n",
       "      <td>0</td>\n",
       "      <td>0</td>\n",
       "    </tr>\n",
       "    <tr>\n",
       "      <th>16</th>\n",
       "      <td>2000</td>\n",
       "      <td>1</td>\n",
       "      <td>4600</td>\n",
       "      <td>1</td>\n",
       "      <td>0</td>\n",
       "      <td>0</td>\n",
       "      <td>0</td>\n",
       "      <td>0</td>\n",
       "    </tr>\n",
       "    <tr>\n",
       "      <th>17</th>\n",
       "      <td>3000</td>\n",
       "      <td>1</td>\n",
       "      <td>0</td>\n",
       "      <td>0</td>\n",
       "      <td>0</td>\n",
       "      <td>0</td>\n",
       "      <td>0</td>\n",
       "      <td>0</td>\n",
       "    </tr>\n",
       "    <tr>\n",
       "      <th>18</th>\n",
       "      <td>2500</td>\n",
       "      <td>1</td>\n",
       "      <td>0</td>\n",
       "      <td>0</td>\n",
       "      <td>0</td>\n",
       "      <td>0</td>\n",
       "      <td>0</td>\n",
       "      <td>0</td>\n",
       "    </tr>\n",
       "    <tr>\n",
       "      <th>19</th>\n",
       "      <td>2500</td>\n",
       "      <td>1</td>\n",
       "      <td>0</td>\n",
       "      <td>0</td>\n",
       "      <td>0</td>\n",
       "      <td>0</td>\n",
       "      <td>0</td>\n",
       "      <td>0</td>\n",
       "    </tr>\n",
       "    <tr>\n",
       "      <th>20</th>\n",
       "      <td>2900</td>\n",
       "      <td>5</td>\n",
       "      <td>0</td>\n",
       "      <td>0</td>\n",
       "      <td>0</td>\n",
       "      <td>0</td>\n",
       "      <td>0</td>\n",
       "      <td>0</td>\n",
       "    </tr>\n",
       "    <tr>\n",
       "      <th>21</th>\n",
       "      <td>3000</td>\n",
       "      <td>5</td>\n",
       "      <td>0</td>\n",
       "      <td>0</td>\n",
       "      <td>0</td>\n",
       "      <td>0</td>\n",
       "      <td>0</td>\n",
       "      <td>0</td>\n",
       "    </tr>\n",
       "    <tr>\n",
       "      <th>22</th>\n",
       "      <td>3300</td>\n",
       "      <td>5</td>\n",
       "      <td>4600</td>\n",
       "      <td>5</td>\n",
       "      <td>0</td>\n",
       "      <td>0</td>\n",
       "      <td>0</td>\n",
       "      <td>0</td>\n",
       "    </tr>\n",
       "    <tr>\n",
       "      <th>23</th>\n",
       "      <td>3500</td>\n",
       "      <td>5</td>\n",
       "      <td>4500</td>\n",
       "      <td>5</td>\n",
       "      <td>0</td>\n",
       "      <td>0</td>\n",
       "      <td>0</td>\n",
       "      <td>0</td>\n",
       "    </tr>\n",
       "  </tbody>\n",
       "</table>\n",
       "</div>"
      ],
      "text/plain": [
       "    cloud_layer_1_height  cloud_layer_1_type  cloud_layer_2_height  \\\n",
       "0                   4000                   2                     0   \n",
       "1                   3600                   1                  5500   \n",
       "2                   3800                   1                  5000   \n",
       "3                   4000                   1                  6000   \n",
       "4                   4200                   1                  6000   \n",
       "5                   4200                   1                     0   \n",
       "6                      0                   0                     0   \n",
       "7                      0                   0                     0   \n",
       "8                   3000                   1                 25000   \n",
       "9                  25000                   2                     0   \n",
       "10                 25000                   5                     0   \n",
       "11                  2600                   2                 25000   \n",
       "12                  2000                   2                 25000   \n",
       "13                  2000                   1                  5000   \n",
       "14                  4600                   1                 25000   \n",
       "15                 25000                   1                     0   \n",
       "16                  2000                   1                  4600   \n",
       "17                  3000                   1                     0   \n",
       "18                  2500                   1                     0   \n",
       "19                  2500                   1                     0   \n",
       "20                  2900                   5                     0   \n",
       "21                  3000                   5                     0   \n",
       "22                  3300                   5                  4600   \n",
       "23                  3500                   5                  4500   \n",
       "\n",
       "    cloud_layer_2_type  cloud_layer_3_height  cloud_layer_3_type  \\\n",
       "0                    0                     0                   0   \n",
       "1                    1                     0                   0   \n",
       "2                    1                     0                   0   \n",
       "3                    1                     0                   0   \n",
       "4                    1                     0                   0   \n",
       "5                    0                     0                   0   \n",
       "6                    0                     0                   0   \n",
       "7                    0                     0                   0   \n",
       "8                    1                     0                   0   \n",
       "9                    0                     0                   0   \n",
       "10                   0                     0                   0   \n",
       "11                   5                     0                   0   \n",
       "12                   5                     0                   0   \n",
       "13                   2                 25000                   5   \n",
       "14                   1                     0                   0   \n",
       "15                   0                     0                   0   \n",
       "16                   1                     0                   0   \n",
       "17                   0                     0                   0   \n",
       "18                   0                     0                   0   \n",
       "19                   0                     0                   0   \n",
       "20                   0                     0                   0   \n",
       "21                   0                     0                   0   \n",
       "22                   5                     0                   0   \n",
       "23                   5                     0                   0   \n",
       "\n",
       "    cloud_layer_4_height  cloud_layer_4_type  \n",
       "0                      0                   0  \n",
       "1                      0                   0  \n",
       "2                      0                   0  \n",
       "3                      0                   0  \n",
       "4                      0                   0  \n",
       "5                      0                   0  \n",
       "6                      0                   0  \n",
       "7                      0                   0  \n",
       "8                      0                   0  \n",
       "9                      0                   0  \n",
       "10                     0                   0  \n",
       "11                     0                   0  \n",
       "12                     0                   0  \n",
       "13                     0                   0  \n",
       "14                     0                   0  \n",
       "15                     0                   0  \n",
       "16                     0                   0  \n",
       "17                     0                   0  \n",
       "18                     0                   0  \n",
       "19                     0                   0  \n",
       "20                     0                   0  \n",
       "21                     0                   0  \n",
       "22                     0                   0  \n",
       "23                     0                   0  "
      ]
     },
     "execution_count": 43,
     "metadata": {},
     "output_type": "execute_result"
    }
   ],
   "source": [
    "cloud_df = preprocess_cloud_height(final_dict)\n",
    "cloud_df"
   ]
  },
  {
   "cell_type": "code",
   "execution_count": 41,
   "id": "86dff0b9-2363-4f88-8d24-c777eb722a73",
   "metadata": {},
   "outputs": [
    {
     "data": {
      "text/plain": [
       "[2, 1, 1, 1, 1, 1, 1, 2, 5, 2, 2, 1, 1, 1, 1, 1, 1, 1, 5, 5, 5, 5]"
      ]
     },
     "execution_count": 41,
     "metadata": {},
     "output_type": "execute_result"
    }
   ],
   "source": [
    "cloud_df['cloud_layer_1_type']"
   ]
  },
  {
   "cell_type": "code",
   "execution_count": 39,
   "id": "b67736e8-57c2-475c-9561-06410efabcb0",
   "metadata": {},
   "outputs": [
    {
     "name": "stdout",
     "output_type": "stream",
     "text": [
      "24\n",
      "22\n",
      "24\n",
      "22\n",
      "24\n",
      "22\n",
      "24\n",
      "22\n"
     ]
    }
   ],
   "source": [
    "for a in cloud_df.keys():\n",
    "    print(len(cloud_df[a]))"
   ]
  },
  {
   "cell_type": "code",
   "execution_count": 21,
   "id": "e2c67256-52cf-45ed-a09a-3f55435b9694",
   "metadata": {},
   "outputs": [],
   "source": [
    "def preprocess_cloud(final_dict):\n",
    "    \"\"\"\n",
    "    extract number of cloud layers\n",
    "    \"\"\"\n",
    "    n_cloud_list = []\n",
    "    for i in range(len(final_dict['clouds'])):\n",
    "        n_cloud = len(final_dict['clouds'][i])\n",
    "        n_cloud_list.append(n_cloud)\n",
    "    n_cloud_series = pd.Series(n_cloud_list)        \n",
    "    return n_cloud_series"
   ]
  },
  {
   "cell_type": "code",
   "execution_count": 42,
   "id": "7b5bb439-9554-4846-b93e-0b1cddf8b38c",
   "metadata": {},
   "outputs": [],
   "source": [
    "def preprocess_cloud_height(final_dict):\n",
    "    \"\"\"\n",
    "    extract number of cloud height_for each layers\n",
    "    if none then give zeros, so there must be 4 layers of cloud \n",
    "    The rest is ignored \n",
    "    \"\"\"\n",
    "    cloud_category_encoding = {'NSC':0, 'FEW': 1, 'SCT': 2, 'BKN':5, 'OVC':8}\n",
    "    n_cloud_list = []\n",
    "    cloud_1_list =[]\n",
    "    cloud_2_list =[]\n",
    "    cloud_3_list =[]\n",
    "    cloud_4_list =[]\n",
    "    cloud_1_type_list =[]\n",
    "    cloud_2_type_list =[]\n",
    "    cloud_3_type_list =[]\n",
    "    cloud_4_type_list =[]\n",
    "    for i in range(len(final_dict['clouds'])):\n",
    "        n_cloud = final_dict['clouds'][i]\n",
    "        n_cloud_len = len(n_cloud)\n",
    "        if n_cloud_len == 0:\n",
    "            cloud_1_list.append(0)\n",
    "            cloud_2_list.append(0)\n",
    "            cloud_3_list.append(0)\n",
    "            cloud_4_list.append(0)\n",
    "            \n",
    "            cloud_1_type_list.append(0)\n",
    "            cloud_2_type_list.append(0)\n",
    "            cloud_3_type_list.append(0)\n",
    "            cloud_4_type_list.append(0)\n",
    "        elif n_cloud_len == 1:\n",
    "            cloud_1 = n_cloud[0].height # this is the height of layer 1\n",
    "            cloud_1_type = n_cloud[0].quantity\n",
    "            cloud_1_type_num = cloud_category_encoding[cloud_1_type.value]\n",
    "            cloud_1_list.append(cloud_1)\n",
    "            cloud_1_type_list.append(cloud_1_type_num)\n",
    "            cloud_2_list.append(0)\n",
    "            cloud_3_list.append(0)\n",
    "            cloud_4_list.append(0)\n",
    "            cloud_2_type_list.append(0)\n",
    "            cloud_3_type_list.append(0)\n",
    "            cloud_4_type_list.append(0)\n",
    "        elif n_cloud_len == 2:\n",
    "            cloud_1 = n_cloud[0].height # this is the height of layer 1\n",
    "            cloud_1_type = n_cloud[0].quantity\n",
    "            cloud_1_type_num = cloud_category_encoding[cloud_1_type.value]\n",
    "            cloud_1_list.append(cloud_1)\n",
    "            cloud_1_type_list.append(cloud_1_type_num)\n",
    "            \n",
    "            cloud_2 = n_cloud[1].height # this is the height of layer 1\n",
    "            cloud_2_type = n_cloud[1].quantity\n",
    "            cloud_2_type_num = cloud_category_encoding[cloud_2_type.value]\n",
    "            cloud_2_list.append(cloud_2)\n",
    "            cloud_2_type_list.append(cloud_2_type_num)\n",
    "            \n",
    "            cloud_3_list.append(0)\n",
    "            cloud_4_list.append(0)\n",
    "            cloud_3_type_list.append(0)\n",
    "            cloud_4_type_list.append(0)\n",
    "        elif n_cloud_len == 3:\n",
    "            cloud_1 = n_cloud[0].height # this is the height of layer 1\n",
    "            cloud_1_type = n_cloud[0].quantity\n",
    "            cloud_1_type_num = cloud_category_encoding[cloud_1_type.value]\n",
    "            cloud_1_list.append(cloud_1)\n",
    "            cloud_1_type_list.append(cloud_1_type_num)\n",
    "            \n",
    "            cloud_2 = n_cloud[1].height # this is the height of layer 1\n",
    "            cloud_2_type = n_cloud[1].quantity\n",
    "            cloud_2_type_num = cloud_category_encoding[cloud_2_type.value]\n",
    "            cloud_2_list.append(cloud_2)\n",
    "            cloud_2_type_list.append(cloud_2_type_num)\n",
    "            \n",
    "            cloud_3 = n_cloud[2].height # this is the height of layer 1\n",
    "            cloud_3_type = n_cloud[2].quantity\n",
    "            cloud_3_type_num = cloud_category_encoding[cloud_3_type.value]\n",
    "            cloud_3_list.append(cloud_3)\n",
    "            cloud_3_type_list.append(cloud_3_type_num)\n",
    "            \n",
    "            cloud_4_list.append(0)\n",
    "            cloud_4_type_list.append(0)\n",
    "        else :\n",
    "            cloud_1 = n_cloud[0].height # this is the height of layer 1\n",
    "            cloud_1_type = n_cloud[0].quantity\n",
    "            cloud_1_type_num = cloud_category_encoding[cloud_1_type.value]\n",
    "            cloud_1_list.append(cloud_1)\n",
    "            cloud_1_type_list.append(cloud_1_type_num)\n",
    "            \n",
    "            cloud_2 = n_cloud[1].height # this is the height of layer 1\n",
    "            cloud_2_type = n_cloud[1].quantity\n",
    "            cloud_2_type_num = cloud_category_encoding[cloud_2_type.value]\n",
    "            cloud_2_list.append(cloud_2)\n",
    "            cloud_2_type_list.append(cloud_2_type_num)\n",
    "            \n",
    "            cloud_3 = n_cloud[2].height # this is the height of layer 1\n",
    "            cloud_3_type = n_cloud[2].quantity\n",
    "            cloud_3_type_num = cloud_category_encoding[cloud_3_type.value]\n",
    "            cloud_3_list.append(cloud_3)\n",
    "            cloud_3_type_list.append(cloud_3_type_num)\n",
    "            \n",
    "            cloud_4 = n_cloud[3].height # this is the height of layer 1\n",
    "            cloud_4_type = n_cloud[3].quantity\n",
    "            cloud_4_type_num = cloud_category_encoding[cloud_4_type.value]\n",
    "            cloud_4_list.append(cloud_4)\n",
    "            cloud_4_type_list.append(cloud_4_type_num)\n",
    "\n",
    "        \n",
    "\n",
    "        cloud_df = pd.DataFrame({'cloud_layer_1_height':cloud_1_list,\n",
    "                    'cloud_layer_1_type':cloud_1_type_list,\n",
    "                    'cloud_layer_2_height':cloud_2_list,\n",
    "                    'cloud_layer_2_type':cloud_2_type_list,\n",
    "                    'cloud_layer_3_height':cloud_3_list,\n",
    "                    'cloud_layer_3_type':cloud_3_type_list,\n",
    "                    'cloud_layer_4_height':cloud_4_list,\n",
    "                    'cloud_layer_4_type':cloud_4_type_list,\n",
    "                   })       \n",
    "    return cloud_df"
   ]
  },
  {
   "cell_type": "code",
   "execution_count": 108,
   "id": "c76b4d14-3464-4c62-b495-f490602c7853",
   "metadata": {},
   "outputs": [],
   "source": [
    "def preprocess_input(final_dict):\n",
    "    \"\"\"\n",
    "    Preprocessing for each data \n",
    "    \"\"\"\n",
    "    hour,minute = preprocess_time(final_dict)\n",
    "    wind_speed, wind_degrees, wind_min_var, wind_max_var = preprocess_wind(final_dict)\n",
    "    vis_distance = preprocess_visibility(final_dict)\n",
    "    # preprocess_clouds() test a bit later\n",
    "    # preprocess_temperature()\n",
    "    temperature_series = pd.Series(final_dict['temperature'])\n",
    "    temperature = average_data_NaN(temperature_series)\n",
    "    # preprocess_dew()\n",
    "    dew_series = pd.Series(final_dict['dew'])\n",
    "    dew = average_data_NaN(dew_series)\n",
    "    # preprocess_air_pressure()\n",
    "    air_pressure_series = pd.Series(final_dict['air_pressure'])\n",
    "    air_pressure = average_data_NaN(air_pressure_series)\n",
    "    # collect all results create a \n",
    "    # full_metar_df ready for analysis and prediction of next step data. \n",
    "    full_metar_dict = {'hour': hour,\n",
    "                      'minutes':minute,\n",
    "                       'wind_speed': wind_speed,\n",
    "                       'wind_degrees':wind_degrees,\n",
    "                       'wind_min_var': wind_min_var,\n",
    "                       'wind_max_var': wind_max_var,\n",
    "                      'vis_distance':vis_distance,\n",
    "                      'temperature':temperature,\n",
    "                      'dew':dew,\n",
    "                      'air_pressure':air_pressure}\n",
    "    return full_metar_dict"
   ]
  },
  {
   "cell_type": "code",
   "execution_count": 96,
   "id": "c7036fba-f06a-4db3-9c1c-54efd2ad390f",
   "metadata": {},
   "outputs": [
    {
     "data": {
      "text/plain": [
       "dict_keys(['time', 'wind', 'visibility', 'clouds', 'temperature', 'dew', 'air_pressure'])"
      ]
     },
     "execution_count": 96,
     "metadata": {},
     "output_type": "execute_result"
    }
   ],
   "source": [
    "final_dict.keys()"
   ]
  },
  {
   "cell_type": "code",
   "execution_count": 103,
   "id": "8b88b3d5-55c6-4fb8-9253-cdd839854d77",
   "metadata": {},
   "outputs": [],
   "source": [
    "def preprocess_time(final_dict):\n",
    "    \"\"\"\n",
    "    extract hour and minutes from time \n",
    "    \"\"\"\n",
    "    hour = []\n",
    "    minute = []\n",
    "    time_series = pd.Series(final_dict['time'])\n",
    "    for i in range(len(time_series)):\n",
    "        hr = time_series[i].hour\n",
    "        mins = time_series[i].minute\n",
    "      \n",
    "        ## append to corresponding list\n",
    "        hour.append(hr)\n",
    "        minute.append(mins)\n",
    "    return pd.Series(hour), pd.Series(minute)"
   ]
  },
  {
   "cell_type": "code",
   "execution_count": 263,
   "id": "deed600e-fe25-4796-a255-9ac42fb4499e",
   "metadata": {},
   "outputs": [],
   "source": [
    "def preprocess_wind(final_dict):\n",
    "    \"\"\"\n",
    "    Extract relevant wind data speed, degrees, min_var, and max_var\n",
    "    \"\"\"\n",
    "    wind_speed = []\n",
    "    wind_degrees = []\n",
    "    wind_min_var = []\n",
    "    wind_max_var = []\n",
    "    wind_series = pd.Series(final_dict['wind'])\n",
    "    for i in range(len(wind_series)):\n",
    "        try:\n",
    "            speed = wind_series[i].speed\n",
    "            degrees = wind_series[i].degrees\n",
    "            min_var = wind_series[i].min_variation\n",
    "            max_var = wind_series[i].max_variation\n",
    "            \n",
    "            ## append to corresponding list\n",
    "            wind_speed.append(speed)\n",
    "            wind_degrees.append(degrees)\n",
    "            wind_min_var.append(min_var)\n",
    "            wind_max_var.append(max_var)\n",
    "        except Exception as e:\n",
    "            print(f'No Wind Detail info found on index {i}, {e} >>> Setting data as 0')\n",
    "            # set NoneType or other problematic data as 0 \n",
    "            wind_speed.append(0)\n",
    "            wind_degrees.append(0)\n",
    "            wind_min_var.append(0)\n",
    "            wind_max_var.append(0)\n",
    "    cleaned_wind_speed = average_data_NaN(pd.Series(wind_speed))\n",
    "    cleaned_wind_degrees = average_data_NaN(pd.Series(wind_degrees))\n",
    "    cleaned_wind_min_var =  pd.Series(wind_min_var).fillna(0).infer_objects()\n",
    "    cleaned_wind_max_var = pd.Series(wind_max_var).fillna(0).infer_objects()\n",
    "    return cleaned_wind_speed, cleaned_wind_degrees, cleaned_wind_min_var, cleaned_wind_max_var"
   ]
  },
  {
   "cell_type": "code",
   "execution_count": 107,
   "id": "9fda132e-2153-4666-9020-e840c134eccf",
   "metadata": {},
   "outputs": [],
   "source": [
    "def convert_to_float_and_mark(data_list):\n",
    "    \"\"\"\n",
    "    Convert all element in a list into integer, marking the indices of data that are non-numeric\n",
    "    \"\"\"\n",
    "   \n",
    "    \n",
    "    # Initialize an empty list to store converted integers or original data\n",
    "    converted_data = []\n",
    "    # Initialize a list to mark indices of non-numeric data\n",
    "    non_numeric_indices = []\n",
    "    \n",
    "    # Iterate through the list, converting elements to integers when possible\n",
    "    for index, item in enumerate(data_list):\n",
    "        try:\n",
    "            # Attempt to convert the item to a float\n",
    "            converted_data.append(float(item))\n",
    "        except ValueError:\n",
    "            # If conversion fails, append the original item and mark the index\n",
    "            converted_data.append(item)\n",
    "            non_numeric_indices.append(index)\n",
    "    \n",
    "    # Create a pandas Series from the converted data\n",
    "    s = pd.Series(converted_data)\n",
    "    return s\n",
    "\n",
    "# Function to find closest non-NaN indices\n",
    "def find_closest_indices(target_index, available_indices, count=3):\n",
    "    # Calculate the absolute distance from the target index\n",
    "    distances = np.abs(available_indices - target_index)\n",
    "    # Get indices of the smallest distances\n",
    "    closest_indices = available_indices[np.argsort(distances)[:count]]\n",
    "    return closest_indices\n",
    "    \n",
    "def average_data_NaN(my_data_series):\n",
    "    \"\"\"\n",
    "    Finding NaN in Data and averaged out based on the 3 non-NaN data points before and after the NaN\n",
    "    \"\"\"\n",
    "    s = my_data_series\n",
    "\n",
    "    # Find indices of all non-NaN values\n",
    "    non_nan_indices = s.dropna().index\n",
    "    # # Find indices of all non-NaN and non-zero values\n",
    "    # non_nan_non_zero_indices = s[s != 0].dropna().index  \n",
    "    \n",
    "    # Replace NaN values\n",
    "    for i in s[s.isna()].index:\n",
    "        # Find the closest 3 non-NaN indices before and after the NaN value\n",
    "        closest_indices = find_closest_indices(i, non_nan_indices, count=3)\n",
    "        # Calculate mean of the closest non-NaN values\n",
    "        mean_value = s.iloc[closest_indices].mean()\n",
    "        # Replace NaN with calculated mean in original dataset\n",
    "        s.at[i] = int(round(mean_value)) # rounded to nearest integer\n",
    "        \n",
    "    return s\n"
   ]
  },
  {
   "cell_type": "code",
   "execution_count": 106,
   "id": "69569f84-4cb2-4805-bb52-4b2d9ad4b919",
   "metadata": {},
   "outputs": [],
   "source": [
    "def preprocess_visibility(final_dict):\n",
    "    \"\"\"\n",
    "    extract visibility distance\n",
    "    \"\"\"\n",
    "    vis_distance = []\n",
    "    vis_series = pd.Series(final_dict['visibility'])\n",
    "    for i in range(len(vis_series)):\n",
    "        distance = vis_series[i].distance\n",
    "        vis_distance.append(distance)\n",
    "\n",
    "    # reformat\n",
    "    cleaned_vis_distance = [str(item).replace('SM', '') for item in vis_distance] # Removing SM\n",
    "\n",
    "    # Preprocess for fractions and other forms:\n",
    "    data_list = cleaned_vis_distance\n",
    "    vis_distance_int = convert_to_float_and_mark(data_list)\n",
    "    data_series = pd.Series(vis_distance_int)\n",
    "    fixed_vis_distance = data_series.replace({'> 10km': 6.0, '2998m': 2.0,\n",
    "                                         '1/2':0.5,'2 1/2':2.5, '1/4':0.25, '1 1/4':1.25, '1 1/2':1.5,\n",
    "                                         '3/4':0.75, '1 3/4':1.35, '1/8':0.125})\n",
    "\n",
    "    \n",
    "    return fixed_vis_distance"
   ]
  },
  {
   "cell_type": "code",
   "execution_count": null,
   "id": "826da095-07e3-4273-b85b-068b360e4fff",
   "metadata": {},
   "outputs": [],
   "source": [
    "def preprocess_temperature()"
   ]
  },
  {
   "cell_type": "code",
   "execution_count": 113,
   "id": "df15d9a9-bf82-4851-86e4-254552217b98",
   "metadata": {},
   "outputs": [],
   "source": [
    "## Collect useful data from the parsed_metar_data\n",
    "def collect_metar_inputs(parsed_metar_data):\n",
    "    \"\"\"\n",
    "    Collect the data features necessary for building inputs. \n",
    "    \"\"\"\n",
    "    extract_list = ['_time','_wind','_visibility','_clouds','_temperature','_dew_point','_altimeter']\n",
    "    naming_list = ['time','wind','visibility','clouds','temperature','dew','air_pressure']\n",
    "    final_dict={}\n",
    "    for d,n in zip(extract_list,naming_list) :\n",
    "        the_dataset= parsed_metar_data \n",
    "        keyword=d\n",
    "        output_list = extract_data(the_dataset, keyword)\n",
    "        new_data = {n:output_list}\n",
    "        final_dict.update(new_data)\n",
    "    return final_dict\n",
    "    "
   ]
  },
  {
   "cell_type": "code",
   "execution_count": 35,
   "id": "8b9dac5f-d340-42ca-9aa7-5ebe4ec5dd7e",
   "metadata": {},
   "outputs": [],
   "source": [
    "# Function to randomly select a sequence of METAR data\n",
    "def select_random_metar_sequence(df, window_length):\n",
    "    max_start_index = len(df) - window_length\n",
    "    start_index = np.random.randint(0, max_start_index)\n",
    "    return df.iloc[start_index:start_index+window_length]"
   ]
  },
  {
   "cell_type": "code",
   "execution_count": 68,
   "id": "de01b1dc-f266-4519-ac1f-3274975cf4c0",
   "metadata": {},
   "outputs": [],
   "source": [
    "def parse_metar_df(metar_df):\n",
    "    \"\"\"\n",
    "    Given a Metar dataframe, extract the components into a metar dataset\n",
    "    the data should contained in a df with header a single column , here is the column 'metar'\n",
    "    \n",
    "    \"\"\"\n",
    "    header_list = selected_df.columns\n",
    "    my_full_metar_dict = {}\n",
    "    problem_list = []\n",
    "    data_len = len(metar_df)\n",
    "    for i in range(data_len):\n",
    "        try:\n",
    "            my_metar = metar_df[header_list[0]][i] # first column in the header list\n",
    "            my_parsed_metar = MetarParser().parse(my_metar)\n",
    "            my_metar_dict = my_parsed_metar.__dict__\n",
    "            my_metar_new_data = {i:my_metar_dict}\n",
    "            my_full_metar_dict.update(my_metar_new_data)\n",
    "        except Exception as e:\n",
    "            problem_list.append(i)\n",
    "            print(f\"Problematic data at index {i}: {e}\")  # Print the index of the problematic data and the exception\n",
    "    return my_full_metar_dict, problem_list"
   ]
  },
  {
   "cell_type": "code",
   "execution_count": 32,
   "id": "9443cffd-e5fe-4815-bd75-c49a4fa5301e",
   "metadata": {},
   "outputs": [],
   "source": [
    "# Start from here. Load the raw dataset\n",
    "df = pd.read_csv('../dataset/METAR_Data.txt')\n"
   ]
  },
  {
   "cell_type": "code",
   "execution_count": 34,
   "id": "35d244ee-7197-4b46-81a2-2092adb00c6f",
   "metadata": {},
   "outputs": [
    {
     "data": {
      "text/plain": [
       "0    KMIA 010053Z 04009G15KT 10SM OVC025 23/18 A302...\n",
       "1    KMIA 010153Z 04009G15KT 10SM OVC023 23/18 A302...\n",
       "2    KMIA 010253Z 05009G19KT 10SM -RA OVC025 23/18 ...\n",
       "3    KMIA 010353Z 07010KT 10SM OVC028 23/17 A3021 R...\n",
       "4    KMIA 010453Z 07010KT 10SM OVC028 24/18 A3019 R...\n",
       "Name: metar, dtype: object"
      ]
     },
     "execution_count": 34,
     "metadata": {},
     "output_type": "execute_result"
    }
   ],
   "source": [
    "df['metar'].head()"
   ]
  },
  {
   "cell_type": "code",
   "execution_count": 85,
   "id": "8dd2fee0-7813-4240-8445-a2da5c407469",
   "metadata": {},
   "outputs": [
    {
     "data": {
      "text/plain": [
       "Index(['airport_id', 'date', 'metar'], dtype='object')"
      ]
     },
     "execution_count": 85,
     "metadata": {},
     "output_type": "execute_result"
    }
   ],
   "source": [
    "df.keys()"
   ]
  },
  {
   "cell_type": "code",
   "execution_count": 36,
   "id": "1e9fd1b4-704c-4dee-8c71-16a856b8d74b",
   "metadata": {},
   "outputs": [],
   "source": [
    "# Randomly pick on specific line and extract a window-length of data \n",
    "window_length = 24  # Define the window length as needed\n",
    "selected_sequence = select_random_metar_sequence(df, window_length)"
   ]
  },
  {
   "cell_type": "code",
   "execution_count": 72,
   "id": "5a39afb1-edcc-4711-a0b4-a2f3aa7614fb",
   "metadata": {},
   "outputs": [
    {
     "name": "stdout",
     "output_type": "stream",
     "text": [
      "76052\n",
      "76075\n"
     ]
    }
   ],
   "source": [
    "print(selected_sequence.index[0])\n",
    "print(selected_sequence.index[-1])"
   ]
  },
  {
   "cell_type": "code",
   "execution_count": null,
   "id": "7576d69c-2cd0-476a-918e-ff0bffd3cada",
   "metadata": {},
   "outputs": [],
   "source": []
  },
  {
   "cell_type": "code",
   "execution_count": 78,
   "id": "842c08cb-445a-4c18-82da-43d3d8a6d7cf",
   "metadata": {},
   "outputs": [],
   "source": [
    "# create accounting for datest data\n",
    "dates_data = pd.to_datetime(selected_sequence['date'])\n",
    "dates_df = pd.DataFrame({\n",
    "    'year': dates_data.dt.year,\n",
    "    'month': dates_data.dt.month,\n",
    "    'day': dates_data.dt.day\n",
    "})"
   ]
  },
  {
   "cell_type": "code",
   "execution_count": 65,
   "id": "179d3d92-dd62-4a65-95ac-7461c60fc7d0",
   "metadata": {},
   "outputs": [],
   "source": [
    "selected_df = pd.DataFrame(selected_sequence['metar']).reset_index(drop=True)"
   ]
  },
  {
   "cell_type": "code",
   "execution_count": 66,
   "id": "3cb837b7-7b39-4b61-881f-b98334b49fe2",
   "metadata": {
    "scrolled": true
   },
   "outputs": [
    {
     "name": "stdout",
     "output_type": "stream",
     "text": [
      "metar\n"
     ]
    }
   ],
   "source": [
    "header_list = selected_df.columns\n",
    "print(header_list[0])"
   ]
  },
  {
   "cell_type": "code",
   "execution_count": 67,
   "id": "e5dc61bd-fd4f-4481-962a-0b9283d11126",
   "metadata": {},
   "outputs": [
    {
     "data": {
      "text/plain": [
       "0     KMIA 132353Z 27004KT 10SM SCT033 SCT130 BKN250...\n",
       "1     KMIA 140053Z 00000KT 10SM SCT030 BKN180 BKN250...\n",
       "2     KMIA 140153Z COR VRB03KT 10SM FEW022 BKN180 OV...\n",
       "3     KMIA 140253Z 34003KT 10SM BKN180 BKN250 27/22 ...\n",
       "4     KMIA 140353Z 00000KT 10SM BKN120 BKN250 27/22 ...\n",
       "5     KMIA 140453Z 00000KT 10SM SCT120 BKN250 27/22 ...\n",
       "6     KMIA 140553Z 00000KT 10SM FEW120 FEW250 27/22 ...\n",
       "7     KMIA 140653Z 12003KT 10SM FEW120 FEW250 27/22 ...\n",
       "8     KMIA 140753Z 00000KT 10SM FEW120 FEW250 27/22 ...\n",
       "9     KMIA 140853Z 00000KT 10SM SCT250 26/22 A2996 R...\n",
       "10    KMIA 140953Z 00000KT 10SM FEW120 SCT250 26/22 ...\n",
       "11    KMIA 141053Z 00000KT 10SM FEW025 FEW150 SCT250...\n",
       "12    KMIA 141153Z 00000KT 10SM FEW030 FEW150 BKN250...\n",
       "13    KMIA 141253Z 23003KT 10SM FEW030 FEW150 BKN250...\n",
       "14    KMIA 141353Z 24005KT 10SM FEW030 FEW150 BKN250...\n",
       "15    KMIA 141453Z VRB03KT 10SM SCT035 BKN200 31/22 ...\n",
       "16    KMIA 141553Z VRB03KT 10SM SCT041 BKN050 33/22 ...\n",
       "17    KMIA 141653Z 10008KT 10SM BKN035CB BKN060 BKN2...\n",
       "18    KMIA 141753Z 13011KT 10SM TS SCT038CB BKN060 B...\n",
       "19    KMIA 141831Z VRB06KT 10SM -RA SCT022CB BKN032 ...\n",
       "20    KMIA 141853Z 13005KT 10SM VCTS SCT025CB SCT039...\n",
       "21    KMIA 141909Z 15005KT 10SM SCT030 SCT039 BKN110...\n",
       "22    KMIA 141917Z 00000KT 10SM VCTS SCT030 SCT039 B...\n",
       "23    KMIA 141932Z 15006KT 10SM FEW030 FEW070 SCT110...\n",
       "Name: metar, dtype: object"
      ]
     },
     "execution_count": 67,
     "metadata": {},
     "output_type": "execute_result"
    }
   ],
   "source": [
    "selected_df[header_list[0]]"
   ]
  },
  {
   "cell_type": "code",
   "execution_count": 69,
   "id": "9ef327a8-9566-4687-9090-eeb33d146586",
   "metadata": {},
   "outputs": [],
   "source": [
    "parsed_metar_data, problem_list = parse_metar_df(selected_df)"
   ]
  },
  {
   "cell_type": "code",
   "execution_count": 77,
   "id": "fa7c36bc-7d76-4e2f-abeb-c24d8eb06e7e",
   "metadata": {},
   "outputs": [
    {
     "data": {
      "text/plain": [
       "{'_wind': Wind[speed=3, direction=N, gust=None, degrees=10, unit=KT, min_variation=None, max_variation=None],\n",
       " '_visibility': Visibility[distance=10SM, min_distance=None, min_direction=None],\n",
       " '_vertical_visibility': None,\n",
       " '_wind_shear': None,\n",
       " '_cavok': None,\n",
       " '_remark': 'automated station with a precipitation discriminator sea level pressure of 1018.0 HPa  hourly temperature of 23.3°C and dew point of 15.0°C  6-hourly maximum temperature of 25.6°C  6-hourly minimum temperature of 23.3°C  Steady or increase, then decrease; or decrease then decrease more rapidly of 0.9 hectopascals in the past 3 hours',\n",
       " '_remarks': ['automated station with a precipitation discriminator',\n",
       "  'sea level pressure of 1018.0 HPa',\n",
       "  '',\n",
       "  'hourly temperature of 23.3°C and dew point of 15.0°C',\n",
       "  '',\n",
       "  '6-hourly maximum temperature of 25.6°C',\n",
       "  '',\n",
       "  '6-hourly minimum temperature of 23.3°C',\n",
       "  '',\n",
       "  'Steady or increase, then decrease; or decrease then decrease more rapidly of 0.9 hectopascals in the past 3 hours'],\n",
       " '_clouds': [Cloud[height=5000, quantity=CloudQuantity.SCT, type=None]],\n",
       " '_weather_conditions': [],\n",
       " '_day': 11,\n",
       " '_time': datetime.time(5, 53),\n",
       " '_message': 'KMIA 110553Z 01003KT 10SM SCT050 23/15 A3006 RMK AO2 SLP180 T02330150 10256 20233 58009',\n",
       " '_station': 'KMIA',\n",
       " '_flags': set(),\n",
       " '_trends': [],\n",
       " '_temperature': 23,\n",
       " '_dew_point': 15,\n",
       " '_altimeter': 1017,\n",
       " '_nosig': False,\n",
       " '_runways_info': []}"
      ]
     },
     "execution_count": 77,
     "metadata": {},
     "output_type": "execute_result"
    }
   ],
   "source": [
    "parsed_metar_data_test[0]"
   ]
  },
  {
   "cell_type": "code",
   "execution_count": 124,
   "id": "d200d926-e6c5-4885-838a-f06e23445aa2",
   "metadata": {},
   "outputs": [
    {
     "name": "stdout",
     "output_type": "stream",
     "text": [
      "The data contains a total of : 89590 rows\n",
      "The randomly selected sequence is from row 29917 to 29928\n",
      "Input Data is now parsed\n"
     ]
    },
    {
     "name": "stderr",
     "output_type": "stream",
     "text": [
      "/tmp/ipykernel_438817/1148318810.py:18: FutureWarning: Downcasting behavior in `replace` is deprecated and will be removed in a future version. To retain the old behavior, explicitly call `result.infer_objects(copy=False)`. To opt-in to the future behavior, set `pd.set_option('future.no_silent_downcasting', True)`\n",
      "  fixed_vis_distance = data_series.replace({'> 10km': 6.0, '2998m': 2.0,\n"
     ]
    }
   ],
   "source": [
    "# Deployment test:\n",
    "txt_filepath = '../dataset/METAR_Data.txt'\n",
    "window_length = 12\n",
    "metar_dict_test = get_metar_prediction_input(txt_filepath,window_length)"
   ]
  },
  {
   "cell_type": "code",
   "execution_count": 125,
   "id": "80f8c7d1-b4d3-448f-a033-d72dd0cbd9e2",
   "metadata": {
    "scrolled": true
   },
   "outputs": [
    {
     "data": {
      "text/plain": [
       "{'hour': 0      8\n",
       " 1      9\n",
       " 2     10\n",
       " 3     11\n",
       " 4     12\n",
       " 5     13\n",
       " 6     14\n",
       " 7     15\n",
       " 8     16\n",
       " 9     17\n",
       " 10    18\n",
       " 11    19\n",
       " dtype: int64,\n",
       " 'minutes': 0     53\n",
       " 1     53\n",
       " 2     53\n",
       " 3     53\n",
       " 4     53\n",
       " 5     53\n",
       " 6     53\n",
       " 7     53\n",
       " 8     53\n",
       " 9     53\n",
       " 10    53\n",
       " 11    53\n",
       " dtype: int64,\n",
       " 'wind_speed': 0     0\n",
       " 1     3\n",
       " 2     3\n",
       " 3     7\n",
       " 4     5\n",
       " 5     5\n",
       " 6     6\n",
       " 7     9\n",
       " 8     7\n",
       " 9     8\n",
       " 10    8\n",
       " 11    5\n",
       " dtype: int64,\n",
       " 'wind_degrees': 0       0\n",
       " 1     340\n",
       " 2      30\n",
       " 3     110\n",
       " 4     100\n",
       " 5     140\n",
       " 6     130\n",
       " 7     150\n",
       " 8     150\n",
       " 9     140\n",
       " 10    140\n",
       " 11    130\n",
       " dtype: int64,\n",
       " 'wind_min_var': 0       0.0\n",
       " 1       0.0\n",
       " 2       0.0\n",
       " 3       0.0\n",
       " 4       0.0\n",
       " 5       0.0\n",
       " 6       0.0\n",
       " 7       0.0\n",
       " 8       0.0\n",
       " 9     100.0\n",
       " 10      0.0\n",
       " 11      0.0\n",
       " dtype: float64,\n",
       " 'wind_max_var': 0       0.0\n",
       " 1       0.0\n",
       " 2       0.0\n",
       " 3       0.0\n",
       " 4       0.0\n",
       " 5       0.0\n",
       " 6       0.0\n",
       " 7       0.0\n",
       " 8       0.0\n",
       " 9     160.0\n",
       " 10      0.0\n",
       " 11      0.0\n",
       " dtype: float64,\n",
       " 'vis_distance': 0     10.0\n",
       " 1      1.5\n",
       " 2      9.0\n",
       " 3     10.0\n",
       " 4     10.0\n",
       " 5     10.0\n",
       " 6     10.0\n",
       " 7     10.0\n",
       " 8     10.0\n",
       " 9     10.0\n",
       " 10    10.0\n",
       " 11    10.0\n",
       " dtype: float64,\n",
       " 'temperature': 0     26\n",
       " 1     25\n",
       " 2     26\n",
       " 3     26\n",
       " 4     27\n",
       " 5     27\n",
       " 6     28\n",
       " 7     30\n",
       " 8     29\n",
       " 9     28\n",
       " 10    28\n",
       " 11    26\n",
       " dtype: int64,\n",
       " 'dew': 0     22\n",
       " 1     22\n",
       " 2     24\n",
       " 3     24\n",
       " 4     23\n",
       " 5     23\n",
       " 6     23\n",
       " 7     23\n",
       " 8     23\n",
       " 9     24\n",
       " 10    23\n",
       " 11    23\n",
       " dtype: int64,\n",
       " 'air_pressure': 0     1014\n",
       " 1     1014\n",
       " 2     1014\n",
       " 3     1015\n",
       " 4     1015\n",
       " 5     1015\n",
       " 6     1015\n",
       " 7     1015\n",
       " 8     1015\n",
       " 9     1015\n",
       " 10    1014\n",
       " 11    1014\n",
       " dtype: int64}"
      ]
     },
     "execution_count": 125,
     "metadata": {},
     "output_type": "execute_result"
    }
   ],
   "source": [
    "metar_dict_test['metar_dict']"
   ]
  },
  {
   "cell_type": "code",
   "execution_count": 126,
   "id": "cd014a30-b109-41aa-90cc-acdb87b55c4f",
   "metadata": {},
   "outputs": [],
   "source": [
    "metar_df_test = pd.DataFrame(metar_dict_test['metar_dict'])"
   ]
  },
  {
   "cell_type": "code",
   "execution_count": 127,
   "id": "f371e812-aa72-4b06-a551-422763096231",
   "metadata": {},
   "outputs": [
    {
     "data": {
      "text/html": [
       "<div>\n",
       "<style scoped>\n",
       "    .dataframe tbody tr th:only-of-type {\n",
       "        vertical-align: middle;\n",
       "    }\n",
       "\n",
       "    .dataframe tbody tr th {\n",
       "        vertical-align: top;\n",
       "    }\n",
       "\n",
       "    .dataframe thead th {\n",
       "        text-align: right;\n",
       "    }\n",
       "</style>\n",
       "<table border=\"1\" class=\"dataframe\">\n",
       "  <thead>\n",
       "    <tr style=\"text-align: right;\">\n",
       "      <th></th>\n",
       "      <th>hour</th>\n",
       "      <th>minutes</th>\n",
       "      <th>wind_speed</th>\n",
       "      <th>wind_degrees</th>\n",
       "      <th>wind_min_var</th>\n",
       "      <th>wind_max_var</th>\n",
       "      <th>vis_distance</th>\n",
       "      <th>temperature</th>\n",
       "      <th>dew</th>\n",
       "      <th>air_pressure</th>\n",
       "    </tr>\n",
       "  </thead>\n",
       "  <tbody>\n",
       "    <tr>\n",
       "      <th>0</th>\n",
       "      <td>8</td>\n",
       "      <td>53</td>\n",
       "      <td>0</td>\n",
       "      <td>0</td>\n",
       "      <td>0.0</td>\n",
       "      <td>0.0</td>\n",
       "      <td>10.0</td>\n",
       "      <td>26</td>\n",
       "      <td>22</td>\n",
       "      <td>1014</td>\n",
       "    </tr>\n",
       "    <tr>\n",
       "      <th>1</th>\n",
       "      <td>9</td>\n",
       "      <td>53</td>\n",
       "      <td>3</td>\n",
       "      <td>340</td>\n",
       "      <td>0.0</td>\n",
       "      <td>0.0</td>\n",
       "      <td>1.5</td>\n",
       "      <td>25</td>\n",
       "      <td>22</td>\n",
       "      <td>1014</td>\n",
       "    </tr>\n",
       "    <tr>\n",
       "      <th>2</th>\n",
       "      <td>10</td>\n",
       "      <td>53</td>\n",
       "      <td>3</td>\n",
       "      <td>30</td>\n",
       "      <td>0.0</td>\n",
       "      <td>0.0</td>\n",
       "      <td>9.0</td>\n",
       "      <td>26</td>\n",
       "      <td>24</td>\n",
       "      <td>1014</td>\n",
       "    </tr>\n",
       "    <tr>\n",
       "      <th>3</th>\n",
       "      <td>11</td>\n",
       "      <td>53</td>\n",
       "      <td>7</td>\n",
       "      <td>110</td>\n",
       "      <td>0.0</td>\n",
       "      <td>0.0</td>\n",
       "      <td>10.0</td>\n",
       "      <td>26</td>\n",
       "      <td>24</td>\n",
       "      <td>1015</td>\n",
       "    </tr>\n",
       "    <tr>\n",
       "      <th>4</th>\n",
       "      <td>12</td>\n",
       "      <td>53</td>\n",
       "      <td>5</td>\n",
       "      <td>100</td>\n",
       "      <td>0.0</td>\n",
       "      <td>0.0</td>\n",
       "      <td>10.0</td>\n",
       "      <td>27</td>\n",
       "      <td>23</td>\n",
       "      <td>1015</td>\n",
       "    </tr>\n",
       "    <tr>\n",
       "      <th>5</th>\n",
       "      <td>13</td>\n",
       "      <td>53</td>\n",
       "      <td>5</td>\n",
       "      <td>140</td>\n",
       "      <td>0.0</td>\n",
       "      <td>0.0</td>\n",
       "      <td>10.0</td>\n",
       "      <td>27</td>\n",
       "      <td>23</td>\n",
       "      <td>1015</td>\n",
       "    </tr>\n",
       "    <tr>\n",
       "      <th>6</th>\n",
       "      <td>14</td>\n",
       "      <td>53</td>\n",
       "      <td>6</td>\n",
       "      <td>130</td>\n",
       "      <td>0.0</td>\n",
       "      <td>0.0</td>\n",
       "      <td>10.0</td>\n",
       "      <td>28</td>\n",
       "      <td>23</td>\n",
       "      <td>1015</td>\n",
       "    </tr>\n",
       "    <tr>\n",
       "      <th>7</th>\n",
       "      <td>15</td>\n",
       "      <td>53</td>\n",
       "      <td>9</td>\n",
       "      <td>150</td>\n",
       "      <td>0.0</td>\n",
       "      <td>0.0</td>\n",
       "      <td>10.0</td>\n",
       "      <td>30</td>\n",
       "      <td>23</td>\n",
       "      <td>1015</td>\n",
       "    </tr>\n",
       "    <tr>\n",
       "      <th>8</th>\n",
       "      <td>16</td>\n",
       "      <td>53</td>\n",
       "      <td>7</td>\n",
       "      <td>150</td>\n",
       "      <td>0.0</td>\n",
       "      <td>0.0</td>\n",
       "      <td>10.0</td>\n",
       "      <td>29</td>\n",
       "      <td>23</td>\n",
       "      <td>1015</td>\n",
       "    </tr>\n",
       "    <tr>\n",
       "      <th>9</th>\n",
       "      <td>17</td>\n",
       "      <td>53</td>\n",
       "      <td>8</td>\n",
       "      <td>140</td>\n",
       "      <td>100.0</td>\n",
       "      <td>160.0</td>\n",
       "      <td>10.0</td>\n",
       "      <td>28</td>\n",
       "      <td>24</td>\n",
       "      <td>1015</td>\n",
       "    </tr>\n",
       "    <tr>\n",
       "      <th>10</th>\n",
       "      <td>18</td>\n",
       "      <td>53</td>\n",
       "      <td>8</td>\n",
       "      <td>140</td>\n",
       "      <td>0.0</td>\n",
       "      <td>0.0</td>\n",
       "      <td>10.0</td>\n",
       "      <td>28</td>\n",
       "      <td>23</td>\n",
       "      <td>1014</td>\n",
       "    </tr>\n",
       "    <tr>\n",
       "      <th>11</th>\n",
       "      <td>19</td>\n",
       "      <td>53</td>\n",
       "      <td>5</td>\n",
       "      <td>130</td>\n",
       "      <td>0.0</td>\n",
       "      <td>0.0</td>\n",
       "      <td>10.0</td>\n",
       "      <td>26</td>\n",
       "      <td>23</td>\n",
       "      <td>1014</td>\n",
       "    </tr>\n",
       "  </tbody>\n",
       "</table>\n",
       "</div>"
      ],
      "text/plain": [
       "    hour  minutes  wind_speed  wind_degrees  wind_min_var  wind_max_var  \\\n",
       "0      8       53           0             0           0.0           0.0   \n",
       "1      9       53           3           340           0.0           0.0   \n",
       "2     10       53           3            30           0.0           0.0   \n",
       "3     11       53           7           110           0.0           0.0   \n",
       "4     12       53           5           100           0.0           0.0   \n",
       "5     13       53           5           140           0.0           0.0   \n",
       "6     14       53           6           130           0.0           0.0   \n",
       "7     15       53           9           150           0.0           0.0   \n",
       "8     16       53           7           150           0.0           0.0   \n",
       "9     17       53           8           140         100.0         160.0   \n",
       "10    18       53           8           140           0.0           0.0   \n",
       "11    19       53           5           130           0.0           0.0   \n",
       "\n",
       "    vis_distance  temperature  dew  air_pressure  \n",
       "0           10.0           26   22          1014  \n",
       "1            1.5           25   22          1014  \n",
       "2            9.0           26   24          1014  \n",
       "3           10.0           26   24          1015  \n",
       "4           10.0           27   23          1015  \n",
       "5           10.0           27   23          1015  \n",
       "6           10.0           28   23          1015  \n",
       "7           10.0           30   23          1015  \n",
       "8           10.0           29   23          1015  \n",
       "9           10.0           28   24          1015  \n",
       "10          10.0           28   23          1014  \n",
       "11          10.0           26   23          1014  "
      ]
     },
     "execution_count": 127,
     "metadata": {},
     "output_type": "execute_result"
    }
   ],
   "source": [
    "metar_df_test "
   ]
  },
  {
   "cell_type": "markdown",
   "id": "d7af62ed-eef9-493b-87d1-227ae8ee9903",
   "metadata": {},
   "source": [
    "## 3.Single METAR output prediction test"
   ]
  },
  {
   "cell_type": "code",
   "execution_count": 128,
   "id": "2529b79b-83f0-4533-9b37-4a760968d409",
   "metadata": {},
   "outputs": [
    {
     "data": {
      "text/plain": [
       "dict_keys(['set2_window3', 'set2_window6', 'set2_window12', 'set2_window24', 'set2_window48'])"
      ]
     },
     "execution_count": 128,
     "metadata": {},
     "output_type": "execute_result"
    }
   ],
   "source": [
    "# Test on Air Pressure\n",
    "Air_Pressure_Results.keys()"
   ]
  },
  {
   "cell_type": "code",
   "execution_count": 134,
   "id": "a03aff06-7af6-4c8a-8474-0170f9ca3375",
   "metadata": {},
   "outputs": [
    {
     "data": {
      "text/plain": [
       "array([1014, 1014, 1014, 1015, 1015, 1015, 1015, 1015, 1015, 1015, 1014,\n",
       "       1014])"
      ]
     },
     "execution_count": 134,
     "metadata": {},
     "output_type": "execute_result"
    }
   ],
   "source": [
    "metar_df_test['air_pressure'].values "
   ]
  },
  {
   "cell_type": "code",
   "execution_count": null,
   "id": "afd674fd-9b22-4187-b7ad-3f09d6c10da9",
   "metadata": {},
   "outputs": [],
   "source": []
  },
  {
   "cell_type": "code",
   "execution_count": 131,
   "id": "0180c9df-17b5-4380-9192-2e64cb82dc81",
   "metadata": {},
   "outputs": [
    {
     "data": {
      "text/plain": [
       "dict_keys(['model', 'x_train', 'y_train', 'dataset_train', 'dataset_test', 'dataset_total', 'y_pred', 'y_pred_scaled', 'x_test', 'rmse'])"
      ]
     },
     "execution_count": 131,
     "metadata": {},
     "output_type": "execute_result"
    }
   ],
   "source": [
    "Air_Pressure_Results['set2_window12'].keys()"
   ]
  },
  {
   "cell_type": "code",
   "execution_count": 150,
   "id": "9af8a1de-18e5-4db0-894e-532eabd282d7",
   "metadata": {},
   "outputs": [],
   "source": [
    "AP_model = Air_Pressure_Results['set2_window3']['model']"
   ]
  },
  {
   "cell_type": "code",
   "execution_count": 136,
   "id": "95aa18e3-b9b9-4d95-961c-0a1351a38e75",
   "metadata": {},
   "outputs": [],
   "source": [
    "from sklearn.preprocessing import MinMaxScaler"
   ]
  },
  {
   "cell_type": "code",
   "execution_count": 207,
   "id": "03a4a100-78b4-497a-acb3-5e8888c9e1a5",
   "metadata": {},
   "outputs": [],
   "source": [
    "def get_next_value(selected_model, time_steps, data , rounding = True ):\n",
    "    \"\"\"\n",
    "    Take an array of input data for a given np.array series, produce the next value in sequence\n",
    "    Time_steps must be the same as model\n",
    "    If rounding True, round to nearest integer\n",
    "    \"\"\"\n",
    "    samples = len(data) - time_steps\n",
    "    #get proper scaling and scaled input\n",
    "    scaling = MinMaxScaler(feature_range=(0,1))\n",
    "    scaled_input = scaling.fit_transform(data.reshape(-1, 1))\n",
    "\n",
    "    #Reformat for input\n",
    "    X = np.array([scaled_input[i:(i + time_steps)] for i in range(samples)])\n",
    "    X = X.reshape(X.shape[0], X.shape[1], 1)  # Reshape for a single feature\n",
    "    last_sequence = X[-1].reshape(1, time_steps, 1)\n",
    "    predicted_value = selected_model.predict(last_sequence)\n",
    "    scaled_prediction = scaling.inverse_transform(predicted_value)\n",
    "    if rounding :\n",
    "        predicted_value = np.round(scaled_prediction).astype(int)\n",
    "        print(f'The next value in the given sequence is {predicted_value[0][0]}') # single value\n",
    "    else :\n",
    "        predicted_value = scaled_prediction\n",
    "        print(f'The next value in the given sequence is {predicted_value[0][0]}') # single value\n",
    "    return predicted_value"
   ]
  },
  {
   "cell_type": "code",
   "execution_count": 213,
   "id": "72ad9266-8bc8-43c9-980f-a1a8cb057a9c",
   "metadata": {},
   "outputs": [],
   "source": [
    "def get_trajectories(selected_model, time_steps, data, propagation_steps):\n",
    "    \"\"\"\n",
    "    Propagate the single value predictions for a certain length of propagation_steps\n",
    "    \"\"\"\n",
    "    extended_data = data\n",
    "    for i in range(propagation_steps):\n",
    "        next_val = get_next_value(selected_model, time_steps, data, rounding = True )\n",
    "\n",
    "        #create extended_data\n",
    "        extended_data = np.append(extended_data,next_val)\n",
    "        \n",
    "        #update the original data\n",
    "        data_new = np.append(data,next_val)\n",
    "        data_new = np.delete(data_new,0)\n",
    "        data = data_new\n",
    "    return extended_data\n",
    "                    "
   ]
  },
  {
   "cell_type": "code",
   "execution_count": 144,
   "id": "5ac3b325-c3d7-4575-b3ad-63f5c057e21d",
   "metadata": {},
   "outputs": [
    {
     "data": {
      "text/plain": [
       "array([1014, 1014, 1014, 1015, 1015, 1015, 1015, 1015, 1015, 1015, 1014,\n",
       "       1014])"
      ]
     },
     "execution_count": 144,
     "metadata": {},
     "output_type": "execute_result"
    }
   ],
   "source": [
    "data = metar_df_test['air_pressure'].values\n",
    "data"
   ]
  },
  {
   "cell_type": "code",
   "execution_count": 208,
   "id": "a03b90a8-5a09-4cf6-baa8-36fa6c4477df",
   "metadata": {},
   "outputs": [],
   "source": [
    "data_new = data"
   ]
  },
  {
   "cell_type": "code",
   "execution_count": 212,
   "id": "f910c84d-967e-490b-861c-cad7bb2c2124",
   "metadata": {},
   "outputs": [
    {
     "data": {
      "text/plain": [
       "array([1014, 1014, 1015, 1015, 1015, 1015, 1015, 1015, 1015, 1014, 1014,\n",
       "       1014])"
      ]
     },
     "execution_count": 212,
     "metadata": {},
     "output_type": "execute_result"
    }
   ],
   "source": [
    "data_new = np.append(data,next_val_3)\n",
    "data_new = np.delete(data_new,0)\n",
    "data_new"
   ]
  },
  {
   "cell_type": "code",
   "execution_count": 143,
   "id": "15066923-174e-4a1b-970c-390ba7147297",
   "metadata": {},
   "outputs": [],
   "source": [
    "data = metar_df_test['air_pressure'].values\n",
    "time_steps = 3\n",
    "samples = len(data) -time_steps\n",
    "X = np.array([data[i:(i + time_steps)] for i in range(samples)])\n",
    "X = X.reshape(X.shape[0], X.shape[1], 1)  # Reshape for a single feature"
   ]
  },
  {
   "cell_type": "code",
   "execution_count": 157,
   "id": "59e74d86-a4b2-4183-bb9f-7ab968fcb19a",
   "metadata": {},
   "outputs": [],
   "source": [
    "# Get Fitted Scaler \n",
    "scaling = MinMaxScaler(feature_range=(0,1))\n",
    "scaled_input = scaling.fit_transform(data.reshape(-1, 1))"
   ]
  },
  {
   "cell_type": "code",
   "execution_count": 158,
   "id": "9aa1c54d-5c94-44ea-b572-ffbb551e857f",
   "metadata": {},
   "outputs": [],
   "source": [
    "scaled_X = np.array([scaled_input[i:(i + time_steps)] for i in range(samples)])\n",
    "scaled_X = scaled_X.reshape(X.shape[0], X.shape[1], 1)  # Reshape for a single feature"
   ]
  },
  {
   "cell_type": "code",
   "execution_count": 151,
   "id": "1c28006c-579d-43a2-a886-3c6ddf6e5e50",
   "metadata": {},
   "outputs": [
    {
     "name": "stdout",
     "output_type": "stream",
     "text": [
      "1/1 [==============================] - 44s 44s/step\n",
      "[[1.0820608]]\n"
     ]
    }
   ],
   "source": [
    "# predict the next step for the last available sequence\n",
    "last_sequence = X[-1].reshape(1, time_steps, 1)\n",
    "predicted_value = AP_model.predict(last_sequence)\n",
    "print(predicted_value)"
   ]
  },
  {
   "cell_type": "code",
   "execution_count": 161,
   "id": "844c826a-6269-4e33-ab34-da14cf6d171c",
   "metadata": {},
   "outputs": [
    {
     "name": "stdout",
     "output_type": "stream",
     "text": [
      "1/1 [==============================] - 0s 26ms/step\n",
      "[[0.26993525]]\n"
     ]
    }
   ],
   "source": [
    "# This is the correct answer\n",
    "last_sequence_scaled = scaled_X[-1].reshape(1, time_steps, 1)\n",
    "predicted_value_scaled = AP_model.predict(last_sequence_scaled)\n",
    "print(predicted_value_scaled)"
   ]
  },
  {
   "cell_type": "code",
   "execution_count": 191,
   "id": "e692dccd-898c-41ec-a80e-f0bd792fa6bb",
   "metadata": {},
   "outputs": [],
   "source": [
    "a = np.round(scaled_prediction).astype(int)"
   ]
  },
  {
   "cell_type": "code",
   "execution_count": 205,
   "id": "6bd9086a-642e-4cdb-aa2a-ab29db642f4d",
   "metadata": {},
   "outputs": [
    {
     "name": "stdout",
     "output_type": "stream",
     "text": [
      "1/1 [==============================] - 0s 26ms/step\n",
      "The next value in the given sequence is 1014\n"
     ]
    }
   ],
   "source": [
    "data = metar_df_test['air_pressure'].values\n",
    "time_steps = 3\n",
    "selected_model = Air_Pressure_Results[f'set2_window{time_steps}']['model']\n",
    "next_val_3 = get_next_value(selected_model, time_steps, data, rounding = True )"
   ]
  },
  {
   "cell_type": "code",
   "execution_count": 218,
   "id": "40b972e8-4907-451b-9500-21a3b778137b",
   "metadata": {},
   "outputs": [
    {
     "name": "stdout",
     "output_type": "stream",
     "text": [
      "1/1 [==============================] - 0s 19ms/step\n",
      "The next value in the given sequence is 1014\n",
      "1/1 [==============================] - 0s 17ms/step\n",
      "The next value in the given sequence is 1014\n",
      "1/1 [==============================] - 0s 16ms/step\n",
      "The next value in the given sequence is 1014\n",
      "1/1 [==============================] - 0s 19ms/step\n",
      "The next value in the given sequence is 1014\n",
      "1/1 [==============================] - 0s 17ms/step\n",
      "The next value in the given sequence is 1014\n",
      "1/1 [==============================] - 0s 16ms/step\n",
      "The next value in the given sequence is 1014\n",
      "1/1 [==============================] - 0s 19ms/step\n",
      "The next value in the given sequence is 1014\n",
      "1/1 [==============================] - 0s 20ms/step\n",
      "The next value in the given sequence is 1014\n",
      "1/1 [==============================] - 0s 17ms/step\n",
      "The next value in the given sequence is 1014\n",
      "1/1 [==============================] - 0s 23ms/step\n",
      "The next value in the given sequence is 1014\n",
      "1/1 [==============================] - 0s 18ms/step\n",
      "The next value in the given sequence is 1014\n",
      "1/1 [==============================] - 0s 21ms/step\n",
      "The next value in the given sequence is 1014\n"
     ]
    }
   ],
   "source": [
    "data = metar_df_test['air_pressure'].values\n",
    "time_steps = 3\n",
    "selected_model = Air_Pressure_Results[f'set2_window{time_steps}']['model']\n",
    "propagation_steps = 12\n",
    "next_traj = get_trajectories(selected_model, time_steps, data, propagation_steps)"
   ]
  },
  {
   "cell_type": "code",
   "execution_count": 188,
   "id": "0aa68683-bae6-408b-adde-e91a894061ab",
   "metadata": {},
   "outputs": [
    {
     "name": "stdout",
     "output_type": "stream",
     "text": [
      "[[1014.26996]]\n"
     ]
    }
   ],
   "source": [
    "scaled_prediction = scaling.inverse_transform(predicted_value_scaled)\n",
    "print(scaled_prediction)"
   ]
  },
  {
   "cell_type": "code",
   "execution_count": 172,
   "id": "f3a251b2-8d6a-4642-b2a4-6f80383cff0f",
   "metadata": {},
   "outputs": [
    {
     "data": {
      "text/plain": [
       "1014"
      ]
     },
     "execution_count": 172,
     "metadata": {},
     "output_type": "execute_result"
    }
   ],
   "source": [
    "# Check Correct Answer:\n",
    "metar_dataset[29929]['_altimeter']"
   ]
  },
  {
   "cell_type": "code",
   "execution_count": 273,
   "id": "f87338d8-4d9b-4ba2-8873-70b8303cea3a",
   "metadata": {},
   "outputs": [],
   "source": [
    "past_data = []\n",
    "sampled_hour = []\n",
    "for i in range(37482,37529):\n",
    "    past_data.append(metar_dataset[i]['_altimeter'])\n",
    "    sampled_hour.append(raw_METAR_data['hour'][i])"
   ]
  },
  {
   "cell_type": "code",
   "execution_count": 216,
   "id": "44e8f0dc-a34c-44dc-8d3a-b65384947914",
   "metadata": {},
   "outputs": [],
   "source": [
    "correct_answer = []\n",
    "sampled_hour2 = []\n",
    "for i in range(29929,29940):\n",
    "    correct_answer.append(metar_dataset[i]['_altimeter'])\n",
    "    sampled_hour2.append(raw_METAR_data['hour'][i])"
   ]
  },
  {
   "cell_type": "code",
   "execution_count": 219,
   "id": "6f7bab53-8e98-4a1f-a292-92eaf4b2a451",
   "metadata": {},
   "outputs": [
    {
     "data": {
      "text/plain": [
       "[<matplotlib.lines.Line2D at 0x7fa54637a2f0>]"
      ]
     },
     "execution_count": 219,
     "metadata": {},
     "output_type": "execute_result"
    },
    {
     "data": {
      "image/png": "[encoded data removed]",
      "text/plain": [
       "<Figure size 640x480 with 1 Axes>"
      ]
     },
     "metadata": {},
     "output_type": "display_data"
    }
   ],
   "source": [
    "plt.plot(next_traj)"
   ]
  },
  {
   "cell_type": "code",
   "execution_count": 274,
   "id": "4d912cb0-5399-4d61-8495-585009e710cb",
   "metadata": {},
   "outputs": [
    {
     "data": {
      "text/plain": [
       "<matplotlib.collections.PathCollection at 0x7fa54704eef0>"
      ]
     },
     "execution_count": 274,
     "metadata": {},
     "output_type": "execute_result"
    },
    {
     "data": {
      "image/png": "[encoded data removed]",
      "text/plain": [
       "<Figure size 640x480 with 1 Axes>"
      ]
     },
     "metadata": {},
     "output_type": "display_data"
    }
   ],
   "source": [
    "plt.scatter(sampled_hour,past_data)\n"
   ]
  },
  {
   "cell_type": "code",
   "execution_count": null,
   "id": "5b6eee03-f205-43e2-bd52-40ad469a6cc1",
   "metadata": {},
   "outputs": [],
   "source": []
  },
  {
   "cell_type": "code",
   "execution_count": null,
   "id": "44729f17-f3a7-4edc-abd4-a1675db08361",
   "metadata": {},
   "outputs": [],
   "source": [
    "# Tutorial for operation. "
   ]
  },
  {
   "cell_type": "markdown",
   "id": "12078d64-b3cc-41b1-97c2-6578cb29e145",
   "metadata": {},
   "source": [
    "# Deploy Prediction "
   ]
  },
  {
   "cell_type": "code",
   "execution_count": 264,
   "id": "af0a4f49-f57e-48c0-8bad-0476dee6c5fe",
   "metadata": {
    "scrolled": true
   },
   "outputs": [
    {
     "name": "stdout",
     "output_type": "stream",
     "text": [
      "The data contains a total of : 89590 rows\n",
      "The randomly selected sequence is from row 37482 to 37529\n",
      "Input Data is now parsed\n",
      "The data contains a total of : 89590 rows\n",
      "The randomly selected sequence is from row 64055 to 64102\n",
      "Input Data is now parsed\n",
      "The data contains a total of : 89590 rows\n",
      "The randomly selected sequence is from row 21310 to 21357\n",
      "Input Data is now parsed\n",
      "No Wind Detail info found on index 30, 'NoneType' object has no attribute 'speed' >>> Setting data as 0\n"
     ]
    }
   ],
   "source": [
    "# Deployment test:\n",
    "txt_filepath = '../dataset/METAR_Data.txt'\n",
    "window_length = 48\n",
    "metar_dict_test_1 = get_metar_prediction_input(txt_filepath,window_length) # row 37482 to 37529\n",
    "metar_dict_test_2 = get_metar_prediction_input(txt_filepath,window_length) # row 64055 to 64102\n",
    "metar_dict_test_3 = get_metar_prediction_input(txt_filepath,window_length) # row 21310 to 21357"
   ]
  },
  {
   "cell_type": "code",
   "execution_count": 265,
   "id": "bc1e83d8-59a3-471f-a33e-30e30c457aba",
   "metadata": {
    "scrolled": true
   },
   "outputs": [
    {
     "data": {
      "text/html": [
       "<div>\n",
       "<style scoped>\n",
       "    .dataframe tbody tr th:only-of-type {\n",
       "        vertical-align: middle;\n",
       "    }\n",
       "\n",
       "    .dataframe tbody tr th {\n",
       "        vertical-align: top;\n",
       "    }\n",
       "\n",
       "    .dataframe thead th {\n",
       "        text-align: right;\n",
       "    }\n",
       "</style>\n",
       "<table border=\"1\" class=\"dataframe\">\n",
       "  <thead>\n",
       "    <tr style=\"text-align: right;\">\n",
       "      <th></th>\n",
       "      <th>year</th>\n",
       "      <th>month</th>\n",
       "      <th>day</th>\n",
       "      <th>hour</th>\n",
       "      <th>minutes</th>\n",
       "      <th>wind_speed</th>\n",
       "      <th>wind_degrees</th>\n",
       "      <th>wind_min_var</th>\n",
       "      <th>wind_max_var</th>\n",
       "      <th>vis_distance</th>\n",
       "      <th>temperature</th>\n",
       "      <th>dew</th>\n",
       "      <th>air_pressure</th>\n",
       "    </tr>\n",
       "  </thead>\n",
       "  <tbody>\n",
       "    <tr>\n",
       "      <th>0</th>\n",
       "      <td>2018</td>\n",
       "      <td>4</td>\n",
       "      <td>16</td>\n",
       "      <td>0</td>\n",
       "      <td>53</td>\n",
       "      <td>10</td>\n",
       "      <td>180.0</td>\n",
       "      <td>0.0</td>\n",
       "      <td>0.0</td>\n",
       "      <td>7.0</td>\n",
       "      <td>25</td>\n",
       "      <td>24</td>\n",
       "      <td>1015</td>\n",
       "    </tr>\n",
       "    <tr>\n",
       "      <th>1</th>\n",
       "      <td>2018</td>\n",
       "      <td>4</td>\n",
       "      <td>16</td>\n",
       "      <td>1</td>\n",
       "      <td>53</td>\n",
       "      <td>10</td>\n",
       "      <td>210.0</td>\n",
       "      <td>0.0</td>\n",
       "      <td>0.0</td>\n",
       "      <td>10.0</td>\n",
       "      <td>22</td>\n",
       "      <td>22</td>\n",
       "      <td>1017</td>\n",
       "    </tr>\n",
       "    <tr>\n",
       "      <th>2</th>\n",
       "      <td>2018</td>\n",
       "      <td>4</td>\n",
       "      <td>16</td>\n",
       "      <td>2</td>\n",
       "      <td>53</td>\n",
       "      <td>6</td>\n",
       "      <td>200.0</td>\n",
       "      <td>0.0</td>\n",
       "      <td>0.0</td>\n",
       "      <td>10.0</td>\n",
       "      <td>22</td>\n",
       "      <td>22</td>\n",
       "      <td>1017</td>\n",
       "    </tr>\n",
       "    <tr>\n",
       "      <th>3</th>\n",
       "      <td>2018</td>\n",
       "      <td>4</td>\n",
       "      <td>16</td>\n",
       "      <td>3</td>\n",
       "      <td>53</td>\n",
       "      <td>5</td>\n",
       "      <td>210.0</td>\n",
       "      <td>0.0</td>\n",
       "      <td>0.0</td>\n",
       "      <td>10.0</td>\n",
       "      <td>22</td>\n",
       "      <td>22</td>\n",
       "      <td>1017</td>\n",
       "    </tr>\n",
       "    <tr>\n",
       "      <th>4</th>\n",
       "      <td>2018</td>\n",
       "      <td>4</td>\n",
       "      <td>16</td>\n",
       "      <td>4</td>\n",
       "      <td>53</td>\n",
       "      <td>6</td>\n",
       "      <td>180.0</td>\n",
       "      <td>0.0</td>\n",
       "      <td>0.0</td>\n",
       "      <td>10.0</td>\n",
       "      <td>22</td>\n",
       "      <td>22</td>\n",
       "      <td>1016</td>\n",
       "    </tr>\n",
       "    <tr>\n",
       "      <th>5</th>\n",
       "      <td>2018</td>\n",
       "      <td>4</td>\n",
       "      <td>16</td>\n",
       "      <td>5</td>\n",
       "      <td>53</td>\n",
       "      <td>7</td>\n",
       "      <td>240.0</td>\n",
       "      <td>0.0</td>\n",
       "      <td>0.0</td>\n",
       "      <td>10.0</td>\n",
       "      <td>23</td>\n",
       "      <td>22</td>\n",
       "      <td>1016</td>\n",
       "    </tr>\n",
       "    <tr>\n",
       "      <th>6</th>\n",
       "      <td>2018</td>\n",
       "      <td>4</td>\n",
       "      <td>16</td>\n",
       "      <td>6</td>\n",
       "      <td>53</td>\n",
       "      <td>7</td>\n",
       "      <td>280.0</td>\n",
       "      <td>0.0</td>\n",
       "      <td>0.0</td>\n",
       "      <td>10.0</td>\n",
       "      <td>22</td>\n",
       "      <td>21</td>\n",
       "      <td>1016</td>\n",
       "    </tr>\n",
       "    <tr>\n",
       "      <th>7</th>\n",
       "      <td>2018</td>\n",
       "      <td>4</td>\n",
       "      <td>16</td>\n",
       "      <td>7</td>\n",
       "      <td>53</td>\n",
       "      <td>7</td>\n",
       "      <td>290.0</td>\n",
       "      <td>0.0</td>\n",
       "      <td>0.0</td>\n",
       "      <td>10.0</td>\n",
       "      <td>21</td>\n",
       "      <td>19</td>\n",
       "      <td>1016</td>\n",
       "    </tr>\n",
       "    <tr>\n",
       "      <th>8</th>\n",
       "      <td>2018</td>\n",
       "      <td>4</td>\n",
       "      <td>16</td>\n",
       "      <td>8</td>\n",
       "      <td>53</td>\n",
       "      <td>9</td>\n",
       "      <td>310.0</td>\n",
       "      <td>0.0</td>\n",
       "      <td>0.0</td>\n",
       "      <td>10.0</td>\n",
       "      <td>21</td>\n",
       "      <td>18</td>\n",
       "      <td>1016</td>\n",
       "    </tr>\n",
       "    <tr>\n",
       "      <th>9</th>\n",
       "      <td>2018</td>\n",
       "      <td>4</td>\n",
       "      <td>16</td>\n",
       "      <td>9</td>\n",
       "      <td>53</td>\n",
       "      <td>4</td>\n",
       "      <td>310.0</td>\n",
       "      <td>0.0</td>\n",
       "      <td>0.0</td>\n",
       "      <td>10.0</td>\n",
       "      <td>20</td>\n",
       "      <td>17</td>\n",
       "      <td>1017</td>\n",
       "    </tr>\n",
       "    <tr>\n",
       "      <th>10</th>\n",
       "      <td>2018</td>\n",
       "      <td>4</td>\n",
       "      <td>16</td>\n",
       "      <td>10</td>\n",
       "      <td>53</td>\n",
       "      <td>10</td>\n",
       "      <td>300.0</td>\n",
       "      <td>0.0</td>\n",
       "      <td>0.0</td>\n",
       "      <td>10.0</td>\n",
       "      <td>19</td>\n",
       "      <td>16</td>\n",
       "      <td>1017</td>\n",
       "    </tr>\n",
       "    <tr>\n",
       "      <th>11</th>\n",
       "      <td>2018</td>\n",
       "      <td>4</td>\n",
       "      <td>16</td>\n",
       "      <td>11</td>\n",
       "      <td>53</td>\n",
       "      <td>5</td>\n",
       "      <td>303.0</td>\n",
       "      <td>0.0</td>\n",
       "      <td>0.0</td>\n",
       "      <td>10.0</td>\n",
       "      <td>19</td>\n",
       "      <td>16</td>\n",
       "      <td>1018</td>\n",
       "    </tr>\n",
       "    <tr>\n",
       "      <th>12</th>\n",
       "      <td>2018</td>\n",
       "      <td>4</td>\n",
       "      <td>16</td>\n",
       "      <td>12</td>\n",
       "      <td>53</td>\n",
       "      <td>10</td>\n",
       "      <td>300.0</td>\n",
       "      <td>0.0</td>\n",
       "      <td>0.0</td>\n",
       "      <td>10.0</td>\n",
       "      <td>21</td>\n",
       "      <td>14</td>\n",
       "      <td>1018</td>\n",
       "    </tr>\n",
       "    <tr>\n",
       "      <th>13</th>\n",
       "      <td>2018</td>\n",
       "      <td>4</td>\n",
       "      <td>16</td>\n",
       "      <td>13</td>\n",
       "      <td>53</td>\n",
       "      <td>13</td>\n",
       "      <td>310.0</td>\n",
       "      <td>0.0</td>\n",
       "      <td>0.0</td>\n",
       "      <td>10.0</td>\n",
       "      <td>22</td>\n",
       "      <td>14</td>\n",
       "      <td>1018</td>\n",
       "    </tr>\n",
       "    <tr>\n",
       "      <th>14</th>\n",
       "      <td>2018</td>\n",
       "      <td>4</td>\n",
       "      <td>16</td>\n",
       "      <td>14</td>\n",
       "      <td>53</td>\n",
       "      <td>12</td>\n",
       "      <td>290.0</td>\n",
       "      <td>0.0</td>\n",
       "      <td>0.0</td>\n",
       "      <td>10.0</td>\n",
       "      <td>23</td>\n",
       "      <td>14</td>\n",
       "      <td>1019</td>\n",
       "    </tr>\n",
       "    <tr>\n",
       "      <th>15</th>\n",
       "      <td>2018</td>\n",
       "      <td>4</td>\n",
       "      <td>16</td>\n",
       "      <td>15</td>\n",
       "      <td>53</td>\n",
       "      <td>8</td>\n",
       "      <td>310.0</td>\n",
       "      <td>250.0</td>\n",
       "      <td>350.0</td>\n",
       "      <td>10.0</td>\n",
       "      <td>23</td>\n",
       "      <td>14</td>\n",
       "      <td>1019</td>\n",
       "    </tr>\n",
       "    <tr>\n",
       "      <th>16</th>\n",
       "      <td>2018</td>\n",
       "      <td>4</td>\n",
       "      <td>16</td>\n",
       "      <td>16</td>\n",
       "      <td>53</td>\n",
       "      <td>11</td>\n",
       "      <td>310.0</td>\n",
       "      <td>0.0</td>\n",
       "      <td>0.0</td>\n",
       "      <td>10.0</td>\n",
       "      <td>24</td>\n",
       "      <td>13</td>\n",
       "      <td>1018</td>\n",
       "    </tr>\n",
       "    <tr>\n",
       "      <th>17</th>\n",
       "      <td>2018</td>\n",
       "      <td>4</td>\n",
       "      <td>16</td>\n",
       "      <td>17</td>\n",
       "      <td>53</td>\n",
       "      <td>9</td>\n",
       "      <td>300.0</td>\n",
       "      <td>0.0</td>\n",
       "      <td>0.0</td>\n",
       "      <td>10.0</td>\n",
       "      <td>25</td>\n",
       "      <td>13</td>\n",
       "      <td>1018</td>\n",
       "    </tr>\n",
       "    <tr>\n",
       "      <th>18</th>\n",
       "      <td>2018</td>\n",
       "      <td>4</td>\n",
       "      <td>16</td>\n",
       "      <td>18</td>\n",
       "      <td>53</td>\n",
       "      <td>10</td>\n",
       "      <td>330.0</td>\n",
       "      <td>290.0</td>\n",
       "      <td>360.0</td>\n",
       "      <td>10.0</td>\n",
       "      <td>26</td>\n",
       "      <td>12</td>\n",
       "      <td>1017</td>\n",
       "    </tr>\n",
       "    <tr>\n",
       "      <th>19</th>\n",
       "      <td>2018</td>\n",
       "      <td>4</td>\n",
       "      <td>16</td>\n",
       "      <td>19</td>\n",
       "      <td>53</td>\n",
       "      <td>7</td>\n",
       "      <td>330.0</td>\n",
       "      <td>0.0</td>\n",
       "      <td>0.0</td>\n",
       "      <td>10.0</td>\n",
       "      <td>27</td>\n",
       "      <td>11</td>\n",
       "      <td>1016</td>\n",
       "    </tr>\n",
       "    <tr>\n",
       "      <th>20</th>\n",
       "      <td>2018</td>\n",
       "      <td>4</td>\n",
       "      <td>16</td>\n",
       "      <td>20</td>\n",
       "      <td>53</td>\n",
       "      <td>6</td>\n",
       "      <td>300.0</td>\n",
       "      <td>0.0</td>\n",
       "      <td>0.0</td>\n",
       "      <td>10.0</td>\n",
       "      <td>27</td>\n",
       "      <td>9</td>\n",
       "      <td>1016</td>\n",
       "    </tr>\n",
       "    <tr>\n",
       "      <th>21</th>\n",
       "      <td>2018</td>\n",
       "      <td>4</td>\n",
       "      <td>16</td>\n",
       "      <td>21</td>\n",
       "      <td>53</td>\n",
       "      <td>9</td>\n",
       "      <td>340.0</td>\n",
       "      <td>0.0</td>\n",
       "      <td>0.0</td>\n",
       "      <td>10.0</td>\n",
       "      <td>27</td>\n",
       "      <td>8</td>\n",
       "      <td>1016</td>\n",
       "    </tr>\n",
       "    <tr>\n",
       "      <th>22</th>\n",
       "      <td>2018</td>\n",
       "      <td>4</td>\n",
       "      <td>16</td>\n",
       "      <td>22</td>\n",
       "      <td>53</td>\n",
       "      <td>9</td>\n",
       "      <td>340.0</td>\n",
       "      <td>0.0</td>\n",
       "      <td>0.0</td>\n",
       "      <td>10.0</td>\n",
       "      <td>26</td>\n",
       "      <td>6</td>\n",
       "      <td>1016</td>\n",
       "    </tr>\n",
       "    <tr>\n",
       "      <th>23</th>\n",
       "      <td>2018</td>\n",
       "      <td>4</td>\n",
       "      <td>16</td>\n",
       "      <td>23</td>\n",
       "      <td>53</td>\n",
       "      <td>7</td>\n",
       "      <td>320.0</td>\n",
       "      <td>0.0</td>\n",
       "      <td>0.0</td>\n",
       "      <td>10.0</td>\n",
       "      <td>24</td>\n",
       "      <td>6</td>\n",
       "      <td>1017</td>\n",
       "    </tr>\n",
       "    <tr>\n",
       "      <th>24</th>\n",
       "      <td>2018</td>\n",
       "      <td>4</td>\n",
       "      <td>17</td>\n",
       "      <td>0</td>\n",
       "      <td>53</td>\n",
       "      <td>5</td>\n",
       "      <td>340.0</td>\n",
       "      <td>0.0</td>\n",
       "      <td>0.0</td>\n",
       "      <td>10.0</td>\n",
       "      <td>22</td>\n",
       "      <td>7</td>\n",
       "      <td>1018</td>\n",
       "    </tr>\n",
       "    <tr>\n",
       "      <th>25</th>\n",
       "      <td>2018</td>\n",
       "      <td>4</td>\n",
       "      <td>17</td>\n",
       "      <td>1</td>\n",
       "      <td>53</td>\n",
       "      <td>5</td>\n",
       "      <td>310.0</td>\n",
       "      <td>0.0</td>\n",
       "      <td>0.0</td>\n",
       "      <td>10.0</td>\n",
       "      <td>22</td>\n",
       "      <td>8</td>\n",
       "      <td>1018</td>\n",
       "    </tr>\n",
       "    <tr>\n",
       "      <th>26</th>\n",
       "      <td>2018</td>\n",
       "      <td>4</td>\n",
       "      <td>17</td>\n",
       "      <td>2</td>\n",
       "      <td>53</td>\n",
       "      <td>12</td>\n",
       "      <td>310.0</td>\n",
       "      <td>0.0</td>\n",
       "      <td>0.0</td>\n",
       "      <td>10.0</td>\n",
       "      <td>19</td>\n",
       "      <td>12</td>\n",
       "      <td>1019</td>\n",
       "    </tr>\n",
       "    <tr>\n",
       "      <th>27</th>\n",
       "      <td>2018</td>\n",
       "      <td>4</td>\n",
       "      <td>17</td>\n",
       "      <td>3</td>\n",
       "      <td>53</td>\n",
       "      <td>7</td>\n",
       "      <td>310.0</td>\n",
       "      <td>0.0</td>\n",
       "      <td>0.0</td>\n",
       "      <td>10.0</td>\n",
       "      <td>17</td>\n",
       "      <td>12</td>\n",
       "      <td>1020</td>\n",
       "    </tr>\n",
       "    <tr>\n",
       "      <th>28</th>\n",
       "      <td>2018</td>\n",
       "      <td>4</td>\n",
       "      <td>17</td>\n",
       "      <td>4</td>\n",
       "      <td>53</td>\n",
       "      <td>8</td>\n",
       "      <td>310.0</td>\n",
       "      <td>0.0</td>\n",
       "      <td>0.0</td>\n",
       "      <td>10.0</td>\n",
       "      <td>17</td>\n",
       "      <td>12</td>\n",
       "      <td>1020</td>\n",
       "    </tr>\n",
       "    <tr>\n",
       "      <th>29</th>\n",
       "      <td>2018</td>\n",
       "      <td>4</td>\n",
       "      <td>17</td>\n",
       "      <td>5</td>\n",
       "      <td>53</td>\n",
       "      <td>7</td>\n",
       "      <td>310.0</td>\n",
       "      <td>0.0</td>\n",
       "      <td>0.0</td>\n",
       "      <td>10.0</td>\n",
       "      <td>16</td>\n",
       "      <td>11</td>\n",
       "      <td>1020</td>\n",
       "    </tr>\n",
       "    <tr>\n",
       "      <th>30</th>\n",
       "      <td>2018</td>\n",
       "      <td>4</td>\n",
       "      <td>17</td>\n",
       "      <td>6</td>\n",
       "      <td>53</td>\n",
       "      <td>8</td>\n",
       "      <td>330.0</td>\n",
       "      <td>0.0</td>\n",
       "      <td>0.0</td>\n",
       "      <td>10.0</td>\n",
       "      <td>16</td>\n",
       "      <td>12</td>\n",
       "      <td>1019</td>\n",
       "    </tr>\n",
       "    <tr>\n",
       "      <th>31</th>\n",
       "      <td>2018</td>\n",
       "      <td>4</td>\n",
       "      <td>17</td>\n",
       "      <td>7</td>\n",
       "      <td>53</td>\n",
       "      <td>4</td>\n",
       "      <td>330.0</td>\n",
       "      <td>0.0</td>\n",
       "      <td>0.0</td>\n",
       "      <td>10.0</td>\n",
       "      <td>16</td>\n",
       "      <td>12</td>\n",
       "      <td>1018</td>\n",
       "    </tr>\n",
       "    <tr>\n",
       "      <th>32</th>\n",
       "      <td>2018</td>\n",
       "      <td>4</td>\n",
       "      <td>17</td>\n",
       "      <td>8</td>\n",
       "      <td>53</td>\n",
       "      <td>8</td>\n",
       "      <td>330.0</td>\n",
       "      <td>0.0</td>\n",
       "      <td>0.0</td>\n",
       "      <td>10.0</td>\n",
       "      <td>16</td>\n",
       "      <td>12</td>\n",
       "      <td>1018</td>\n",
       "    </tr>\n",
       "    <tr>\n",
       "      <th>33</th>\n",
       "      <td>2018</td>\n",
       "      <td>4</td>\n",
       "      <td>17</td>\n",
       "      <td>9</td>\n",
       "      <td>53</td>\n",
       "      <td>5</td>\n",
       "      <td>330.0</td>\n",
       "      <td>0.0</td>\n",
       "      <td>0.0</td>\n",
       "      <td>10.0</td>\n",
       "      <td>16</td>\n",
       "      <td>12</td>\n",
       "      <td>1019</td>\n",
       "    </tr>\n",
       "    <tr>\n",
       "      <th>34</th>\n",
       "      <td>2018</td>\n",
       "      <td>4</td>\n",
       "      <td>17</td>\n",
       "      <td>10</td>\n",
       "      <td>53</td>\n",
       "      <td>8</td>\n",
       "      <td>320.0</td>\n",
       "      <td>0.0</td>\n",
       "      <td>0.0</td>\n",
       "      <td>10.0</td>\n",
       "      <td>16</td>\n",
       "      <td>12</td>\n",
       "      <td>1019</td>\n",
       "    </tr>\n",
       "    <tr>\n",
       "      <th>35</th>\n",
       "      <td>2018</td>\n",
       "      <td>4</td>\n",
       "      <td>17</td>\n",
       "      <td>11</td>\n",
       "      <td>53</td>\n",
       "      <td>8</td>\n",
       "      <td>350.0</td>\n",
       "      <td>0.0</td>\n",
       "      <td>0.0</td>\n",
       "      <td>10.0</td>\n",
       "      <td>17</td>\n",
       "      <td>12</td>\n",
       "      <td>1020</td>\n",
       "    </tr>\n",
       "    <tr>\n",
       "      <th>36</th>\n",
       "      <td>2018</td>\n",
       "      <td>4</td>\n",
       "      <td>17</td>\n",
       "      <td>12</td>\n",
       "      <td>53</td>\n",
       "      <td>11</td>\n",
       "      <td>340.0</td>\n",
       "      <td>0.0</td>\n",
       "      <td>0.0</td>\n",
       "      <td>10.0</td>\n",
       "      <td>18</td>\n",
       "      <td>12</td>\n",
       "      <td>1020</td>\n",
       "    </tr>\n",
       "    <tr>\n",
       "      <th>37</th>\n",
       "      <td>2018</td>\n",
       "      <td>4</td>\n",
       "      <td>17</td>\n",
       "      <td>13</td>\n",
       "      <td>53</td>\n",
       "      <td>12</td>\n",
       "      <td>360.0</td>\n",
       "      <td>320.0</td>\n",
       "      <td>20.0</td>\n",
       "      <td>10.0</td>\n",
       "      <td>20</td>\n",
       "      <td>7</td>\n",
       "      <td>1020</td>\n",
       "    </tr>\n",
       "    <tr>\n",
       "      <th>38</th>\n",
       "      <td>2018</td>\n",
       "      <td>4</td>\n",
       "      <td>17</td>\n",
       "      <td>14</td>\n",
       "      <td>53</td>\n",
       "      <td>7</td>\n",
       "      <td>350.0</td>\n",
       "      <td>0.0</td>\n",
       "      <td>0.0</td>\n",
       "      <td>10.0</td>\n",
       "      <td>22</td>\n",
       "      <td>8</td>\n",
       "      <td>1020</td>\n",
       "    </tr>\n",
       "    <tr>\n",
       "      <th>39</th>\n",
       "      <td>2018</td>\n",
       "      <td>4</td>\n",
       "      <td>17</td>\n",
       "      <td>15</td>\n",
       "      <td>53</td>\n",
       "      <td>10</td>\n",
       "      <td>30.0</td>\n",
       "      <td>0.0</td>\n",
       "      <td>0.0</td>\n",
       "      <td>10.0</td>\n",
       "      <td>23</td>\n",
       "      <td>8</td>\n",
       "      <td>1020</td>\n",
       "    </tr>\n",
       "    <tr>\n",
       "      <th>40</th>\n",
       "      <td>2018</td>\n",
       "      <td>4</td>\n",
       "      <td>17</td>\n",
       "      <td>16</td>\n",
       "      <td>53</td>\n",
       "      <td>6</td>\n",
       "      <td>30.0</td>\n",
       "      <td>0.0</td>\n",
       "      <td>0.0</td>\n",
       "      <td>10.0</td>\n",
       "      <td>24</td>\n",
       "      <td>7</td>\n",
       "      <td>1020</td>\n",
       "    </tr>\n",
       "    <tr>\n",
       "      <th>41</th>\n",
       "      <td>2018</td>\n",
       "      <td>4</td>\n",
       "      <td>17</td>\n",
       "      <td>17</td>\n",
       "      <td>53</td>\n",
       "      <td>4</td>\n",
       "      <td>57.0</td>\n",
       "      <td>0.0</td>\n",
       "      <td>0.0</td>\n",
       "      <td>10.0</td>\n",
       "      <td>26</td>\n",
       "      <td>7</td>\n",
       "      <td>1019</td>\n",
       "    </tr>\n",
       "    <tr>\n",
       "      <th>42</th>\n",
       "      <td>2018</td>\n",
       "      <td>4</td>\n",
       "      <td>17</td>\n",
       "      <td>18</td>\n",
       "      <td>53</td>\n",
       "      <td>9</td>\n",
       "      <td>60.0</td>\n",
       "      <td>30.0</td>\n",
       "      <td>100.0</td>\n",
       "      <td>10.0</td>\n",
       "      <td>26</td>\n",
       "      <td>9</td>\n",
       "      <td>1019</td>\n",
       "    </tr>\n",
       "    <tr>\n",
       "      <th>43</th>\n",
       "      <td>2018</td>\n",
       "      <td>4</td>\n",
       "      <td>17</td>\n",
       "      <td>19</td>\n",
       "      <td>53</td>\n",
       "      <td>11</td>\n",
       "      <td>80.0</td>\n",
       "      <td>0.0</td>\n",
       "      <td>0.0</td>\n",
       "      <td>10.0</td>\n",
       "      <td>26</td>\n",
       "      <td>11</td>\n",
       "      <td>1018</td>\n",
       "    </tr>\n",
       "    <tr>\n",
       "      <th>44</th>\n",
       "      <td>2018</td>\n",
       "      <td>4</td>\n",
       "      <td>17</td>\n",
       "      <td>20</td>\n",
       "      <td>53</td>\n",
       "      <td>9</td>\n",
       "      <td>80.0</td>\n",
       "      <td>0.0</td>\n",
       "      <td>0.0</td>\n",
       "      <td>10.0</td>\n",
       "      <td>25</td>\n",
       "      <td>11</td>\n",
       "      <td>1018</td>\n",
       "    </tr>\n",
       "    <tr>\n",
       "      <th>45</th>\n",
       "      <td>2018</td>\n",
       "      <td>4</td>\n",
       "      <td>17</td>\n",
       "      <td>21</td>\n",
       "      <td>53</td>\n",
       "      <td>8</td>\n",
       "      <td>90.0</td>\n",
       "      <td>0.0</td>\n",
       "      <td>0.0</td>\n",
       "      <td>10.0</td>\n",
       "      <td>24</td>\n",
       "      <td>12</td>\n",
       "      <td>1018</td>\n",
       "    </tr>\n",
       "    <tr>\n",
       "      <th>46</th>\n",
       "      <td>2018</td>\n",
       "      <td>4</td>\n",
       "      <td>17</td>\n",
       "      <td>22</td>\n",
       "      <td>53</td>\n",
       "      <td>9</td>\n",
       "      <td>60.0</td>\n",
       "      <td>0.0</td>\n",
       "      <td>0.0</td>\n",
       "      <td>10.0</td>\n",
       "      <td>23</td>\n",
       "      <td>11</td>\n",
       "      <td>1018</td>\n",
       "    </tr>\n",
       "    <tr>\n",
       "      <th>47</th>\n",
       "      <td>2018</td>\n",
       "      <td>4</td>\n",
       "      <td>17</td>\n",
       "      <td>23</td>\n",
       "      <td>53</td>\n",
       "      <td>7</td>\n",
       "      <td>50.0</td>\n",
       "      <td>0.0</td>\n",
       "      <td>0.0</td>\n",
       "      <td>10.0</td>\n",
       "      <td>22</td>\n",
       "      <td>11</td>\n",
       "      <td>1018</td>\n",
       "    </tr>\n",
       "  </tbody>\n",
       "</table>\n",
       "</div>"
      ],
      "text/plain": [
       "    year  month  day  hour  minutes  wind_speed  wind_degrees  wind_min_var  \\\n",
       "0   2018      4   16     0       53          10         180.0           0.0   \n",
       "1   2018      4   16     1       53          10         210.0           0.0   \n",
       "2   2018      4   16     2       53           6         200.0           0.0   \n",
       "3   2018      4   16     3       53           5         210.0           0.0   \n",
       "4   2018      4   16     4       53           6         180.0           0.0   \n",
       "5   2018      4   16     5       53           7         240.0           0.0   \n",
       "6   2018      4   16     6       53           7         280.0           0.0   \n",
       "7   2018      4   16     7       53           7         290.0           0.0   \n",
       "8   2018      4   16     8       53           9         310.0           0.0   \n",
       "9   2018      4   16     9       53           4         310.0           0.0   \n",
       "10  2018      4   16    10       53          10         300.0           0.0   \n",
       "11  2018      4   16    11       53           5         303.0           0.0   \n",
       "12  2018      4   16    12       53          10         300.0           0.0   \n",
       "13  2018      4   16    13       53          13         310.0           0.0   \n",
       "14  2018      4   16    14       53          12         290.0           0.0   \n",
       "15  2018      4   16    15       53           8         310.0         250.0   \n",
       "16  2018      4   16    16       53          11         310.0           0.0   \n",
       "17  2018      4   16    17       53           9         300.0           0.0   \n",
       "18  2018      4   16    18       53          10         330.0         290.0   \n",
       "19  2018      4   16    19       53           7         330.0           0.0   \n",
       "20  2018      4   16    20       53           6         300.0           0.0   \n",
       "21  2018      4   16    21       53           9         340.0           0.0   \n",
       "22  2018      4   16    22       53           9         340.0           0.0   \n",
       "23  2018      4   16    23       53           7         320.0           0.0   \n",
       "24  2018      4   17     0       53           5         340.0           0.0   \n",
       "25  2018      4   17     1       53           5         310.0           0.0   \n",
       "26  2018      4   17     2       53          12         310.0           0.0   \n",
       "27  2018      4   17     3       53           7         310.0           0.0   \n",
       "28  2018      4   17     4       53           8         310.0           0.0   \n",
       "29  2018      4   17     5       53           7         310.0           0.0   \n",
       "30  2018      4   17     6       53           8         330.0           0.0   \n",
       "31  2018      4   17     7       53           4         330.0           0.0   \n",
       "32  2018      4   17     8       53           8         330.0           0.0   \n",
       "33  2018      4   17     9       53           5         330.0           0.0   \n",
       "34  2018      4   17    10       53           8         320.0           0.0   \n",
       "35  2018      4   17    11       53           8         350.0           0.0   \n",
       "36  2018      4   17    12       53          11         340.0           0.0   \n",
       "37  2018      4   17    13       53          12         360.0         320.0   \n",
       "38  2018      4   17    14       53           7         350.0           0.0   \n",
       "39  2018      4   17    15       53          10          30.0           0.0   \n",
       "40  2018      4   17    16       53           6          30.0           0.0   \n",
       "41  2018      4   17    17       53           4          57.0           0.0   \n",
       "42  2018      4   17    18       53           9          60.0          30.0   \n",
       "43  2018      4   17    19       53          11          80.0           0.0   \n",
       "44  2018      4   17    20       53           9          80.0           0.0   \n",
       "45  2018      4   17    21       53           8          90.0           0.0   \n",
       "46  2018      4   17    22       53           9          60.0           0.0   \n",
       "47  2018      4   17    23       53           7          50.0           0.0   \n",
       "\n",
       "    wind_max_var  vis_distance  temperature  dew  air_pressure  \n",
       "0            0.0           7.0           25   24          1015  \n",
       "1            0.0          10.0           22   22          1017  \n",
       "2            0.0          10.0           22   22          1017  \n",
       "3            0.0          10.0           22   22          1017  \n",
       "4            0.0          10.0           22   22          1016  \n",
       "5            0.0          10.0           23   22          1016  \n",
       "6            0.0          10.0           22   21          1016  \n",
       "7            0.0          10.0           21   19          1016  \n",
       "8            0.0          10.0           21   18          1016  \n",
       "9            0.0          10.0           20   17          1017  \n",
       "10           0.0          10.0           19   16          1017  \n",
       "11           0.0          10.0           19   16          1018  \n",
       "12           0.0          10.0           21   14          1018  \n",
       "13           0.0          10.0           22   14          1018  \n",
       "14           0.0          10.0           23   14          1019  \n",
       "15         350.0          10.0           23   14          1019  \n",
       "16           0.0          10.0           24   13          1018  \n",
       "17           0.0          10.0           25   13          1018  \n",
       "18         360.0          10.0           26   12          1017  \n",
       "19           0.0          10.0           27   11          1016  \n",
       "20           0.0          10.0           27    9          1016  \n",
       "21           0.0          10.0           27    8          1016  \n",
       "22           0.0          10.0           26    6          1016  \n",
       "23           0.0          10.0           24    6          1017  \n",
       "24           0.0          10.0           22    7          1018  \n",
       "25           0.0          10.0           22    8          1018  \n",
       "26           0.0          10.0           19   12          1019  \n",
       "27           0.0          10.0           17   12          1020  \n",
       "28           0.0          10.0           17   12          1020  \n",
       "29           0.0          10.0           16   11          1020  \n",
       "30           0.0          10.0           16   12          1019  \n",
       "31           0.0          10.0           16   12          1018  \n",
       "32           0.0          10.0           16   12          1018  \n",
       "33           0.0          10.0           16   12          1019  \n",
       "34           0.0          10.0           16   12          1019  \n",
       "35           0.0          10.0           17   12          1020  \n",
       "36           0.0          10.0           18   12          1020  \n",
       "37          20.0          10.0           20    7          1020  \n",
       "38           0.0          10.0           22    8          1020  \n",
       "39           0.0          10.0           23    8          1020  \n",
       "40           0.0          10.0           24    7          1020  \n",
       "41           0.0          10.0           26    7          1019  \n",
       "42         100.0          10.0           26    9          1019  \n",
       "43           0.0          10.0           26   11          1018  \n",
       "44           0.0          10.0           25   11          1018  \n",
       "45           0.0          10.0           24   12          1018  \n",
       "46           0.0          10.0           23   11          1018  \n",
       "47           0.0          10.0           22   11          1018  "
      ]
     },
     "execution_count": 265,
     "metadata": {},
     "output_type": "execute_result"
    }
   ],
   "source": [
    "metar_dict_test_1['metar_df']"
   ]
  },
  {
   "cell_type": "code",
   "execution_count": 272,
   "id": "7e058c69-f09f-4fd6-a23c-7f61079c9c1e",
   "metadata": {},
   "outputs": [
    {
     "name": "stdout",
     "output_type": "stream",
     "text": [
      "1/1 [==============================] - 0s 24ms/step\n",
      "The next value in the given sequence is 1019\n"
     ]
    }
   ],
   "source": [
    "\n",
    "data = metar_dict_test_1['metar_df']['air_pressure'].values\n",
    "time_steps = 24\n",
    "selected_model = Air_Pressure_Results[f'set2_window{time_steps}']['model']\n",
    "propagation_steps = 12\n",
    "next_val = get_next_value(selected_model, time_steps, data, rounding = True )"
   ]
  },
  {
   "cell_type": "code",
   "execution_count": 288,
   "id": "56858853-f8dd-4416-900e-42198e16681a",
   "metadata": {},
   "outputs": [
    {
     "data": {
      "text/html": [
       "<div>\n",
       "<style scoped>\n",
       "    .dataframe tbody tr th:only-of-type {\n",
       "        vertical-align: middle;\n",
       "    }\n",
       "\n",
       "    .dataframe tbody tr th {\n",
       "        vertical-align: top;\n",
       "    }\n",
       "\n",
       "    .dataframe thead th {\n",
       "        text-align: right;\n",
       "    }\n",
       "</style>\n",
       "<table border=\"1\" class=\"dataframe\">\n",
       "  <thead>\n",
       "    <tr style=\"text-align: right;\">\n",
       "      <th></th>\n",
       "      <th>year</th>\n",
       "      <th>month</th>\n",
       "      <th>day</th>\n",
       "      <th>hour</th>\n",
       "      <th>minutes</th>\n",
       "      <th>wind_speed</th>\n",
       "      <th>wind_degrees</th>\n",
       "      <th>wind_min_var</th>\n",
       "      <th>wind_max_var</th>\n",
       "      <th>vis_distance</th>\n",
       "      <th>temperature</th>\n",
       "      <th>dew</th>\n",
       "      <th>air_pressure</th>\n",
       "    </tr>\n",
       "  </thead>\n",
       "  <tbody>\n",
       "    <tr>\n",
       "      <th>47</th>\n",
       "      <td>2018</td>\n",
       "      <td>4</td>\n",
       "      <td>17</td>\n",
       "      <td>23</td>\n",
       "      <td>53</td>\n",
       "      <td>7</td>\n",
       "      <td>50.0</td>\n",
       "      <td>0.0</td>\n",
       "      <td>0.0</td>\n",
       "      <td>10.0</td>\n",
       "      <td>22</td>\n",
       "      <td>11</td>\n",
       "      <td>1018</td>\n",
       "    </tr>\n",
       "  </tbody>\n",
       "</table>\n",
       "</div>"
      ],
      "text/plain": [
       "    year  month  day  hour  minutes  wind_speed  wind_degrees  wind_min_var  \\\n",
       "47  2018      4   17    23       53           7          50.0           0.0   \n",
       "\n",
       "    wind_max_var  vis_distance  temperature  dew  air_pressure  \n",
       "47           0.0          10.0           22   11          1018  "
      ]
     },
     "execution_count": 288,
     "metadata": {},
     "output_type": "execute_result"
    }
   ],
   "source": [
    "# df row containing the data \n",
    "metar_dict_test_1['metar_df'][47:]"
   ]
  },
  {
   "cell_type": "code",
   "execution_count": 286,
   "id": "c326dd2f-e982-42a6-8476-26f30e266eca",
   "metadata": {},
   "outputs": [
    {
     "data": {
      "text/plain": [
       "17"
      ]
     },
     "execution_count": 286,
     "metadata": {},
     "output_type": "execute_result"
    }
   ],
   "source": [
    "metar_dict_test_1['metar_df'].loc[47,'day']"
   ]
  },
  {
   "cell_type": "code",
   "execution_count": 308,
   "id": "9f54892e-4781-4160-aa06-e7a4fcf34521",
   "metadata": {},
   "outputs": [],
   "source": [
    "def wind_speed_format(value):\n",
    "    return f\"{value:02d}\"\n",
    "def wind_degree_format(value):\n",
    "    return f\"{value:03d}\"\n",
    "    \n",
    "def hpa_to_inhg_format(hpa):\n",
    "    inhg = hpa * 0.02953  # Convert hPa to inHg\n",
    "    return f\"A{int(inhg * 100):04d}\""
   ]
  },
  {
   "cell_type": "code",
   "execution_count": 310,
   "id": "9a46cca2-71b8-488c-9359-e2ee79b9e8a6",
   "metadata": {},
   "outputs": [
    {
     "data": {
      "text/plain": [
       "'A3009'"
      ]
     },
     "execution_count": 310,
     "metadata": {},
     "output_type": "execute_result"
    }
   ],
   "source": [
    "hpa_to_inhg_format(1019)"
   ]
  },
  {
   "cell_type": "code",
   "execution_count": 319,
   "id": "ccb49644-b93a-4e8d-a7b1-896632597c74",
   "metadata": {},
   "outputs": [],
   "source": [
    "def print_metar(input,row):\n",
    "    airport_id = 'KMIA'\n",
    "    day = input.loc[row,'day']\n",
    "    hour = input.loc[row,'hour']\n",
    "    minutes = input.loc[row,'minutes']\n",
    "    degree = wind_degree_format(int(input.loc[row,'wind_degrees']))\n",
    "    speed = wind_speed_format(input.loc[row,'wind_speed'])\n",
    "    vis = int(input.loc[row,'vis_distance'])\n",
    "    ## there will be loop here based on n_cloud_layers, stitch them together into cloud_string\n",
    "    cloud_type = 'FEW' # fix this\n",
    "    cloud_height = '250' # fix this\n",
    "    cloud_string = cloud_type + cloud_height\n",
    "    temperature = input.loc[row,'temperature']\n",
    "    dew = input.loc[row,'dew']\n",
    "    air_pressure = hpa_to_inhg_format(input.loc[row,'air_pressure'])\n",
    "    \n",
    "    metar_string = f'METAR {airport_id} {day}{hour}{minutes}Z {degree}{speed}KT {vis}SM {cloud_string} {temperature}/{dew} {air_pressure}'\n",
    "    print('the corresponding metar formatted data for the given input is: ')\n",
    "    print(metar_string)\n",
    "    return metar_string"
   ]
  },
  {
   "cell_type": "code",
   "execution_count": 307,
   "id": "60aa0e9d-7708-4c0b-a1e3-4b568ab4d07f",
   "metadata": {},
   "outputs": [
    {
     "name": "stdout",
     "output_type": "stream",
     "text": [
      "the corresponding metar formatted data for the given input is: \n",
      "METAR KMIA 172353Z 05007KT 10SM FEW250 22/11 Q1018\n"
     ]
    }
   ],
   "source": [
    "input = metar_dict_test_1['metar_df']\n",
    "row = 47\n",
    "metar_output = print_metar(input,row)"
   ]
  },
  {
   "cell_type": "code",
   "execution_count": 320,
   "id": "3457ca9e-e8b6-4708-9e3f-0b4781527865",
   "metadata": {},
   "outputs": [
    {
     "name": "stdout",
     "output_type": "stream",
     "text": [
      "45\n",
      "the corresponding metar formatted data for the given input is: \n",
      "METAR KMIA 172153Z 09008KT 10SM FEW250 24/12 A3006\n",
      "46\n",
      "the corresponding metar formatted data for the given input is: \n",
      "METAR KMIA 172253Z 06009KT 10SM FEW250 23/11 A3006\n",
      "47\n",
      "the corresponding metar formatted data for the given input is: \n",
      "METAR KMIA 172353Z 05007KT 10SM FEW250 22/11 A3006\n"
     ]
    }
   ],
   "source": [
    "for a in [45,46,47]:\n",
    "    input = metar_dict_test_1['metar_df']\n",
    "    row = a\n",
    "    print(a)\n",
    "    metar_output = print_metar(input,row)"
   ]
  },
  {
   "cell_type": "code",
   "execution_count": 315,
   "id": "98882fa0-47e3-4dfe-91b3-91a3716f2643",
   "metadata": {},
   "outputs": [
    {
     "name": "stdout",
     "output_type": "stream",
     "text": [
      "KMIA 172153Z 09008KT 10SM CLR 24/12 A3007 RMK AO2 SLP183 T02440117\n",
      "KMIA 172253Z 06009KT 10SM FEW050 23/11 A3008 RMK AO2 SLP185 T02330111\n",
      "KMIA 172353Z 05007KT 10SM FEW050 22/11 A3009 RMK AO2 SLP190 T02220111 10267 20222 53008\n"
     ]
    }
   ],
   "source": [
    "print(metar_dict_test_1['parsed_metar_data'][45]['_message'])\n",
    "print(metar_dict_test_1['parsed_metar_data'][46]['_message'])\n",
    "print(metar_dict_test_1['parsed_metar_data'][47]['_message'])"
   ]
  },
  {
   "cell_type": "code",
   "execution_count": 321,
   "id": "b4555b83-ed01-4a96-bebb-aed47ec19fee",
   "metadata": {},
   "outputs": [
    {
     "data": {
      "text/plain": [
       "{'_wind': Wind[speed=8, direction=E, gust=None, degrees=90, unit=KT, min_variation=None, max_variation=None],\n",
       " '_visibility': Visibility[distance=10SM, min_distance=None, min_direction=None],\n",
       " '_vertical_visibility': None,\n",
       " '_wind_shear': None,\n",
       " '_cavok': None,\n",
       " '_remark': 'automated station with a precipitation discriminator sea level pressure of 1018.3 HPa  hourly temperature of 24.4°C and dew point of 11.7°C',\n",
       " '_remarks': ['automated station with a precipitation discriminator',\n",
       "  'sea level pressure of 1018.3 HPa',\n",
       "  '',\n",
       "  'hourly temperature of 24.4°C and dew point of 11.7°C'],\n",
       " '_clouds': [],\n",
       " '_weather_conditions': [],\n",
       " '_day': 17,\n",
       " '_time': datetime.time(21, 53),\n",
       " '_message': 'KMIA 172153Z 09008KT 10SM CLR 24/12 A3007 RMK AO2 SLP183 T02440117',\n",
       " '_station': 'KMIA',\n",
       " '_flags': set(),\n",
       " '_trends': [],\n",
       " '_temperature': 24,\n",
       " '_dew_point': 12,\n",
       " '_altimeter': 1018,\n",
       " '_nosig': False,\n",
       " '_runways_info': []}"
      ]
     },
     "execution_count": 321,
     "metadata": {},
     "output_type": "execute_result"
    }
   ],
   "source": [
    "metar_dict_test_1['parsed_metar_data'][45]"
   ]
  },
  {
   "cell_type": "code",
   "execution_count": null,
   "id": "5f8b3c57-7bc5-4d01-9672-7f70120b70ae",
   "metadata": {},
   "outputs": [],
   "source": [
    "## Start by extending the above df, and ther convert to METAR formatted output."
   ]
  }
 ],
 "metadata": {
  "kernelspec": {
   "display_name": "Python 3 (ipykernel)",
   "language": "python",
   "name": "python3"
  },
  "language_info": {
   "codemirror_mode": {
    "name": "ipython",
    "version": 3
   },
   "file_extension": ".py",
   "mimetype": "text/x-python",
   "name": "python",
   "nbconvert_exporter": "python",
   "pygments_lexer": "ipython3",
   "version": "3.10.12"
  }
 },
 "nbformat": 4,
 "nbformat_minor": 5
}
